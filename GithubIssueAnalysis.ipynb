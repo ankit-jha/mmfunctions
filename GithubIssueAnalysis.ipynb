{
 "cells": [
  {
   "cell_type": "markdown",
   "metadata": {},
   "source": [
    "### This notebook should be on Watson Studio\n",
    "\n",
    "But Watson Studio doesn't support interactive notebooks\n",
    "\n",
    "Git Repo: https://github.ibm.com/wiotp/monitoring-dashboard\n"
   ]
  },
  {
   "cell_type": "code",
   "execution_count": 1,
   "metadata": {},
   "outputs": [],
   "source": [
    "import csv\n",
    "import requests\n",
    "import collections\n",
    "import numpy as np\n",
    "import pandas as pd\n",
    "import datetime as dt\n",
    "import matplotlib.pyplot as plt\n",
    "from matplotlib import cm\n",
    "from mpl_toolkits.mplot3d import axes3d"
   ]
  },
  {
   "cell_type": "code",
   "execution_count": 2,
   "metadata": {},
   "outputs": [],
   "source": [
    "from mmfunctions import gitanalyzer"
   ]
  },
  {
   "cell_type": "code",
   "execution_count": 3,
   "metadata": {
    "scrolled": false
   },
   "outputs": [],
   "source": [
    "params = {}\n",
    "params['REPO'] = 'wiotp/monitoring-dashboard'\n",
    "params['REPO2'] = 'wiotp/analytics-service'\n",
    "params['REPO_ID'] = 566611\n",
    "params['REPO2_ID'] = 211664\n",
    "params['ZENHUB_WORKSPACE'] = '5cd44ce4baded506ba8ddd5f'\n",
    "params['GITHUB_TOKEN'] = 'ad7e5d3d34e79ac5d06210e74546c36b4bbc86ab'\n",
    "params['ZENHUB_TOKEN'] = '814960f27921de182e39873816e4a54be9cdbb5000baa92d054e773949c1681e5e637c3bd30b54ad'\n",
    "params['TRAVIS_TOKEN'] = '7B8mnG99oqNcHJgKKXMYVQ'\n",
    "params['BASE_URL'] = 'https://github.ibm.com'\n",
    "gitanalyzer.process_all(params)\n"
   ]
  },
  {
   "cell_type": "code",
   "execution_count": 4,
   "metadata": {},
   "outputs": [
    {
     "name": "stdout",
     "output_type": "stream",
     "text": [
      "upload: 'monitoring-defects.csv' -> 's3://githubanalyzer-donotdelete-pr-b9xa3kxotzh5in/monitoring-defects.csv'  [1 of 1]\n",
      " 709447 of 709447   100% in   14s    47.11 kB/s  done\n"
     ]
    }
   ],
   "source": [
    "# upload stuff for later use to COS\n",
    "!s3cmd --access_key \"cc04444c99374c9e9589b8f85e931323\" --secret_key \"1a5062d937b09507a05b521a41b8baf6848c0cd6936e2864\" \\\n",
    "--access_token \"icny9QB770wS9p67JHCWb6C8ySJEn_3tmfjqct9qQhSY\" --host s3.eu.cloud-object-storage.appdomain.cloud --host-bucket=s3.eu.cloud-object-storage.appdomain.cloud \\\n",
    "put monitoring-defects.csv s3://githubanalyzer-donotdelete-pr-b9xa3kxotzh5in"
   ]
  },
  {
   "cell_type": "code",
   "execution_count": 5,
   "metadata": {},
   "outputs": [
    {
     "name": "stdout",
     "output_type": "stream",
     "text": [
      "download: 's3://githubanalyzer-donotdelete-pr-b9xa3kxotzh5in/monitoring-defects.csv' -> 'wiotp-monitoring-dashboard-defects.csv'  [1 of 1]\n",
      " 709447 of 709447   100% in    2s   281.39 kB/s  done\n"
     ]
    }
   ],
   "source": [
    "# get it back from COS\n",
    "!s3cmd --access_key \"cc04444c99374c9e9589b8f85e931323\" --secret_key \"1a5062d937b09507a05b521a41b8baf6848c0cd6936e2864\" \\\n",
    "--access_token \"icny9QB770wS9p67JHCWb6C8ySJEn_3tmfjqct9qQhSY\" --force --host s3.eu.cloud-object-storage.appdomain.cloud --host-bucket=s3.eu.cloud-object-storage.appdomain.cloud \\\n",
    "get s3://githubanalyzer-donotdelete-pr-b9xa3kxotzh5in/monitoring-defects.csv wiotp-monitoring-dashboard-defects.csv"
   ]
  },
  {
   "cell_type": "code",
   "execution_count": 6,
   "metadata": {},
   "outputs": [
    {
     "data": {
      "text/html": [
       "<div>\n",
       "<style scoped>\n",
       "    .dataframe tbody tr th:only-of-type {\n",
       "        vertical-align: middle;\n",
       "    }\n",
       "\n",
       "    .dataframe tbody tr th {\n",
       "        vertical-align: top;\n",
       "    }\n",
       "\n",
       "    .dataframe thead th {\n",
       "        text-align: right;\n",
       "    }\n",
       "</style>\n",
       "<table border=\"1\" class=\"dataframe\">\n",
       "  <thead>\n",
       "    <tr style=\"text-align: right;\">\n",
       "      <th></th>\n",
       "      <th>Title</th>\n",
       "      <th>Repo</th>\n",
       "      <th>Created</th>\n",
       "      <th>Updated</th>\n",
       "      <th>Closed</th>\n",
       "      <th>Origin</th>\n",
       "      <th>Assignee</th>\n",
       "      <th>Status</th>\n",
       "      <th>Milestone</th>\n",
       "      <th>Type</th>\n",
       "      <th>Component</th>\n",
       "      <th>BusinessValue</th>\n",
       "      <th>Severity</th>\n",
       "      <th>Risk</th>\n",
       "      <th>Theme</th>\n",
       "      <th>Blocked</th>\n",
       "      <th>Pipeline</th>\n",
       "      <th>Labels</th>\n",
       "    </tr>\n",
       "  </thead>\n",
       "  <tbody>\n",
       "    <tr>\n",
       "      <th>976</th>\n",
       "      <td>Unable to create new grains from \"create datai...</td>\n",
       "      <td>wiotp/monitoring-dashboard</td>\n",
       "      <td>2020-04-16 12:29:15</td>\n",
       "      <td>2020-04-16 12:29:48</td>\n",
       "      <td>NaT</td>\n",
       "      <td>rsiva</td>\n",
       "      <td>scottsd</td>\n",
       "      <td>open</td>\n",
       "      <td>May 2020 - Sprint 15</td>\n",
       "      <td>Bug</td>\n",
       "      <td>NaN</td>\n",
       "      <td>0</td>\n",
       "      <td>3</td>\n",
       "      <td>2</td>\n",
       "      <td>NaN</td>\n",
       "      <td>NaN</td>\n",
       "      <td>New Issues</td>\n",
       "      <td>['bug']</td>\n",
       "    </tr>\n",
       "  </tbody>\n",
       "</table>\n",
       "</div>"
      ],
      "text/plain": [
       "                                                 Title  \\\n",
       "976  Unable to create new grains from \"create datai...   \n",
       "\n",
       "                           Repo             Created             Updated  \\\n",
       "976  wiotp/monitoring-dashboard 2020-04-16 12:29:15 2020-04-16 12:29:48   \n",
       "\n",
       "    Closed Origin Assignee Status             Milestone Type Component  \\\n",
       "976    NaT  rsiva  scottsd   open  May 2020 - Sprint 15  Bug       NaN   \n",
       "\n",
       "    BusinessValue Severity Risk Theme Blocked    Pipeline   Labels  \n",
       "976             0        3    2   NaN     NaN  New Issues  ['bug']  "
      ]
     },
     "execution_count": 6,
     "metadata": {},
     "output_type": "execute_result"
    }
   ],
   "source": [
    "defects_df = pd.read_csv('./wiotp-monitoring-dashboard-defects.csv') # parse_dates=['Created'])\n",
    "\n",
    "## Remove the encoding prefix string\n",
    "df=defects_df.replace('b\\'','',regex=True).astype(object)\n",
    "df=df.replace('b\\\"','',regex=True).astype(object)\n",
    "df['Created'] = pd.to_datetime(df['Created'])\n",
    "df['Updated'] = pd.to_datetime(df['Updated'])\n",
    "df['Closed'] = pd.to_datetime(df['Closed'])\n",
    "\n",
    "df = df[df['Pipeline'] != 'To Be Closed']\n",
    "df.head(1)"
   ]
  },
  {
   "cell_type": "code",
   "execution_count": 7,
   "metadata": {},
   "outputs": [],
   "source": [
    "from IPython.display import display\n",
    "import ipywidgets as widgets\n",
    "from ipywidgets import Layout, Button, ToggleButton, Box\n",
    "from ipywidgets import interact, interactive, fixed, interact_manual, interactive_output\n",
    "from ipywidgets import Output\n",
    "\n",
    "#w = widgets.IntSlider()\n",
    "#display(w)"
   ]
  },
  {
   "cell_type": "code",
   "execution_count": 8,
   "metadata": {},
   "outputs": [
    {
     "data": {
      "application/vnd.jupyter.widget-view+json": {
       "model_id": "964e324c15ee4441bf9186ccb9f3cdc3",
       "version_major": 2,
       "version_minor": 0
      },
      "text/plain": [
       "interactive(children=(Dropdown(description='sv', options=(('sev1', 0), ('sev2', 1), ('sev3', 2), ('sev4', 3), …"
      ]
     },
     "metadata": {},
     "output_type": "display_data"
    }
   ],
   "source": [
    "dfs = [df[df['Severity'] == 1], df[df['Severity'] == 2], df[df['Severity'] == 3], \n",
    "       df[df['Severity'] == 4], df]\n",
    "\n",
    "cnt = []\n",
    "labels = []\n",
    "explode = []\n",
    "for dfs_el in dfs:\n",
    "    cnt_el = dfs_el.groupby('Type')['Title'].count()\n",
    "    labels.append(cnt_el.index)\n",
    "    explode.append(np.zeros(cnt_el.size) + 0.02)\n",
    "    cnt.append(cnt_el)\n",
    "    \n",
    "def f(sv):\n",
    "    if sv > 10:\n",
    "        fig, ax = plt.subplots(1, 5, figsize=(20,6))\n",
    "        for i in [0,1,2,3,4]:\n",
    "            ax[i].pie(cnt[i], explode=explode[i], labels=labels[i], autopct='%1.1f%%',\n",
    "                      shadow=True, startangle=90)\n",
    "    else:\n",
    "        fig1, ax1 = plt.subplots()\n",
    "        ax1.pie(cnt[sv], explode=explode[sv], labels=labels[sv], autopct='%1.1f%%',\n",
    "                shadow=True, startangle=90)\n",
    "        ax1.axis('equal')  # Equal aspect ratio ensures that pie is drawn as a circle.\n",
    "        ax1.set_title('Monitoring issues by type')\n",
    "\n",
    "#plt.show()\n",
    "interact(f, sv=[('sev1', 0), ('sev2', 1), ('sev3',2), ('sev4',3), ('sev1-4', 4), ('all', 11)]);"
   ]
  },
  {
   "cell_type": "markdown",
   "metadata": {},
   "source": [
    "### Velocities\n",
    "\n",
    "- Overall Velocity\n",
    "- Defect Velocity (**implemented** - starting mid 2019)\n",
    "- Customer satisfaction (**no data** not included as we have no data)\n",
    "- Defect breakdown by severity (**no data** we have no severities in our defects)\n",
    "- Value per sprint (**no data** value of epics or stories is not known)\n",
    "- Percentage of test case coverage (**no data** - we do not track that)\n",
    "- Customer Support Requests (**no data*)\n",
    "- Trends (let's define what trends we need)\n",
    "- NPS (**no data**)\n",
    "- Build failures (need to get Travis data)\n",
    "- Deployment failures (Jenkins ?)\n",
    "- Technical Debts (**no data** we need a label)"
   ]
  },
  {
   "cell_type": "code",
   "execution_count": 86,
   "metadata": {
    "scrolled": false
   },
   "outputs": [
    {
     "data": {
      "application/vnd.jupyter.widget-view+json": {
       "model_id": "0f825dcb0c724353af344831185eb512",
       "version_major": 2,
       "version_minor": 0
      },
      "text/plain": [
       "interactive(children=(Dropdown(description='sv', options=(('sev1', 0), ('sev2', 1), ('sev3', 2), ('sev4', 3), …"
      ]
     },
     "metadata": {},
     "output_type": "display_data"
    }
   ],
   "source": [
    "# defect velocity since mid 2019\n",
    "StartWith = '2019-06-30'\n",
    "\n",
    "\n",
    "dfv = df.copy()\n",
    "dfv = dfv[dfv['Status'] == 'closed']\n",
    "dfv = dfv[dfv['Created'] > StartWith]\n",
    "dfv['Age_in_weeks'] = dfv['Closed'] - dfv['Created'] + pd.Timestamp('2020-01-01')\n",
    "dfv = dfv[['Severity', 'Age_in_weeks']]\n",
    "\n",
    "dfvs = [dfv[dfv['Severity'] == 1], dfv[dfv['Severity'] == 2], dfv[dfv['Severity'] == 3], \n",
    "       dfv[dfv['Severity'] == 4], dfv]\n",
    "\n",
    "IMAX = 40\n",
    "emptydf = pd.DataFrame(index=np.arange(1,IMAX),columns=['Severity'])\n",
    "emptydf['Severity'] = 0\n",
    "\n",
    "cntv = []\n",
    "labelsv = []\n",
    "xv = []\n",
    "for dfs_el in dfvs:\n",
    "    cnt_el = dfs_el.groupby(dfs_el['Age_in_weeks'].dt.week).count().drop(columns='Age_in_weeks')\n",
    "    imax = cnt_el.index.max()\n",
    "    if np.isnan(imax):\n",
    "        cnt_el = emptydf.copy()\n",
    "    elif imax <= IMAX:\n",
    "        # print (cnt_el)\n",
    "        # print (emptydf)\n",
    "        cnt_el = emptydf.copy().merge(cnt_el, how='outer', left_index = True, right_index=True)\n",
    "        cnt_el['Severity'] = cnt_el['Severity_y'].fillna(cnt_el['Severity_x'])\n",
    "    labelsv.append(cnt_el.index)\n",
    "    xv.append(np.arange(1, cnt_el.size))\n",
    "    cntv.append(cnt_el)\n",
    "\n",
    "#print (cntv[3].index.max())\n",
    "#print (cntv[0].index, cntv[0]['Age_in_weeks'].values)\n",
    "# print (cntv[0].unstack(fill_value=0))\n",
    "def f(sv):\n",
    "    #df_vel = df_velocity.copy()\n",
    "    if sv > 10:\n",
    "        fig, ax = plt.subplots(1, 5, figsize=(20,3))\n",
    "        for i in [0,1,2,3,4]:\n",
    "            ax[i].bar(cntv[i].index, cntv[i]['Severity'].values)\n",
    "    else:\n",
    "        fig1, ax1 = plt.subplots(figsize=(7,3))\n",
    "        ax1.bar(cntv[sv].index, cntv[sv]['Severity'].values)\n",
    "\n",
    "interact(f, sv=[('sev1', 0), ('sev2', 1), ('sev3',2), ('sev4',3), ('sev1-4', 4), ('all', 11)]);"
   ]
  },
  {
   "cell_type": "markdown",
   "metadata": {},
   "source": [
    "### Initiatives, Epics, Stories\n",
    "\n",
    "- Epics per Initiatives\n",
    "- Initiative completion by percentage\n",
    "- Percentage of Epics completed\n",
    "- Percentage of stories completed by sprint vs what was committed\n",
    "- Defects per story\n",
    "- End to end start to completion average"
   ]
  },
  {
   "cell_type": "code",
   "execution_count": 11,
   "metadata": {},
   "outputs": [
    {
     "data": {
      "text/plain": [
       "Text(0.5, 1.0, 'Open epics by business value - (0 = not yet ranked)')"
      ]
     },
     "execution_count": 11,
     "metadata": {},
     "output_type": "execute_result"
    },
    {
     "data": {
      "image/png": "[encoded data removed]",
      "text/plain": [
       "<Figure size 432x288 with 1 Axes>"
      ]
     },
     "metadata": {
      "needs_background": "light"
     },
     "output_type": "display_data"
    }
   ],
   "source": [
    "# defect velocity since mid 2019\n",
    "StartWith = '2019-06-30'\n",
    "\n",
    "\n",
    "df_value = df.copy()\n",
    "df_value = df_value[df_value['Status'] == 'open']\n",
    "#df_value = df_value[df_value['Type'] == 'Epic']\n",
    "#df_velocity = df_velocity[df_velocity['Created'] > StartWith]\n",
    "#df_velocity['Age_in_weeks'] = df_velocity['Closed'] - df_velocity['Created'] + pd.Timestamp('2020-01-01')\n",
    "#df_velocity = df_velocity[['Severity', 'Age_in_weeks']]\n",
    "\n",
    "\n",
    "df_vel = df_value[['BusinessValue','Risk']]\n",
    "df_vel.groupby(df_vel['BusinessValue']).count().plot(figsize=(6,4), kind='bar', legend=False)\n",
    "plt.title('Open epics by business value - (0 = not yet ranked)')"
   ]
  },
  {
   "cell_type": "code",
   "execution_count": 12,
   "metadata": {},
   "outputs": [
    {
     "data": {
      "application/vnd.jupyter.widget-view+json": {
       "model_id": "5ac7072b938b43538ece501a24e50e8c",
       "version_major": 2,
       "version_minor": 0
      },
      "text/plain": [
       "interactive(children=(Dropdown(description='date', options=(('Jul 2019', 1), ('Oct 2019', 2), ('Jan 2020', 3),…"
      ]
     },
     "metadata": {},
     "output_type": "display_data"
    }
   ],
   "source": [
    "# Open vs closed epics\n",
    "def f(date):\n",
    "    df_epics = df[df['Type'] == 'Epic']\n",
    "    if date == 1:\n",
    "        StartWith = '2019-06-30'\n",
    "    elif date == 2:\n",
    "        StartWith = '2019-09-30'\n",
    "    elif date == 3:\n",
    "        StartWith = '2019-12-31'\n",
    "    elif date == 4:\n",
    "        StartWith = '2020-01-31'\n",
    "    elif date == 5:\n",
    "        StartWith = '2020-02-28'\n",
    "    \n",
    "    df_epics = df_epics[df_epics['Created'] > StartWith]\n",
    "    df_epics = df_epics[['Status', 'Type']]\n",
    "    length = 20 * df_epics.index.size / 200\n",
    "    df_epics.groupby(df_epics['Status']).count().plot(figsize=(length,2), kind='barh', legend=False)\n",
    "    plt.title('Epics by completion')\n",
    "\n",
    "interact(f, date=[('Jul 2019', 1), ('Oct 2019', 2), ('Jan 2020',3), ('Feb 2020',4), ('Mar 2020', 5)]);"
   ]
  },
  {
   "cell_type": "code",
   "execution_count": null,
   "metadata": {},
   "outputs": [],
   "source": []
  }
 ],
 "metadata": {
  "kernelspec": {
   "display_name": "Python 3",
   "language": "python",
   "name": "python3"
  },
  "language_info": {
   "codemirror_mode": {
    "name": "ipython",
    "version": 3
   },
   "file_extension": ".py",
   "mimetype": "text/x-python",
   "name": "python",
   "nbconvert_exporter": "python",
   "pygments_lexer": "ipython3",
   "version": "3.7.5"
  }
 },
 "nbformat": 4,
 "nbformat_minor": 2
}
