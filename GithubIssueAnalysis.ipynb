{
 "cells": [
  {
   "cell_type": "markdown",
   "metadata": {},
   "source": [
    "### This notebook should be on Watson Studio\n",
    "\n",
    "But Watson Studio doesn't support interactive notebooks\n",
    "\n",
    "Git Repo: https://github.ibm.com/wiotp/monitoring-dashboard\n"
   ]
  },
  {
   "cell_type": "code",
   "execution_count": 1,
   "metadata": {},
   "outputs": [],
   "source": [
    "import csv\n",
    "import requests\n",
    "import collections\n",
    "import numpy as np\n",
    "import pandas as pd\n",
    "import datetime as dt\n",
    "import matplotlib.pyplot as plt\n",
    "from matplotlib import cm\n",
    "from mpl_toolkits.mplot3d import axes3d"
   ]
  },
  {
   "cell_type": "code",
   "execution_count": 2,
   "metadata": {},
   "outputs": [],
   "source": [
    "from mmfunctions import gitanalyzer"
   ]
  },
  {
   "cell_type": "code",
   "execution_count": 3,
   "metadata": {
    "scrolled": false
   },
   "outputs": [],
   "source": [
    "params = {}\n",
    "params['REPO'] = 'wiotp/monitoring-dashboard'\n",
    "params['REPO2'] = 'wiotp/analytics-service'\n",
    "params['REPO_ID'] = 566611\n",
    "params['REPO2_ID'] = 211664\n",
    "params['ZENHUB_WORKSPACE'] = '5cd44ce4baded506ba8ddd5f'\n",
    "params['GITHUB_TOKEN'] = 'ad7e5d3d34e79ac5d06210e74546c36b4bbc86ab'\n",
    "params['ZENHUB_TOKEN'] = '814960f27921de182e39873816e4a54be9cdbb5000baa92d054e773949c1681e5e637c3bd30b54ad'\n",
    "params['TRAVIS_TOKEN'] = '7B8mnG99oqNcHJgKKXMYVQ'\n",
    "params['BASE_URL'] = 'https://github.ibm.com'\n",
    "gitanalyzer.process_all(params)\n"
   ]
  },
  {
   "cell_type": "code",
   "execution_count": 4,
   "metadata": {},
   "outputs": [
    {
     "name": "stdout",
     "output_type": "stream",
     "text": [
      "upload: 'monitoring-defects.csv' -> 's3://githubanalyzer-donotdelete-pr-b9xa3kxotzh5in/monitoring-defects.csv'  [1 of 1]\n",
      " 695212 of 695212   100% in    5s   127.50 kB/s  done\n"
     ]
    }
   ],
   "source": [
    "# upload stuff for later use to COS\n",
    "!s3cmd --access_key \"cc04444c99374c9e9589b8f85e931323\" --secret_key \"1a5062d937b09507a05b521a41b8baf6848c0cd6936e2864\" \\\n",
    "--access_token \"icny9QB770wS9p67JHCWb6C8ySJEn_3tmfjqct9qQhSY\" --host s3.eu.cloud-object-storage.appdomain.cloud --host-bucket=s3.eu.cloud-object-storage.appdomain.cloud \\\n",
    "put monitoring-defects.csv s3://githubanalyzer-donotdelete-pr-b9xa3kxotzh5in"
   ]
  },
  {
   "cell_type": "code",
   "execution_count": 5,
   "metadata": {},
   "outputs": [
    {
     "name": "stdout",
     "output_type": "stream",
     "text": [
      "download: 's3://githubanalyzer-donotdelete-pr-b9xa3kxotzh5in/monitoring-defects.csv' -> 'wiotp-monitoring-dashboard-defects.csv'  [1 of 1]\n",
      " 695212 of 695212   100% in    4s   160.33 kB/s  done\n"
     ]
    }
   ],
   "source": [
    "# get it back from COS\n",
    "!s3cmd --access_key \"cc04444c99374c9e9589b8f85e931323\" --secret_key \"1a5062d937b09507a05b521a41b8baf6848c0cd6936e2864\" \\\n",
    "--access_token \"icny9QB770wS9p67JHCWb6C8ySJEn_3tmfjqct9qQhSY\" --force --host s3.eu.cloud-object-storage.appdomain.cloud --host-bucket=s3.eu.cloud-object-storage.appdomain.cloud \\\n",
    "get s3://githubanalyzer-donotdelete-pr-b9xa3kxotzh5in/monitoring-defects.csv wiotp-monitoring-dashboard-defects.csv"
   ]
  },
  {
   "cell_type": "code",
   "execution_count": 6,
   "metadata": {},
   "outputs": [
    {
     "data": {
      "text/html": [
       "<div>\n",
       "<style scoped>\n",
       "    .dataframe tbody tr th:only-of-type {\n",
       "        vertical-align: middle;\n",
       "    }\n",
       "\n",
       "    .dataframe tbody tr th {\n",
       "        vertical-align: top;\n",
       "    }\n",
       "\n",
       "    .dataframe thead th {\n",
       "        text-align: right;\n",
       "    }\n",
       "</style>\n",
       "<table border=\"1\" class=\"dataframe\">\n",
       "  <thead>\n",
       "    <tr style=\"text-align: right;\">\n",
       "      <th></th>\n",
       "      <th>Title</th>\n",
       "      <th>Repo</th>\n",
       "      <th>Created</th>\n",
       "      <th>Updated</th>\n",
       "      <th>Closed</th>\n",
       "      <th>Origin</th>\n",
       "      <th>Assignee</th>\n",
       "      <th>Status</th>\n",
       "      <th>Milestone</th>\n",
       "      <th>Type</th>\n",
       "      <th>Component</th>\n",
       "      <th>BusinessValue</th>\n",
       "      <th>Severity</th>\n",
       "      <th>Risk</th>\n",
       "      <th>Theme</th>\n",
       "      <th>Blocked</th>\n",
       "      <th>Pipeline</th>\n",
       "      <th>Labels</th>\n",
       "    </tr>\n",
       "  </thead>\n",
       "  <tbody>\n",
       "    <tr>\n",
       "      <th>942</th>\n",
       "      <td>Alerts not displaying in alert tables after th...</td>\n",
       "      <td>wiotp/monitoring-dashboard</td>\n",
       "      <td>2020-04-09 10:18:40</td>\n",
       "      <td>2020-04-09 10:20:44</td>\n",
       "      <td>NaT</td>\n",
       "      <td>LUAIDEMP</td>\n",
       "      <td>rsiva</td>\n",
       "      <td>open</td>\n",
       "      <td>NaN</td>\n",
       "      <td>Bug</td>\n",
       "      <td>Monitoring</td>\n",
       "      <td>4</td>\n",
       "      <td>3</td>\n",
       "      <td>2</td>\n",
       "      <td>NaN</td>\n",
       "      <td>NaN</td>\n",
       "      <td>New Issues</td>\n",
       "      <td>['Squad: Monitoring', 'bug']</td>\n",
       "    </tr>\n",
       "    <tr>\n",
       "      <th>941</th>\n",
       "      <td>Image Card not validating that content is poin...</td>\n",
       "      <td>wiotp/monitoring-dashboard</td>\n",
       "      <td>2020-04-08 20:31:42</td>\n",
       "      <td>2020-04-08 20:32:47</td>\n",
       "      <td>NaT</td>\n",
       "      <td>scottsd</td>\n",
       "      <td>Joel-Armendariz</td>\n",
       "      <td>open</td>\n",
       "      <td>April 2020 Sprint 14</td>\n",
       "      <td>Bug</td>\n",
       "      <td>Monitoring</td>\n",
       "      <td>4</td>\n",
       "      <td>3</td>\n",
       "      <td>2</td>\n",
       "      <td>NaN</td>\n",
       "      <td>NaN</td>\n",
       "      <td>New Issues</td>\n",
       "      <td>['Squad: Monitoring', 'bug']</td>\n",
       "    </tr>\n",
       "    <tr>\n",
       "      <th>940</th>\n",
       "      <td>update loading skeletons</td>\n",
       "      <td>wiotp/monitoring-dashboard</td>\n",
       "      <td>2020-04-08 20:16:07</td>\n",
       "      <td>2020-04-08 21:26:28</td>\n",
       "      <td>NaT</td>\n",
       "      <td>Stephen-M-Stone</td>\n",
       "      <td>Stephen-M-Stone</td>\n",
       "      <td>open</td>\n",
       "      <td>NaN</td>\n",
       "      <td>Issue</td>\n",
       "      <td>NaN</td>\n",
       "      <td>4</td>\n",
       "      <td>3</td>\n",
       "      <td>2</td>\n",
       "      <td>NaN</td>\n",
       "      <td>NaN</td>\n",
       "      <td>New Issues</td>\n",
       "      <td>['enhancement', 'ui']</td>\n",
       "    </tr>\n",
       "  </tbody>\n",
       "</table>\n",
       "</div>"
      ],
      "text/plain": [
       "                                                 Title  \\\n",
       "942  Alerts not displaying in alert tables after th...   \n",
       "941  Image Card not validating that content is poin...   \n",
       "940                           update loading skeletons   \n",
       "\n",
       "                           Repo             Created             Updated  \\\n",
       "942  wiotp/monitoring-dashboard 2020-04-09 10:18:40 2020-04-09 10:20:44   \n",
       "941  wiotp/monitoring-dashboard 2020-04-08 20:31:42 2020-04-08 20:32:47   \n",
       "940  wiotp/monitoring-dashboard 2020-04-08 20:16:07 2020-04-08 21:26:28   \n",
       "\n",
       "    Closed           Origin         Assignee Status             Milestone  \\\n",
       "942    NaT         LUAIDEMP            rsiva   open                   NaN   \n",
       "941    NaT          scottsd  Joel-Armendariz   open  April 2020 Sprint 14   \n",
       "940    NaT  Stephen-M-Stone  Stephen-M-Stone   open                   NaN   \n",
       "\n",
       "      Type    Component BusinessValue Severity Risk Theme Blocked    Pipeline  \\\n",
       "942    Bug   Monitoring             4        3    2   NaN     NaN  New Issues   \n",
       "941    Bug   Monitoring             4        3    2   NaN     NaN  New Issues   \n",
       "940  Issue          NaN             4        3    2   NaN     NaN  New Issues   \n",
       "\n",
       "                           Labels  \n",
       "942  ['Squad: Monitoring', 'bug']  \n",
       "941  ['Squad: Monitoring', 'bug']  \n",
       "940         ['enhancement', 'ui']  "
      ]
     },
     "execution_count": 6,
     "metadata": {},
     "output_type": "execute_result"
    }
   ],
   "source": [
    "defects_df = pd.read_csv('./wiotp-monitoring-dashboard-defects.csv') # parse_dates=['Created'])\n",
    "\n",
    "## Remove the encoding prefix string\n",
    "df=defects_df.replace('b\\'','',regex=True).astype(object)\n",
    "df=df.replace('b\\\"','',regex=True).astype(object)\n",
    "df['Created'] = pd.to_datetime(df['Created'])\n",
    "df['Updated'] = pd.to_datetime(df['Updated'])\n",
    "df['Closed'] = pd.to_datetime(df['Closed'])\n",
    "\n",
    "df = df[df['Pipeline'] != 'To Be Closed']\n",
    "df.head(3)"
   ]
  },
  {
   "cell_type": "code",
   "execution_count": 7,
   "metadata": {},
   "outputs": [
    {
     "data": {
      "text/html": [
       "<div>\n",
       "<style scoped>\n",
       "    .dataframe tbody tr th:only-of-type {\n",
       "        vertical-align: middle;\n",
       "    }\n",
       "\n",
       "    .dataframe tbody tr th {\n",
       "        vertical-align: top;\n",
       "    }\n",
       "\n",
       "    .dataframe thead th {\n",
       "        text-align: right;\n",
       "    }\n",
       "</style>\n",
       "<table border=\"1\" class=\"dataframe\">\n",
       "  <thead>\n",
       "    <tr style=\"text-align: right;\">\n",
       "      <th></th>\n",
       "      <th>Title</th>\n",
       "      <th>Repo</th>\n",
       "      <th>Created</th>\n",
       "      <th>Updated</th>\n",
       "      <th>Closed</th>\n",
       "      <th>Origin</th>\n",
       "      <th>Assignee</th>\n",
       "      <th>Status</th>\n",
       "      <th>Milestone</th>\n",
       "      <th>Type</th>\n",
       "      <th>Component</th>\n",
       "      <th>BusinessValue</th>\n",
       "      <th>Severity</th>\n",
       "      <th>Risk</th>\n",
       "      <th>Theme</th>\n",
       "      <th>Blocked</th>\n",
       "      <th>Pipeline</th>\n",
       "      <th>Labels</th>\n",
       "    </tr>\n",
       "  </thead>\n",
       "  <tbody>\n",
       "    <tr>\n",
       "      <th>942</th>\n",
       "      <td>Alerts not displaying in alert tables after th...</td>\n",
       "      <td>wiotp/monitoring-dashboard</td>\n",
       "      <td>2020-04-09 10:18:40</td>\n",
       "      <td>2020-04-09 10:20:44</td>\n",
       "      <td>NaT</td>\n",
       "      <td>LUAIDEMP</td>\n",
       "      <td>rsiva</td>\n",
       "      <td>open</td>\n",
       "      <td>NaN</td>\n",
       "      <td>Bug</td>\n",
       "      <td>Monitoring</td>\n",
       "      <td>4</td>\n",
       "      <td>3</td>\n",
       "      <td>2</td>\n",
       "      <td>NaN</td>\n",
       "      <td>NaN</td>\n",
       "      <td>New Issues</td>\n",
       "      <td>['Squad: Monitoring', 'bug']</td>\n",
       "    </tr>\n",
       "    <tr>\n",
       "      <th>941</th>\n",
       "      <td>Image Card not validating that content is poin...</td>\n",
       "      <td>wiotp/monitoring-dashboard</td>\n",
       "      <td>2020-04-08 20:31:42</td>\n",
       "      <td>2020-04-08 20:32:47</td>\n",
       "      <td>NaT</td>\n",
       "      <td>scottsd</td>\n",
       "      <td>Joel-Armendariz</td>\n",
       "      <td>open</td>\n",
       "      <td>April 2020 Sprint 14</td>\n",
       "      <td>Bug</td>\n",
       "      <td>Monitoring</td>\n",
       "      <td>4</td>\n",
       "      <td>3</td>\n",
       "      <td>2</td>\n",
       "      <td>NaN</td>\n",
       "      <td>NaN</td>\n",
       "      <td>New Issues</td>\n",
       "      <td>['Squad: Monitoring', 'bug']</td>\n",
       "    </tr>\n",
       "    <tr>\n",
       "      <th>940</th>\n",
       "      <td>update loading skeletons</td>\n",
       "      <td>wiotp/monitoring-dashboard</td>\n",
       "      <td>2020-04-08 20:16:07</td>\n",
       "      <td>2020-04-08 21:26:28</td>\n",
       "      <td>NaT</td>\n",
       "      <td>Stephen-M-Stone</td>\n",
       "      <td>Stephen-M-Stone</td>\n",
       "      <td>open</td>\n",
       "      <td>NaN</td>\n",
       "      <td>Issue</td>\n",
       "      <td>NaN</td>\n",
       "      <td>4</td>\n",
       "      <td>3</td>\n",
       "      <td>2</td>\n",
       "      <td>NaN</td>\n",
       "      <td>NaN</td>\n",
       "      <td>New Issues</td>\n",
       "      <td>['enhancement', 'ui']</td>\n",
       "    </tr>\n",
       "  </tbody>\n",
       "</table>\n",
       "</div>"
      ],
      "text/plain": [
       "                                                 Title  \\\n",
       "942  Alerts not displaying in alert tables after th...   \n",
       "941  Image Card not validating that content is poin...   \n",
       "940                           update loading skeletons   \n",
       "\n",
       "                           Repo             Created             Updated  \\\n",
       "942  wiotp/monitoring-dashboard 2020-04-09 10:18:40 2020-04-09 10:20:44   \n",
       "941  wiotp/monitoring-dashboard 2020-04-08 20:31:42 2020-04-08 20:32:47   \n",
       "940  wiotp/monitoring-dashboard 2020-04-08 20:16:07 2020-04-08 21:26:28   \n",
       "\n",
       "    Closed           Origin         Assignee Status             Milestone  \\\n",
       "942    NaT         LUAIDEMP            rsiva   open                   NaN   \n",
       "941    NaT          scottsd  Joel-Armendariz   open  April 2020 Sprint 14   \n",
       "940    NaT  Stephen-M-Stone  Stephen-M-Stone   open                   NaN   \n",
       "\n",
       "      Type    Component BusinessValue Severity Risk Theme Blocked    Pipeline  \\\n",
       "942    Bug   Monitoring             4        3    2   NaN     NaN  New Issues   \n",
       "941    Bug   Monitoring             4        3    2   NaN     NaN  New Issues   \n",
       "940  Issue          NaN             4        3    2   NaN     NaN  New Issues   \n",
       "\n",
       "                           Labels  \n",
       "942  ['Squad: Monitoring', 'bug']  \n",
       "941  ['Squad: Monitoring', 'bug']  \n",
       "940         ['enhancement', 'ui']  "
      ]
     },
     "execution_count": 7,
     "metadata": {},
     "output_type": "execute_result"
    }
   ],
   "source": [
    "#invent severities\n",
    "#df['Severity'] = np.random.choice([1,2,3,4], df.index.size, p = [0.1,0.4,0.3,0.2])\n",
    "df.head(3)"
   ]
  },
  {
   "cell_type": "code",
   "execution_count": 8,
   "metadata": {},
   "outputs": [
    {
     "data": {
      "application/vnd.jupyter.widget-view+json": {
       "model_id": "d3cb622dc3fb4f2f84c1462f2843c038",
       "version_major": 2,
       "version_minor": 0
      },
      "text/plain": [
       "IntSlider(value=0)"
      ]
     },
     "metadata": {},
     "output_type": "display_data"
    }
   ],
   "source": [
    "from IPython.display import display\n",
    "from ipywidgets import interact, interactive, fixed, interact_manual\n",
    "import ipywidgets as widgets\n",
    "\n",
    "w = widgets.IntSlider()\n",
    "display(w)"
   ]
  },
  {
   "cell_type": "code",
   "execution_count": 44,
   "metadata": {},
   "outputs": [
    {
     "data": {
      "application/vnd.jupyter.widget-view+json": {
       "model_id": "bffc786a54104fde93d37bf4f4bb4e09",
       "version_major": 2,
       "version_minor": 0
      },
      "text/plain": [
       "interactive(children=(Dropdown(description='severity', options=(('sev1', 1), ('sev2', 2), ('sev3', 3), ('sev4'…"
      ]
     },
     "metadata": {},
     "output_type": "display_data"
    }
   ],
   "source": [
    "from ipywidgets import interact, interactive, fixed, interact_manual\n",
    "import ipywidgets as widgets\n",
    "\n",
    "\n",
    "def f(severity):\n",
    "    dfs = df\n",
    "    if severity > 0:\n",
    "        dfs = df[df['Severity'] == severity]\n",
    "    cnt = dfs.groupby('Type')['Title'].count()\n",
    "    labels = cnt.index\n",
    "    sizes = cnt.values\n",
    "    explode = np.zeros(sizes.size)\n",
    "    explode += 0.02\n",
    "    fig1, ax1 = plt.subplots()\n",
    "    ax1.pie(sizes, explode=explode, labels=labels, autopct='%1.1f%%',\n",
    "            shadow=True, startangle=90)\n",
    "    ax1.axis('equal')  # Equal aspect ratio ensures that pie is drawn as a circle.\n",
    "    ax1.set_title('Monitoring issues by type')\n",
    "\n",
    "#plt.show()\n",
    "interact(f, severity=[('sev1', 1), ('sev2', 2), ('sev3',3), ('sev4',4), ('all', 0)]);"
   ]
  },
  {
   "cell_type": "markdown",
   "metadata": {},
   "source": [
    "### Velocities\n",
    "\n",
    "- Overall Velocity\n",
    "- Defect Velocity (**implemented** - starting mid 2019)\n",
    "- Customer satisfaction (**no data** not included as we have no data)\n",
    "- Defect breakdown by severity (**no data** we have no severities in our defects)\n",
    "- Value per sprint (**no data** value of epics or stories is not known)\n",
    "- Percentage of test case coverage (**no data** - we do not track that)\n",
    "- Customer Support Requests (**no data*)\n",
    "- Trends (let's define what trends we need)\n",
    "- NPS (**no data**)\n",
    "- Build failures (need to get Travis data)\n",
    "- Deployment failures (Jenkins ?)\n",
    "- Technical Debts (**no data** we need a label)"
   ]
  },
  {
   "cell_type": "code",
   "execution_count": 46,
   "metadata": {
    "scrolled": false
   },
   "outputs": [
    {
     "data": {
      "application/vnd.jupyter.widget-view+json": {
       "model_id": "79b1e386b47a4f9fadcb3aada92bc194",
       "version_major": 2,
       "version_minor": 0
      },
      "text/plain": [
       "interactive(children=(Dropdown(description='severity', options=(('sev1', 1), ('sev2', 2), ('sev3', 3), ('sev4'…"
      ]
     },
     "metadata": {},
     "output_type": "display_data"
    }
   ],
   "source": [
    "# defect velocity since mid 2019\n",
    "StartWith = '2019-06-30'\n",
    "\n",
    "\n",
    "df_velocity = df.copy()\n",
    "df_velocity = df_velocity[df_velocity['Status'] == 'closed']\n",
    "df_velocity = df_velocity[df_velocity['Created'] > StartWith]\n",
    "df_velocity['Age_in_weeks'] = df_velocity['Closed'] - df_velocity['Created'] + pd.Timestamp('2020-01-01')\n",
    "df_velocity = df_velocity[['Severity', 'Age_in_weeks']]\n",
    "\n",
    "\n",
    "def f(severity):\n",
    "    df_vel = df_velocity.copy()\n",
    "    if severity != 0:\n",
    "        df_vel = df_vel[df_vel['Severity'] == severity]\n",
    "        if df_vel.index.size == 0:\n",
    "            print('Not enough data')\n",
    "            return\n",
    "    df_vel = df_vel[['Age_in_weeks']]\n",
    "    #df_vel.groupby([df_vel[\"Age\"].dt.year,\n",
    "    #              df_vel[\"Age\"].dt.month, df_vel[\"Age\"].dt.week]).count().plot(figsize=(10,8), kind=\"bar\", title='Defect velocity by weeks')\n",
    "    df_vel.groupby(df_vel['Age_in_weeks'].dt.week).count().plot(figsize=(7,5), kind='bar', legend=False)\n",
    "    ax1 = plt.axes()\n",
    "    x_axis = ax1.axes.get_xaxis()\n",
    "    # x_axis.set_visible(False)\n",
    "\n",
    "interact(f, severity=[('sev1', 1), ('sev2', 2), ('sev3',3), ('sev4',4), ('all', 0)]);"
   ]
  },
  {
   "cell_type": "markdown",
   "metadata": {},
   "source": [
    "### Initiatives, Epics, Stories\n",
    "\n",
    "- Epics per Initiatives\n",
    "- Initiative completion by percentage\n",
    "- Percentage of Epics completed\n",
    "- Percentage of stories completed by sprint vs what was committed\n",
    "- Defects per story\n",
    "- End to end start to completion average"
   ]
  },
  {
   "cell_type": "code",
   "execution_count": 47,
   "metadata": {},
   "outputs": [
    {
     "data": {
      "text/plain": [
       "Text(0.5, 1.0, 'Open epics by business value')"
      ]
     },
     "execution_count": 47,
     "metadata": {},
     "output_type": "execute_result"
    },
    {
     "data": {
      "image/png": "[encoded data removed]",
      "text/plain": [
       "<Figure size 504x360 with 1 Axes>"
      ]
     },
     "metadata": {
      "needs_background": "light"
     },
     "output_type": "display_data"
    }
   ],
   "source": [
    "# defect velocity since mid 2019\n",
    "StartWith = '2019-06-30'\n",
    "\n",
    "\n",
    "df_value = df.copy()\n",
    "df_value = df_value[df_value['Status'] == 'open']\n",
    "#df_value = df_value[df_value['Type'] == 'Epic']\n",
    "#df_velocity = df_velocity[df_velocity['Created'] > StartWith]\n",
    "#df_velocity['Age_in_weeks'] = df_velocity['Closed'] - df_velocity['Created'] + pd.Timestamp('2020-01-01')\n",
    "#df_velocity = df_velocity[['Severity', 'Age_in_weeks']]\n",
    "\n",
    "\n",
    "df_vel = df_value[['BusinessValue','Risk']]\n",
    "df_vel.groupby(df_vel['BusinessValue']).count().plot(figsize=(7,5), kind='bar', legend=False)\n",
    "plt.title('Open epics by business value')"
   ]
  },
  {
   "cell_type": "code",
   "execution_count": 42,
   "metadata": {},
   "outputs": [
    {
     "data": {
      "application/vnd.jupyter.widget-view+json": {
       "model_id": "81928476370b439abd5ebb7b342e862c",
       "version_major": 2,
       "version_minor": 0
      },
      "text/plain": [
       "interactive(children=(Dropdown(description='date', options=(('Jul 2019', 1), ('Oct 2019', 2), ('Jan 2020', 3),…"
      ]
     },
     "metadata": {},
     "output_type": "display_data"
    }
   ],
   "source": [
    "# Open vs closed epics\n",
    "def f(date):\n",
    "    df_epics = df[df['Type'] == 'Epic']\n",
    "    if date == 1:\n",
    "        StartWith = '2019-06-30'\n",
    "    elif date == 2:\n",
    "        StartWith = '2019-09-30'\n",
    "    elif date == 3:\n",
    "        StartWith = '2019-12-31'\n",
    "    elif date == 4:\n",
    "        StartWith = '2020-01-31'\n",
    "    elif date == 5:\n",
    "        StartWith = '2020-02-28'\n",
    "    \n",
    "    df_epics = df_epics[df_epics['Created'] > StartWith]\n",
    "    df_epics = df_epics[['Status', 'Type']]\n",
    "    length = 20 * df_epics.index.size / 200\n",
    "    df_epics.groupby(df_epics['Status']).count().plot(figsize=(length,2), kind='barh', legend=False)\n",
    "    plt.title('Epics by completion')\n",
    "\n",
    "interact(f, date=[('Jul 2019', 1), ('Oct 2019', 2), ('Jan 2020',3), ('Feb 2020',4), ('Mar 2020', 5)]);"
   ]
  },
  {
   "cell_type": "code",
   "execution_count": null,
   "metadata": {},
   "outputs": [],
   "source": []
  }
 ],
 "metadata": {
  "kernelspec": {
   "display_name": "Python 3",
   "language": "python",
   "name": "python3"
  },
  "language_info": {
   "codemirror_mode": {
    "name": "ipython",
    "version": 3
   },
   "file_extension": ".py",
   "mimetype": "text/x-python",
   "name": "python",
   "nbconvert_exporter": "python",
   "pygments_lexer": "ipython3",
   "version": "3.7.5"
  }
 },
 "nbformat": 4,
 "nbformat_minor": 2
}
