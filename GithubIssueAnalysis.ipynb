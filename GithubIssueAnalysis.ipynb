{
 "cells": [
  {
   "cell_type": "markdown",
   "metadata": {},
   "source": [
    "### This notebook is stale - master is on WML\n",
    "\n",
    "Git Repo: https://github.ibm.com/wiotp/monitoring-dashboard\n"
   ]
  },
  {
   "cell_type": "code",
   "execution_count": 132,
   "metadata": {},
   "outputs": [],
   "source": [
    "import pandas as pd\n",
    "import datetime as dt\n",
    "import matplotlib.pyplot as plt\n",
    "from matplotlib import cm\n",
    "from mpl_toolkits.mplot3d import axes3d"
   ]
  },
  {
   "cell_type": "code",
   "execution_count": 171,
   "metadata": {
    "scrolled": false
   },
   "outputs": [
    {
     "name": "stdout",
     "output_type": "stream",
     "text": [
      "GET https://github.ibm.com/api/v3/repos/wiotp/monitoring-dashboard/issues\n",
      "  : => 200\n",
      "  : Writing 30 issues\n",
      "GET https://github.ibm.com/api/v3/repositories/566611/issues?is=issue&state=open&page=2\n",
      "  : => 200\n",
      "  : Writing 30 issues\n",
      "GET https://github.ibm.com/api/v3/repositories/566611/issues?is=issue&state=open&page=3\n",
      "  : => 200\n",
      "  : Writing 30 issues\n",
      "GET https://github.ibm.com/api/v3/repositories/566611/issues?is=issue&state=open&page=4\n",
      "  : => 200\n",
      "  : Writing 30 issues\n",
      "GET https://github.ibm.com/api/v3/repositories/566611/issues?is=issue&state=open&page=5\n",
      "  : => 200\n",
      "  : Writing 19 issues\n"
     ]
    }
   ],
   "source": [
    "#### Code for exporting git defects as csv list\n",
    "\"\"\"\n",
    "Exports Issues from a specified repository to a CSV file\n",
    "\n",
    "Uses basic authentication (Github username + password) to retrieve Issues\n",
    "from a repository that username has access to. Supports Github API v3.\n",
    "\"\"\"\n",
    "import csv\n",
    "import requests\n",
    "\n",
    "\n",
    "GITHUB_USER = 'markus_mueller@de.ibm.com'\n",
    "GITHUB_PASSWORD = ''\n",
    "REPO = 'wiotp/monitoring-dashboard'  # format is username/repo\n",
    "# # https://github.ibm.com/wdp-chs/tracker/issues\n",
    "AUTH = (GITHUB_USER, GITHUB_PASSWORD)\n",
    "\n",
    "\n",
    "# \n",
    "# #Update your personal API token here\n",
    "GITHUB_TOKEN = 'ad7e5d3d34e79ac5d06210e74546c36b4bbc86ab'\n",
    "headers = {'Authorization': 'token %s' % GITHUB_TOKEN }\n",
    "\n",
    "\n",
    "ISSUES_FOR_REPO_URL = 'https://github.ibm.com/api/v3/repos/%s/issues' % REPO\n",
    "\n",
    "# Update your filter here.  See https://developer.github.com/v3/issues/#list-issues-for-a-repository\n",
    "# Note that filtering is powerful and there are lots of things available. Also that issues and PRs\n",
    "# arrive in the same results set\n",
    "params_payload = {'filter' : 'all', 'state' : 'open', 'type': 'issue' }\n",
    "\n",
    "# # Update your filter here.  Filter is who owns the issue.  State is open, closed, or all.\n",
    "params_payload = {'is' : 'issue','filter' : 'all', 'state':'closed' }\n",
    "params_payload = {'is' : 'issue', 'state':'open' }\n",
    "\n",
    "\n",
    "\n",
    "\"\"\"\n",
    "\n",
    "Exports Issues from a specified repository to a CSV file\n",
    "Uses basic authentication (Github username + password) or token to retrieve Issues\n",
    "from a repository that username has access to. Supports Github API v3.\n",
    "\"\"\"\n",
    "\n",
    "\n",
    "def write_issues(response, csvout):\n",
    "    \"output a list of issues to csv\"\n",
    "    print (\"  : Writing %s issues\" % len(response.json()))\n",
    "        \n",
    "    for issue in response.json():\n",
    "        # print (issue)\n",
    "        labels = issue['labels']\n",
    "        created_at = issue['created_at']\n",
    "        if created_at is None:\n",
    "            created_at_ = '2010-01-01T00:00:00Z'\n",
    "        created_at = dt.datetime.strptime(created_at, \"%Y-%m-%dT%H:%M:%SZ\")\n",
    "\n",
    "        updated_at = issue['updated_at']\n",
    "        if updated_at is not None:\n",
    "            updated_at = dt.datetime.strptime(updated_at, \"%Y-%m-%dT%H:%M:%SZ\")\n",
    "        \n",
    "        closed_at = issue['closed_at']\n",
    "        if closed_at is not None:\n",
    "            closed_at = dt.datetime.strptime(closed_at, \"%Y-%m-%dT%H:%M:%SZ\")\n",
    "\n",
    "        label_string = ''\n",
    "        componentLabel = ''\n",
    "        label_list = []\n",
    "        for label in labels:\n",
    "              label_list.append(str(label['name']).strip().strip().lstrip().rstrip())\n",
    "                        \n",
    "        for label in label_list:\n",
    "            componentLabel = ''\n",
    "            if label.startswith('Component') or label.startswith('Scrum') or label.startswith('Squad:'):\n",
    "                label = label.strip()\n",
    "                componentLabel = label.split(':')[1]\n",
    "            theme = ''\n",
    "            if label.find('Theme') >= 0:\n",
    "                theme = label\n",
    "            blocked = ''\n",
    "            if label.startswith('blocked'):\n",
    "                blocked = 'YES'\n",
    "            issueType = 'Issue'\n",
    "            if label.startswith('Epic'):\n",
    "                issueType = 'Epic'\n",
    "            elif label.startswith('bug'):\n",
    "                issueType = 'Bug'\n",
    "            elif label.startswith('Enhancement'):\n",
    "                issueType = 'Enhancement'\n",
    "        #print(label, componentLabel, theme, blocked)\n",
    "        #print(\"componentLabel=%s\" % componentLabel)\n",
    "        csvout.writerow([issue['number'], issue['title'], # issue['body'].encode('utf-8'),\n",
    "                        created_at, updated_at, closed_at, issueType, componentLabel,\n",
    "                        theme, blocked]) # str(label_list).encode('utf-8')])\n",
    "\n",
    "\n",
    "def get_issues(url):\n",
    "    kwargs = {\n",
    "        'headers': {\n",
    "            'Content-Type': 'application/vnd.github.v3.raw+json',\n",
    "            'User-Agent': 'Padkrish issue exporter'\n",
    "        },\n",
    "        'params': params_payload\n",
    "    }\n",
    "    if GITHUB_TOKEN != '':\n",
    "        kwargs['headers']['Authorization'] = 'token %s' % GITHUB_TOKEN\n",
    "    else:\n",
    "        kwargs['auth'] = (GITHUB_USER, GITHUB_PASSWORD)\n",
    "\n",
    "    print (\"GET %s\" % url)\n",
    "    resp = requests.get(url, **kwargs)\n",
    "    print (\"  : => %s\" % resp.status_code)\n",
    "    \n",
    "    # import ipdb; ipdb.set_trace()\n",
    "    if resp.status_code != 200:\n",
    "        raise Exception(resp.status_code)\n",
    "\n",
    "    return resp\n",
    "\n",
    "\n",
    "def next_page(response):\n",
    "    #more pages? examine the 'link' header returned\n",
    "    if 'link' in response.headers:\n",
    "        pages = dict(\n",
    "            [(rel[6:-1], url[url.index('<')+1:-1]) for url, rel in\n",
    "                [link.split(';') for link in\n",
    "                    response.headers['link'].split(',')]])\n",
    "        # import ipdb; ipdb.set_trace()\n",
    "        if 'last' in pages and 'next' in pages:\n",
    "            return pages['next']\n",
    "    return None\n",
    "\n",
    "\n",
    "def process(csvout, url=ISSUES_FOR_REPO_URL):\n",
    "    resp = get_issues(url)\n",
    "    write_issues(resp, csvout)\n",
    "    next_ = next_page(resp)\n",
    "    if next_ is not None:\n",
    "        process(csvout, next_)\n",
    "\n",
    "\n",
    "csvfilename = '%s-defects-closed-v1.csv' % (REPO.replace('/', '-'))\n",
    "csvfile = open(csvfilename, 'w', newline='')\n",
    "csvout = csv.writer(csvfile, quoting=csv.QUOTE_MINIMAL)\n",
    "csvout.writerow(( 'Title', 'Created', 'Updated', 'Closed', 'Type','Component', 'Theme', 'Blocked'))\n",
    "process(csvout)\n",
    "csvfile.close()\n"
   ]
  },
  {
   "cell_type": "code",
   "execution_count": 174,
   "metadata": {},
   "outputs": [
    {
     "data": {
      "text/html": [
       "<div>\n",
       "<style scoped>\n",
       "    .dataframe tbody tr th:only-of-type {\n",
       "        vertical-align: middle;\n",
       "    }\n",
       "\n",
       "    .dataframe tbody tr th {\n",
       "        vertical-align: top;\n",
       "    }\n",
       "\n",
       "    .dataframe thead th {\n",
       "        text-align: right;\n",
       "    }\n",
       "</style>\n",
       "<table border=\"1\" class=\"dataframe\">\n",
       "  <thead>\n",
       "    <tr style=\"text-align: right;\">\n",
       "      <th></th>\n",
       "      <th>Title</th>\n",
       "      <th>Created</th>\n",
       "      <th>Updated</th>\n",
       "      <th>Closed</th>\n",
       "      <th>Type</th>\n",
       "      <th>Component</th>\n",
       "      <th>Theme</th>\n",
       "      <th>Blocked</th>\n",
       "    </tr>\n",
       "  </thead>\n",
       "  <tbody>\n",
       "    <tr>\n",
       "      <th>890</th>\n",
       "      <td>Configurable action to launch from dashboard</td>\n",
       "      <td>2020-03-26 13:22:51</td>\n",
       "      <td>2020-03-26 13:34:39</td>\n",
       "      <td>NaN</td>\n",
       "      <td>Issue</td>\n",
       "      <td>Monitoring</td>\n",
       "      <td>NaN</td>\n",
       "      <td>NaN</td>\n",
       "    </tr>\n",
       "    <tr>\n",
       "      <th>889</th>\n",
       "      <td>Xaxis of TimeSeries chart doesn't show all tim...</td>\n",
       "      <td>2020-03-25 20:58:50</td>\n",
       "      <td>2020-03-26 13:30:25</td>\n",
       "      <td>NaN</td>\n",
       "      <td>Bug</td>\n",
       "      <td>NaN</td>\n",
       "      <td>NaN</td>\n",
       "      <td>NaN</td>\n",
       "    </tr>\n",
       "    <tr>\n",
       "      <th>886</th>\n",
       "      <td>Update IBMid Cloud Identity cert as our old on...</td>\n",
       "      <td>2020-03-24 15:06:45</td>\n",
       "      <td>2020-03-26 14:08:43</td>\n",
       "      <td>NaN</td>\n",
       "      <td>Issue</td>\n",
       "      <td>NaN</td>\n",
       "      <td>NaN</td>\n",
       "      <td>NaN</td>\n",
       "    </tr>\n",
       "    <tr>\n",
       "      <th>885</th>\n",
       "      <td>Anomaly model and alert instability</td>\n",
       "      <td>2020-03-24 10:59:07</td>\n",
       "      <td>2020-03-26 15:29:20</td>\n",
       "      <td>NaN</td>\n",
       "      <td>Bug</td>\n",
       "      <td>NaN</td>\n",
       "      <td>NaN</td>\n",
       "      <td>NaN</td>\n",
       "    </tr>\n",
       "    <tr>\n",
       "      <th>884</th>\n",
       "      <td>Hierarchy management using a Taxonomy Section</td>\n",
       "      <td>2020-03-23 10:19:26</td>\n",
       "      <td>2020-03-23 10:19:49</td>\n",
       "      <td>NaN</td>\n",
       "      <td>Issue</td>\n",
       "      <td>Monitoring</td>\n",
       "      <td>NaN</td>\n",
       "      <td>NaN</td>\n",
       "    </tr>\n",
       "  </tbody>\n",
       "</table>\n",
       "</div>"
      ],
      "text/plain": [
       "                                                 Title             Created  \\\n",
       "890       Configurable action to launch from dashboard 2020-03-26 13:22:51   \n",
       "889  Xaxis of TimeSeries chart doesn't show all tim... 2020-03-25 20:58:50   \n",
       "886  Update IBMid Cloud Identity cert as our old on... 2020-03-24 15:06:45   \n",
       "885                Anomaly model and alert instability 2020-03-24 10:59:07   \n",
       "884      Hierarchy management using a Taxonomy Section 2020-03-23 10:19:26   \n",
       "\n",
       "                 Updated Closed   Type    Component Theme Blocked  \n",
       "890  2020-03-26 13:34:39    NaN  Issue   Monitoring   NaN     NaN  \n",
       "889  2020-03-26 13:30:25    NaN    Bug          NaN   NaN     NaN  \n",
       "886  2020-03-26 14:08:43    NaN  Issue          NaN   NaN     NaN  \n",
       "885  2020-03-26 15:29:20    NaN    Bug          NaN   NaN     NaN  \n",
       "884  2020-03-23 10:19:49    NaN  Issue   Monitoring   NaN     NaN  "
      ]
     },
     "execution_count": 174,
     "metadata": {},
     "output_type": "execute_result"
    }
   ],
   "source": [
    "defects_df = pd.read_csv('./wiotp-monitoring-dashboard-defects-closed-v1.csv') # parse_dates=['Created'])\n",
    "\n",
    "## Remove the encoding prefix string\n",
    "df=defects_df.replace('b\\'','',regex=True).astype(object)\n",
    "df=df.replace('b\\\"','',regex=True).astype(object)\n",
    "df['Created'] = pd.to_datetime(df['Created'])\n",
    "df.head()\n"
   ]
  },
  {
   "cell_type": "code",
   "execution_count": 175,
   "metadata": {},
   "outputs": [
    {
     "name": "stdout",
     "output_type": "stream",
     "text": [
      "Index(['Bug', 'Epic', 'Issue'], dtype='object', name='Type')\n"
     ]
    }
   ],
   "source": [
    "cnt = df.groupby('Type')['Title'].count()\n",
    "print (cnt.index)"
   ]
  },
  {
   "cell_type": "code",
   "execution_count": 176,
   "metadata": {
    "scrolled": false
   },
   "outputs": [
    {
     "data": {
      "text/plain": [
       "Text(0.5, 1.0, 'Monitoring issues by type')"
      ]
     },
     "execution_count": 176,
     "metadata": {},
     "output_type": "execute_result"
    },
    {
     "data": {
      "image/png": "[encoded data removed]",
      "text/plain": [
       "<Figure size 432x288 with 1 Axes>"
      ]
     },
     "metadata": {},
     "output_type": "display_data"
    }
   ],
   "source": [
    "labels = cnt.index\n",
    "sizes = cnt.values\n",
    "fig1, ax1 = plt.subplots()\n",
    "ax1.pie(sizes, explode=(0.1, 0, 0), labels=labels, autopct='%1.1f%%',\n",
    "        shadow=True, startangle=90)\n",
    "ax1.axis('equal')  # Equal aspect ratio ensures that pie is drawn as a circle.\n",
    "ax1.set_title('Monitoring issues by type')\n",
    "\n",
    "#plt.show()"
   ]
  },
  {
   "cell_type": "code",
   "execution_count": 177,
   "metadata": {},
   "outputs": [],
   "source": [
    "df['Created'] = pd.to_datetime(df['Created']) #, \"%Y-%m-%d %H:%M:%S\")\n"
   ]
  },
  {
   "cell_type": "code",
   "execution_count": 183,
   "metadata": {
    "scrolled": true
   },
   "outputs": [
    {
     "data": {
      "text/plain": [
       "<matplotlib.axes._subplots.AxesSubplot at 0x7f076ca3a810>"
      ]
     },
     "execution_count": 183,
     "metadata": {},
     "output_type": "execute_result"
    },
    {
     "data": {
      "image/png": "[encoded data removed]",
      "text/plain": [
       "<Figure size 432x288 with 1 Axes>"
      ]
     },
     "metadata": {
      "needs_background": "light"
     },
     "output_type": "display_data"
    }
   ],
   "source": [
    "df_subset=df[['Created']].copy()\n",
    "#df_subset['Created'].dt.year\n",
    "df_subset.groupby([df_subset[\"Created\"].dt.year, \n",
    "                   df_subset[\"Created\"].dt.month]).count().plot(kind=\"bar\", title='Issue Age')"
   ]
  },
  {
   "cell_type": "code",
   "execution_count": null,
   "metadata": {},
   "outputs": [],
   "source": []
  }
 ],
 "metadata": {
  "kernelspec": {
   "display_name": "Python 3",
   "language": "python",
   "name": "python3"
  },
  "language_info": {
   "codemirror_mode": {
    "name": "ipython",
    "version": 3
   },
   "file_extension": ".py",
   "mimetype": "text/x-python",
   "name": "python",
   "nbconvert_exporter": "python",
   "pygments_lexer": "ipython3",
   "version": "3.7.5"
  }
 },
 "nbformat": 4,
 "nbformat_minor": 2
}
