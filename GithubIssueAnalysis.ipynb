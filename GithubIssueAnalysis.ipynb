{
 "cells": [
  {
   "cell_type": "markdown",
   "metadata": {},
   "source": [
    "### Github Analyzer\n",
    "\n",
    "This notebook should have been deployed in Watson Studio\n",
    "    **but** unfortunately Watson Studio doesn't support interactive notebooks yet\n",
    "\n",
    "Git Repos to be investigated:\n",
    "\n",
    "* https://github.ibm.com/wiotp/monitoring-dashboard\n",
    "* https://github.ibm.com/wiotp/analytics-service\n"
   ]
  },
  {
   "cell_type": "markdown",
   "metadata": {},
   "source": [
    "Influenced by IBM's Data and AI dev transformation group\n",
    "\n",
    "<a href=\"https://github.ibm.com/DataandAI-dev-transformation/dev-transformation/blob/master/code-quality/defect_tracking.MD\" target=\"_blank\">DataandAI-dev-transformation - code quality defect tracking</a>\n",
    "\n",
    "and more specifically the automatic component assigner for new defects [here](https://github.ibm.com/DataandAI-dev-transformation/defect_classification_ml_to_assign_component/blob/master/DefectClassifier_SGD_TFID_features-5.ipynb)"
   ]
  },
  {
   "cell_type": "code",
   "execution_count": 1,
   "metadata": {
    "hide_input": true
   },
   "outputs": [],
   "source": [
    "import csv\n",
    "import requests\n",
    "import collections\n",
    "import numpy as np\n",
    "import pandas as pd\n",
    "import datetime as dt\n",
    "import matplotlib.pyplot as plt\n",
    "from matplotlib import cm\n",
    "from mpl_toolkits.mplot3d import axes3d"
   ]
  },
  {
   "cell_type": "code",
   "execution_count": 2,
   "metadata": {},
   "outputs": [],
   "source": [
    "# custom functions - install with pip install git+https://github.com/sedgewickmm18/mmfunctions\n",
    "from mmfunctions import gitanalyzer"
   ]
  },
  {
   "cell_type": "code",
   "execution_count": 3,
   "metadata": {
    "hide_input": false,
    "scrolled": false
   },
   "outputs": [],
   "source": [
    "# Repos and credentials to retrieve the data from\n",
    "params = {}\n",
    "params['REPO'] = 'wiotp/monitoring-dashboard'\n",
    "params['REPO2'] = 'wiotp/analytics-service'\n",
    "params['REPO_ID'] = 566611\n",
    "params['REPO2_ID'] = 211664\n",
    "params['ZENHUB_WORKSPACE'] = '5cd44ce4baded506ba8ddd5f'\n",
    "params['GITHUB_TOKEN'] = 'ad7e5d3d34e79ac5d06210e74546c36b4bbc86ab'\n",
    "params['ZENHUB_TOKEN'] = '814960f27921de182e39873816e4a54be9cdbb5000baa92d054e773949c1681e5e637c3bd30b54ad'\n",
    "params['TRAVIS_TOKEN'] = '7B8mnG99oqNcHJgKKXMYVQ'\n",
    "params['BASE_URL'] = 'https://github.ibm.com'\n",
    "\n",
    "gitanalyzer.process_all(params)\n",
    "# After extractoin store the data in cloud object store"
   ]
  },
  {
   "cell_type": "code",
   "execution_count": 4,
   "metadata": {
    "hide_input": true
   },
   "outputs": [
    {
     "name": "stdout",
     "output_type": "stream",
     "text": [
      "upload: 'monitoring-defects.csv' -> 's3://githubanalyzer-donotdelete-pr-b9xa3kxotzh5in/monitoring-defects.csv'  [1 of 1]\n",
      " 722996 of 722996   100% in   12s    58.70 kB/s  done\n"
     ]
    }
   ],
   "source": [
    "# upload stuff for later use to COS\n",
    "!s3cmd --access_key \"cc04444c99374c9e9589b8f85e931323\" --secret_key \"1a5062d937b09507a05b521a41b8baf6848c0cd6936e2864\" \\\n",
    "--access_token \"icny9QB770wS9p67JHCWb6C8ySJEn_3tmfjqct9qQhSY\" --host s3.eu.cloud-object-storage.appdomain.cloud --host-bucket=s3.eu.cloud-object-storage.appdomain.cloud \\\n",
    "put monitoring-defects.csv s3://githubanalyzer-donotdelete-pr-b9xa3kxotzh5in"
   ]
  },
  {
   "cell_type": "code",
   "execution_count": 5,
   "metadata": {
    "hide_input": true
   },
   "outputs": [
    {
     "name": "stdout",
     "output_type": "stream",
     "text": [
      "download: 's3://githubanalyzer-donotdelete-pr-b9xa3kxotzh5in/monitoring-defects.csv' -> 'wiotp-monitoring-dashboard-defects.csv'  [1 of 1]\n",
      " 722996 of 722996   100% in    1s   383.75 kB/s  done\n"
     ]
    }
   ],
   "source": [
    "# get it back from COS\n",
    "!s3cmd --access_key \"cc04444c99374c9e9589b8f85e931323\" --secret_key \"1a5062d937b09507a05b521a41b8baf6848c0cd6936e2864\" \\\n",
    "--access_token \"icny9QB770wS9p67JHCWb6C8ySJEn_3tmfjqct9qQhSY\" --force --host s3.eu.cloud-object-storage.appdomain.cloud --host-bucket=s3.eu.cloud-object-storage.appdomain.cloud \\\n",
    "get s3://githubanalyzer-donotdelete-pr-b9xa3kxotzh5in/monitoring-defects.csv wiotp-monitoring-dashboard-defects.csv"
   ]
  },
  {
   "cell_type": "markdown",
   "metadata": {},
   "source": [
    "#### Example Data\n",
    "\n",
    "Issue data from github and zenhub combined"
   ]
  },
  {
   "cell_type": "code",
   "execution_count": 6,
   "metadata": {
    "hide_input": false
   },
   "outputs": [
    {
     "data": {
      "text/html": [
       "<div>\n",
       "<style scoped>\n",
       "    .dataframe tbody tr th:only-of-type {\n",
       "        vertical-align: middle;\n",
       "    }\n",
       "\n",
       "    .dataframe tbody tr th {\n",
       "        vertical-align: top;\n",
       "    }\n",
       "\n",
       "    .dataframe thead th {\n",
       "        text-align: right;\n",
       "    }\n",
       "</style>\n",
       "<table border=\"1\" class=\"dataframe\">\n",
       "  <thead>\n",
       "    <tr style=\"text-align: right;\">\n",
       "      <th></th>\n",
       "      <th>Title</th>\n",
       "      <th>Repo</th>\n",
       "      <th>Created</th>\n",
       "      <th>Updated</th>\n",
       "      <th>Closed</th>\n",
       "      <th>Origin</th>\n",
       "      <th>Assignee</th>\n",
       "      <th>Status</th>\n",
       "      <th>Milestone</th>\n",
       "      <th>Type</th>\n",
       "      <th>Component</th>\n",
       "      <th>Estimate</th>\n",
       "      <th>BusinessValue</th>\n",
       "      <th>Severity</th>\n",
       "      <th>Risk</th>\n",
       "      <th>Theme</th>\n",
       "      <th>Blocked</th>\n",
       "      <th>Pipeline</th>\n",
       "      <th>Labels</th>\n",
       "    </tr>\n",
       "  </thead>\n",
       "  <tbody>\n",
       "    <tr>\n",
       "      <th>997</th>\n",
       "      <td>Adminstrator chooses multiple dimensions to do...</td>\n",
       "      <td>wiotp/monitoring-dashboard</td>\n",
       "      <td>2020-04-26 09:27:30</td>\n",
       "      <td>2020-04-26 10:15:44</td>\n",
       "      <td>NaT</td>\n",
       "      <td>Carlos-Ferreira1</td>\n",
       "      <td>mats-gothe</td>\n",
       "      <td>open</td>\n",
       "      <td>NaN</td>\n",
       "      <td>Issue</td>\n",
       "      <td>NaN</td>\n",
       "      <td>NaN</td>\n",
       "      <td>0</td>\n",
       "      <td>3</td>\n",
       "      <td>2</td>\n",
       "      <td>NaN</td>\n",
       "      <td>NaN</td>\n",
       "      <td>New Issues</td>\n",
       "      <td>[]</td>\n",
       "    </tr>\n",
       "  </tbody>\n",
       "</table>\n",
       "</div>"
      ],
      "text/plain": [
       "                                                 Title  \\\n",
       "997  Adminstrator chooses multiple dimensions to do...   \n",
       "\n",
       "                           Repo             Created             Updated  \\\n",
       "997  wiotp/monitoring-dashboard 2020-04-26 09:27:30 2020-04-26 10:15:44   \n",
       "\n",
       "    Closed            Origin    Assignee Status Milestone   Type Component  \\\n",
       "997    NaT  Carlos-Ferreira1  mats-gothe   open       NaN  Issue       NaN   \n",
       "\n",
       "    Estimate BusinessValue Severity Risk Theme Blocked    Pipeline Labels  \n",
       "997      NaN             0        3    2   NaN     NaN  New Issues     []  "
      ]
     },
     "execution_count": 6,
     "metadata": {},
     "output_type": "execute_result"
    }
   ],
   "source": [
    "defects_df = pd.read_csv('./wiotp-monitoring-dashboard-defects.csv') # parse_dates=['Created'])\n",
    "\n",
    "## Remove the encoding prefix string\n",
    "df=defects_df.replace('b\\'','',regex=True).astype(object)\n",
    "df=df.replace('b\\\"','',regex=True).astype(object)\n",
    "df['Created'] = pd.to_datetime(df['Created'])\n",
    "df['Updated'] = pd.to_datetime(df['Updated'])\n",
    "df['Closed'] = pd.to_datetime(df['Closed'])\n",
    "\n",
    "# Strip off outdated stuff\n",
    "df = df[df['Pipeline'] != 'To Be Closed']\n",
    "df.head(1)"
   ]
  },
  {
   "cell_type": "markdown",
   "metadata": {},
   "source": [
    "#### Our journey \n",
    "\n",
    "This is obviously a large wish list and not all of the metrics are equally important\n",
    "\n",
    "![image.png](./images/Ayoa.png)"
   ]
  },
  {
   "cell_type": "code",
   "execution_count": 7,
   "metadata": {
    "hide_input": true
   },
   "outputs": [],
   "source": [
    "# Assign some risks random risks\n",
    "df['Risk'] = np.random.choice([1,2,3], df['Risk'].values.shape[0], p=[0.2, 0.3, 0.5])\n",
    "#df['Title'] = df['Title'][:5]\n",
    "#df.head(5)"
   ]
  },
  {
   "cell_type": "code",
   "execution_count": 8,
   "metadata": {
    "hide_input": true
   },
   "outputs": [],
   "source": [
    "from IPython.display import display\n",
    "import ipywidgets as widgets\n",
    "from ipywidgets import Layout, Button, ToggleButton, Box, Dropdown\n",
    "from ipywidgets import interact, interactive, fixed, interact_manual, interactive_output\n",
    "from ipywidgets import Output\n",
    "\n",
    "#w = widgets.IntSlider()\n",
    "#display(w)"
   ]
  },
  {
   "cell_type": "markdown",
   "metadata": {},
   "source": [
    "#### Split up issues by type and severity"
   ]
  },
  {
   "cell_type": "code",
   "execution_count": 9,
   "metadata": {
    "hide_input": false
   },
   "outputs": [
    {
     "data": {
      "application/vnd.jupyter.widget-view+json": {
       "model_id": "5f3dcbe3b498456292ccfef6c7eaaac7",
       "version_major": 2,
       "version_minor": 0
      },
      "text/plain": [
       "Box(children=(Dropdown(description='Severity:', index=5, options=(('sev1', 0), ('sev2', 1), ('sev3', 2), ('sev…"
      ]
     },
     "metadata": {},
     "output_type": "display_data"
    },
    {
     "data": {
      "application/vnd.jupyter.widget-view+json": {
       "model_id": "c0a85c19961b466da3edb91348a09218",
       "version_major": 2,
       "version_minor": 0
      },
      "text/plain": [
       "Output()"
      ]
     },
     "metadata": {},
     "output_type": "display_data"
    }
   ],
   "source": [
    "df['Color'] = '#ffcc99'\n",
    "#df[df['Type'] == 'Issue']['Color'] = '#ff9999'\n",
    "#df[df['Type'] == 'Bug']['Color'] = '#66b3ff'\n",
    "#df[df['Type'] == 'Epic']['Color'] = '#99ff99'\n",
    "\n",
    "dfs = [df[df['Severity'] == 1], df[df['Severity'] == 2], df[df['Severity'] == 3], \n",
    "       df[df['Severity'] == 4], df]\n",
    "dfssum = []\n",
    "\n",
    "# prepare data\n",
    "cnt = []\n",
    "labels = []\n",
    "explode = []\n",
    "colors = []\n",
    "\n",
    "for dfs_el in dfs:\n",
    "    cnt_el = dfs_el.groupby('Type')['Title'].count()\n",
    "    dfssum.append('Sum: ' + str(dfs_el.count()['Title']))\n",
    "    labels.append(cnt_el.index)\n",
    "    explode.append(np.zeros(cnt_el.size) + 0.02)\n",
    "    #colors.append(cnt_el['Color'])\n",
    "    cnt.append(cnt_el)\n",
    "    \n",
    "# define widget\n",
    "box_layout = Layout(display='flex', flex_flow='row', align_items='stretch', border='solid', width='23%')\n",
    "dropdown = Dropdown(\n",
    "    options=[('sev1', 0), ('sev2', 1), ('sev3',2), ('sev4',3), ('sev 1 to 4', 4), ('all', 11)],\n",
    "    value=11,\n",
    "    description='Severity:',\n",
    ")\n",
    "box = Box(children=[dropdown], layout=box_layout)\n",
    "    \n",
    "def f(severity):\n",
    "    if severity > 10:\n",
    "        fig, ax = plt.subplots(1, 5, figsize=(20,6))\n",
    "        for i in [0,1,2,3,4]:\n",
    "            ax[i].pie(cnt[i], explode=explode[i], labels=labels[i], autopct='%1.1f%%',\n",
    "                      shadow=True, startangle=90)\n",
    "            if i < 4:\n",
    "                ax[i].set_title('Monitoring issues by Type\\n   Severity: ' + str(i + 1))\n",
    "\n",
    "            else:\n",
    "                ax[i].set_title('Monitoring issues by Type\\n   All severities')\n",
    "            ax[i].text(-1.1,1,dfssum[i],ha='center',va='center',fontsize=12, \n",
    "                       bbox=dict(facecolor='beige', alpha=0.5))\n",
    "    else:\n",
    "        fig1, ax1 = plt.subplots()\n",
    "        ax1.pie(cnt[severity], explode=explode[severity], labels=labels[severity], autopct='%1.1f%%',\n",
    "                shadow=True, startangle=90)\n",
    "        ax1.axis('equal')  # Equal aspect ratio ensures that pie is drawn as a circle.\n",
    "        if severity < 4:\n",
    "            ax1.set_title('Monitoring issues by Type\\n   Severity: ' + str(severity + 1))\n",
    "        else:\n",
    "            ax1.set_title('Monitoring issues by Type\\n   All severities')\n",
    "        ax1.text(-1.1,1,dfssum[severity],ha='center',va='center',fontsize=12, \n",
    "                       bbox=dict(facecolor='beige', alpha=0.5))\n",
    "\n",
    "ws = interactive_output(f, {'severity': dropdown});\n",
    "display(box, ws)"
   ]
  },
  {
   "cell_type": "markdown",
   "metadata": {},
   "source": [
    "### Velocities\n",
    "\n",
    "- Overall Velocity\n",
    "- Defect Velocity (**implemented** - starting mid 2019)\n",
    "- Customer satisfaction (**no data** not included as we have no data)\n",
    "- Defect breakdown by severity (**no data** we have no severities in our defects)\n",
    "- Value per sprint (**no data** value of epics or stories is not known)\n",
    "- Percentage of test case coverage (**no data** - we do not track that)\n",
    "- Customer Support Requests (**no data*)\n",
    "- Trends (let's define what trends we need)\n",
    "- NPS (**no data**)\n",
    "- Build failures (need to get Travis data)\n",
    "- Deployment failures (Jenkins ?)\n",
    "- Technical Debts (**no data** we need a label)"
   ]
  },
  {
   "cell_type": "markdown",
   "metadata": {},
   "source": [
    "#### Issue velocity"
   ]
  },
  {
   "cell_type": "code",
   "execution_count": 10,
   "metadata": {
    "hide_input": false,
    "scrolled": false
   },
   "outputs": [
    {
     "data": {
      "application/vnd.jupyter.widget-view+json": {
       "model_id": "eb677ff9bba64d86a12ef1608b6db106",
       "version_major": 2,
       "version_minor": 0
      },
      "text/plain": [
       "Box(children=(Dropdown(description='Severity:', index=5, options=(('sev1', 0), ('sev2', 1), ('sev3', 2), ('sev…"
      ]
     },
     "metadata": {},
     "output_type": "display_data"
    },
    {
     "data": {
      "application/vnd.jupyter.widget-view+json": {
       "model_id": "c30e2d1f76ce4a55bfbb7a3c2b2d7b85",
       "version_major": 2,
       "version_minor": 0
      },
      "text/plain": [
       "Output()"
      ]
     },
     "metadata": {},
     "output_type": "display_data"
    }
   ],
   "source": [
    "# defect velocity since mid 2019\n",
    "StartWith = '2019-06-30'\n",
    "\n",
    "\n",
    "dfv = df.copy()\n",
    "# replace NaT with now\n",
    "dfv['Closed'] = dfv['Closed'].fillna(pd.Timestamp.now())\n",
    "#dfv = dfv[dfv['Status'] == 'closed']\n",
    "\n",
    "dfv = dfv[dfv['Created'] > StartWith]\n",
    "dfv['Age_in_weeks'] = dfv['Closed'] - dfv['Created'] + pd.Timestamp('2020-01-01')\n",
    "dfv = dfv[['Severity', 'Status', 'Type', 'Age_in_weeks']].set_index(['Type','Status'])\n",
    "\n",
    "\n",
    "\n",
    "dfvs = [dfv[dfv['Severity'] == 1], dfv[dfv['Severity'] == 2],\n",
    "        dfv[dfv['Severity'] == 3], dfv[dfv['Severity'] == 4], dfv]\n",
    "\n",
    "cntv = []\n",
    "for dfs_el in dfvs:\n",
    "    cnt_el = dfs_el.groupby(['Status', 'Type', dfs_el['Age_in_weeks'].dt.week]).count().drop(columns='Age_in_weeks')\n",
    "    cnt_el = cnt_el.reset_index().set_index('Age_in_weeks')\n",
    "    #print (cnt_el)\n",
    "    cntv.append(cnt_el)\n",
    "\n",
    "StatusMap = [('open', 0), ('closed', 1), ('All',2)]\n",
    "TypeMap = [('Issue', 0), ('Bug', 1), ('Epic',2), ('All', 3)]\n",
    "\n",
    "IMAX = 11\n",
    "emptydf = pd.DataFrame({'Age_in_weeks' : [IMAX], 'Severity': [0.001]}).set_index('Age_in_weeks')\n",
    "\n",
    "def projection(sev, stat, typ):\n",
    "    cntvp = []\n",
    "    for cntv_el in cntv:\n",
    "        if typ < 3:\n",
    "            cntv_el = cntv_el[cntv_el['Type'] == TypeMap[typ][0]]   \n",
    "        if stat < 2:\n",
    "            cntv_el = cntv_el[cntv_el['Status'] == StatusMap[stat][0]]\n",
    "\n",
    "        if cntv_el.index.size > 0 or cntv_el.index.max() < IMAX:\n",
    "            cntv_el = cntv_el.append(emptydf)\n",
    "            #print(cntv_el)\n",
    "            \n",
    "\n",
    "        cntvp.append(cntv_el)\n",
    "    return cntvp\n",
    "    \n",
    "#print (cntv[0])\n",
    "# define widget\n",
    "box_layout = Layout(display='flex', flex_flow='row', align_items='stretch', border='solid', width='65%')\n",
    "dropdown = Dropdown(\n",
    "    options=[('sev1', 0), ('sev2', 1), ('sev3',2), ('sev4',3), ('sev 1 to 4', 4), ('all', 11)],\n",
    "    value=11,\n",
    "    description='Severity:',\n",
    ")\n",
    "dropdown2 = Dropdown(\n",
    "    options=StatusMap,\n",
    "    value=1,\n",
    "    description='Status:',\n",
    ")\n",
    "dropdown3 = Dropdown(\n",
    "    options=TypeMap,\n",
    "    value=3,\n",
    "    description='Type:',\n",
    ")\n",
    "box = Box(children=[dropdown,dropdown2, dropdown3], layout=box_layout)\n",
    "\n",
    "def f(severity, status, Type):\n",
    "    #df_vel = df_velocity.copy()\n",
    "    cntvp = projection(severity, status, Type)\n",
    "    if severity > 10:\n",
    "        fig, ax = plt.subplots(1, 5, figsize=(20,3))\n",
    "        for i in [0,1,2,3,4]:\n",
    "            ax[i].bar(cntvp[i].index, cntvp[i]['Severity'].values)\n",
    "            if i < 4:\n",
    "                ax[i].set_title('Monitoring issues aging\\n   Severity: ' + str(i + 1))\n",
    "            else:\n",
    "                ax[i].set_title('Monitoring issues aging\\n   All severities')\n",
    "            ax[i].set_xlabel('Age in weeks')\n",
    "    else:\n",
    "        fig1, ax1 = plt.subplots(figsize=(7,3))\n",
    "        ax1.bar(cntvp[severity].index, cntvp[severity]['Severity'].values)\n",
    "        if severity < 4:\n",
    "            ax1.set_title('Monitoring issues aging\\n   Severity: ' + str(severity + 1))\n",
    "        else:\n",
    "            ax1.set_title('Monitoring issues aging\\n   All severities')\n",
    "        ax1.set_xlabel('Age in weeks')\n",
    "\n",
    "ws = interactive_output(f, {'severity': dropdown, 'status': dropdown2, 'Type': dropdown3});\n",
    "display(box, ws)"
   ]
  },
  {
   "cell_type": "markdown",
   "metadata": {},
   "source": [
    "#### Open epics - risks vs value"
   ]
  },
  {
   "cell_type": "code",
   "execution_count": 11,
   "metadata": {
    "hide_input": false
   },
   "outputs": [
    {
     "data": {
      "text/plain": [
       "Text(0.5, 1.0, 'Heatmap of open Epics\\n by value and risk')"
      ]
     },
     "execution_count": 11,
     "metadata": {},
     "output_type": "execute_result"
    },
    {
     "data": {
      "image/png": "[encoded data removed]",
      "text/plain": [
       "<Figure size 1008x288 with 3 Axes>"
      ]
     },
     "metadata": {
      "needs_background": "light"
     },
     "output_type": "display_data"
    }
   ],
   "source": [
    "# defect velocity since mid 2019\n",
    "StartWith = '2019-06-30'\n",
    "\n",
    "\n",
    "df_val = df.copy()\n",
    "df_val = df_val[df_val['BusinessValue'] > 0]\n",
    "df_val['Risk'] += 1\n",
    "df_val = df_val[df_val['Status'] == 'open'][['BusinessValue','Risk', 'Title']]\n",
    "fig, ax = plt.subplots(1, 3, figsize=(14,4))\n",
    "val_el = df_val.groupby(df_val['BusinessValue']).count()\n",
    "risk_el = df_val.groupby(df_val['Risk']).count()\n",
    "valrisk_el = df_val.groupby(['BusinessValue','Risk']).size()\n",
    "valrisk_grid = valrisk_el.unstack().to_numpy()\n",
    "\n",
    "ax[0].bar(val_el.index, val_el['Title'].values, width=0.6)\n",
    "ax[0].set_title('Open Epics by business value')\n",
    "ax[0].set_xlabel('Value')\n",
    "ax[0].set_xticks([1,2,3,4])\n",
    "#ax[1].set_xticklabels(['Low','Med','High'])\n",
    "\n",
    "\n",
    "ax[1].bar(risk_el.index, risk_el['Title'].values, color='red', width=0.5)\n",
    "ax[1].set_title('Open Epics by risk/technical complexity')\n",
    "ax[1].set_xlabel('Risk')\n",
    "ax[1].set_xticks([2,3,4])\n",
    "ax[1].set_xticklabels(['Low','Med','High'])\n",
    "\n",
    "ax[2].imshow(valrisk_grid, interpolation ='none', cmap='summer')\n",
    "for (j,i),label in np.ndenumerate(valrisk_grid):\n",
    "    if np.isnan(label):\n",
    "        label = '0'\n",
    "    else:\n",
    "        label = int(label)\n",
    "    ax[2].text(i,j,label,ha='center',va='center',fontsize=16)\n",
    "\n",
    "ax[2].set_xlabel('Risk')\n",
    "ax[2].set_xticks([0,1,2])\n",
    "ax[2].set_xticklabels(['Low','Med','High'])\n",
    "ax[2].set_ylabel('Value')\n",
    "ax[2].set_yticks([0,1,2,3])\n",
    "ax[2].set_yticklabels(['High\\n 1',2,3,'Low\\n 4'])\n",
    "#ax[2].set_yticks([1,2,3,4,5])\n",
    "ax[2].set_title('Heatmap of open Epics\\n by value and risk')\n"
   ]
  },
  {
   "cell_type": "markdown",
   "metadata": {},
   "source": [
    "### Initiatives, Epics, Stories\n",
    "\n",
    "- Epics per Initiatives (not \n",
    "- Initiative completion by percentage\n",
    "- Percentage of Epics completed\n",
    "- Percentage of stories completed by sprint vs what was committed\n",
    "- Defects per story\n",
    "- End to end start to completion average"
   ]
  },
  {
   "cell_type": "code",
   "execution_count": 12,
   "metadata": {
    "hide_input": false
   },
   "outputs": [
    {
     "data": {
      "application/vnd.jupyter.widget-view+json": {
       "model_id": "86362d1ce40a417094f2fd67103868a9",
       "version_major": 2,
       "version_minor": 0
      },
      "text/plain": [
       "interactive(children=(Dropdown(description='Date', options=(('Jul 2019', '2019-06-30'), ('Oct 2019', '2019-09-…"
      ]
     },
     "metadata": {},
     "output_type": "display_data"
    },
    {
     "data": {
      "text/plain": [
       "<function __main__.f>"
      ]
     },
     "execution_count": 12,
     "metadata": {},
     "output_type": "execute_result"
    }
   ],
   "source": [
    "# Open vs closed epics\n",
    "\n",
    "def f(Date):\n",
    "    df_epics = df[df['Type'] == 'Epic']   \n",
    "    df_epics = df_epics[df_epics['Created'] > Date]\n",
    "    df_epics = df_epics[['Status', 'Type']]\n",
    "    length = 20 * df_epics.index.size / 200\n",
    "    df_epics.groupby(df_epics['Status']).count().plot(figsize=(length,2), kind='barh', legend=False)\n",
    "    plt.title('Epics by completion \\n created after ' + Date)\n",
    "\n",
    "interact(f, Date=[('Jul 2019', '2019-06-30'), ('Oct 2019', '2019-09-30'), ('Jan 2020', '2019-12-31'), \n",
    "                  ('Feb 2020','2020-01-31'), ('Mar 2020', '2020-02-28'), ('Apr 2020','2020-03-31')])"
   ]
  },
  {
   "cell_type": "markdown",
   "metadata": {
    "hide_input": false
   },
   "source": [
    "#### Next steps\n",
    "\n",
    "- Aggregate data over smaller time spans such as **sprints** to get insights in velocity and completion rate\n",
    "- Pull in data from travis and jenkins to include build process quality metrics\n"
   ]
  },
  {
   "cell_type": "code",
   "execution_count": 73,
   "metadata": {
    "scrolled": false
   },
   "outputs": [
    {
     "data": {
      "application/vnd.jupyter.widget-view+json": {
       "model_id": "f00f7c1878c74eda8a75c69c496f9c6c",
       "version_major": 2,
       "version_minor": 0
      },
      "text/plain": [
       "Box(children=(Dropdown(description='Sprint:', index=14, options=(('Release 2 Sprint 1', 1), ('Release 2 Sprint…"
      ]
     },
     "metadata": {},
     "output_type": "display_data"
    },
    {
     "data": {
      "application/vnd.jupyter.widget-view+json": {
       "model_id": "9ae03c68b6ed41e0a6910c8cab31abf9",
       "version_major": 2,
       "version_minor": 0
      },
      "text/plain": [
       "Output()"
      ]
     },
     "metadata": {},
     "output_type": "display_data"
    }
   ],
   "source": [
    "SprintMap = [('Release 2 Sprint 1', 1), ('Release 2 Sprint 2', 2),\n",
    "             ('Release 2 Sprint 3', 3), ('Release 2 Sprint 4', 4),\n",
    "             ('Release 2 Sprint 5', 5), ('Release 2 Sprint 6', 6),\n",
    "             ('Release 2 Sprint 7', 7), ('Release 2 Sprint 8', 8),\n",
    "             ('Release 2 Sprint 9', 9), ('Release 2 Sprint 10', 10),\n",
    "             ('March 2020 Sprint 11', 11), ('March 2020 Sprint 12', 12),\n",
    "             ('April 2020 Sprint 13', 13), ('April 2020 Sprint 14', 14),\n",
    "             ('May 2020 - Sprint 15', 15), ('May 2020 - Sprint 16', 16),\n",
    "             ('May 2020 - Sprint 17', 17)]\n",
    "DateMap = [('2019-09-26', '2019-10-15'), ('2019-10-16', '2019-10-24'),  # sprints 1,2\n",
    "           ('2019-10-25', '2019-11-07'), ('2019-11-08', '2019-11-22'),\n",
    "           ('2019-11-23', '2019-12-12'), ('2019-12-13', '2020-01-09'),  # sprints 5,6\n",
    "           ('2020-01-10', '2020-01-16'), ('2020-01-17', '2020-02-05'),\n",
    "           ('2020-02-06', '2020-02-13'), ('2020-02-14', '2020-02-27'),  # sprints 9,10\n",
    "           ('2020-02-28', '2020-03-12'), ('2020-03-13', '2020-03-25'),\n",
    "           ('2020-03-26', '2020-04-08'), ('2020-04-09', '2020-04-22'),  # sprints april\n",
    "           ('2020-04-23', '2020-05-06'), ('2020-05-07', '2020-05-20'),\n",
    "           ('2020-05-21', '2020-06-02')]  # sprint 17\n",
    "\n",
    "TypeMap = [('Issue', 0), ('Bug', 1), ('Epic',2), ('All', 3)]\n",
    "\n",
    "box_layoutS = Layout(display='flex', flex_flow='row', align_items='stretch', border='solid', width='45%')\n",
    "dropsprint = Dropdown(\n",
    "    options=SprintMap,\n",
    "    value=15,\n",
    "    description='Sprint:',\n",
    ")\n",
    "droptype = Dropdown(\n",
    "    options=TypeMap,\n",
    "    value=1,\n",
    "    description='Type:',\n",
    ")\n",
    "boxS = Box(children=[dropsprint, droptype], layout=box_layoutS)\n",
    "\n",
    "\n",
    "\n",
    "def f_sprint(Sprint, Type):\n",
    "    # get all stories of given type closed in this sprint \n",
    "    if Type != 3:\n",
    "        df_sprint = df[df['Type'] == TypeMap[Type][0]]\n",
    "    else:\n",
    "        df_sprint = df.copy()\n",
    "    \n",
    "    # Sprint start is in the past - use closed date\n",
    "    if pd.Timestamp(DateMap[Sprint][0]) < dt.datetime.now():\n",
    "        df_sprint = df_sprint[DateMap[Sprint][0]<= df_sprint['Closed']]\n",
    "        df_sprint = df_sprint[df_sprint['Closed'] <= DateMap[Sprint][1]]\n",
    "    else: # use planned date\n",
    "        df_sprint = df_sprint[df_sprint['Milestone'] == SprintMap[Sprint][0]]\n",
    "\n",
    "    df_sprint['Sized'] = pd.isna(df_sprint['Estimate'].values)   \n",
    "    df_sizes = df_sprint.groupby(df_sprint['Sized']).count()    \n",
    "    df_value = df_sprint.groupby(df_sprint['BusinessValue']).count()\n",
    "    \n",
    "    #print(df_sprint[['Title', 'BusinessValue']])\n",
    "    \n",
    "    fig, ax = plt.subplots(1, 2, figsize=(14,2))\n",
    "    ax[0].barh(df_sizes.index, df_sizes['Title'].values, height=0.3, color='green')\n",
    "    #ax[0].set_title('Open Epics by business value')\n",
    "    ax[0].set_ylabel('Sized Items')\n",
    "    if len(df_sizes['Title']) == 0 or max(df_sizes['Title'].values) < 3:\n",
    "        ax[0].set_xticks(np.arange(0,3))\n",
    "    \n",
    "    ax[0].set_yticks([0, 1])\n",
    "    ax[0].set_yticklabels(['Sized','Unsized'])\n",
    "    ax[0].set_title('Sized vs unsized items')\n",
    "    \n",
    "    ax[1].barh(df_value.index, df_value['Risk'].values, height=0.4, color='blue')\n",
    "    #ax[1].set_ylabel('Value per Sprint')\n",
    "    if len(df_value['Risk']) == 0 or max(df_value['Risk'].values) < 3:\n",
    "        ax[1].set_xticks(np.arange(0,3))\n",
    "    ax[1].set_yticks([0, 1, 2, 3, 4])  \n",
    "    ax[1].set_yticklabels(['Unknown', 'High', 2, 3, 'Low'])\n",
    "    ax[1].set_title('Value per sprint')\n",
    "\n",
    "ws_sprint = interactive_output(f_sprint, {'Sprint': dropsprint, 'Type': droptype});\n",
    "display(boxS, ws_sprint)"
   ]
  },
  {
   "cell_type": "markdown",
   "metadata": {},
   "source": [
    "#### Longer term considerations\n",
    "\n",
    "##### Should we continue with a local Jupyter notebook or invest in a dashboard ?\n",
    "\n",
    "Maybe we make use of Jupyter and quick prototyping until we have 80% of the metrics in place we need. "
   ]
  },
  {
   "cell_type": "code",
   "execution_count": null,
   "metadata": {},
   "outputs": [],
   "source": []
  }
 ],
 "metadata": {
  "kernelspec": {
   "display_name": "Python 3",
   "language": "python",
   "name": "python3"
  },
  "language_info": {
   "codemirror_mode": {
    "name": "ipython",
    "version": 3
   },
   "file_extension": ".py",
   "mimetype": "text/x-python",
   "name": "python",
   "nbconvert_exporter": "python",
   "pygments_lexer": "ipython3",
   "version": "3.7.5"
  }
 },
 "nbformat": 4,
 "nbformat_minor": 2
}
