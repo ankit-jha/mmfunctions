{
 "cells": [
  {
   "cell_type": "markdown",
   "metadata": {},
   "source": [
    "## Project Control\n",
    "\n",
    "This notebook should have been deployed in Watson Studio\n",
    "    **but** unfortunately Watson Studio doesn't support interactive notebooks yet\n",
    "\n",
    "Git Repos to be investigated:\n",
    "\n",
    "* https://github.ibm.com/wiotp/monitoring-dashboard\n",
    "* https://github.ibm.com/wiotp/analytics-service\n"
   ]
  },
  {
   "cell_type": "markdown",
   "metadata": {},
   "source": [
    "### Github Analyzer\n",
    "\n",
    "This notebook should have been deployed in Watson Studio\n",
    "    **but** unfortunately Watson Studio doesn't support interactive notebooks yet\n",
    "\n",
    "Git Repos to be investigated:\n",
    "\n",
    "* https://github.ibm.com/wiotp/monitoring-dashboard\n",
    "* https://github.ibm.com/wiotp/analytics-service\n"
   ]
  },
  {
   "cell_type": "markdown",
   "metadata": {},
   "source": [
    "Influenced by IBM's Data and AI dev transformation group\n",
    "\n",
    "<a href=\"https://github.ibm.com/DataandAI-dev-transformation/dev-transformation/blob/master/code-quality/defect_tracking.MD\" target=\"_blank\">DataandAI-dev-transformation - code quality defect tracking</a>\n",
    "\n",
    "and more specifically the automatic component assigner for new defects [here](https://github.ibm.com/DataandAI-dev-transformation/defect_classification_ml_to_assign_component/blob/master/DefectClassifier_SGD_TFID_features-5.ipynb)"
   ]
  },
  {
   "cell_type": "code",
   "execution_count": 1,
   "metadata": {
    "hide_input": false
   },
   "outputs": [],
   "source": [
    "import csv\n",
    "import requests\n",
    "import collections\n",
    "import numpy as np\n",
    "import pandas as pd\n",
    "import datetime as dt\n",
    "from sklearn.linear_model import LinearRegression\n",
    "import matplotlib.pyplot as plt\n",
    "from matplotlib import cm, table\n",
    "from mpl_toolkits.mplot3d import axes3d"
   ]
  },
  {
   "cell_type": "code",
   "execution_count": 42,
   "metadata": {},
   "outputs": [],
   "source": [
    "# custom functions - install with pip install git+https://github.com/sedgewickmm18/mmfunctions\n",
    "from mmfunctions import gitanalyzer"
   ]
  },
  {
   "cell_type": "code",
   "execution_count": 3,
   "metadata": {
    "hide_input": false,
    "scrolled": false
   },
   "outputs": [
    {
     "name": "stdout",
     "output_type": "stream",
     "text": [
      "loading zenhub releases\n",
      "loading zenhub issues per releases\n",
      "loading zenhub issues by board\n",
      "Process github repo 1\n",
      "Process github repo 2\n"
     ]
    }
   ],
   "source": [
    "# Repos and credentials to retrieve the data from\n",
    "params = {}\n",
    "params['REPO'] = 'wiotp/monitoring-dashboard'\n",
    "params['REPO2'] = 'wiotp/analytics-service'\n",
    "params['REPO_ID'] = 566611\n",
    "params['REPO2_ID'] = 211664\n",
    "params['ZENHUB_WORKSPACE'] = '5cd44ce4baded506ba8ddd5f'\n",
    "params['GITHUB_TOKEN'] = 'ad7e5d3d34e79ac5d06210e74546c36b4bbc86ab'\n",
    "params['ZENHUB_TOKEN'] = '814960f27921de182e39873816e4a54be9cdbb5000baa92d054e773949c1681e5e637c3bd30b54ad'\n",
    "params['TRAVIS_TOKEN'] = '7B8mnG99oqNcHJgKKXMYVQ'\n",
    "params['BASE_URL'] = 'https://github.ibm.com'\n",
    "params['ZEN_BASE_URL'] = 'https://zenhub.ibm.com'\n",
    "params['IGNORE_RELEASES'] = ['closed'] # valid parms: closed, rel names\n",
    "\n",
    "gitanalyzer.process_all(params)\n",
    "# After extraction store the data in cloud object store"
   ]
  },
  {
   "cell_type": "code",
   "execution_count": 4,
   "metadata": {
    "hide_input": true
   },
   "outputs": [
    {
     "name": "stdout",
     "output_type": "stream",
     "text": [
      "upload: 'monitoring-defects.csv' -> 's3://githubanalyzer-donotdelete-pr-b9xa3kxotzh5in/monitoring-defects.csv'  [1 of 1]\n",
      " 743818 of 743818   100% in    3s   187.60 kB/s  done\n"
     ]
    }
   ],
   "source": [
    "# upload stuff for later use to COS\n",
    "!s3cmd --access_key \"cc04444c99374c9e9589b8f85e931323\" --secret_key \"1a5062d937b09507a05b521a41b8baf6848c0cd6936e2864\" \\\n",
    "--access_token \"icny9QB770wS9p67JHCWb6C8ySJEn_3tmfjqct9qQhSY\" --host s3.eu.cloud-object-storage.appdomain.cloud --host-bucket=s3.eu.cloud-object-storage.appdomain.cloud \\\n",
    "put monitoring-defects.csv s3://githubanalyzer-donotdelete-pr-b9xa3kxotzh5in"
   ]
  },
  {
   "cell_type": "code",
   "execution_count": 5,
   "metadata": {
    "hide_input": true
   },
   "outputs": [
    {
     "name": "stdout",
     "output_type": "stream",
     "text": [
      "download: 's3://githubanalyzer-donotdelete-pr-b9xa3kxotzh5in/monitoring-defects.csv' -> 'wiotp-monitoring-dashboard-defects.csv'  [1 of 1]\n",
      " 535185 of 535185   100% in    1s   267.59 kB/s  done\n"
     ]
    }
   ],
   "source": [
    "# get it back from COS\n",
    "!s3cmd --access_key \"cc04444c99374c9e9589b8f85e931323\" --secret_key \"1a5062d937b09507a05b521a41b8baf6848c0cd6936e2864\" \\\n",
    "--access_token \"icny9QB770wS9p67JHCWb6C8ySJEn_3tmfjqct9qQhSY\" --force --host s3.eu.cloud-object-storage.appdomain.cloud --host-bucket=s3.eu.cloud-object-storage.appdomain.cloud \\\n",
    "get s3://githubanalyzer-donotdelete-pr-b9xa3kxotzh5in/monitoring-defects.csv wiotp-monitoring-dashboard-defects.csv"
   ]
  },
  {
   "cell_type": "markdown",
   "metadata": {},
   "source": [
    "#### Example Data\n",
    "\n",
    "Issue data from github and zenhub combined"
   ]
  },
  {
   "cell_type": "code",
   "execution_count": 56,
   "metadata": {
    "hide_input": false
   },
   "outputs": [
    {
     "data": {
      "text/html": [
       "<div>\n",
       "<style scoped>\n",
       "    .dataframe tbody tr th:only-of-type {\n",
       "        vertical-align: middle;\n",
       "    }\n",
       "\n",
       "    .dataframe tbody tr th {\n",
       "        vertical-align: top;\n",
       "    }\n",
       "\n",
       "    .dataframe thead th {\n",
       "        text-align: right;\n",
       "    }\n",
       "</style>\n",
       "<table border=\"1\" class=\"dataframe\">\n",
       "  <thead>\n",
       "    <tr style=\"text-align: right;\">\n",
       "      <th></th>\n",
       "      <th>Title</th>\n",
       "      <th>Repo</th>\n",
       "      <th>Created</th>\n",
       "      <th>Updated</th>\n",
       "      <th>Closed</th>\n",
       "      <th>Origin</th>\n",
       "      <th>Assignee</th>\n",
       "      <th>Status</th>\n",
       "      <th>Release</th>\n",
       "      <th>Milestone</th>\n",
       "      <th>Type</th>\n",
       "      <th>Component</th>\n",
       "      <th>Estimate</th>\n",
       "      <th>BusinessValue</th>\n",
       "      <th>Severity</th>\n",
       "      <th>Risk</th>\n",
       "      <th>Theme</th>\n",
       "      <th>Blocked</th>\n",
       "      <th>Pipeline</th>\n",
       "      <th>Labels</th>\n",
       "    </tr>\n",
       "  </thead>\n",
       "  <tbody>\n",
       "    <tr>\n",
       "      <th>1025</th>\n",
       "      <td>[UX]Support raw data in summary dashboard crea...</td>\n",
       "      <td>wiotp/monitoring-dashboard</td>\n",
       "      <td>2020-05-08 02:18:36</td>\n",
       "      <td>2020-05-08 02:27:42</td>\n",
       "      <td>2030-01-01</td>\n",
       "      <td>cynthiaz</td>\n",
       "      <td>NaN</td>\n",
       "      <td>open</td>\n",
       "      <td></td>\n",
       "      <td>NaN</td>\n",
       "      <td>Issue</td>\n",
       "      <td>NaN</td>\n",
       "      <td>2.69</td>\n",
       "      <td>0</td>\n",
       "      <td>3</td>\n",
       "      <td>2</td>\n",
       "      <td>NaN</td>\n",
       "      <td>NaN</td>\n",
       "      <td>New Issues</td>\n",
       "      <td>['ui']</td>\n",
       "    </tr>\n",
       "  </tbody>\n",
       "</table>\n",
       "</div>"
      ],
      "text/plain": [
       "                                                  Title  \\\n",
       "1025  [UX]Support raw data in summary dashboard crea...   \n",
       "\n",
       "                            Repo             Created             Updated  \\\n",
       "1025  wiotp/monitoring-dashboard 2020-05-08 02:18:36 2020-05-08 02:27:42   \n",
       "\n",
       "         Closed    Origin Assignee Status Release Milestone   Type Component  \\\n",
       "1025 2030-01-01  cynthiaz      NaN   open               NaN  Issue       NaN   \n",
       "\n",
       "      Estimate BusinessValue Severity Risk Theme Blocked    Pipeline  Labels  \n",
       "1025      2.69             0        3    2   NaN     NaN  New Issues  ['ui']  "
      ]
     },
     "execution_count": 56,
     "metadata": {},
     "output_type": "execute_result"
    }
   ],
   "source": [
    "defects_df = pd.read_csv('./monitoring-defects.csv') # parse_dates=['Created'])\n",
    "\n",
    "## Remove the encoding prefix string\n",
    "df=defects_df.replace('b\\'','',regex=True).astype(object)\n",
    "df=df.replace('b\\\"','',regex=True).astype(object)\n",
    "df['Created'] = pd.to_datetime(df['Created'])\n",
    "df['Updated'] = pd.to_datetime(df['Updated'])\n",
    "df['Closed'] = pd.to_datetime(df['Closed'])\n",
    "\n",
    "# average estimates for NaN\n",
    "df['Estimate'] = df['Estimate'].fillna(2.69)\n",
    "df['Release'] = df['Release'].fillna('')\n",
    "df['Closed'] = df['Closed'].fillna(pd.Timestamp(gitanalyzer.FarFuture)).dt.round('1d')\n",
    "\n",
    "# Strip off outdated stuff\n",
    "df = df[df['Pipeline'] != 'To Be Closed']\n",
    "df.head(1)"
   ]
  },
  {
   "cell_type": "code",
   "execution_count": 135,
   "metadata": {},
   "outputs": [
    {
     "data": {
      "text/html": [
       "<div>\n",
       "<style scoped>\n",
       "    .dataframe tbody tr th:only-of-type {\n",
       "        vertical-align: middle;\n",
       "    }\n",
       "\n",
       "    .dataframe tbody tr th {\n",
       "        vertical-align: top;\n",
       "    }\n",
       "\n",
       "    .dataframe thead th {\n",
       "        text-align: right;\n",
       "    }\n",
       "</style>\n",
       "<table border=\"1\" class=\"dataframe\">\n",
       "  <thead>\n",
       "    <tr style=\"text-align: right;\">\n",
       "      <th></th>\n",
       "      <th>Id</th>\n",
       "      <th>Title</th>\n",
       "      <th>Start</th>\n",
       "      <th>DesiredEnd</th>\n",
       "      <th>Closed</th>\n",
       "    </tr>\n",
       "  </thead>\n",
       "  <tbody>\n",
       "    <tr>\n",
       "      <th>0</th>\n",
       "      <td>5cd959e392c9a206d3cfd5da</td>\n",
       "      <td>Monitor April 2020 Release</td>\n",
       "      <td>2019-12-31 00:00:00</td>\n",
       "      <td>2020-04-29 00:00:00</td>\n",
       "      <td>2030-01-01</td>\n",
       "    </tr>\n",
       "  </tbody>\n",
       "</table>\n",
       "</div>"
      ],
      "text/plain": [
       "                         Id                       Title                Start  \\\n",
       "0  5cd959e392c9a206d3cfd5da  Monitor April 2020 Release  2019-12-31 00:00:00   \n",
       "\n",
       "            DesiredEnd      Closed  \n",
       "0  2020-04-29 00:00:00  2030-01-01  "
      ]
     },
     "execution_count": 135,
     "metadata": {},
     "output_type": "execute_result"
    }
   ],
   "source": [
    "# Retrieve release map\n",
    "df_release = pd.read_csv('./monitoring-releases.csv')\n",
    "ReleaseMap = df_release['Title'].reset_index()[['Title','index']].to_numpy().tolist()\n",
    "ReleaseDateMap = df_release.to_numpy().tolist()\n",
    "#ReleaseDateMap"
   ]
  },
  {
   "cell_type": "markdown",
   "metadata": {},
   "source": [
    "#### Our journey \n",
    "\n",
    "This is obviously a large wish list and not all of the metrics are equally important\n",
    "\n",
    "![image.png](./images/Ayoa.png)"
   ]
  },
  {
   "cell_type": "code",
   "execution_count": 7,
   "metadata": {
    "hide_input": true
   },
   "outputs": [],
   "source": [
    "# Assign some risks random risks\n",
    "df['Risk'] = np.random.choice([1,2,3], df['Risk'].values.shape[0], p=[0.2, 0.3, 0.5])\n",
    "#df['Title'] = df['Title'][:5]\n",
    "#df.head(5)"
   ]
  },
  {
   "cell_type": "code",
   "execution_count": 7,
   "metadata": {
    "hide_input": false
   },
   "outputs": [],
   "source": [
    "from IPython.display import display\n",
    "import ipywidgets as widgets\n",
    "from ipywidgets import Layout, Button, ToggleButton, Box, Dropdown, Text, Textarea\n",
    "from ipywidgets import interact, interactive, fixed, interact_manual, interactive_output\n",
    "from ipywidgets import Output\n",
    "\n",
    "#w = widgets.IntSlider()\n",
    "#display(w)"
   ]
  },
  {
   "cell_type": "markdown",
   "metadata": {},
   "source": [
    "#### Split up issues by type and severity"
   ]
  },
  {
   "cell_type": "code",
   "execution_count": 8,
   "metadata": {
    "hide_input": false
   },
   "outputs": [
    {
     "data": {
      "application/vnd.jupyter.widget-view+json": {
       "model_id": "ed443ca00a524bc593e4e267a9d95003",
       "version_major": 2,
       "version_minor": 0
      },
      "text/plain": [
       "Box(children=(Dropdown(description='Severity:', index=5, options=(('sev1', 0), ('sev2', 1), ('sev3', 2), ('sev…"
      ]
     },
     "metadata": {},
     "output_type": "display_data"
    },
    {
     "data": {
      "application/vnd.jupyter.widget-view+json": {
       "model_id": "aeef3c01c31642378f8127e7dbe236fe",
       "version_major": 2,
       "version_minor": 0
      },
      "text/plain": [
       "Output()"
      ]
     },
     "metadata": {},
     "output_type": "display_data"
    }
   ],
   "source": [
    "df['Color'] = '#ffcc99'\n",
    "#df[df['Type'] == 'Issue']['Color'] = '#ff9999'\n",
    "#df[df['Type'] == 'Bug']['Color'] = '#66b3ff'\n",
    "#df[df['Type'] == 'Epic']['Color'] = '#99ff99'\n",
    "\n",
    "dfs = [df[df['Severity'] == 1], df[df['Severity'] == 2], df[df['Severity'] == 3], \n",
    "       df[df['Severity'] == 4], df]\n",
    "dfssum = []\n",
    "\n",
    "# prepare data\n",
    "cnt = []\n",
    "labels = []\n",
    "explode = []\n",
    "colors = []\n",
    "\n",
    "for dfs_el in dfs:\n",
    "    cnt_el = dfs_el.groupby('Type')['Title'].count()\n",
    "    dfssum.append('Sum: ' + str(dfs_el.count()['Title']))\n",
    "    labels.append(cnt_el.index)\n",
    "    explode.append(np.zeros(cnt_el.size) + 0.02)\n",
    "    #colors.append(cnt_el['Color'])\n",
    "    cnt.append(cnt_el)\n",
    "    \n",
    "# define widget\n",
    "box_layout = Layout(display='flex', flex_flow='row', align_items='stretch', border='solid', width='23%')\n",
    "dropdown = Dropdown(\n",
    "    options=[('sev1', 0), ('sev2', 1), ('sev3',2), ('sev4',3), ('sev 1 to 4', 4), ('all', 11)],\n",
    "    value=11,\n",
    "    description='Severity:',\n",
    ")\n",
    "box = Box(children=[dropdown], layout=box_layout)\n",
    "    \n",
    "def f(severity):\n",
    "    if severity > 10:\n",
    "        fig, ax = plt.subplots(1, 5, figsize=(20,6))\n",
    "        for i in [0,1,2,3,4]:\n",
    "            ax[i].pie(cnt[i], explode=explode[i], labels=labels[i], autopct='%1.1f%%',\n",
    "                      shadow=True, startangle=90)\n",
    "            if i < 4:\n",
    "                ax[i].set_title('Monitoring issues by Type\\n   Severity: ' + str(i + 1))\n",
    "\n",
    "            else:\n",
    "                ax[i].set_title('Monitoring issues by Type\\n   All severities')\n",
    "            ax[i].text(-1.1,1,dfssum[i],ha='center',va='center',fontsize=12, \n",
    "                       bbox=dict(facecolor='beige', alpha=0.5))\n",
    "    else:\n",
    "        fig1, ax1 = plt.subplots()\n",
    "        ax1.pie(cnt[severity], explode=explode[severity], labels=labels[severity], autopct='%1.1f%%',\n",
    "                shadow=True, startangle=90)\n",
    "        ax1.axis('equal')  # Equal aspect ratio ensures that pie is drawn as a circle.\n",
    "        if severity < 4:\n",
    "            ax1.set_title('Monitoring issues by Type\\n   Severity: ' + str(severity + 1))\n",
    "        else:\n",
    "            ax1.set_title('Monitoring issues by Type\\n   All severities')\n",
    "        ax1.text(-1.1,1,dfssum[severity],ha='center',va='center',fontsize=12, \n",
    "                       bbox=dict(facecolor='beige', alpha=0.5))\n",
    "\n",
    "ws = interactive_output(f, {'severity': dropdown});\n",
    "display(box, ws)"
   ]
  },
  {
   "cell_type": "markdown",
   "metadata": {},
   "source": [
    "### Velocities\n",
    "\n",
    "- Overall Velocity\n",
    "- Defect Velocity (**implemented** - starting mid 2019)\n",
    "- Customer satisfaction (**no data** not included as we have no data)\n",
    "- Defect breakdown by severity (**no data** we have no severities in our defects)\n",
    "- Value per sprint (**no data** value of epics or stories is not known)\n",
    "- Percentage of test case coverage (**no data** - we do not track that)\n",
    "- Customer Support Requests (**no data*)\n",
    "- Trends (let's define what trends we need)\n",
    "- NPS (**no data**)\n",
    "- Build failures (need to get Travis data)\n",
    "- Deployment failures (Jenkins ?)\n",
    "- Technical Debts (**no data** we need a label)"
   ]
  },
  {
   "cell_type": "markdown",
   "metadata": {},
   "source": [
    "#### Issue velocity"
   ]
  },
  {
   "cell_type": "code",
   "execution_count": 9,
   "metadata": {
    "hide_input": false,
    "scrolled": false
   },
   "outputs": [
    {
     "data": {
      "application/vnd.jupyter.widget-view+json": {
       "model_id": "35005c8c6e9d4aab86def93bd9a88aab",
       "version_major": 2,
       "version_minor": 0
      },
      "text/plain": [
       "Box(children=(Dropdown(description='Severity:', index=5, options=(('sev1', 0), ('sev2', 1), ('sev3', 2), ('sev…"
      ]
     },
     "metadata": {},
     "output_type": "display_data"
    },
    {
     "data": {
      "application/vnd.jupyter.widget-view+json": {
       "model_id": "b76a253761284fa1983917045bc98aa3",
       "version_major": 2,
       "version_minor": 0
      },
      "text/plain": [
       "Output()"
      ]
     },
     "metadata": {},
     "output_type": "display_data"
    }
   ],
   "source": [
    "# defect velocity since mid 2019\n",
    "StartWith = '2019-06-30'\n",
    "\n",
    "\n",
    "dfv = df.copy()\n",
    "# replace NaT with now\n",
    "dfv['Closed'] = dfv['Closed'].fillna(pd.Timestamp.now())\n",
    "#dfv = dfv[dfv['Status'] == 'closed']\n",
    "\n",
    "dfv = dfv[dfv['Created'] > StartWith]\n",
    "dfv['Age_in_weeks'] = dfv['Closed'] - dfv['Created'] + pd.Timestamp('2020-01-01')\n",
    "dfv = dfv[['Severity', 'Status', 'Type', 'Age_in_weeks']].set_index(['Type','Status'])\n",
    "\n",
    "\n",
    "\n",
    "dfvs = [dfv[dfv['Severity'] == 1], dfv[dfv['Severity'] == 2],\n",
    "        dfv[dfv['Severity'] == 3], dfv[dfv['Severity'] == 4], dfv]\n",
    "\n",
    "cntv = []\n",
    "for dfs_el in dfvs:\n",
    "    cnt_el = dfs_el.groupby(['Status', 'Type', dfs_el['Age_in_weeks'].dt.week]).count().drop(columns='Age_in_weeks')\n",
    "    cnt_el = cnt_el.reset_index().set_index('Age_in_weeks')\n",
    "    #print (cnt_el)\n",
    "    cntv.append(cnt_el)\n",
    "\n",
    "StatusMap = [('open', 0), ('closed', 1), ('All',2)]\n",
    "TypeMap = [('Issue', 0), ('Bug', 1), ('Epic',2), ('All', 3)]\n",
    "\n",
    "IMAX = 11\n",
    "emptydf = pd.DataFrame({'Age_in_weeks' : [IMAX], 'Severity': [0.001]}).set_index('Age_in_weeks')\n",
    "\n",
    "def projection(sev, stat, typ):\n",
    "    cntvp = []\n",
    "    for cntv_el in cntv:\n",
    "        if typ < 3:\n",
    "            cntv_el = cntv_el[cntv_el['Type'] == TypeMap[typ][0]]   \n",
    "        if stat < 2:\n",
    "            cntv_el = cntv_el[cntv_el['Status'] == StatusMap[stat][0]]\n",
    "\n",
    "        if cntv_el.index.size > 0 or cntv_el.index.max() < IMAX:\n",
    "            cntv_el = cntv_el.append(emptydf)\n",
    "            #print(cntv_el)\n",
    "            \n",
    "\n",
    "        cntvp.append(cntv_el)\n",
    "    return cntvp\n",
    "    \n",
    "#print (cntv[0])\n",
    "# define widget\n",
    "box_layout = Layout(display='flex', flex_flow='row', align_items='stretch', border='solid', width='65%')\n",
    "dropdown = Dropdown(\n",
    "    options=[('sev1', 0), ('sev2', 1), ('sev3',2), ('sev4',3), ('sev 1 to 4', 4), ('all', 11)],\n",
    "    value=11,\n",
    "    description='Severity:',\n",
    ")\n",
    "dropdown2 = Dropdown(\n",
    "    options=StatusMap,\n",
    "    value=1,\n",
    "    description='Status:',\n",
    ")\n",
    "dropdown3 = Dropdown(\n",
    "    options=TypeMap,\n",
    "    value=3,\n",
    "    description='Type:',\n",
    ")\n",
    "box = Box(children=[dropdown,dropdown2, dropdown3], layout=box_layout)\n",
    "\n",
    "def f(severity, status, Type):\n",
    "    #df_vel = df_velocity.copy()\n",
    "    cntvp = projection(severity, status, Type)\n",
    "    if severity > 10:\n",
    "        fig, ax = plt.subplots(1, 5, figsize=(20,3))\n",
    "        for i in [0,1,2,3,4]:\n",
    "            ax[i].bar(cntvp[i].index, cntvp[i]['Severity'].values)\n",
    "            if i < 4:\n",
    "                ax[i].set_title('Monitoring issues aging\\n   Severity: ' + str(i + 1))\n",
    "            else:\n",
    "                ax[i].set_title('Monitoring issues aging\\n   All severities')\n",
    "            ax[i].set_xlabel('Age in weeks')\n",
    "    else:\n",
    "        fig1, ax1 = plt.subplots(figsize=(7,3))\n",
    "        ax1.bar(cntvp[severity].index, cntvp[severity]['Severity'].values)\n",
    "        if severity < 4:\n",
    "            ax1.set_title('Monitoring issues aging\\n   Severity: ' + str(severity + 1))\n",
    "        else:\n",
    "            ax1.set_title('Monitoring issues aging\\n   All severities')\n",
    "        ax1.set_xlabel('Age in weeks')\n",
    "\n",
    "ws = interactive_output(f, {'severity': dropdown, 'status': dropdown2, 'Type': dropdown3});\n",
    "display(box, ws)"
   ]
  },
  {
   "cell_type": "markdown",
   "metadata": {},
   "source": [
    "#### Open epics - risks vs value"
   ]
  },
  {
   "cell_type": "code",
   "execution_count": 10,
   "metadata": {
    "hide_input": false
   },
   "outputs": [
    {
     "data": {
      "text/plain": [
       "Text(0.5, 1.0, 'Heatmap of open Epics\\n by value and risk')"
      ]
     },
     "execution_count": 10,
     "metadata": {},
     "output_type": "execute_result"
    },
    {
     "data": {
      "image/png": "[encoded data removed]",
      "text/plain": [
       "<Figure size 1008x288 with 3 Axes>"
      ]
     },
     "metadata": {
      "needs_background": "light"
     },
     "output_type": "display_data"
    }
   ],
   "source": [
    "# defect velocity since mid 2019\n",
    "StartWith = '2019-06-30'\n",
    "\n",
    "\n",
    "df_val = df.copy()\n",
    "df_val = df_val[df_val['BusinessValue'] > 0]\n",
    "df_val['Risk'] += 1\n",
    "df_val = df_val[df_val['Status'] == 'open'][['BusinessValue','Risk', 'Title']]\n",
    "fig, ax = plt.subplots(1, 3, figsize=(14,4))\n",
    "val_el = df_val.groupby(df_val['BusinessValue']).count()\n",
    "risk_el = df_val.groupby(df_val['Risk']).count()\n",
    "valrisk_el = df_val.groupby(['BusinessValue','Risk']).size()\n",
    "valrisk_grid = valrisk_el.unstack().to_numpy()\n",
    "\n",
    "ax[0].bar(val_el.index, val_el['Title'].values, width=0.6)\n",
    "ax[0].set_title('Open Epics by business value')\n",
    "ax[0].set_xlabel('Value')\n",
    "ax[0].set_xticks([1,2,3,4])\n",
    "#ax[1].set_xticklabels(['Low','Med','High'])\n",
    "\n",
    "\n",
    "ax[1].bar(risk_el.index, risk_el['Title'].values, color='red', width=0.5)\n",
    "ax[1].set_title('Open Epics by risk/technical complexity')\n",
    "ax[1].set_xlabel('Risk')\n",
    "ax[1].set_xticks([2,3,4])\n",
    "ax[1].set_xticklabels(['Low','Med','High'])\n",
    "\n",
    "ax[2].imshow(valrisk_grid, interpolation ='none', cmap='summer')\n",
    "for (j,i),label in np.ndenumerate(valrisk_grid):\n",
    "    if np.isnan(label):\n",
    "        label = '0'\n",
    "    else:\n",
    "        label = int(label)\n",
    "    ax[2].text(i,j,label,ha='center',va='center',fontsize=16)\n",
    "\n",
    "ax[2].set_xlabel('Risk')\n",
    "ax[2].set_xticks([0,1,2])\n",
    "ax[2].set_xticklabels(['Low','Med','High'])\n",
    "ax[2].set_ylabel('Value')\n",
    "ax[2].set_yticks([0,1,2,3])\n",
    "ax[2].set_yticklabels(['High\\n 1',2,3,'Low\\n 4'])\n",
    "#ax[2].set_yticks([1,2,3,4,5])\n",
    "ax[2].set_title('Heatmap of open Epics\\n by value and risk')\n"
   ]
  },
  {
   "cell_type": "markdown",
   "metadata": {},
   "source": [
    "### Initiatives, Epics, Stories\n",
    "\n",
    "- Epics per Initiatives (not \n",
    "- Initiative completion by percentage\n",
    "- Percentage of Epics completed\n",
    "- Percentage of stories completed by sprint vs what was committed\n",
    "- Defects per story\n",
    "- End to end start to completion average"
   ]
  },
  {
   "cell_type": "code",
   "execution_count": 11,
   "metadata": {
    "hide_input": false
   },
   "outputs": [
    {
     "data": {
      "application/vnd.jupyter.widget-view+json": {
       "model_id": "a2224f7e860141af9337088b719e51d1",
       "version_major": 2,
       "version_minor": 0
      },
      "text/plain": [
       "interactive(children=(Dropdown(description='Date', options=(('Jul 2019', '2019-06-30'), ('Oct 2019', '2019-09-…"
      ]
     },
     "metadata": {},
     "output_type": "display_data"
    },
    {
     "data": {
      "text/plain": [
       "<function __main__.f>"
      ]
     },
     "execution_count": 11,
     "metadata": {},
     "output_type": "execute_result"
    }
   ],
   "source": [
    "# Open vs closed epics\n",
    "\n",
    "def f(Date):\n",
    "    df_epics = df[df['Type'] == 'Epic']   \n",
    "    df_epics = df_epics[df_epics['Created'] > Date]\n",
    "    df_epics = df_epics[['Status', 'Type']]\n",
    "    length = 20 * df_epics.index.size / 200\n",
    "    df_epics.groupby(df_epics['Status']).count().plot(figsize=(length,2), kind='barh', legend=False)\n",
    "    plt.title('Epics by completion \\n created after ' + Date)\n",
    "\n",
    "interact(f, Date=[('Jul 2019', '2019-06-30'), ('Oct 2019', '2019-09-30'), ('Jan 2020', '2019-12-31'), \n",
    "                  ('Feb 2020','2020-01-31'), ('Mar 2020', '2020-02-28'), ('Apr 2020','2020-03-31')])"
   ]
  },
  {
   "cell_type": "code",
   "execution_count": 27,
   "metadata": {},
   "outputs": [],
   "source": [
    "# Todo: load from github/zenhub\n",
    "SprintMap = [['Release 2 Sprint 1', 1], ['Release 2 Sprint 2', 2],\n",
    "             ['Release 2 Sprint 3', 3], ['Release 2 Sprint 4', 4],\n",
    "             ['Release 2 Sprint 5', 5], ['Release 2 Sprint 6', 6],\n",
    "             ['Release 2 Sprint 7', 7], ['Release 2 Sprint 8', 8],\n",
    "             ['Release 2 Sprint 9', 9], ['Release 2 Sprint 10', 10],\n",
    "             ['March 2020 Sprint 11', 11], ['March 2020 Sprint 12', 12],\n",
    "             ['April 2020 Sprint 13', 13], ['April 2020 Sprint 14', 14],\n",
    "             ['May 2020 - Sprint 15', 15], ['May 2020 - Sprint 16', 16],\n",
    "             ['May 2020 - Sprint 17', 17]]\n",
    "              \n",
    "DateMap = [('2019-09-26', '2019-10-15'), ('2019-10-16', '2019-10-24'),  # sprints 1,2\n",
    "           ('2019-10-25', '2019-11-07'), ('2019-11-08', '2019-11-22'),\n",
    "           ('2019-11-23', '2019-12-12'), ('2019-12-13', '2020-01-09'),  # sprints 5,6\n",
    "           ('2020-01-10', '2020-01-16'), ('2020-01-17', '2020-02-05'),\n",
    "           ('2020-02-06', '2020-02-13'), ('2020-02-14', '2020-02-27'),  # sprints 9,10\n",
    "           ('2020-02-28', '2020-03-12'), ('2020-03-13', '2020-03-25'),\n",
    "           ('2020-03-26', '2020-04-08'), ('2020-04-09', '2020-04-22'),  # sprints april\n",
    "           ('2020-04-23', '2020-05-06'), ('2020-05-07', '2020-05-20'),\n",
    "           ('2020-05-21', '2020-06-02')]  # sprint 17\n",
    "\n",
    "def findSprint(date=None):\n",
    "    if date is None:\n",
    "        td = pd.Timestamp.today()\n",
    "    else: td = date\n",
    "    for i,dat in zip(range(100),DateMap):\n",
    "        # end date later than today\n",
    "        if pd.to_datetime(dat[1]) >= td:\n",
    "            return i\n",
    "    return -1  # not found\n",
    "        \n",
    "\n",
    "FromMap = [('now', 1)]\n",
    "LookbackMap = [('this sprint', 0), ('last sprint', 1), ('last 2 sprints', 2), ('last 3 sprints', 3),\n",
    "           ('last quarter', 12), ('release', 100)]\n",
    "\n",
    "TypeMap = [('Issue', 0), ('Bug', 1), ('Epic',2), ('All', 3)]"
   ]
  },
  {
   "cell_type": "code",
   "execution_count": 38,
   "metadata": {
    "scrolled": false
   },
   "outputs": [
    {
     "data": {
      "image/png": "[encoded data removed]",
      "text/plain": [
       "<Figure size 1296x288 with 2 Axes>"
      ]
     },
     "metadata": {
      "needs_background": "light"
     },
     "output_type": "display_data"
    },
    {
     "data": {
      "application/vnd.jupyter.widget-view+json": {
       "model_id": "2a8ada4abff04ad7b1653aae01a73edf",
       "version_major": 2,
       "version_minor": 0
      },
      "text/plain": [
       "Box(children=(Dropdown(description='End:', options=(('now', 1),), value=1), Dropdown(description='Lookback:', …"
      ]
     },
     "metadata": {},
     "output_type": "display_data"
    },
    {
     "data": {
      "application/vnd.jupyter.widget-view+json": {
       "model_id": "6736c1afd3964b4e84a96d1be2f56ddb",
       "version_major": 2,
       "version_minor": 0
      },
      "text/plain": [
       "Output()"
      ]
     },
     "metadata": {},
     "output_type": "display_data"
    }
   ],
   "source": [
    "# Burnup\n",
    "StartDate = '2020-01-01' # start with sprint 7\n",
    "Type = 2 # only Epics\n",
    "pd.options.mode.chained_assignment = None\n",
    "\n",
    "box_layoutB = Layout(display='flex', flex_flow='row', align_items='stretch', border='solid', width='100%')\n",
    "dropdate = Dropdown(\n",
    "    options=FromMap,\n",
    "    value=1,\n",
    "    description='End:',\n",
    ")\n",
    "droplookback = Dropdown(\n",
    "    options=LookbackMap,\n",
    "    value=1,\n",
    "    description='Lookback:',\n",
    ")\n",
    "dropType = Dropdown(\n",
    "    options=TypeMap,\n",
    "    value=3,\n",
    "    description='Type:',\n",
    ")\n",
    "showEpics = ToggleButton(\n",
    "    value=False,\n",
    "    description='Epics:',\n",
    "    disabled=False,\n",
    "    button_style='', # 'success', 'info', 'warning', 'danger' or ''\n",
    "    tooltip='Description',\n",
    "    icon='check' # (FontAwesome names without the `fa-` prefix)\n",
    ")\n",
    "\n",
    "boxB = Box(children=[dropdate, droplookback, dropType, showEpics], layout=box_layoutB)\n",
    "\n",
    "i = findSprint()\n",
    "df_points = df.copy()\n",
    "# Assume estimate is at least 1 if nothing is specified\n",
    "df_p1 = df[df['Milestone'] == SprintMap[i-2][0]][['Estimate','Type']].fillna(1)\n",
    "df_p2 = df[df['Milestone'] == SprintMap[i-1][0]][['Estimate','Type']].fillna(1)\n",
    "df_p3 = df[df['Milestone'] == SprintMap[i][0]][['Estimate','Type']].fillna(1)\n",
    "\n",
    "df_p1['Estimate'].sum()\n",
    "\n",
    "boxprops2 = dict(boxstyle='round', facecolor='lightgrey', alpha=0.5)\n",
    "figout, axout = plt.subplots(1, 2, figsize=(18,4))\n",
    "axout[0].set(xlim=(0,4), ylim=(0,3))\n",
    "axout[0].get_yaxis().set_visible(False)\n",
    "axout[0].get_xaxis().set_visible(False)\n",
    "\n",
    "axout[0].text(0.8, 2.6, '                  Last 3 sprints                  ', fontsize=14, bbox=boxprops2)\n",
    "\n",
    "axout[0].text(0.2, 0.5, SprintMap[i][0], fontsize=12)\n",
    "axout[0].text(0.2, 1, SprintMap[i-1][0], fontsize=12)\n",
    "axout[0].text(0.2, 1.5, SprintMap[i-2][0], fontsize=12) \n",
    "axout[0].text(1.8, 2, 'Start', fontsize=13, fontweight='bold')\n",
    "axout[0].text(1.8, 0.5, DateMap[i][0], fontsize=12)\n",
    "axout[0].text(1.8, 1, DateMap[i-1][0], fontsize=12)\n",
    "axout[0].text(1.8, 1.5, DateMap[i-2][0], fontsize=12) \n",
    "axout[0].text(2.8, 2, 'Finish', fontsize=13, fontweight='bold')\n",
    "axout[0].text(2.8, 0.5, DateMap[i][1], fontsize=12)\n",
    "axout[0].text(2.8, 1, DateMap[i-1][1], fontsize=12)\n",
    "axout[0].text(2.8, 1.5, DateMap[i-2][1], fontsize=12) \n",
    "\n",
    "axout[1].get_yaxis().set_visible(False)\n",
    "axout[1].get_xaxis().set_visible(False)\n",
    "axout[1].set(xlim=(0,4), ylim=(0,3))\n",
    "\n",
    "axout[1].text(0.8, 2.6, '      Last 3 sprints - story points                ',\n",
    "                fontsize=14, bbox=boxprops2)\n",
    "\n",
    "axout[1].text(0.2, 0.5, SprintMap[i][0], fontsize=12)\n",
    "axout[1].text(0.2, 1, SprintMap[i-1][0], fontsize=12)\n",
    "axout[1].text(0.2, 1.5, SprintMap[i-2][0], fontsize=12) \n",
    "axout[1].text(1.8, 2, 'Cost', fontsize=13, fontweight='bold')\n",
    "axout[1].text(1.8, 0.5, int(df_p2['Estimate'].sum()), fontsize=12)\n",
    "axout[1].text(1.8, 1, int(df_p2['Estimate'].sum()), fontsize=12)\n",
    "axout[1].text(1.8, 1.5, int(df_p1['Estimate'].sum()), fontsize=12) \n",
    "axout[1].text(2.8, 2, 'Cumulative', fontsize=13, fontweight='bold')\n",
    "axout[1].text(2.8, 1.5, df_p1['Estimate'].sum(), fontsize=12)\n",
    "axout[1].text(2.8, 1, int(df_p1['Estimate'].sum() + df_p2['Estimate'].sum()), fontsize=12)\n",
    "axout[1].text(2.8, 0.5, int(df_p1['Estimate'].sum() + df_p2['Estimate'].sum() + df_p3['Estimate'].sum()),\n",
    "              fontsize=12) \n",
    "\n",
    "\n",
    "def f_burnup(EndDate, Lookback, Type, ShowEpics):\n",
    "    # print(EndDate, Lookback)\n",
    "    if EndDate == 1:\n",
    "        EndDate = pd.Timestamp.today()\n",
    "    if Lookback == 100:\n",
    "        Lookback = 180\n",
    "        \n",
    "    StartDate = pd.to_datetime(EndDate) - dt.timedelta(days=Lookback*14)\n",
    "    #firstmile = findSprint(StartDate)\n",
    "    lastmile = findSprint(EndDate)\n",
    "    firstmile = lastmile - Lookback\n",
    "    # print (StartDate)\n",
    "    #df_burn = df.copy()\n",
    "    \n",
    "    #df_burn = df_burn[df_burn['Created'] > StartDate]\n",
    "    # need: schedule for sprints in StartDate to Enddate\n",
    "    milelist = SprintMap[firstmile:lastmile]\n",
    "    milelist = [m[0] for m in milelist]\n",
    "    # print (Lookback, firstmile, lastmile, milelist)\n",
    "\n",
    "    df_burn = df.query('Milestone in @milelist').copy()\n",
    "    \n",
    "    # Turn NaT into a future date and round to the day\n",
    "    df_burn['Closed'] = df_burn['Closed'].fillna(pd.Timestamp('2030-01-01')).dt.round('1d')\n",
    "\n",
    "    # cut out items still open\n",
    "    df_cut = df_burn[df_burn['Closed'] < '2030-01-01']\n",
    "    \n",
    "    # remove types we don't want to see\n",
    "    if Type != 3:\n",
    "        df_cut = df_cut[df_cut['Type'] == TypeMap[Type][0]]\n",
    "  \n",
    "    # cumulative sum of closed items\n",
    "    s = pd.to_datetime(df_cut['Closed'])\n",
    "    dfc = s.groupby(s.dt.floor('d')).size().reset_index(name='count').set_index('Closed')\n",
    "    dfc['cumsum'] = dfc['count'].cumsum()\n",
    "    \n",
    "    dfd = df_burn[df_burn['Type'] == 'Epic'] #.set_index(['Closed']).sort_index()\n",
    "    #dfd = dfd[dfd['Closed'] < '2030-01-01']\n",
    "    dfd['Title'] = dfd['Title'].apply(lambda x: x[:50])\n",
    "\n",
    "    #print (dfd['text'])\n",
    "    s_all = dfd.groupby(['Closed'])['Title'].apply(lambda x: '\\n'.join(x))\n",
    "    s = s_all[:'2029-12-31']\n",
    "    still_open = ''\n",
    "    try:\n",
    "        still_open = str(s_all['2030-01-01'])\n",
    "    except Exception:\n",
    "        pass\n",
    "    \n",
    "    proportional = 0.8\n",
    "    if ShowEpics: proportional = 1\n",
    "    fig, ax = plt.subplots(1, 1, figsize=(15 * proportional, 12 * proportional), squeeze=False)\n",
    "\n",
    "    # ignore last value of epics still open\n",
    "    ax[0,0].plot(dfc[:].index, dfc['cumsum'][:].values, lw=2, color='darkviolet')\n",
    "    \n",
    "    # catch cumsum array empty\n",
    "    try:\n",
    "        ax[0,0].plot(pd.Timestamp.now(), dfc['cumsum'][-1], lw=2, color='darkviolet')\n",
    "    except:\n",
    "        pass\n",
    "    \n",
    "    ax[0,0].fill_between(dfc[:].index, dfc['cumsum'][:].values-0.2, color='lightgrey')\n",
    "    #ax[0,0].fill_between(ages, total_population)\n",
    "    ax[0,0].set_title('Burn up, long-term view', fontsize=14)\n",
    "\n",
    "    # print (s)\n",
    "    if ShowEpics:\n",
    "        boxprops = dict(boxstyle='round', facecolor='wheat', alpha=0.5)\n",
    "        boxprops3 = dict(boxstyle='round', facecolor='orange', alpha=0.5)\n",
    "        i = 0\n",
    "        k = 0\n",
    "        lastdc = None\n",
    "        for dc, row in s.iteritems():\n",
    "            i += 1\n",
    "            lastdc = dc\n",
    "            i += 1\n",
    "            if i % 2: j = -1.7\n",
    "            else: j = 1.7\n",
    "            #print(dfd.loc[date_closed,:])\n",
    "            try:\n",
    "                y_axis = dfc.loc[dc,:]['cumsum'] + j\n",
    "            except:\n",
    "                y_axis = k\n",
    "                pass\n",
    "\n",
    "            try:\n",
    "                ax[0,0].plot(dc, y_axis, lw=0.1)\n",
    "                ax[0,0].text(dc, y_axis,row, fontsize=8, zorder=10, bbox=boxprops)\n",
    "                #print(dc, y_axis,row)\n",
    "            except Exception as e:\n",
    "                print (str(e))\n",
    "                pass\n",
    "        if len(still_open) > 0:\n",
    "             \n",
    "            ax[0,0].text(lastdc, 3, 'Epics still open', fontsize=10, zorder=10, fontweight='bold', bbox=boxprops3)\n",
    "            ax[0,0].text(lastdc, 5, still_open, fontsize=8, zorder=10, bbox=boxprops3)\n",
    "                \n",
    "bu_sprint = interactive_output(f_burnup, {'EndDate': dropdate, 'Lookback': droplookback, \n",
    "                                          'Type': dropType, 'ShowEpics': showEpics});\n",
    "\n",
    "\n",
    "display(boxB, bu_sprint)"
   ]
  },
  {
   "cell_type": "code",
   "execution_count": 166,
   "metadata": {
    "scrolled": false
   },
   "outputs": [
    {
     "data": {
      "application/vnd.jupyter.widget-view+json": {
       "model_id": "273143fc9db54591be695f011cd48df2",
       "version_major": 2,
       "version_minor": 0
      },
      "text/plain": [
       "Box(children=(Dropdown(description='Release:', index=1, options=(['Monitor April 2020 Release', 0], ['Monitor …"
      ]
     },
     "metadata": {},
     "output_type": "display_data"
    },
    {
     "data": {
      "application/vnd.jupyter.widget-view+json": {
       "model_id": "024fe7266289436fa6daa178c829cebc",
       "version_major": 2,
       "version_minor": 0
      },
      "text/plain": [
       "Output()"
      ]
     },
     "metadata": {},
     "output_type": "display_data"
    }
   ],
   "source": [
    "# Burndown release\n",
    "StartDate = '2020-01-01' # start with sprint 7\n",
    "Type = 2 # only Epics\n",
    "pd.options.mode.chained_assignment = None\n",
    "\n",
    "box_layoutBR = Layout(display='flex', flex_flow='row', align_items='stretch', border='solid', width='80%')\n",
    "\n",
    "droprelease = Dropdown(\n",
    "    options=ReleaseMap,\n",
    "    value=1,\n",
    "    description='Release:',\n",
    ")\n",
    "dropType = Dropdown(\n",
    "    options=TypeMap,\n",
    "    value=3,\n",
    "    description='Type:',\n",
    ")\n",
    "showEpics = ToggleButton(\n",
    "    value=False,\n",
    "    description='Epics:',\n",
    "    disabled=False,\n",
    "    button_style='', # 'success', 'info', 'warning', 'danger' or ''\n",
    "    tooltip='Description',\n",
    "    icon='check' # (FontAwesome names without the `fa-` prefix)\n",
    ")\n",
    "\n",
    "boxBR = Box(children=[droprelease, dropType, showEpics], layout=box_layoutBR)\n",
    "\n",
    "def f_burnupR(Release, Type, ShowEpics):\n",
    "    \n",
    "    release = ReleaseMap[Release][0]\n",
    "    EndDate = df_release.query('Title == @release')['DesiredEnd'].to_numpy()[0]\n",
    "\n",
    "    df_burnr = df[df['Release'] == release]\n",
    "    \n",
    "    # remove types we don't want to see\n",
    "    if Type != 3:\n",
    "        df_cutr = df_burnr[df_burnr['Type'] == TypeMap[Type][0]]\n",
    "    else:\n",
    "        df_cutr = df_burnr\n",
    "        \n",
    "    df_cutr = df_cutr.reset_index().set_index('Closed').sort_index()\n",
    "    \n",
    "    summing_ = []\n",
    "    ic_first = None\n",
    "    ic_second = None\n",
    "    ic_third = None\n",
    "\n",
    "    for ic in df_cutr.index:\n",
    "        if ic_first is None: ic_first = ic\n",
    "        elif ic_second is None: ic_second = ic\n",
    "        elif ic_third is None: ic_third = ic\n",
    "        s = df_burnr.query('Closed <= @ic' and 'Created <= @ic')['Estimate'].sum()\n",
    "        scr = df_burnr.query('Created <= @ic')['Estimate'].to_numpy().shape[0]\n",
    "        scl = df_burnr.query('Closed <= @ic')['Estimate'].to_numpy().shape[0]\n",
    "        summing_.append([s, scr, scl])\n",
    "    summing = np.asarray(summing_)\n",
    "    \n",
    "    df_cutr['cumsum'] = summing[:,0]\n",
    "    df_cutr['new'] = summing[:,1]\n",
    "    df_cutr['gone'] = summing[:,2]\n",
    "\n",
    "    still_open_pts = df_burnr.query('Closed == @gitanalyzer.FarFuture')['Estimate'].sum()\n",
    "    still_open = df_burnr.query('Closed == @gitanalyzer.FarFuture')['Estimate'].to_numpy().shape[0]\n",
    "    cum_closed = summing[-1,0]\n",
    "    # print (still_open)\n",
    "        \n",
    "    dfc = df_cutr.reset_index().query('Closed < @gitanalyzer.FarFuture').set_index('Closed')\n",
    "\n",
    "    proportional = 0.8\n",
    "    if ShowEpics: proportional = 1\n",
    "    fig, ax = plt.subplots(1, 1, figsize=(15 * proportional, 12 * proportional))\n",
    "\n",
    "    # ignore last value of epics still open\n",
    "    ax.plot(dfc[:].index, dfc['cumsum'][:].values, lw=2, color='darkviolet', \n",
    "            zorder=1, label='cumulative by story points')\n",
    "    ax.plot(dfc[:].index, dfc['new'][:].values-0.5, lw=2, color='blue', zorder=1, label='new items')\n",
    "    ax.plot(dfc[:].index, dfc['gone'][:].values, lw=2, color='black', zorder=1, label='closed items')\n",
    "    \n",
    "    ax.legend()\n",
    "    \n",
    "    ax.fill_between(dfc[:].index, dfc['cumsum'][:].values-0.2, color='lightgrey')\n",
    "    ax.set_title('Burn up per release for \\\"' + release + '\\\"', fontsize=14)\n",
    "    \n",
    "    boxprops = dict(boxstyle='round', facecolor='wheat', alpha=0.5)\n",
    "    msg = 'Items still open:\\n In story points: ' + str(int(still_open_pts)) + '\\n By number: ' + str(still_open)\n",
    "    try:\n",
    "        ax.text(ic_first, dfc['cumsum'][0], msg, fontsize=10, zorder=10, bbox=boxprops)\n",
    "    except: pass\n",
    "    try:\n",
    "        ax.text(ic_second, dfc['new'][0], 'Issues raised', fontsize=10, zorder=10, bbox=boxprops)\n",
    "    except: pass\n",
    "    try:\n",
    "        ax.text(ic_third, dfc['gone'][0], 'Issues gone', fontsize=10, zorder=10, bbox=boxprops)\n",
    "    except: pass\n",
    "    \n",
    "    if ic_first is not None:\n",
    "        ax.plot([ic_first, pd.Timestamp(EndDate)],[0,summing[-1,0]], lw=2, ls='dashed', \n",
    "                 color='gold', zorder=4, label='projection')\n",
    "        ax.text(pd.Timestamp(EndDate), summing[-1,0], 'Release End', fontsize=10, zorder=10, bbox=boxprops)\n",
    "\n",
    "    # print (s)\n",
    "    if ShowEpics:\n",
    "        boxprops = dict(boxstyle='round', facecolor='wheat', alpha=0.5)\n",
    "        boxprops3 = dict(boxstyle='round', facecolor='orange', alpha=0.5)\n",
    "        i = 0\n",
    "        k = 0\n",
    "        lastdc = None\n",
    "        for dc, row in s.iteritems():\n",
    "            i += 1\n",
    "            lastdc = dc\n",
    "            i += 1\n",
    "            if i % 2: j = -1.7\n",
    "            else: j = 1.7\n",
    "            #print(dfd.loc[date_closed,:])\n",
    "            try:\n",
    "                y_axis = dfc.loc[dc,:]['cumsum'] + j\n",
    "            except:\n",
    "                y_axis = k\n",
    "                pass\n",
    "\n",
    "            try:\n",
    "                ax[0,0].plot(dc, y_axis, lw=0.1)\n",
    "                ax[0,0].text(dc, y_axis,row, fontsize=8, zorder=10, bbox=boxprops)\n",
    "                #print(dc, y_axis,row)\n",
    "            except Exception as e:\n",
    "                print (str(e))\n",
    "                pass\n",
    "        if len(still_open) > 0:\n",
    "             \n",
    "            ax[0,0].text(lastdc, 3, 'Epics still open', fontsize=10, zorder=10, fontweight='bold', bbox=boxprops3)\n",
    "            ax[0,0].text(lastdc, 5, still_open, fontsize=8, zorder=10, bbox=boxprops3)\n",
    "                \n",
    "bu_sprintR = interactive_output(f_burnupR, {'Release': droprelease, 'Type': dropType, 'ShowEpics': showEpics});\n",
    "\n",
    "\n",
    "display(boxBR, bu_sprintR)"
   ]
  },
  {
   "cell_type": "markdown",
   "metadata": {
    "hide_input": false
   },
   "source": [
    "#### Next steps\n",
    "\n",
    "- Aggregate data over smaller time spans such as **sprints** to get insights in velocity and completion rate\n",
    "- Pull in data from travis and jenkins to include build process quality metrics\n"
   ]
  },
  {
   "cell_type": "code",
   "execution_count": 15,
   "metadata": {
    "scrolled": false
   },
   "outputs": [
    {
     "data": {
      "application/vnd.jupyter.widget-view+json": {
       "model_id": "81c8dd8af1854c5d93c294270f310bc2",
       "version_major": 2,
       "version_minor": 0
      },
      "text/plain": [
       "Box(children=(Dropdown(description='Sprint:', index=13, options=(('Release 2 Sprint 1', 1), ('Release 2 Sprint…"
      ]
     },
     "metadata": {},
     "output_type": "display_data"
    },
    {
     "data": {
      "application/vnd.jupyter.widget-view+json": {
       "model_id": "232290bdcc8c4024b216d529d6f8ef7f",
       "version_major": 2,
       "version_minor": 0
      },
      "text/plain": [
       "Output()"
      ]
     },
     "metadata": {},
     "output_type": "display_data"
    }
   ],
   "source": [
    "\n",
    "\n",
    "box_layoutS = Layout(display='flex', flex_flow='row', align_items='stretch', border='solid', width='45%')\n",
    "dropsprint = Dropdown(\n",
    "    options=SprintMap,\n",
    "    value=14,\n",
    "    description='Sprint:',\n",
    ")\n",
    "droptype = Dropdown(\n",
    "    options=TypeMap,\n",
    "    value=1,\n",
    "    description='Type:',\n",
    ")\n",
    "boxS = Box(children=[dropsprint, droptype], layout=box_layoutS)\n",
    "\n",
    "\n",
    "\n",
    "\n",
    "def f_sprint(Sprint, Type):\n",
    "    # get all stories of given type closed in this sprint \n",
    "    if Type != 3:\n",
    "        df_sprint = df[df['Type'] == TypeMap[Type][0]]\n",
    "    else:\n",
    "        df_sprint = df.copy()\n",
    "    \n",
    "    print (Sprint)\n",
    "    # Sprint start is in the past - use closed date\n",
    "    #if pd.Timestamp(DateMap[Sprint][0]) < dt.datetime.now():\n",
    "    #    df_sprint = df_sprint[DateMap[Sprint][0]<= df_sprint['Closed']]\n",
    "    #    df_sprint = df_sprint[df_sprint['Closed'] <= DateMap[Sprint][1]]\n",
    "    #else: # use planned date\n",
    "    df_sprint = df_sprint[df_sprint['Milestone'] == SprintMap[Sprint-1][0]]\n",
    "    #print (df_sprint[['Title','Closed','Milestone']])\n",
    "    df_sprint['Closed'] = df_sprint['Closed'].fillna(pd.Timestamp('2030-01-01'))\n",
    "    \n",
    "    df_sprint['Sized'] = pd.isna(df_sprint['Estimate'].values)   \n",
    "    df_sizes = df_sprint.groupby(df_sprint['Sized']).count()    \n",
    "    df_value = df_sprint.groupby(df_sprint['BusinessValue']).count()\n",
    "    \n",
    "    s = pd.to_datetime(df_sprint['Closed'])\n",
    "    #dfc = df_sprint[df_sprint['Closed'] <= DateMap[Sprint-1][0]].reset_index().set_index(['Closed'])\n",
    "    dfc = df_sprint[df_sprint['Closed'] < '2030-01-01'].reset_index().set_index(['Closed'])\n",
    "    #print(dfc)\n",
    "    \n",
    "    #print (dfc)\n",
    "    dfc = s.groupby(s.dt.floor('d')).size().reset_index(name='count').set_index('Closed')\n",
    "    #print(dfc)\n",
    "    dfc['cumsum'] = dfc['count'].cumsum()\n",
    "    print(dfc)\n",
    "    dfc['burndown'] = len(df_sprint.index) - dfc['cumsum']\n",
    "    \n",
    "    dfd = dfb[dfb['Closed'] < '2030-01-01'].set_index(['Closed'])\n",
    "    \n",
    "    #print(df_sprint[['Title', 'BusinessValue']])\n",
    "    \n",
    "    fig, ax = plt.subplots(1, 2, figsize=(14,2))\n",
    "    ax[0].barh(df_sizes.index, df_sizes['Title'].values, height=0.3, color='green')\n",
    "    #ax[0].set_title('Open Epics by business value')\n",
    "    ax[0].set_ylabel('Sized Items')\n",
    "    if len(df_sizes['Title']) == 0 or max(df_sizes['Title'].values) < 3:\n",
    "        ax[0].set_xticks(np.arange(0,3))\n",
    "    \n",
    "    ax[0].set_yticks([0, 1])\n",
    "    ax[0].set_yticklabels(['Sized','Unsized'])\n",
    "    ax[0].set_title('Sized vs unsized items')\n",
    "    \n",
    "    ax[1].barh(df_value.index, df_value['Risk'].values, height=0.4, color='blue')\n",
    "    #ax[1].set_ylabel('Value per Sprint')\n",
    "    if len(df_value['Risk']) == 0 or max(df_value['Risk'].values) < 3:\n",
    "        ax[1].set_xticks(np.arange(0,3))\n",
    "    ax[1].set_yticks([0, 1, 2, 3, 4])  \n",
    "    ax[1].set_yticklabels(['Unknown', 'High', 2, 3, 'Low'])\n",
    "    ax[1].set_title('Value per sprint')\n",
    "\n",
    "    fig2, ax2 = plt.subplots(1, 2, figsize=(20, 5))\n",
    "    # ignore last value of epics still open\n",
    "    ax2[0].plot(dfc[:-1].index, dfc['cumsum'][:-1].values, lw=2, color='darkviolet')\n",
    "    ax2[0].set_title('Burn up: Type ' + TypeMap[Type][0] + ', Sprint ' + SprintMap[Sprint-1][0], fontsize=14)\n",
    "    ax2[1].plot(dfc[:-1].index,  dfc['burndown'][:-1], lw=2, color='darkviolet')\n",
    "    ax2[1].set_title('Burn down: Type ' + TypeMap[Type][0] + ', Sprint ' + SprintMap[Sprint-1][0], fontsize=14)\n",
    "\n",
    "ws_sprint = interactive_output(f_sprint, {'Sprint': dropsprint, 'Type': droptype});\n",
    "display(boxS, ws_sprint)"
   ]
  },
  {
   "cell_type": "code",
   "execution_count": null,
   "metadata": {},
   "outputs": [],
   "source": []
  },
  {
   "cell_type": "code",
   "execution_count": 124,
   "metadata": {},
   "outputs": [
    {
     "ename": "DataError",
     "evalue": "No numeric types to aggregate",
     "output_type": "error",
     "traceback": [
      "\u001b[0;31m---------------------------------------------------------------------------\u001b[0m",
      "\u001b[0;31mDataError\u001b[0m                                 Traceback (most recent call last)",
      "\u001b[0;32m<ipython-input-124-6db99142ebc2>\u001b[0m in \u001b[0;36m<module>\u001b[0;34m()\u001b[0m\n\u001b[1;32m     20\u001b[0m     \u001b[0mdf_siz\u001b[0m \u001b[0;34m=\u001b[0m \u001b[0mdf_spr\u001b[0m\u001b[0;34m.\u001b[0m\u001b[0mgroupby\u001b[0m\u001b[0;34m(\u001b[0m\u001b[0mdf_spr\u001b[0m\u001b[0;34m[\u001b[0m\u001b[0;34m'Sized'\u001b[0m\u001b[0;34m]\u001b[0m\u001b[0;34m)\u001b[0m\u001b[0;34m.\u001b[0m\u001b[0mcount\u001b[0m\u001b[0;34m(\u001b[0m\u001b[0;34m)\u001b[0m\u001b[0;34m\u001b[0m\u001b[0;34m\u001b[0m\u001b[0m\n\u001b[1;32m     21\u001b[0m     \u001b[0mdf_sizes\u001b[0m\u001b[0;34m.\u001b[0m\u001b[0mappend\u001b[0m\u001b[0;34m(\u001b[0m\u001b[0mdf_siz\u001b[0m\u001b[0;34m)\u001b[0m\u001b[0;34m\u001b[0m\u001b[0;34m\u001b[0m\u001b[0m\n\u001b[0;32m---> 22\u001b[0;31m     \u001b[0mdf_val\u001b[0m \u001b[0;34m=\u001b[0m \u001b[0mdf_spr\u001b[0m\u001b[0;34m.\u001b[0m\u001b[0mgroupby\u001b[0m\u001b[0;34m(\u001b[0m\u001b[0mdf_spr\u001b[0m\u001b[0;34m[\u001b[0m\u001b[0;34m'Closed'\u001b[0m\u001b[0;34m]\u001b[0m\u001b[0;34m.\u001b[0m\u001b[0mdt\u001b[0m\u001b[0;34m.\u001b[0m\u001b[0mday\u001b[0m\u001b[0;34m)\u001b[0m\u001b[0;34m[\u001b[0m\u001b[0;34m'Estimate'\u001b[0m\u001b[0;34m]\u001b[0m\u001b[0;34m.\u001b[0m\u001b[0mcumsum\u001b[0m\u001b[0;34m(\u001b[0m\u001b[0;34m)\u001b[0m\u001b[0;34m\u001b[0m\u001b[0;34m\u001b[0m\u001b[0m\n\u001b[0m\u001b[1;32m     23\u001b[0m     \u001b[0mdf_values\u001b[0m\u001b[0;34m.\u001b[0m\u001b[0mappend\u001b[0m\u001b[0;34m(\u001b[0m\u001b[0mdf_val\u001b[0m\u001b[0;34m)\u001b[0m\u001b[0;34m\u001b[0m\u001b[0;34m\u001b[0m\u001b[0m\n\u001b[1;32m     24\u001b[0m \u001b[0;34m\u001b[0m\u001b[0m\n",
      "\u001b[0;32m/home/markus/.local/lib/python3.7/site-packages/pandas/core/groupby/groupby.py\u001b[0m in \u001b[0;36mcumsum\u001b[0;34m(self, axis, *args, **kwargs)\u001b[0m\n\u001b[1;32m   2166\u001b[0m             \u001b[0;32mreturn\u001b[0m \u001b[0mself\u001b[0m\u001b[0;34m.\u001b[0m\u001b[0mapply\u001b[0m\u001b[0;34m(\u001b[0m\u001b[0;32mlambda\u001b[0m \u001b[0mx\u001b[0m\u001b[0;34m:\u001b[0m \u001b[0mx\u001b[0m\u001b[0;34m.\u001b[0m\u001b[0mcumsum\u001b[0m\u001b[0;34m(\u001b[0m\u001b[0maxis\u001b[0m\u001b[0;34m=\u001b[0m\u001b[0maxis\u001b[0m\u001b[0;34m,\u001b[0m \u001b[0;34m**\u001b[0m\u001b[0mkwargs\u001b[0m\u001b[0;34m)\u001b[0m\u001b[0;34m)\u001b[0m\u001b[0;34m\u001b[0m\u001b[0;34m\u001b[0m\u001b[0m\n\u001b[1;32m   2167\u001b[0m \u001b[0;34m\u001b[0m\u001b[0m\n\u001b[0;32m-> 2168\u001b[0;31m         \u001b[0;32mreturn\u001b[0m \u001b[0mself\u001b[0m\u001b[0;34m.\u001b[0m\u001b[0m_cython_transform\u001b[0m\u001b[0;34m(\u001b[0m\u001b[0;34m\"cumsum\"\u001b[0m\u001b[0;34m,\u001b[0m \u001b[0;34m**\u001b[0m\u001b[0mkwargs\u001b[0m\u001b[0;34m)\u001b[0m\u001b[0;34m\u001b[0m\u001b[0;34m\u001b[0m\u001b[0m\n\u001b[0m\u001b[1;32m   2169\u001b[0m \u001b[0;34m\u001b[0m\u001b[0m\n\u001b[1;32m   2170\u001b[0m     \u001b[0;34m@\u001b[0m\u001b[0mSubstitution\u001b[0m\u001b[0;34m(\u001b[0m\u001b[0mname\u001b[0m\u001b[0;34m=\u001b[0m\u001b[0;34m\"groupby\"\u001b[0m\u001b[0;34m)\u001b[0m\u001b[0;34m\u001b[0m\u001b[0;34m\u001b[0m\u001b[0m\n",
      "\u001b[0;32m/home/markus/.local/lib/python3.7/site-packages/pandas/core/groupby/groupby.py\u001b[0m in \u001b[0;36m_cython_transform\u001b[0;34m(self, how, numeric_only, **kwargs)\u001b[0m\n\u001b[1;32m    859\u001b[0m \u001b[0;34m\u001b[0m\u001b[0m\n\u001b[1;32m    860\u001b[0m         \u001b[0;32mif\u001b[0m \u001b[0mlen\u001b[0m\u001b[0;34m(\u001b[0m\u001b[0moutput\u001b[0m\u001b[0;34m)\u001b[0m \u001b[0;34m==\u001b[0m \u001b[0;36m0\u001b[0m\u001b[0;34m:\u001b[0m\u001b[0;34m\u001b[0m\u001b[0;34m\u001b[0m\u001b[0m\n\u001b[0;32m--> 861\u001b[0;31m             \u001b[0;32mraise\u001b[0m \u001b[0mDataError\u001b[0m\u001b[0;34m(\u001b[0m\u001b[0;34m\"No numeric types to aggregate\"\u001b[0m\u001b[0;34m)\u001b[0m\u001b[0;34m\u001b[0m\u001b[0;34m\u001b[0m\u001b[0m\n\u001b[0m\u001b[1;32m    862\u001b[0m \u001b[0;34m\u001b[0m\u001b[0m\n\u001b[1;32m    863\u001b[0m         \u001b[0;32mreturn\u001b[0m \u001b[0mself\u001b[0m\u001b[0;34m.\u001b[0m\u001b[0m_wrap_transformed_output\u001b[0m\u001b[0;34m(\u001b[0m\u001b[0moutput\u001b[0m\u001b[0;34m)\u001b[0m\u001b[0;34m\u001b[0m\u001b[0;34m\u001b[0m\u001b[0m\n",
      "\u001b[0;31mDataError\u001b[0m: No numeric types to aggregate"
     ]
    }
   ],
   "source": [
    "# select only Epics\n",
    "Type = 2\n",
    "df_sprints = []\n",
    "df_sizes = []\n",
    "df_values = []\n",
    "for i,sprint,date in zip(range(len(SprintMap)),SprintMap, DateMap):\n",
    "            \n",
    "    if pd.Timestamp(DateMap[i][0]) < dt.datetime.now():\n",
    "        df_spr = df[DateMap[i][0]<= df['Closed']]\n",
    "        df_spr = df_spr[df_spr['Closed'] <= DateMap[i][1]]\n",
    "    else: # use planned date\n",
    "        df_spr = df_spr[df_spr['Milestone'] == SprintMap[i][0]]\n",
    "    df_spr['Sized'] = pd.isna(df_spr['Estimate'].values)\n",
    "    \n",
    "    # project Type\n",
    "    if Type != 3:\n",
    "        df_spr = df_spr[df_spr['Type'] == TypeMap[Type][0]]\n",
    "    \n",
    "    df_sprints.append(df_spr)\n",
    "    df_siz = df_spr.groupby(df_spr['Sized']).count()  \n",
    "    df_sizes.append(df_siz)\n",
    "    df_val = df_spr.groupby(df_spr['Closed'].dt.day)['Estimate'].cumsum()\n",
    "    df_values.append(df_val)\n",
    "    \n",
    "df_epics = df_values[12]\n",
    "#df_epics = df_epics[df_epics['Type'] == 'Epic']\n",
    "df_epics\n",
    "    \n",
    "#fig, ax = plt.subplots(1, 1, figsize=(20, 30))\n",
    "#for i in range(9, len(SprintMap)):\n",
    "#    ax.bar(df_values[i].index + 10 * i, df_values[i]['Risk'].values, width=0.3, color='blue')\n",
    "  "
   ]
  },
  {
   "cell_type": "markdown",
   "metadata": {},
   "source": [
    "#### Longer term considerations\n",
    "\n",
    "##### Should we continue with a local Jupyter notebook or invest in a dashboard ?\n",
    "\n",
    "Maybe we make use of Jupyter and quick prototyping until we have 80% of the metrics in place we need. "
   ]
  },
  {
   "cell_type": "code",
   "execution_count": null,
   "metadata": {},
   "outputs": [],
   "source": []
  }
 ],
 "metadata": {
  "kernelspec": {
   "display_name": "Python 3",
   "language": "python",
   "name": "python3"
  },
  "language_info": {
   "codemirror_mode": {
    "name": "ipython",
    "version": 3
   },
   "file_extension": ".py",
   "mimetype": "text/x-python",
   "name": "python",
   "nbconvert_exporter": "python",
   "pygments_lexer": "ipython3",
   "version": "3.7.5"
  }
 },
 "nbformat": 4,
 "nbformat_minor": 2
}
