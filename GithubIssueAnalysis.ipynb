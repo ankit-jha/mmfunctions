{
 "cells": [
  {
   "cell_type": "markdown",
   "metadata": {},
   "source": [
    "### Github Analyzer\n",
    "\n",
    "This notebook should have been deployed in Watson Studio\n",
    "    **but** unfortunately Watson Studio doesn't support interactive notebooks yet\n",
    "\n",
    "Git Repos to be investigated:\n",
    "\n",
    "* https://github.ibm.com/wiotp/monitoring-dashboard\n",
    "* https://github.ibm.com/wiotp/analytics-service\n"
   ]
  },
  {
   "cell_type": "code",
   "execution_count": 231,
   "metadata": {
    "hide_input": true
   },
   "outputs": [],
   "source": [
    "import csv\n",
    "import requests\n",
    "import collections\n",
    "import numpy as np\n",
    "import pandas as pd\n",
    "import datetime as dt\n",
    "import matplotlib.pyplot as plt\n",
    "from matplotlib import cm\n",
    "from mpl_toolkits.mplot3d import axes3d"
   ]
  },
  {
   "cell_type": "code",
   "execution_count": 232,
   "metadata": {},
   "outputs": [],
   "source": [
    "# custom functions - install with pip install git+https://github.com/sedgewickmm18/mmfunctions\n",
    "from mmfunctions import gitanalyzer"
   ]
  },
  {
   "cell_type": "code",
   "execution_count": 233,
   "metadata": {
    "hide_input": false,
    "scrolled": false
   },
   "outputs": [],
   "source": [
    "# Repos and credentials to retrieve the data from\n",
    "params = {}\n",
    "params['REPO'] = 'wiotp/monitoring-dashboard'\n",
    "params['REPO2'] = 'wiotp/analytics-service'\n",
    "params['REPO_ID'] = 566611\n",
    "params['REPO2_ID'] = 211664\n",
    "params['ZENHUB_WORKSPACE'] = '5cd44ce4baded506ba8ddd5f'\n",
    "params['GITHUB_TOKEN'] = 'ad7e5d3d34e79ac5d06210e74546c36b4bbc86ab'\n",
    "params['ZENHUB_TOKEN'] = '814960f27921de182e39873816e4a54be9cdbb5000baa92d054e773949c1681e5e637c3bd30b54ad'\n",
    "params['TRAVIS_TOKEN'] = '7B8mnG99oqNcHJgKKXMYVQ'\n",
    "params['BASE_URL'] = 'https://github.ibm.com'\n",
    "\n",
    "gitanalyzer.process_all(params)\n",
    "# After extractoin store the data in cloud object store"
   ]
  },
  {
   "cell_type": "code",
   "execution_count": 234,
   "metadata": {
    "hide_input": true
   },
   "outputs": [
    {
     "name": "stdout",
     "output_type": "stream",
     "text": [
      "upload: 'monitoring-defects.csv' -> 's3://githubanalyzer-donotdelete-pr-b9xa3kxotzh5in/monitoring-defects.csv'  [1 of 1]\n",
      " 710626 of 710626   100% in    3s   183.22 kB/s  done\n"
     ]
    }
   ],
   "source": [
    "# upload stuff for later use to COS\n",
    "!s3cmd --access_key \"cc04444c99374c9e9589b8f85e931323\" --secret_key \"1a5062d937b09507a05b521a41b8baf6848c0cd6936e2864\" \\\n",
    "--access_token \"icny9QB770wS9p67JHCWb6C8ySJEn_3tmfjqct9qQhSY\" --host s3.eu.cloud-object-storage.appdomain.cloud --host-bucket=s3.eu.cloud-object-storage.appdomain.cloud \\\n",
    "put monitoring-defects.csv s3://githubanalyzer-donotdelete-pr-b9xa3kxotzh5in"
   ]
  },
  {
   "cell_type": "code",
   "execution_count": 235,
   "metadata": {
    "hide_input": true
   },
   "outputs": [
    {
     "name": "stdout",
     "output_type": "stream",
     "text": [
      "download: 's3://githubanalyzer-donotdelete-pr-b9xa3kxotzh5in/monitoring-defects.csv' -> 'wiotp-monitoring-dashboard-defects.csv'  [1 of 1]\n",
      " 710626 of 710626   100% in    2s   280.34 kB/s  done\n"
     ]
    }
   ],
   "source": [
    "# get it back from COS\n",
    "!s3cmd --access_key \"cc04444c99374c9e9589b8f85e931323\" --secret_key \"1a5062d937b09507a05b521a41b8baf6848c0cd6936e2864\" \\\n",
    "--access_token \"icny9QB770wS9p67JHCWb6C8ySJEn_3tmfjqct9qQhSY\" --force --host s3.eu.cloud-object-storage.appdomain.cloud --host-bucket=s3.eu.cloud-object-storage.appdomain.cloud \\\n",
    "get s3://githubanalyzer-donotdelete-pr-b9xa3kxotzh5in/monitoring-defects.csv wiotp-monitoring-dashboard-defects.csv"
   ]
  },
  {
   "cell_type": "markdown",
   "metadata": {},
   "source": [
    "#### Example Data\n",
    "\n",
    "Issue data from github and zenhub combined"
   ]
  },
  {
   "cell_type": "code",
   "execution_count": 236,
   "metadata": {
    "hide_input": true
   },
   "outputs": [
    {
     "data": {
      "text/html": [
       "<div>\n",
       "<style scoped>\n",
       "    .dataframe tbody tr th:only-of-type {\n",
       "        vertical-align: middle;\n",
       "    }\n",
       "\n",
       "    .dataframe tbody tr th {\n",
       "        vertical-align: top;\n",
       "    }\n",
       "\n",
       "    .dataframe thead th {\n",
       "        text-align: right;\n",
       "    }\n",
       "</style>\n",
       "<table border=\"1\" class=\"dataframe\">\n",
       "  <thead>\n",
       "    <tr style=\"text-align: right;\">\n",
       "      <th></th>\n",
       "      <th>Title</th>\n",
       "      <th>Repo</th>\n",
       "      <th>Created</th>\n",
       "      <th>Updated</th>\n",
       "      <th>Closed</th>\n",
       "      <th>Origin</th>\n",
       "      <th>Assignee</th>\n",
       "      <th>Status</th>\n",
       "      <th>Milestone</th>\n",
       "      <th>Type</th>\n",
       "      <th>Component</th>\n",
       "      <th>BusinessValue</th>\n",
       "      <th>Severity</th>\n",
       "      <th>Risk</th>\n",
       "      <th>Theme</th>\n",
       "      <th>Blocked</th>\n",
       "      <th>Pipeline</th>\n",
       "      <th>Labels</th>\n",
       "    </tr>\n",
       "  </thead>\n",
       "  <tbody>\n",
       "    <tr>\n",
       "      <th>978</th>\n",
       "      <td>Error when rendering time series graph when a ...</td>\n",
       "      <td>wiotp/monitoring-dashboard</td>\n",
       "      <td>2020-04-16 21:40:01</td>\n",
       "      <td>2020-04-17 14:10:24</td>\n",
       "      <td>NaT</td>\n",
       "      <td>scottsd</td>\n",
       "      <td>rsiva</td>\n",
       "      <td>open</td>\n",
       "      <td>April 2020 Sprint 14</td>\n",
       "      <td>Bug</td>\n",
       "      <td>Monitoring</td>\n",
       "      <td>0</td>\n",
       "      <td>2</td>\n",
       "      <td>2</td>\n",
       "      <td>NaN</td>\n",
       "      <td>NaN</td>\n",
       "      <td>New Issues</td>\n",
       "      <td>['Sev 2', 'Squad: Monitoring', 'bug', 'ui']</td>\n",
       "    </tr>\n",
       "  </tbody>\n",
       "</table>\n",
       "</div>"
      ],
      "text/plain": [
       "                                                 Title  \\\n",
       "978  Error when rendering time series graph when a ...   \n",
       "\n",
       "                           Repo             Created             Updated  \\\n",
       "978  wiotp/monitoring-dashboard 2020-04-16 21:40:01 2020-04-17 14:10:24   \n",
       "\n",
       "    Closed   Origin Assignee Status             Milestone Type    Component  \\\n",
       "978    NaT  scottsd    rsiva   open  April 2020 Sprint 14  Bug   Monitoring   \n",
       "\n",
       "    BusinessValue Severity Risk Theme Blocked    Pipeline  \\\n",
       "978             0        2    2   NaN     NaN  New Issues   \n",
       "\n",
       "                                          Labels  \n",
       "978  ['Sev 2', 'Squad: Monitoring', 'bug', 'ui']  "
      ]
     },
     "execution_count": 236,
     "metadata": {},
     "output_type": "execute_result"
    }
   ],
   "source": [
    "defects_df = pd.read_csv('./wiotp-monitoring-dashboard-defects.csv') # parse_dates=['Created'])\n",
    "\n",
    "## Remove the encoding prefix string\n",
    "df=defects_df.replace('b\\'','',regex=True).astype(object)\n",
    "df=df.replace('b\\\"','',regex=True).astype(object)\n",
    "df['Created'] = pd.to_datetime(df['Created'])\n",
    "df['Updated'] = pd.to_datetime(df['Updated'])\n",
    "df['Closed'] = pd.to_datetime(df['Closed'])\n",
    "\n",
    "# Strip off outdated stuff\n",
    "df = df[df['Pipeline'] != 'To Be Closed']\n",
    "df.head(1)"
   ]
  },
  {
   "attachments": {},
   "cell_type": "markdown",
   "metadata": {},
   "source": [
    "#### Our journey \n",
    "\n",
    "This is obviously a large wish list and not all of the metrics are equally important\n",
    "\n",
    "![image.png](./Ayoa.png)"
   ]
  },
  {
   "cell_type": "code",
   "execution_count": 241,
   "metadata": {
    "hide_input": true
   },
   "outputs": [],
   "source": [
    "# Assign some risks random risks\n",
    "df['Risk'] = np.random.choice([1,2,3], df['Risk'].values.shape[0], p=[0.2, 0.3, 0.5])\n",
    "#df['Title'] = df['Title'][:5]\n",
    "#df.head(5)"
   ]
  },
  {
   "cell_type": "code",
   "execution_count": 237,
   "metadata": {
    "hide_input": true
   },
   "outputs": [],
   "source": [
    "from IPython.display import display\n",
    "import ipywidgets as widgets\n",
    "from ipywidgets import Layout, Button, ToggleButton, Box, Dropdown\n",
    "from ipywidgets import interact, interactive, fixed, interact_manual, interactive_output\n",
    "from ipywidgets import Output\n",
    "\n",
    "#w = widgets.IntSlider()\n",
    "#display(w)"
   ]
  },
  {
   "cell_type": "markdown",
   "metadata": {},
   "source": [
    "#### Split up issues by type and severity"
   ]
  },
  {
   "cell_type": "code",
   "execution_count": 238,
   "metadata": {
    "hide_input": true
   },
   "outputs": [
    {
     "data": {
      "application/vnd.jupyter.widget-view+json": {
       "model_id": "a7d1482633c048d78d4d2fc050408edb",
       "version_major": 2,
       "version_minor": 0
      },
      "text/plain": [
       "Box(children=(Dropdown(description='Severity:', index=5, options=(('sev1', 0), ('sev2', 1), ('sev3', 2), ('sev…"
      ]
     },
     "metadata": {},
     "output_type": "display_data"
    },
    {
     "data": {
      "application/vnd.jupyter.widget-view+json": {
       "model_id": "1d158258774d443f9ee82c4a953ea311",
       "version_major": 2,
       "version_minor": 0
      },
      "text/plain": [
       "Output()"
      ]
     },
     "metadata": {},
     "output_type": "display_data"
    }
   ],
   "source": [
    "df['Color'] = '#ffcc99'\n",
    "#df[df['Type'] == 'Issue']['Color'] = '#ff9999'\n",
    "#df[df['Type'] == 'Bug']['Color'] = '#66b3ff'\n",
    "#df[df['Type'] == 'Epic']['Color'] = '#99ff99'\n",
    "\n",
    "dfs = [df[df['Severity'] == 1], df[df['Severity'] == 2], df[df['Severity'] == 3], \n",
    "       df[df['Severity'] == 4], df]\n",
    "\n",
    "# prepare data\n",
    "cnt = []\n",
    "labels = []\n",
    "explode = []\n",
    "colors = []\n",
    "\n",
    "for dfs_el in dfs:\n",
    "    cnt_el = dfs_el.groupby('Type')['Title'].count()\n",
    "    labels.append(cnt_el.index)\n",
    "    explode.append(np.zeros(cnt_el.size) + 0.02)\n",
    "    #colors.append(cnt_el['Color'])\n",
    "    cnt.append(cnt_el)\n",
    "    \n",
    "# define widget\n",
    "box_layout = Layout(display='flex', flex_flow='row', align_items='stretch', border='solid', width='23%')\n",
    "dropdown = Dropdown(\n",
    "    options=[('sev1', 0), ('sev2', 1), ('sev3',2), ('sev4',3), ('sev 1 to 4', 4), ('all', 11)],\n",
    "    value=11,\n",
    "    description='Severity:',\n",
    ")\n",
    "box = Box(children=[dropdown], layout=box_layout)\n",
    "    \n",
    "def f(severity):\n",
    "    if severity > 10:\n",
    "        fig, ax = plt.subplots(1, 5, figsize=(20,6))\n",
    "        for i in [0,1,2,3,4]:\n",
    "            ax[i].pie(cnt[i], explode=explode[i], labels=labels[i], autopct='%1.1f%%',\n",
    "                      shadow=True, startangle=90)\n",
    "            if i < 4:\n",
    "                ax[i].set_title('Monitoring issues by Type\\n   Severity: ' + str(i + 1))\n",
    "            else:\n",
    "                ax[i].set_title('Monitoring issues by Type\\n   All severities')\n",
    "    else:\n",
    "        fig1, ax1 = plt.subplots()\n",
    "        ax1.pie(cnt[severity], explode=explode[severity], labels=labels[severity], autopct='%1.1f%%',\n",
    "                shadow=True, startangle=90)\n",
    "        ax1.axis('equal')  # Equal aspect ratio ensures that pie is drawn as a circle.\n",
    "        if severity < 4:\n",
    "            ax1.set_title('Monitoring issues by Type\\n   Severity: ' + str(severity + 1))\n",
    "        else:\n",
    "            ax1.set_title('Monitoring issues by Type\\n   All severities')\n",
    "\n",
    "ws = interactive_output(f, {'severity': dropdown});\n",
    "display(box, ws)"
   ]
  },
  {
   "cell_type": "markdown",
   "metadata": {},
   "source": [
    "### Velocities\n",
    "\n",
    "- Overall Velocity\n",
    "- Defect Velocity (**implemented** - starting mid 2019)\n",
    "- Customer satisfaction (**no data** not included as we have no data)\n",
    "- Defect breakdown by severity (**no data** we have no severities in our defects)\n",
    "- Value per sprint (**no data** value of epics or stories is not known)\n",
    "- Percentage of test case coverage (**no data** - we do not track that)\n",
    "- Customer Support Requests (**no data*)\n",
    "- Trends (let's define what trends we need)\n",
    "- NPS (**no data**)\n",
    "- Build failures (need to get Travis data)\n",
    "- Deployment failures (Jenkins ?)\n",
    "- Technical Debts (**no data** we need a label)"
   ]
  },
  {
   "cell_type": "markdown",
   "metadata": {},
   "source": [
    "#### Issue velocity"
   ]
  },
  {
   "cell_type": "code",
   "execution_count": 256,
   "metadata": {
    "hide_input": true,
    "scrolled": false
   },
   "outputs": [
    {
     "data": {
      "application/vnd.jupyter.widget-view+json": {
       "model_id": "cb6a2e30b23d46bda6f272d4dec64e80",
       "version_major": 2,
       "version_minor": 0
      },
      "text/plain": [
       "Box(children=(Dropdown(description='Severity:', index=5, options=(('sev1', 0), ('sev2', 1), ('sev3', 2), ('sev…"
      ]
     },
     "metadata": {},
     "output_type": "display_data"
    },
    {
     "data": {
      "application/vnd.jupyter.widget-view+json": {
       "model_id": "5eece5cfa519440aac569299fc1d9408",
       "version_major": 2,
       "version_minor": 0
      },
      "text/plain": [
       "Output()"
      ]
     },
     "metadata": {},
     "output_type": "display_data"
    }
   ],
   "source": [
    "# defect velocity since mid 2019\n",
    "StartWith = '2019-06-30'\n",
    "\n",
    "\n",
    "dfv = df.copy()\n",
    "# replace NaT with now\n",
    "dfv['Closed'] = dfv['Closed'].fillna(pd.Timestamp.now())\n",
    "#dfv = dfv[dfv['Status'] == 'closed']\n",
    "\n",
    "dfv = dfv[dfv['Created'] > StartWith]\n",
    "dfv['Age_in_weeks'] = dfv['Closed'] - dfv['Created'] + pd.Timestamp('2020-01-01')\n",
    "dfv = dfv[['Severity', 'Status', 'Age_in_weeks']]\n",
    "\n",
    "dfvs = [dfv[dfv['Severity'] == 1], dfv[dfv['Severity'] == 2], dfv[dfv['Severity'] == 3], \n",
    "       dfv[dfv['Severity'] == 4], dfv]\n",
    "\n",
    "IMAX = 40\n",
    "emptydf = pd.DataFrame(index=np.arange(1,IMAX),columns=['Severity', 'Status'])\n",
    "emptydf['Severity'] = 0\n",
    "emptydf['Status'] = 'open'\n",
    "\n",
    "cntv = []\n",
    "labelsv = []\n",
    "xv = []\n",
    "for dfs_el in dfvs:\n",
    "    cnt_el = dfs_el.groupby(dfs_el['Age_in_weeks'].dt.week).count().drop(columns='Age_in_weeks')\n",
    "    # print (cnt_el)\n",
    "    imax = cnt_el.index.max()\n",
    "    if np.isnan(imax):\n",
    "        cnt_el = emptydf.copy()\n",
    "    elif imax <= IMAX:\n",
    "        # print (cnt_el)\n",
    "        # print (emptydf)\n",
    "        cnt_el = emptydf.copy().merge(cnt_el, how='outer', left_index = True, right_index=True)\n",
    "        cnt_el['Severity'] = cnt_el['Severity_y'].fillna(cnt_el['Severity_x'])\n",
    "    labelsv.append(cnt_el.index)\n",
    "    xv.append(np.arange(1, cnt_el.size))\n",
    "    cntv.append(cnt_el)\n",
    "    \n",
    "# define widget\n",
    "box_layout = Layout(display='flex', flex_flow='row', align_items='stretch', border='solid', width='65%')\n",
    "dropdown = Dropdown(\n",
    "    options=[('sev1', 0), ('sev2', 1), ('sev3',2), ('sev4',3), ('sev 1 to 4', 4), ('all', 11)],\n",
    "    value=11,\n",
    "    description='Severity:',\n",
    ")\n",
    "dropdown2 = Dropdown(\n",
    "    options=[('Open', 0), ('Closed', 1), ('All',2)],\n",
    "    value=1,\n",
    "    description='Status:',\n",
    ")\n",
    "dropdown3 = Dropdown(\n",
    "    options=[('Issue', 0), ('Bug', 1), ('Epic',2), ('all', 3)],\n",
    "    value=3,\n",
    "    description='Type:',\n",
    ")\n",
    "box = Box(children=[dropdown,dropdown2, dropdown3], layout=box_layout)\n",
    "\n",
    "def f(severity, status):\n",
    "    #df_vel = df_velocity.copy()\n",
    "    if severity > 10:\n",
    "        fig, ax = plt.subplots(1, 5, figsize=(20,3))\n",
    "        for i in [0,1,2,3,4]:\n",
    "            ax[i].bar(cntv[i].index, cntv[i]['Severity'].values)\n",
    "            if i < 4:\n",
    "                ax[i].set_title('Monitoring issues aging\\n   Severity: ' + str(i + 1))\n",
    "            else:\n",
    "                ax[i].set_title('Monitoring issues aging\\n   All severities')\n",
    "            ax[i].set_xlabel('Age in weeks')\n",
    "    else:\n",
    "        fig1, ax1 = plt.subplots(figsize=(7,3))\n",
    "        ax1.bar(cntv[severity].index, cntv[severity]['Severity'].values)\n",
    "        if severity < 4:\n",
    "            ax1.set_title('Monitoring issues aging\\n   Severity: ' + str(severity + 1))\n",
    "        else:\n",
    "            ax1.set_title('Monitoring issues aging\\n   All severities')\n",
    "        ax1.set_xlabel('Age in weeks')\n",
    "\n",
    "ws = interactive_output(f, {'severity': dropdown, 'status': dropdown2});\n",
    "display(box, ws)"
   ]
  },
  {
   "cell_type": "markdown",
   "metadata": {},
   "source": [
    "#### Open epics - risks vs value"
   ]
  },
  {
   "cell_type": "code",
   "execution_count": 252,
   "metadata": {
    "hide_input": true
   },
   "outputs": [
    {
     "data": {
      "text/plain": [
       "Text(0.5, 1.0, 'Heatmap of open Epics\\n by value and risk')"
      ]
     },
     "execution_count": 252,
     "metadata": {},
     "output_type": "execute_result"
    },
    {
     "data": {
      "image/png": "[encoded data removed]",
      "text/plain": [
       "<Figure size 1008x288 with 3 Axes>"
      ]
     },
     "metadata": {
      "needs_background": "light"
     },
     "output_type": "display_data"
    }
   ],
   "source": [
    "# defect velocity since mid 2019\n",
    "StartWith = '2019-06-30'\n",
    "\n",
    "\n",
    "df_val = df.copy()\n",
    "df_val = df_val[df_val['BusinessValue'] > 0]\n",
    "df_val['Risk'] += 1\n",
    "df_val = df_val[df_val['Status'] == 'open'][['BusinessValue','Risk', 'Title']]\n",
    "fig, ax = plt.subplots(1, 3, figsize=(14,4))\n",
    "val_el = df_val.groupby(df_val['BusinessValue']).count()\n",
    "risk_el = df_val.groupby(df_val['Risk']).count()\n",
    "valrisk_el = df_val.groupby(['BusinessValue','Risk']).size()\n",
    "valrisk_grid = valrisk_el.unstack().to_numpy()\n",
    "ax[0].bar(val_el.index, val_el['Title'].values, width=0.6)\n",
    "ax[0].set_title('Open Epics by business value')\n",
    "\n",
    "ax[1].bar(risk_el.index, risk_el['Title'].values, color='red', width=0.5)\n",
    "ax[1].set_title('Open Epics by risk/technical complexity')\n",
    "\n",
    "ax[2].imshow(valrisk_grid, interpolation ='none', cmap='summer')\n",
    "for (j,i),label in np.ndenumerate(valrisk_grid):\n",
    "    ax[2].text(i,j,label,ha='center',va='center',fontsize=16)\n",
    "\n",
    "ax[2].set_xlabel('Risk')\n",
    "ax[2].set_xticks([0,1,2])\n",
    "ax[2].set_xticklabels(['Low','Med','High'])\n",
    "ax[2].set_ylabel('Value')\n",
    "ax[2].set_yticks([0,1,2,3])\n",
    "ax[2].set_yticklabels(['High\\n 1',2,3,'Low\\n 4'])\n",
    "#ax[2].set_yticks([1,2,3,4,5])\n",
    "ax[2].set_title('Heatmap of open Epics\\n by value and risk')\n"
   ]
  },
  {
   "cell_type": "markdown",
   "metadata": {},
   "source": [
    "### Initiatives, Epics, Stories\n",
    "\n",
    "- Epics per Initiatives (not \n",
    "- Initiative completion by percentage\n",
    "- Percentage of Epics completed\n",
    "- Percentage of stories completed by sprint vs what was committed\n",
    "- Defects per story\n",
    "- End to end start to completion average"
   ]
  },
  {
   "cell_type": "code",
   "execution_count": 259,
   "metadata": {
    "hide_input": false
   },
   "outputs": [
    {
     "data": {
      "application/vnd.jupyter.widget-view+json": {
       "model_id": "0a9599aeda9248a2aa71539ec424432c",
       "version_major": 2,
       "version_minor": 0
      },
      "text/plain": [
       "interactive(children=(Dropdown(description='Date', options=(('Jul 2019', '2019-06-30'), ('Oct 2019', '2019-09-…"
      ]
     },
     "metadata": {},
     "output_type": "display_data"
    },
    {
     "data": {
      "text/plain": [
       "<function __main__.f>"
      ]
     },
     "execution_count": 259,
     "metadata": {},
     "output_type": "execute_result"
    }
   ],
   "source": [
    "# Open vs closed epics\n",
    "\n",
    "def f(Date):\n",
    "    df_epics = df[df['Type'] == 'Epic']   \n",
    "    df_epics = df_epics[df_epics['Created'] > Date]\n",
    "    df_epics = df_epics[['Status', 'Type']]\n",
    "    length = 20 * df_epics.index.size / 200\n",
    "    df_epics.groupby(df_epics['Status']).count().plot(figsize=(length,2), kind='barh', legend=False)\n",
    "    plt.title('Epics by completion \\n created after ' + Date)\n",
    "\n",
    "interact(f, Date=[('Jul 2019', '2019-06-30'), ('Oct 2019', '2019-09-30'), ('Jan 2020', '2019-12-31'), \n",
    "                  ('Feb 2020','2020-01-31'), ('Mar 2020', '2020-02-28'), ('Apr 2020','2020-03-31')])"
   ]
  },
  {
   "cell_type": "markdown",
   "metadata": {},
   "source": [
    "#### Next steps\n",
    "\n",
    "- Aggregate data over smaller time spans such as **sprints** to get insights in velocity and completion rate\n",
    "- Pull in data from travis and jenkins to include build process quality metrics\n"
   ]
  },
  {
   "cell_type": "markdown",
   "metadata": {},
   "source": [
    "#### Longer term considerations\n",
    "\n",
    "##### Should we continue with a local Jupyter notebook or invest in a dashboard ?\n",
    "\n",
    "Maybe we make use of Jupyter and quick prototyping until we have 80% of the metrics in place we need. "
   ]
  },
  {
   "cell_type": "code",
   "execution_count": null,
   "metadata": {},
   "outputs": [],
   "source": []
  }
 ],
 "metadata": {
  "kernelspec": {
   "display_name": "Python 3",
   "language": "python",
   "name": "python3"
  },
  "language_info": {
   "codemirror_mode": {
    "name": "ipython",
    "version": 3
   },
   "file_extension": ".py",
   "mimetype": "text/x-python",
   "name": "python",
   "nbconvert_exporter": "python",
   "pygments_lexer": "ipython3",
   "version": "3.7.5"
  }
 },
 "nbformat": 4,
 "nbformat_minor": 2
}
