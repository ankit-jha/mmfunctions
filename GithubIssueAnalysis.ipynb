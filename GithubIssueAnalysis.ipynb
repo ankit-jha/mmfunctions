{
 "cells": [
  {
   "cell_type": "markdown",
   "metadata": {},
   "source": [
    "### This notebook is stale - master is on WML\n",
    "\n",
    "Git Repo: https://github.ibm.com/wiotp/monitoring-dashboard\n"
   ]
  },
  {
   "cell_type": "code",
   "execution_count": 1,
   "metadata": {},
   "outputs": [],
   "source": [
    "import csv\n",
    "import requests\n",
    "import collections\n",
    "import numpy as np\n",
    "import pandas as pd\n",
    "import datetime as dt\n",
    "import matplotlib.pyplot as plt\n",
    "from matplotlib import cm\n",
    "from mpl_toolkits.mplot3d import axes3d"
   ]
  },
  {
   "cell_type": "code",
   "execution_count": 2,
   "metadata": {},
   "outputs": [],
   "source": [
    "from mmfunctions import gitanalyzer"
   ]
  },
  {
   "cell_type": "code",
   "execution_count": 3,
   "metadata": {},
   "outputs": [
    {
     "name": "stdout",
     "output_type": "stream",
     "text": [
      "GET https://zenhub.ibm.com/p2/workspaces/5cd44ce4baded506ba8ddd5f/repositories/566611/board\n",
      "  : => 200\n",
      "GET https://zenhub.ibm.com/p2/workspaces/5cd44ce4baded506ba8ddd5f/repositories/211664/board\n",
      "  : => 200\n",
      "GET https://github.ibm.com/api/v3/repos/wiotp/monitoring-dashboard/issues\n",
      "  : => 200\n",
      "  : Writing 30 issues\n",
      "GET https://github.ibm.com/api/v3/repositories/566611/issues?is=issue&state=all&page=2\n",
      "  : => 200\n",
      "  : Writing 30 issues\n",
      "GET https://github.ibm.com/api/v3/repositories/566611/issues?is=issue&state=all&page=3\n",
      "  : => 200\n",
      "  : Writing 30 issues\n",
      "GET https://github.ibm.com/api/v3/repositories/566611/issues?is=issue&state=all&page=4\n",
      "  : => 200\n",
      "  : Writing 30 issues\n",
      "GET https://github.ibm.com/api/v3/repositories/566611/issues?is=issue&state=all&page=5\n",
      "  : => 200\n",
      "  : Writing 30 issues\n",
      "GET https://github.ibm.com/api/v3/repositories/566611/issues?is=issue&state=all&page=6\n",
      "  : => 200\n",
      "  : Writing 30 issues\n",
      "GET https://github.ibm.com/api/v3/repositories/566611/issues?is=issue&state=all&page=7\n",
      "  : => 200\n",
      "  : Writing 30 issues\n",
      "GET https://github.ibm.com/api/v3/repositories/566611/issues?is=issue&state=all&page=8\n",
      "  : => 200\n",
      "  : Writing 30 issues\n",
      "GET https://github.ibm.com/api/v3/repositories/566611/issues?is=issue&state=all&page=9\n",
      "  : => 200\n",
      "  : Writing 30 issues\n",
      "GET https://github.ibm.com/api/v3/repositories/566611/issues?is=issue&state=all&page=10\n",
      "  : => 200\n",
      "  : Writing 30 issues\n",
      "GET https://github.ibm.com/api/v3/repositories/566611/issues?is=issue&state=all&page=11\n",
      "  : => 200\n",
      "  : Writing 30 issues\n",
      "GET https://github.ibm.com/api/v3/repositories/566611/issues?is=issue&state=all&page=12\n",
      "  : => 200\n",
      "  : Writing 30 issues\n",
      "GET https://github.ibm.com/api/v3/repositories/566611/issues?is=issue&state=all&page=13\n",
      "  : => 200\n",
      "  : Writing 30 issues\n",
      "GET https://github.ibm.com/api/v3/repositories/566611/issues?is=issue&state=all&page=14\n",
      "  : => 200\n",
      "  : Writing 30 issues\n",
      "GET https://github.ibm.com/api/v3/repositories/566611/issues?is=issue&state=all&page=15\n",
      "  : => 200\n",
      "  : Writing 30 issues\n",
      "GET https://github.ibm.com/api/v3/repositories/566611/issues?is=issue&state=all&page=16\n",
      "  : => 200\n",
      "  : Writing 30 issues\n",
      "GET https://github.ibm.com/api/v3/repositories/566611/issues?is=issue&state=all&page=17\n",
      "  : => 200\n",
      "  : Writing 30 issues\n",
      "GET https://github.ibm.com/api/v3/repositories/566611/issues?is=issue&state=all&page=18\n",
      "  : => 200\n",
      "  : Writing 30 issues\n",
      "GET https://github.ibm.com/api/v3/repositories/566611/issues?is=issue&state=all&page=19\n",
      "  : => 200\n",
      "  : Writing 30 issues\n",
      "GET https://github.ibm.com/api/v3/repositories/566611/issues?is=issue&state=all&page=20\n",
      "  : => 200\n",
      "  : Writing 30 issues\n",
      "GET https://github.ibm.com/api/v3/repositories/566611/issues?is=issue&state=all&page=21\n",
      "  : => 200\n",
      "  : Writing 30 issues\n"
     ]
    },
    {
     "ename": "UnboundLocalError",
     "evalue": "local variable 'issueType' referenced before assignment",
     "output_type": "error",
     "traceback": [
      "\u001b[0;31m---------------------------------------------------------------------------\u001b[0m",
      "\u001b[0;31mUnboundLocalError\u001b[0m                         Traceback (most recent call last)",
      "\u001b[0;32m<ipython-input-3-08ea6627db6e>\u001b[0m in \u001b[0;36m<module>\u001b[0;34m()\u001b[0m\n\u001b[1;32m      9\u001b[0m \u001b[0mparams\u001b[0m\u001b[0;34m[\u001b[0m\u001b[0;34m'TRAVIS_TOKEN'\u001b[0m\u001b[0;34m]\u001b[0m \u001b[0;34m=\u001b[0m \u001b[0;34m'7B8mnG99oqNcHJgKKXMYVQ'\u001b[0m\u001b[0;34m\u001b[0m\u001b[0;34m\u001b[0m\u001b[0m\n\u001b[1;32m     10\u001b[0m \u001b[0mparams\u001b[0m\u001b[0;34m[\u001b[0m\u001b[0;34m'BASE_URL'\u001b[0m\u001b[0;34m]\u001b[0m \u001b[0;34m=\u001b[0m \u001b[0;34m'https://github.ibm.com'\u001b[0m\u001b[0;34m\u001b[0m\u001b[0;34m\u001b[0m\u001b[0m\n\u001b[0;32m---> 11\u001b[0;31m \u001b[0mgitanalyzer\u001b[0m\u001b[0;34m.\u001b[0m\u001b[0mprocess_all\u001b[0m\u001b[0;34m(\u001b[0m\u001b[0mparams\u001b[0m\u001b[0;34m)\u001b[0m\u001b[0;34m\u001b[0m\u001b[0;34m\u001b[0m\u001b[0m\n\u001b[0m",
      "\u001b[0;32m/home/markus/src/mmfunctions/mmfunctions/gitanalyzer.py\u001b[0m in \u001b[0;36mprocess_all\u001b[0;34m(params)\u001b[0m\n\u001b[1;32m    274\u001b[0m     csvout.writerow(('Title', 'Repo', 'Created', 'Updated', 'Closed', 'Origin', 'Assignee', 'Status', 'Milestone', 'Type',\n\u001b[1;32m    275\u001b[0m                      'Component', 'BusinessValue', 'Severity', 'Risk', 'Theme', 'Blocked', 'Pipeline', 'Labels'))\n\u001b[0;32m--> 276\u001b[0;31m     \u001b[0mprocess\u001b[0m\u001b[0;34m(\u001b[0m\u001b[0mparams\u001b[0m\u001b[0;34m,\u001b[0m \u001b[0mcsvout\u001b[0m\u001b[0;34m,\u001b[0m \u001b[0mrepo\u001b[0m\u001b[0;34m=\u001b[0m\u001b[0mparams\u001b[0m\u001b[0;34m[\u001b[0m\u001b[0;34m'REPO'\u001b[0m\u001b[0;34m]\u001b[0m\u001b[0;34m)\u001b[0m\u001b[0;34m\u001b[0m\u001b[0;34m\u001b[0m\u001b[0m\n\u001b[0m\u001b[1;32m    277\u001b[0m     \u001b[0mprocess\u001b[0m\u001b[0;34m(\u001b[0m\u001b[0mparams\u001b[0m\u001b[0;34m,\u001b[0m \u001b[0mcsvout\u001b[0m\u001b[0;34m,\u001b[0m \u001b[0mrepo\u001b[0m\u001b[0;34m=\u001b[0m\u001b[0mparams\u001b[0m\u001b[0;34m[\u001b[0m\u001b[0;34m'REPO2'\u001b[0m\u001b[0;34m]\u001b[0m\u001b[0;34m)\u001b[0m\u001b[0;34m\u001b[0m\u001b[0;34m\u001b[0m\u001b[0m\n\u001b[1;32m    278\u001b[0m     \u001b[0mcsvfile\u001b[0m\u001b[0;34m.\u001b[0m\u001b[0mclose\u001b[0m\u001b[0;34m(\u001b[0m\u001b[0;34m)\u001b[0m\u001b[0;34m\u001b[0m\u001b[0;34m\u001b[0m\u001b[0m\n",
      "\u001b[0;32m/home/markus/src/mmfunctions/mmfunctions/gitanalyzer.py\u001b[0m in \u001b[0;36mprocess\u001b[0;34m(params, csvout, repo, url)\u001b[0m\n\u001b[1;32m    243\u001b[0m     \u001b[0mnext_\u001b[0m \u001b[0;34m=\u001b[0m \u001b[0mnext_page\u001b[0m\u001b[0;34m(\u001b[0m\u001b[0mresp\u001b[0m\u001b[0;34m)\u001b[0m\u001b[0;34m\u001b[0m\u001b[0;34m\u001b[0m\u001b[0m\n\u001b[1;32m    244\u001b[0m     \u001b[0;32mif\u001b[0m \u001b[0mnext_\u001b[0m \u001b[0;32mis\u001b[0m \u001b[0;32mnot\u001b[0m \u001b[0;32mNone\u001b[0m\u001b[0;34m:\u001b[0m\u001b[0;34m\u001b[0m\u001b[0;34m\u001b[0m\u001b[0m\n\u001b[0;32m--> 245\u001b[0;31m         \u001b[0mprocess\u001b[0m\u001b[0;34m(\u001b[0m\u001b[0mparams\u001b[0m\u001b[0;34m,\u001b[0m \u001b[0mcsvout\u001b[0m\u001b[0;34m,\u001b[0m \u001b[0mrepo\u001b[0m\u001b[0;34m,\u001b[0m \u001b[0mnext_\u001b[0m\u001b[0;34m)\u001b[0m\u001b[0;34m\u001b[0m\u001b[0;34m\u001b[0m\u001b[0m\n\u001b[0m\u001b[1;32m    246\u001b[0m \u001b[0;34m\u001b[0m\u001b[0m\n\u001b[1;32m    247\u001b[0m \u001b[0;34m\u001b[0m\u001b[0m\n",
      "\u001b[0;32m/home/markus/src/mmfunctions/mmfunctions/gitanalyzer.py\u001b[0m in \u001b[0;36mprocess\u001b[0;34m(params, csvout, repo, url)\u001b[0m\n\u001b[1;32m    243\u001b[0m     \u001b[0mnext_\u001b[0m \u001b[0;34m=\u001b[0m \u001b[0mnext_page\u001b[0m\u001b[0;34m(\u001b[0m\u001b[0mresp\u001b[0m\u001b[0;34m)\u001b[0m\u001b[0;34m\u001b[0m\u001b[0;34m\u001b[0m\u001b[0m\n\u001b[1;32m    244\u001b[0m     \u001b[0;32mif\u001b[0m \u001b[0mnext_\u001b[0m \u001b[0;32mis\u001b[0m \u001b[0;32mnot\u001b[0m \u001b[0;32mNone\u001b[0m\u001b[0;34m:\u001b[0m\u001b[0;34m\u001b[0m\u001b[0;34m\u001b[0m\u001b[0m\n\u001b[0;32m--> 245\u001b[0;31m         \u001b[0mprocess\u001b[0m\u001b[0;34m(\u001b[0m\u001b[0mparams\u001b[0m\u001b[0;34m,\u001b[0m \u001b[0mcsvout\u001b[0m\u001b[0;34m,\u001b[0m \u001b[0mrepo\u001b[0m\u001b[0;34m,\u001b[0m \u001b[0mnext_\u001b[0m\u001b[0;34m)\u001b[0m\u001b[0;34m\u001b[0m\u001b[0;34m\u001b[0m\u001b[0m\n\u001b[0m\u001b[1;32m    246\u001b[0m \u001b[0;34m\u001b[0m\u001b[0m\n\u001b[1;32m    247\u001b[0m \u001b[0;34m\u001b[0m\u001b[0m\n",
      "\u001b[0;32m/home/markus/src/mmfunctions/mmfunctions/gitanalyzer.py\u001b[0m in \u001b[0;36mprocess\u001b[0;34m(params, csvout, repo, url)\u001b[0m\n\u001b[1;32m    243\u001b[0m     \u001b[0mnext_\u001b[0m \u001b[0;34m=\u001b[0m \u001b[0mnext_page\u001b[0m\u001b[0;34m(\u001b[0m\u001b[0mresp\u001b[0m\u001b[0;34m)\u001b[0m\u001b[0;34m\u001b[0m\u001b[0;34m\u001b[0m\u001b[0m\n\u001b[1;32m    244\u001b[0m     \u001b[0;32mif\u001b[0m \u001b[0mnext_\u001b[0m \u001b[0;32mis\u001b[0m \u001b[0;32mnot\u001b[0m \u001b[0;32mNone\u001b[0m\u001b[0;34m:\u001b[0m\u001b[0;34m\u001b[0m\u001b[0;34m\u001b[0m\u001b[0m\n\u001b[0;32m--> 245\u001b[0;31m         \u001b[0mprocess\u001b[0m\u001b[0;34m(\u001b[0m\u001b[0mparams\u001b[0m\u001b[0;34m,\u001b[0m \u001b[0mcsvout\u001b[0m\u001b[0;34m,\u001b[0m \u001b[0mrepo\u001b[0m\u001b[0;34m,\u001b[0m \u001b[0mnext_\u001b[0m\u001b[0;34m)\u001b[0m\u001b[0;34m\u001b[0m\u001b[0;34m\u001b[0m\u001b[0m\n\u001b[0m\u001b[1;32m    246\u001b[0m \u001b[0;34m\u001b[0m\u001b[0m\n\u001b[1;32m    247\u001b[0m \u001b[0;34m\u001b[0m\u001b[0m\n",
      "\u001b[0;32m/home/markus/src/mmfunctions/mmfunctions/gitanalyzer.py\u001b[0m in \u001b[0;36mprocess\u001b[0;34m(params, csvout, repo, url)\u001b[0m\n\u001b[1;32m    243\u001b[0m     \u001b[0mnext_\u001b[0m \u001b[0;34m=\u001b[0m \u001b[0mnext_page\u001b[0m\u001b[0;34m(\u001b[0m\u001b[0mresp\u001b[0m\u001b[0;34m)\u001b[0m\u001b[0;34m\u001b[0m\u001b[0;34m\u001b[0m\u001b[0m\n\u001b[1;32m    244\u001b[0m     \u001b[0;32mif\u001b[0m \u001b[0mnext_\u001b[0m \u001b[0;32mis\u001b[0m \u001b[0;32mnot\u001b[0m \u001b[0;32mNone\u001b[0m\u001b[0;34m:\u001b[0m\u001b[0;34m\u001b[0m\u001b[0;34m\u001b[0m\u001b[0m\n\u001b[0;32m--> 245\u001b[0;31m         \u001b[0mprocess\u001b[0m\u001b[0;34m(\u001b[0m\u001b[0mparams\u001b[0m\u001b[0;34m,\u001b[0m \u001b[0mcsvout\u001b[0m\u001b[0;34m,\u001b[0m \u001b[0mrepo\u001b[0m\u001b[0;34m,\u001b[0m \u001b[0mnext_\u001b[0m\u001b[0;34m)\u001b[0m\u001b[0;34m\u001b[0m\u001b[0;34m\u001b[0m\u001b[0m\n\u001b[0m\u001b[1;32m    246\u001b[0m \u001b[0;34m\u001b[0m\u001b[0m\n\u001b[1;32m    247\u001b[0m \u001b[0;34m\u001b[0m\u001b[0m\n",
      "\u001b[0;32m/home/markus/src/mmfunctions/mmfunctions/gitanalyzer.py\u001b[0m in \u001b[0;36mprocess\u001b[0;34m(params, csvout, repo, url)\u001b[0m\n\u001b[1;32m    243\u001b[0m     \u001b[0mnext_\u001b[0m \u001b[0;34m=\u001b[0m \u001b[0mnext_page\u001b[0m\u001b[0;34m(\u001b[0m\u001b[0mresp\u001b[0m\u001b[0;34m)\u001b[0m\u001b[0;34m\u001b[0m\u001b[0;34m\u001b[0m\u001b[0m\n\u001b[1;32m    244\u001b[0m     \u001b[0;32mif\u001b[0m \u001b[0mnext_\u001b[0m \u001b[0;32mis\u001b[0m \u001b[0;32mnot\u001b[0m \u001b[0;32mNone\u001b[0m\u001b[0;34m:\u001b[0m\u001b[0;34m\u001b[0m\u001b[0;34m\u001b[0m\u001b[0m\n\u001b[0;32m--> 245\u001b[0;31m         \u001b[0mprocess\u001b[0m\u001b[0;34m(\u001b[0m\u001b[0mparams\u001b[0m\u001b[0;34m,\u001b[0m \u001b[0mcsvout\u001b[0m\u001b[0;34m,\u001b[0m \u001b[0mrepo\u001b[0m\u001b[0;34m,\u001b[0m \u001b[0mnext_\u001b[0m\u001b[0;34m)\u001b[0m\u001b[0;34m\u001b[0m\u001b[0;34m\u001b[0m\u001b[0m\n\u001b[0m\u001b[1;32m    246\u001b[0m \u001b[0;34m\u001b[0m\u001b[0m\n\u001b[1;32m    247\u001b[0m \u001b[0;34m\u001b[0m\u001b[0m\n",
      "\u001b[0;32m/home/markus/src/mmfunctions/mmfunctions/gitanalyzer.py\u001b[0m in \u001b[0;36mprocess\u001b[0;34m(params, csvout, repo, url)\u001b[0m\n\u001b[1;32m    243\u001b[0m     \u001b[0mnext_\u001b[0m \u001b[0;34m=\u001b[0m \u001b[0mnext_page\u001b[0m\u001b[0;34m(\u001b[0m\u001b[0mresp\u001b[0m\u001b[0;34m)\u001b[0m\u001b[0;34m\u001b[0m\u001b[0;34m\u001b[0m\u001b[0m\n\u001b[1;32m    244\u001b[0m     \u001b[0;32mif\u001b[0m \u001b[0mnext_\u001b[0m \u001b[0;32mis\u001b[0m \u001b[0;32mnot\u001b[0m \u001b[0;32mNone\u001b[0m\u001b[0;34m:\u001b[0m\u001b[0;34m\u001b[0m\u001b[0;34m\u001b[0m\u001b[0m\n\u001b[0;32m--> 245\u001b[0;31m         \u001b[0mprocess\u001b[0m\u001b[0;34m(\u001b[0m\u001b[0mparams\u001b[0m\u001b[0;34m,\u001b[0m \u001b[0mcsvout\u001b[0m\u001b[0;34m,\u001b[0m \u001b[0mrepo\u001b[0m\u001b[0;34m,\u001b[0m \u001b[0mnext_\u001b[0m\u001b[0;34m)\u001b[0m\u001b[0;34m\u001b[0m\u001b[0;34m\u001b[0m\u001b[0m\n\u001b[0m\u001b[1;32m    246\u001b[0m \u001b[0;34m\u001b[0m\u001b[0m\n\u001b[1;32m    247\u001b[0m \u001b[0;34m\u001b[0m\u001b[0m\n",
      "\u001b[0;32m/home/markus/src/mmfunctions/mmfunctions/gitanalyzer.py\u001b[0m in \u001b[0;36mprocess\u001b[0;34m(params, csvout, repo, url)\u001b[0m\n\u001b[1;32m    243\u001b[0m     \u001b[0mnext_\u001b[0m \u001b[0;34m=\u001b[0m \u001b[0mnext_page\u001b[0m\u001b[0;34m(\u001b[0m\u001b[0mresp\u001b[0m\u001b[0;34m)\u001b[0m\u001b[0;34m\u001b[0m\u001b[0;34m\u001b[0m\u001b[0m\n\u001b[1;32m    244\u001b[0m     \u001b[0;32mif\u001b[0m \u001b[0mnext_\u001b[0m \u001b[0;32mis\u001b[0m \u001b[0;32mnot\u001b[0m \u001b[0;32mNone\u001b[0m\u001b[0;34m:\u001b[0m\u001b[0;34m\u001b[0m\u001b[0;34m\u001b[0m\u001b[0m\n\u001b[0;32m--> 245\u001b[0;31m         \u001b[0mprocess\u001b[0m\u001b[0;34m(\u001b[0m\u001b[0mparams\u001b[0m\u001b[0;34m,\u001b[0m \u001b[0mcsvout\u001b[0m\u001b[0;34m,\u001b[0m \u001b[0mrepo\u001b[0m\u001b[0;34m,\u001b[0m \u001b[0mnext_\u001b[0m\u001b[0;34m)\u001b[0m\u001b[0;34m\u001b[0m\u001b[0;34m\u001b[0m\u001b[0m\n\u001b[0m\u001b[1;32m    246\u001b[0m \u001b[0;34m\u001b[0m\u001b[0m\n\u001b[1;32m    247\u001b[0m \u001b[0;34m\u001b[0m\u001b[0m\n",
      "\u001b[0;32m/home/markus/src/mmfunctions/mmfunctions/gitanalyzer.py\u001b[0m in \u001b[0;36mprocess\u001b[0;34m(params, csvout, repo, url)\u001b[0m\n\u001b[1;32m    243\u001b[0m     \u001b[0mnext_\u001b[0m \u001b[0;34m=\u001b[0m \u001b[0mnext_page\u001b[0m\u001b[0;34m(\u001b[0m\u001b[0mresp\u001b[0m\u001b[0;34m)\u001b[0m\u001b[0;34m\u001b[0m\u001b[0;34m\u001b[0m\u001b[0m\n\u001b[1;32m    244\u001b[0m     \u001b[0;32mif\u001b[0m \u001b[0mnext_\u001b[0m \u001b[0;32mis\u001b[0m \u001b[0;32mnot\u001b[0m \u001b[0;32mNone\u001b[0m\u001b[0;34m:\u001b[0m\u001b[0;34m\u001b[0m\u001b[0;34m\u001b[0m\u001b[0m\n\u001b[0;32m--> 245\u001b[0;31m         \u001b[0mprocess\u001b[0m\u001b[0;34m(\u001b[0m\u001b[0mparams\u001b[0m\u001b[0;34m,\u001b[0m \u001b[0mcsvout\u001b[0m\u001b[0;34m,\u001b[0m \u001b[0mrepo\u001b[0m\u001b[0;34m,\u001b[0m \u001b[0mnext_\u001b[0m\u001b[0;34m)\u001b[0m\u001b[0;34m\u001b[0m\u001b[0;34m\u001b[0m\u001b[0m\n\u001b[0m\u001b[1;32m    246\u001b[0m \u001b[0;34m\u001b[0m\u001b[0m\n\u001b[1;32m    247\u001b[0m \u001b[0;34m\u001b[0m\u001b[0m\n",
      "\u001b[0;32m/home/markus/src/mmfunctions/mmfunctions/gitanalyzer.py\u001b[0m in \u001b[0;36mprocess\u001b[0;34m(params, csvout, repo, url)\u001b[0m\n\u001b[1;32m    243\u001b[0m     \u001b[0mnext_\u001b[0m \u001b[0;34m=\u001b[0m \u001b[0mnext_page\u001b[0m\u001b[0;34m(\u001b[0m\u001b[0mresp\u001b[0m\u001b[0;34m)\u001b[0m\u001b[0;34m\u001b[0m\u001b[0;34m\u001b[0m\u001b[0m\n\u001b[1;32m    244\u001b[0m     \u001b[0;32mif\u001b[0m \u001b[0mnext_\u001b[0m \u001b[0;32mis\u001b[0m \u001b[0;32mnot\u001b[0m \u001b[0;32mNone\u001b[0m\u001b[0;34m:\u001b[0m\u001b[0;34m\u001b[0m\u001b[0;34m\u001b[0m\u001b[0m\n\u001b[0;32m--> 245\u001b[0;31m         \u001b[0mprocess\u001b[0m\u001b[0;34m(\u001b[0m\u001b[0mparams\u001b[0m\u001b[0;34m,\u001b[0m \u001b[0mcsvout\u001b[0m\u001b[0;34m,\u001b[0m \u001b[0mrepo\u001b[0m\u001b[0;34m,\u001b[0m \u001b[0mnext_\u001b[0m\u001b[0;34m)\u001b[0m\u001b[0;34m\u001b[0m\u001b[0;34m\u001b[0m\u001b[0m\n\u001b[0m\u001b[1;32m    246\u001b[0m \u001b[0;34m\u001b[0m\u001b[0m\n\u001b[1;32m    247\u001b[0m \u001b[0;34m\u001b[0m\u001b[0m\n",
      "\u001b[0;32m/home/markus/src/mmfunctions/mmfunctions/gitanalyzer.py\u001b[0m in \u001b[0;36mprocess\u001b[0;34m(params, csvout, repo, url)\u001b[0m\n\u001b[1;32m    243\u001b[0m     \u001b[0mnext_\u001b[0m \u001b[0;34m=\u001b[0m \u001b[0mnext_page\u001b[0m\u001b[0;34m(\u001b[0m\u001b[0mresp\u001b[0m\u001b[0;34m)\u001b[0m\u001b[0;34m\u001b[0m\u001b[0;34m\u001b[0m\u001b[0m\n\u001b[1;32m    244\u001b[0m     \u001b[0;32mif\u001b[0m \u001b[0mnext_\u001b[0m \u001b[0;32mis\u001b[0m \u001b[0;32mnot\u001b[0m \u001b[0;32mNone\u001b[0m\u001b[0;34m:\u001b[0m\u001b[0;34m\u001b[0m\u001b[0;34m\u001b[0m\u001b[0m\n\u001b[0;32m--> 245\u001b[0;31m         \u001b[0mprocess\u001b[0m\u001b[0;34m(\u001b[0m\u001b[0mparams\u001b[0m\u001b[0;34m,\u001b[0m \u001b[0mcsvout\u001b[0m\u001b[0;34m,\u001b[0m \u001b[0mrepo\u001b[0m\u001b[0;34m,\u001b[0m \u001b[0mnext_\u001b[0m\u001b[0;34m)\u001b[0m\u001b[0;34m\u001b[0m\u001b[0;34m\u001b[0m\u001b[0m\n\u001b[0m\u001b[1;32m    246\u001b[0m \u001b[0;34m\u001b[0m\u001b[0m\n\u001b[1;32m    247\u001b[0m \u001b[0;34m\u001b[0m\u001b[0m\n",
      "\u001b[0;32m/home/markus/src/mmfunctions/mmfunctions/gitanalyzer.py\u001b[0m in \u001b[0;36mprocess\u001b[0;34m(params, csvout, repo, url)\u001b[0m\n\u001b[1;32m    243\u001b[0m     \u001b[0mnext_\u001b[0m \u001b[0;34m=\u001b[0m \u001b[0mnext_page\u001b[0m\u001b[0;34m(\u001b[0m\u001b[0mresp\u001b[0m\u001b[0;34m)\u001b[0m\u001b[0;34m\u001b[0m\u001b[0;34m\u001b[0m\u001b[0m\n\u001b[1;32m    244\u001b[0m     \u001b[0;32mif\u001b[0m \u001b[0mnext_\u001b[0m \u001b[0;32mis\u001b[0m \u001b[0;32mnot\u001b[0m \u001b[0;32mNone\u001b[0m\u001b[0;34m:\u001b[0m\u001b[0;34m\u001b[0m\u001b[0;34m\u001b[0m\u001b[0m\n\u001b[0;32m--> 245\u001b[0;31m         \u001b[0mprocess\u001b[0m\u001b[0;34m(\u001b[0m\u001b[0mparams\u001b[0m\u001b[0;34m,\u001b[0m \u001b[0mcsvout\u001b[0m\u001b[0;34m,\u001b[0m \u001b[0mrepo\u001b[0m\u001b[0;34m,\u001b[0m \u001b[0mnext_\u001b[0m\u001b[0;34m)\u001b[0m\u001b[0;34m\u001b[0m\u001b[0;34m\u001b[0m\u001b[0m\n\u001b[0m\u001b[1;32m    246\u001b[0m \u001b[0;34m\u001b[0m\u001b[0m\n\u001b[1;32m    247\u001b[0m \u001b[0;34m\u001b[0m\u001b[0m\n",
      "\u001b[0;32m/home/markus/src/mmfunctions/mmfunctions/gitanalyzer.py\u001b[0m in \u001b[0;36mprocess\u001b[0;34m(params, csvout, repo, url)\u001b[0m\n\u001b[1;32m    243\u001b[0m     \u001b[0mnext_\u001b[0m \u001b[0;34m=\u001b[0m \u001b[0mnext_page\u001b[0m\u001b[0;34m(\u001b[0m\u001b[0mresp\u001b[0m\u001b[0;34m)\u001b[0m\u001b[0;34m\u001b[0m\u001b[0;34m\u001b[0m\u001b[0m\n\u001b[1;32m    244\u001b[0m     \u001b[0;32mif\u001b[0m \u001b[0mnext_\u001b[0m \u001b[0;32mis\u001b[0m \u001b[0;32mnot\u001b[0m \u001b[0;32mNone\u001b[0m\u001b[0;34m:\u001b[0m\u001b[0;34m\u001b[0m\u001b[0;34m\u001b[0m\u001b[0m\n\u001b[0;32m--> 245\u001b[0;31m         \u001b[0mprocess\u001b[0m\u001b[0;34m(\u001b[0m\u001b[0mparams\u001b[0m\u001b[0;34m,\u001b[0m \u001b[0mcsvout\u001b[0m\u001b[0;34m,\u001b[0m \u001b[0mrepo\u001b[0m\u001b[0;34m,\u001b[0m \u001b[0mnext_\u001b[0m\u001b[0;34m)\u001b[0m\u001b[0;34m\u001b[0m\u001b[0;34m\u001b[0m\u001b[0m\n\u001b[0m\u001b[1;32m    246\u001b[0m \u001b[0;34m\u001b[0m\u001b[0m\n\u001b[1;32m    247\u001b[0m \u001b[0;34m\u001b[0m\u001b[0m\n",
      "\u001b[0;32m/home/markus/src/mmfunctions/mmfunctions/gitanalyzer.py\u001b[0m in \u001b[0;36mprocess\u001b[0;34m(params, csvout, repo, url)\u001b[0m\n\u001b[1;32m    243\u001b[0m     \u001b[0mnext_\u001b[0m \u001b[0;34m=\u001b[0m \u001b[0mnext_page\u001b[0m\u001b[0;34m(\u001b[0m\u001b[0mresp\u001b[0m\u001b[0;34m)\u001b[0m\u001b[0;34m\u001b[0m\u001b[0;34m\u001b[0m\u001b[0m\n\u001b[1;32m    244\u001b[0m     \u001b[0;32mif\u001b[0m \u001b[0mnext_\u001b[0m \u001b[0;32mis\u001b[0m \u001b[0;32mnot\u001b[0m \u001b[0;32mNone\u001b[0m\u001b[0;34m:\u001b[0m\u001b[0;34m\u001b[0m\u001b[0;34m\u001b[0m\u001b[0m\n\u001b[0;32m--> 245\u001b[0;31m         \u001b[0mprocess\u001b[0m\u001b[0;34m(\u001b[0m\u001b[0mparams\u001b[0m\u001b[0;34m,\u001b[0m \u001b[0mcsvout\u001b[0m\u001b[0;34m,\u001b[0m \u001b[0mrepo\u001b[0m\u001b[0;34m,\u001b[0m \u001b[0mnext_\u001b[0m\u001b[0;34m)\u001b[0m\u001b[0;34m\u001b[0m\u001b[0;34m\u001b[0m\u001b[0m\n\u001b[0m\u001b[1;32m    246\u001b[0m \u001b[0;34m\u001b[0m\u001b[0m\n\u001b[1;32m    247\u001b[0m \u001b[0;34m\u001b[0m\u001b[0m\n",
      "\u001b[0;32m/home/markus/src/mmfunctions/mmfunctions/gitanalyzer.py\u001b[0m in \u001b[0;36mprocess\u001b[0;34m(params, csvout, repo, url)\u001b[0m\n\u001b[1;32m    243\u001b[0m     \u001b[0mnext_\u001b[0m \u001b[0;34m=\u001b[0m \u001b[0mnext_page\u001b[0m\u001b[0;34m(\u001b[0m\u001b[0mresp\u001b[0m\u001b[0;34m)\u001b[0m\u001b[0;34m\u001b[0m\u001b[0;34m\u001b[0m\u001b[0m\n\u001b[1;32m    244\u001b[0m     \u001b[0;32mif\u001b[0m \u001b[0mnext_\u001b[0m \u001b[0;32mis\u001b[0m \u001b[0;32mnot\u001b[0m \u001b[0;32mNone\u001b[0m\u001b[0;34m:\u001b[0m\u001b[0;34m\u001b[0m\u001b[0;34m\u001b[0m\u001b[0m\n\u001b[0;32m--> 245\u001b[0;31m         \u001b[0mprocess\u001b[0m\u001b[0;34m(\u001b[0m\u001b[0mparams\u001b[0m\u001b[0;34m,\u001b[0m \u001b[0mcsvout\u001b[0m\u001b[0;34m,\u001b[0m \u001b[0mrepo\u001b[0m\u001b[0;34m,\u001b[0m \u001b[0mnext_\u001b[0m\u001b[0;34m)\u001b[0m\u001b[0;34m\u001b[0m\u001b[0;34m\u001b[0m\u001b[0m\n\u001b[0m\u001b[1;32m    246\u001b[0m \u001b[0;34m\u001b[0m\u001b[0m\n\u001b[1;32m    247\u001b[0m \u001b[0;34m\u001b[0m\u001b[0m\n",
      "\u001b[0;32m/home/markus/src/mmfunctions/mmfunctions/gitanalyzer.py\u001b[0m in \u001b[0;36mprocess\u001b[0;34m(params, csvout, repo, url)\u001b[0m\n\u001b[1;32m    243\u001b[0m     \u001b[0mnext_\u001b[0m \u001b[0;34m=\u001b[0m \u001b[0mnext_page\u001b[0m\u001b[0;34m(\u001b[0m\u001b[0mresp\u001b[0m\u001b[0;34m)\u001b[0m\u001b[0;34m\u001b[0m\u001b[0;34m\u001b[0m\u001b[0m\n\u001b[1;32m    244\u001b[0m     \u001b[0;32mif\u001b[0m \u001b[0mnext_\u001b[0m \u001b[0;32mis\u001b[0m \u001b[0;32mnot\u001b[0m \u001b[0;32mNone\u001b[0m\u001b[0;34m:\u001b[0m\u001b[0;34m\u001b[0m\u001b[0;34m\u001b[0m\u001b[0m\n\u001b[0;32m--> 245\u001b[0;31m         \u001b[0mprocess\u001b[0m\u001b[0;34m(\u001b[0m\u001b[0mparams\u001b[0m\u001b[0;34m,\u001b[0m \u001b[0mcsvout\u001b[0m\u001b[0;34m,\u001b[0m \u001b[0mrepo\u001b[0m\u001b[0;34m,\u001b[0m \u001b[0mnext_\u001b[0m\u001b[0;34m)\u001b[0m\u001b[0;34m\u001b[0m\u001b[0;34m\u001b[0m\u001b[0m\n\u001b[0m\u001b[1;32m    246\u001b[0m \u001b[0;34m\u001b[0m\u001b[0m\n\u001b[1;32m    247\u001b[0m \u001b[0;34m\u001b[0m\u001b[0m\n",
      "\u001b[0;32m/home/markus/src/mmfunctions/mmfunctions/gitanalyzer.py\u001b[0m in \u001b[0;36mprocess\u001b[0;34m(params, csvout, repo, url)\u001b[0m\n\u001b[1;32m    243\u001b[0m     \u001b[0mnext_\u001b[0m \u001b[0;34m=\u001b[0m \u001b[0mnext_page\u001b[0m\u001b[0;34m(\u001b[0m\u001b[0mresp\u001b[0m\u001b[0;34m)\u001b[0m\u001b[0;34m\u001b[0m\u001b[0;34m\u001b[0m\u001b[0m\n\u001b[1;32m    244\u001b[0m     \u001b[0;32mif\u001b[0m \u001b[0mnext_\u001b[0m \u001b[0;32mis\u001b[0m \u001b[0;32mnot\u001b[0m \u001b[0;32mNone\u001b[0m\u001b[0;34m:\u001b[0m\u001b[0;34m\u001b[0m\u001b[0;34m\u001b[0m\u001b[0m\n\u001b[0;32m--> 245\u001b[0;31m         \u001b[0mprocess\u001b[0m\u001b[0;34m(\u001b[0m\u001b[0mparams\u001b[0m\u001b[0;34m,\u001b[0m \u001b[0mcsvout\u001b[0m\u001b[0;34m,\u001b[0m \u001b[0mrepo\u001b[0m\u001b[0;34m,\u001b[0m \u001b[0mnext_\u001b[0m\u001b[0;34m)\u001b[0m\u001b[0;34m\u001b[0m\u001b[0;34m\u001b[0m\u001b[0m\n\u001b[0m\u001b[1;32m    246\u001b[0m \u001b[0;34m\u001b[0m\u001b[0m\n\u001b[1;32m    247\u001b[0m \u001b[0;34m\u001b[0m\u001b[0m\n",
      "\u001b[0;32m/home/markus/src/mmfunctions/mmfunctions/gitanalyzer.py\u001b[0m in \u001b[0;36mprocess\u001b[0;34m(params, csvout, repo, url)\u001b[0m\n\u001b[1;32m    243\u001b[0m     \u001b[0mnext_\u001b[0m \u001b[0;34m=\u001b[0m \u001b[0mnext_page\u001b[0m\u001b[0;34m(\u001b[0m\u001b[0mresp\u001b[0m\u001b[0;34m)\u001b[0m\u001b[0;34m\u001b[0m\u001b[0;34m\u001b[0m\u001b[0m\n\u001b[1;32m    244\u001b[0m     \u001b[0;32mif\u001b[0m \u001b[0mnext_\u001b[0m \u001b[0;32mis\u001b[0m \u001b[0;32mnot\u001b[0m \u001b[0;32mNone\u001b[0m\u001b[0;34m:\u001b[0m\u001b[0;34m\u001b[0m\u001b[0;34m\u001b[0m\u001b[0m\n\u001b[0;32m--> 245\u001b[0;31m         \u001b[0mprocess\u001b[0m\u001b[0;34m(\u001b[0m\u001b[0mparams\u001b[0m\u001b[0;34m,\u001b[0m \u001b[0mcsvout\u001b[0m\u001b[0;34m,\u001b[0m \u001b[0mrepo\u001b[0m\u001b[0;34m,\u001b[0m \u001b[0mnext_\u001b[0m\u001b[0;34m)\u001b[0m\u001b[0;34m\u001b[0m\u001b[0;34m\u001b[0m\u001b[0m\n\u001b[0m\u001b[1;32m    246\u001b[0m \u001b[0;34m\u001b[0m\u001b[0m\n\u001b[1;32m    247\u001b[0m \u001b[0;34m\u001b[0m\u001b[0m\n",
      "\u001b[0;32m/home/markus/src/mmfunctions/mmfunctions/gitanalyzer.py\u001b[0m in \u001b[0;36mprocess\u001b[0;34m(params, csvout, repo, url)\u001b[0m\n\u001b[1;32m    243\u001b[0m     \u001b[0mnext_\u001b[0m \u001b[0;34m=\u001b[0m \u001b[0mnext_page\u001b[0m\u001b[0;34m(\u001b[0m\u001b[0mresp\u001b[0m\u001b[0;34m)\u001b[0m\u001b[0;34m\u001b[0m\u001b[0;34m\u001b[0m\u001b[0m\n\u001b[1;32m    244\u001b[0m     \u001b[0;32mif\u001b[0m \u001b[0mnext_\u001b[0m \u001b[0;32mis\u001b[0m \u001b[0;32mnot\u001b[0m \u001b[0;32mNone\u001b[0m\u001b[0;34m:\u001b[0m\u001b[0;34m\u001b[0m\u001b[0;34m\u001b[0m\u001b[0m\n\u001b[0;32m--> 245\u001b[0;31m         \u001b[0mprocess\u001b[0m\u001b[0;34m(\u001b[0m\u001b[0mparams\u001b[0m\u001b[0;34m,\u001b[0m \u001b[0mcsvout\u001b[0m\u001b[0;34m,\u001b[0m \u001b[0mrepo\u001b[0m\u001b[0;34m,\u001b[0m \u001b[0mnext_\u001b[0m\u001b[0;34m)\u001b[0m\u001b[0;34m\u001b[0m\u001b[0;34m\u001b[0m\u001b[0m\n\u001b[0m\u001b[1;32m    246\u001b[0m \u001b[0;34m\u001b[0m\u001b[0m\n\u001b[1;32m    247\u001b[0m \u001b[0;34m\u001b[0m\u001b[0m\n",
      "\u001b[0;32m/home/markus/src/mmfunctions/mmfunctions/gitanalyzer.py\u001b[0m in \u001b[0;36mprocess\u001b[0;34m(params, csvout, repo, url)\u001b[0m\n\u001b[1;32m    243\u001b[0m     \u001b[0mnext_\u001b[0m \u001b[0;34m=\u001b[0m \u001b[0mnext_page\u001b[0m\u001b[0;34m(\u001b[0m\u001b[0mresp\u001b[0m\u001b[0;34m)\u001b[0m\u001b[0;34m\u001b[0m\u001b[0;34m\u001b[0m\u001b[0m\n\u001b[1;32m    244\u001b[0m     \u001b[0;32mif\u001b[0m \u001b[0mnext_\u001b[0m \u001b[0;32mis\u001b[0m \u001b[0;32mnot\u001b[0m \u001b[0;32mNone\u001b[0m\u001b[0;34m:\u001b[0m\u001b[0;34m\u001b[0m\u001b[0;34m\u001b[0m\u001b[0m\n\u001b[0;32m--> 245\u001b[0;31m         \u001b[0mprocess\u001b[0m\u001b[0;34m(\u001b[0m\u001b[0mparams\u001b[0m\u001b[0;34m,\u001b[0m \u001b[0mcsvout\u001b[0m\u001b[0;34m,\u001b[0m \u001b[0mrepo\u001b[0m\u001b[0;34m,\u001b[0m \u001b[0mnext_\u001b[0m\u001b[0;34m)\u001b[0m\u001b[0;34m\u001b[0m\u001b[0;34m\u001b[0m\u001b[0m\n\u001b[0m\u001b[1;32m    246\u001b[0m \u001b[0;34m\u001b[0m\u001b[0m\n\u001b[1;32m    247\u001b[0m \u001b[0;34m\u001b[0m\u001b[0m\n",
      "\u001b[0;32m/home/markus/src/mmfunctions/mmfunctions/gitanalyzer.py\u001b[0m in \u001b[0;36mprocess\u001b[0;34m(params, csvout, repo, url)\u001b[0m\n\u001b[1;32m    243\u001b[0m     \u001b[0mnext_\u001b[0m \u001b[0;34m=\u001b[0m \u001b[0mnext_page\u001b[0m\u001b[0;34m(\u001b[0m\u001b[0mresp\u001b[0m\u001b[0;34m)\u001b[0m\u001b[0;34m\u001b[0m\u001b[0;34m\u001b[0m\u001b[0m\n\u001b[1;32m    244\u001b[0m     \u001b[0;32mif\u001b[0m \u001b[0mnext_\u001b[0m \u001b[0;32mis\u001b[0m \u001b[0;32mnot\u001b[0m \u001b[0;32mNone\u001b[0m\u001b[0;34m:\u001b[0m\u001b[0;34m\u001b[0m\u001b[0;34m\u001b[0m\u001b[0m\n\u001b[0;32m--> 245\u001b[0;31m         \u001b[0mprocess\u001b[0m\u001b[0;34m(\u001b[0m\u001b[0mparams\u001b[0m\u001b[0;34m,\u001b[0m \u001b[0mcsvout\u001b[0m\u001b[0;34m,\u001b[0m \u001b[0mrepo\u001b[0m\u001b[0;34m,\u001b[0m \u001b[0mnext_\u001b[0m\u001b[0;34m)\u001b[0m\u001b[0;34m\u001b[0m\u001b[0;34m\u001b[0m\u001b[0m\n\u001b[0m\u001b[1;32m    246\u001b[0m \u001b[0;34m\u001b[0m\u001b[0m\n\u001b[1;32m    247\u001b[0m \u001b[0;34m\u001b[0m\u001b[0m\n",
      "\u001b[0;32m/home/markus/src/mmfunctions/mmfunctions/gitanalyzer.py\u001b[0m in \u001b[0;36mprocess\u001b[0;34m(params, csvout, repo, url)\u001b[0m\n\u001b[1;32m    240\u001b[0m \u001b[0;32mdef\u001b[0m \u001b[0mprocess\u001b[0m\u001b[0;34m(\u001b[0m\u001b[0mparams\u001b[0m\u001b[0;34m,\u001b[0m \u001b[0mcsvout\u001b[0m\u001b[0;34m,\u001b[0m \u001b[0mrepo\u001b[0m\u001b[0;34m=\u001b[0m\u001b[0;32mNone\u001b[0m\u001b[0;34m,\u001b[0m \u001b[0murl\u001b[0m\u001b[0;34m=\u001b[0m\u001b[0;32mNone\u001b[0m\u001b[0;34m)\u001b[0m\u001b[0;34m:\u001b[0m\u001b[0;34m\u001b[0m\u001b[0;34m\u001b[0m\u001b[0m\n\u001b[1;32m    241\u001b[0m     \u001b[0mresp\u001b[0m \u001b[0;34m=\u001b[0m \u001b[0mget_issues\u001b[0m\u001b[0;34m(\u001b[0m\u001b[0mparams\u001b[0m\u001b[0;34m,\u001b[0m \u001b[0mrepo\u001b[0m\u001b[0;34m,\u001b[0m \u001b[0murl\u001b[0m\u001b[0;34m)\u001b[0m\u001b[0;34m\u001b[0m\u001b[0;34m\u001b[0m\u001b[0m\n\u001b[0;32m--> 242\u001b[0;31m     \u001b[0mwrite_issues\u001b[0m\u001b[0;34m(\u001b[0m\u001b[0mparams\u001b[0m\u001b[0;34m,\u001b[0m \u001b[0mrepo\u001b[0m\u001b[0;34m,\u001b[0m \u001b[0mresp\u001b[0m\u001b[0;34m,\u001b[0m \u001b[0mcsvout\u001b[0m\u001b[0;34m)\u001b[0m\u001b[0;34m\u001b[0m\u001b[0;34m\u001b[0m\u001b[0m\n\u001b[0m\u001b[1;32m    243\u001b[0m     \u001b[0mnext_\u001b[0m \u001b[0;34m=\u001b[0m \u001b[0mnext_page\u001b[0m\u001b[0;34m(\u001b[0m\u001b[0mresp\u001b[0m\u001b[0;34m)\u001b[0m\u001b[0;34m\u001b[0m\u001b[0;34m\u001b[0m\u001b[0m\n\u001b[1;32m    244\u001b[0m     \u001b[0;32mif\u001b[0m \u001b[0mnext_\u001b[0m \u001b[0;32mis\u001b[0m \u001b[0;32mnot\u001b[0m \u001b[0;32mNone\u001b[0m\u001b[0;34m:\u001b[0m\u001b[0;34m\u001b[0m\u001b[0;34m\u001b[0m\u001b[0m\n",
      "\u001b[0;32m/home/markus/src/mmfunctions/mmfunctions/gitanalyzer.py\u001b[0m in \u001b[0;36mwrite_issues\u001b[0;34m(params, repo, response, csvout)\u001b[0m\n\u001b[1;32m    177\u001b[0m                         \u001b[0mcreated_at\u001b[0m\u001b[0;34m,\u001b[0m \u001b[0mupdated_at\u001b[0m\u001b[0;34m,\u001b[0m \u001b[0mclosed_at\u001b[0m\u001b[0;34m,\u001b[0m\u001b[0;34m\u001b[0m\u001b[0;34m\u001b[0m\u001b[0m\n\u001b[1;32m    178\u001b[0m                         \u001b[0muser\u001b[0m\u001b[0;34m,\u001b[0m \u001b[0massignee\u001b[0m\u001b[0;34m,\u001b[0m \u001b[0mstate\u001b[0m\u001b[0;34m,\u001b[0m \u001b[0mmilestone\u001b[0m\u001b[0;34m,\u001b[0m\u001b[0;34m\u001b[0m\u001b[0;34m\u001b[0m\u001b[0m\n\u001b[0;32m--> 179\u001b[0;31m                         \u001b[0missueType\u001b[0m\u001b[0;34m,\u001b[0m \u001b[0mcomponent\u001b[0m\u001b[0;34m,\u001b[0m\u001b[0;34m\u001b[0m\u001b[0;34m\u001b[0m\u001b[0m\n\u001b[0m\u001b[1;32m    180\u001b[0m                         \u001b[0mbusinessValue\u001b[0m\u001b[0;34m,\u001b[0m \u001b[0mseverity\u001b[0m\u001b[0;34m,\u001b[0m \u001b[0mrisk\u001b[0m\u001b[0;34m,\u001b[0m\u001b[0;34m\u001b[0m\u001b[0;34m\u001b[0m\u001b[0m\n\u001b[1;32m    181\u001b[0m                         theme, blocked, pipeline, str(label_list)])\n",
      "\u001b[0;31mUnboundLocalError\u001b[0m: local variable 'issueType' referenced before assignment"
     ]
    }
   ],
   "source": [
    "params = {}\n",
    "params['REPO'] = 'wiotp/monitoring-dashboard'\n",
    "params['REPO2'] = 'wiotp/analytics-service'\n",
    "params['REPO_ID'] = 566611\n",
    "params['REPO2_ID'] = 211664\n",
    "params['ZENHUB_WORKSPACE'] = '5cd44ce4baded506ba8ddd5f'\n",
    "params['GITHUB_TOKEN'] = 'ad7e5d3d34e79ac5d06210e74546c36b4bbc86ab'\n",
    "params['ZENHUB_TOKEN'] = '814960f27921de182e39873816e4a54be9cdbb5000baa92d054e773949c1681e5e637c3bd30b54ad'\n",
    "params['TRAVIS_TOKEN'] = '7B8mnG99oqNcHJgKKXMYVQ'\n",
    "params['BASE_URL'] = 'https://github.ibm.com'\n",
    "gitanalyzer.process_all(params)\n"
   ]
  },
  {
   "cell_type": "code",
   "execution_count": 4,
   "metadata": {},
   "outputs": [
    {
     "name": "stdout",
     "output_type": "stream",
     "text": [
      "upload: 'monitoring-defects.csv' -> 's3://githubanalyzer-donotdelete-pr-b9xa3kxotzh5in/monitoring-defects.csv'  [1 of 1]\n",
      " 149979 of 149979   100% in    1s    89.45 kB/s  done\n"
     ]
    }
   ],
   "source": [
    "# upload stuff for later use to COS\n",
    "!s3cmd --access_key \"cc04444c99374c9e9589b8f85e931323\" --secret_key \"1a5062d937b09507a05b521a41b8baf6848c0cd6936e2864\" \\\n",
    "--access_token \"icny9QB770wS9p67JHCWb6C8ySJEn_3tmfjqct9qQhSY\" --host s3.eu.cloud-object-storage.appdomain.cloud --host-bucket=s3.eu.cloud-object-storage.appdomain.cloud \\\n",
    "put monitoring-defects.csv s3://githubanalyzer-donotdelete-pr-b9xa3kxotzh5in"
   ]
  },
  {
   "cell_type": "code",
   "execution_count": 5,
   "metadata": {},
   "outputs": [
    {
     "name": "stdout",
     "output_type": "stream",
     "text": [
      "download: 's3://githubanalyzer-donotdelete-pr-b9xa3kxotzh5in/monitoring-defects.csv' -> 'wiotp-monitoring-dashboard-defects.csv'  [1 of 1]\n",
      " 149979 of 149979   100% in    1s    98.93 kB/s  done\n"
     ]
    }
   ],
   "source": [
    "# get it back from COS\n",
    "!s3cmd --access_key \"cc04444c99374c9e9589b8f85e931323\" --secret_key \"1a5062d937b09507a05b521a41b8baf6848c0cd6936e2864\" \\\n",
    "--access_token \"icny9QB770wS9p67JHCWb6C8ySJEn_3tmfjqct9qQhSY\" --force --host s3.eu.cloud-object-storage.appdomain.cloud --host-bucket=s3.eu.cloud-object-storage.appdomain.cloud \\\n",
    "get s3://githubanalyzer-donotdelete-pr-b9xa3kxotzh5in/monitoring-defects.csv wiotp-monitoring-dashboard-defects.csv"
   ]
  },
  {
   "cell_type": "code",
   "execution_count": 7,
   "metadata": {},
   "outputs": [
    {
     "data": {
      "text/html": [
       "<div>\n",
       "<style scoped>\n",
       "    .dataframe tbody tr th:only-of-type {\n",
       "        vertical-align: middle;\n",
       "    }\n",
       "\n",
       "    .dataframe tbody tr th {\n",
       "        vertical-align: top;\n",
       "    }\n",
       "\n",
       "    .dataframe thead th {\n",
       "        text-align: right;\n",
       "    }\n",
       "</style>\n",
       "<table border=\"1\" class=\"dataframe\">\n",
       "  <thead>\n",
       "    <tr style=\"text-align: right;\">\n",
       "      <th></th>\n",
       "      <th>Title</th>\n",
       "      <th>Repo</th>\n",
       "      <th>Created</th>\n",
       "      <th>Updated</th>\n",
       "      <th>Closed</th>\n",
       "      <th>Origin</th>\n",
       "      <th>Assignee</th>\n",
       "      <th>Status</th>\n",
       "      <th>Milestone</th>\n",
       "      <th>Type</th>\n",
       "      <th>Component</th>\n",
       "      <th>BusinessValue</th>\n",
       "      <th>Severity</th>\n",
       "      <th>Risk</th>\n",
       "      <th>Theme</th>\n",
       "      <th>Blocked</th>\n",
       "      <th>Pipeline</th>\n",
       "      <th>Labels</th>\n",
       "    </tr>\n",
       "  </thead>\n",
       "  <tbody>\n",
       "    <tr>\n",
       "      <th>931</th>\n",
       "      <td>Tenantid is showing a random function</td>\n",
       "      <td>wiotp/monitoring-dashboard</td>\n",
       "      <td>2020-04-07 14:46:47</td>\n",
       "      <td>2020-04-07 14:50:21</td>\n",
       "      <td>NaT</td>\n",
       "      <td>Stephen-M-Stone</td>\n",
       "      <td>scottsd</td>\n",
       "      <td>open</td>\n",
       "      <td>NaN</td>\n",
       "      <td>Issue</td>\n",
       "      <td>NaN</td>\n",
       "      <td>4</td>\n",
       "      <td>3</td>\n",
       "      <td>2</td>\n",
       "      <td>NaN</td>\n",
       "      <td>NaN</td>\n",
       "      <td>New Issues</td>\n",
       "      <td>['bug', 'ui']</td>\n",
       "    </tr>\n",
       "    <tr>\n",
       "      <th>930</th>\n",
       "      <td>Monitor APIs not responding</td>\n",
       "      <td>wiotp/monitoring-dashboard</td>\n",
       "      <td>2020-04-07 08:24:03</td>\n",
       "      <td>2020-04-07 08:24:32</td>\n",
       "      <td>NaT</td>\n",
       "      <td>mats-gothe</td>\n",
       "      <td>rsiva</td>\n",
       "      <td>open</td>\n",
       "      <td>NaN</td>\n",
       "      <td>Bug</td>\n",
       "      <td>NaN</td>\n",
       "      <td>4</td>\n",
       "      <td>3</td>\n",
       "      <td>2</td>\n",
       "      <td>NaN</td>\n",
       "      <td>NaN</td>\n",
       "      <td>New Issues</td>\n",
       "      <td>['Squad: Monitoring', 'bug']</td>\n",
       "    </tr>\n",
       "    <tr>\n",
       "      <th>929</th>\n",
       "      <td>Investigate Data Quality reporting</td>\n",
       "      <td>wiotp/monitoring-dashboard</td>\n",
       "      <td>2020-04-06 14:53:38</td>\n",
       "      <td>2020-04-07 15:08:32</td>\n",
       "      <td>NaT</td>\n",
       "      <td>markus-mueller</td>\n",
       "      <td>shraddha-singh</td>\n",
       "      <td>open</td>\n",
       "      <td>April 2020 Sprint 13</td>\n",
       "      <td>Issue</td>\n",
       "      <td>NaN</td>\n",
       "      <td>4</td>\n",
       "      <td>3</td>\n",
       "      <td>2</td>\n",
       "      <td>Anomaly-Theme</td>\n",
       "      <td>NaN</td>\n",
       "      <td>New Issues</td>\n",
       "      <td>['Action Status: In Progress', 'Anomaly Detect...</td>\n",
       "    </tr>\n",
       "  </tbody>\n",
       "</table>\n",
       "</div>"
      ],
      "text/plain": [
       "                                     Title                        Repo  \\\n",
       "931  Tenantid is showing a random function  wiotp/monitoring-dashboard   \n",
       "930            Monitor APIs not responding  wiotp/monitoring-dashboard   \n",
       "929     Investigate Data Quality reporting  wiotp/monitoring-dashboard   \n",
       "\n",
       "                Created             Updated Closed           Origin  \\\n",
       "931 2020-04-07 14:46:47 2020-04-07 14:50:21    NaT  Stephen-M-Stone   \n",
       "930 2020-04-07 08:24:03 2020-04-07 08:24:32    NaT       mats-gothe   \n",
       "929 2020-04-06 14:53:38 2020-04-07 15:08:32    NaT   markus-mueller   \n",
       "\n",
       "           Assignee Status             Milestone   Type Component  \\\n",
       "931         scottsd   open                   NaN  Issue       NaN   \n",
       "930           rsiva   open                   NaN    Bug       NaN   \n",
       "929  shraddha-singh   open  April 2020 Sprint 13  Issue       NaN   \n",
       "\n",
       "    BusinessValue Severity Risk          Theme Blocked    Pipeline  \\\n",
       "931             4        3    2            NaN     NaN  New Issues   \n",
       "930             4        3    2            NaN     NaN  New Issues   \n",
       "929             4        3    2  Anomaly-Theme     NaN  New Issues   \n",
       "\n",
       "                                                Labels  \n",
       "931                                      ['bug', 'ui']  \n",
       "930                       ['Squad: Monitoring', 'bug']  \n",
       "929  ['Action Status: In Progress', 'Anomaly Detect...  "
      ]
     },
     "execution_count": 7,
     "metadata": {},
     "output_type": "execute_result"
    }
   ],
   "source": [
    "defects_df = pd.read_csv('./wiotp-monitoring-dashboard-defects.csv') # parse_dates=['Created'])\n",
    "\n",
    "## Remove the encoding prefix string\n",
    "df=defects_df.replace('b\\'','',regex=True).astype(object)\n",
    "df=df.replace('b\\\"','',regex=True).astype(object)\n",
    "df['Created'] = pd.to_datetime(df['Created'])\n",
    "df['Updated'] = pd.to_datetime(df['Updated'])\n",
    "df['Closed'] = pd.to_datetime(df['Closed'])\n",
    "\n",
    "df = df[df['Pipeline'] != 'To Be Closed']\n",
    "df.head(3)"
   ]
  },
  {
   "cell_type": "code",
   "execution_count": 9,
   "metadata": {},
   "outputs": [
    {
     "data": {
      "text/html": [
       "<div>\n",
       "<style scoped>\n",
       "    .dataframe tbody tr th:only-of-type {\n",
       "        vertical-align: middle;\n",
       "    }\n",
       "\n",
       "    .dataframe tbody tr th {\n",
       "        vertical-align: top;\n",
       "    }\n",
       "\n",
       "    .dataframe thead th {\n",
       "        text-align: right;\n",
       "    }\n",
       "</style>\n",
       "<table border=\"1\" class=\"dataframe\">\n",
       "  <thead>\n",
       "    <tr style=\"text-align: right;\">\n",
       "      <th></th>\n",
       "      <th>Title</th>\n",
       "      <th>Repo</th>\n",
       "      <th>Created</th>\n",
       "      <th>Updated</th>\n",
       "      <th>Closed</th>\n",
       "      <th>Origin</th>\n",
       "      <th>Assignee</th>\n",
       "      <th>Status</th>\n",
       "      <th>Milestone</th>\n",
       "      <th>Type</th>\n",
       "      <th>Component</th>\n",
       "      <th>BusinessValue</th>\n",
       "      <th>Severity</th>\n",
       "      <th>Risk</th>\n",
       "      <th>Theme</th>\n",
       "      <th>Blocked</th>\n",
       "      <th>Pipeline</th>\n",
       "      <th>Labels</th>\n",
       "      <th>severity</th>\n",
       "    </tr>\n",
       "  </thead>\n",
       "  <tbody>\n",
       "    <tr>\n",
       "      <th>931</th>\n",
       "      <td>Tenantid is showing a random function</td>\n",
       "      <td>wiotp/monitoring-dashboard</td>\n",
       "      <td>2020-04-07 14:46:47</td>\n",
       "      <td>2020-04-07 14:50:21</td>\n",
       "      <td>NaT</td>\n",
       "      <td>Stephen-M-Stone</td>\n",
       "      <td>scottsd</td>\n",
       "      <td>open</td>\n",
       "      <td>NaN</td>\n",
       "      <td>Issue</td>\n",
       "      <td>NaN</td>\n",
       "      <td>4</td>\n",
       "      <td>2</td>\n",
       "      <td>2</td>\n",
       "      <td>NaN</td>\n",
       "      <td>NaN</td>\n",
       "      <td>New Issues</td>\n",
       "      <td>['bug', 'ui']</td>\n",
       "      <td>2</td>\n",
       "    </tr>\n",
       "    <tr>\n",
       "      <th>930</th>\n",
       "      <td>Monitor APIs not responding</td>\n",
       "      <td>wiotp/monitoring-dashboard</td>\n",
       "      <td>2020-04-07 08:24:03</td>\n",
       "      <td>2020-04-07 08:24:32</td>\n",
       "      <td>NaT</td>\n",
       "      <td>mats-gothe</td>\n",
       "      <td>rsiva</td>\n",
       "      <td>open</td>\n",
       "      <td>NaN</td>\n",
       "      <td>Bug</td>\n",
       "      <td>NaN</td>\n",
       "      <td>4</td>\n",
       "      <td>2</td>\n",
       "      <td>2</td>\n",
       "      <td>NaN</td>\n",
       "      <td>NaN</td>\n",
       "      <td>New Issues</td>\n",
       "      <td>['Squad: Monitoring', 'bug']</td>\n",
       "      <td>4</td>\n",
       "    </tr>\n",
       "    <tr>\n",
       "      <th>929</th>\n",
       "      <td>Investigate Data Quality reporting</td>\n",
       "      <td>wiotp/monitoring-dashboard</td>\n",
       "      <td>2020-04-06 14:53:38</td>\n",
       "      <td>2020-04-07 15:08:32</td>\n",
       "      <td>NaT</td>\n",
       "      <td>markus-mueller</td>\n",
       "      <td>shraddha-singh</td>\n",
       "      <td>open</td>\n",
       "      <td>April 2020 Sprint 13</td>\n",
       "      <td>Issue</td>\n",
       "      <td>NaN</td>\n",
       "      <td>4</td>\n",
       "      <td>3</td>\n",
       "      <td>2</td>\n",
       "      <td>Anomaly-Theme</td>\n",
       "      <td>NaN</td>\n",
       "      <td>New Issues</td>\n",
       "      <td>['Action Status: In Progress', 'Anomaly Detect...</td>\n",
       "      <td>3</td>\n",
       "    </tr>\n",
       "  </tbody>\n",
       "</table>\n",
       "</div>"
      ],
      "text/plain": [
       "                                     Title                        Repo  \\\n",
       "931  Tenantid is showing a random function  wiotp/monitoring-dashboard   \n",
       "930            Monitor APIs not responding  wiotp/monitoring-dashboard   \n",
       "929     Investigate Data Quality reporting  wiotp/monitoring-dashboard   \n",
       "\n",
       "                Created             Updated Closed           Origin  \\\n",
       "931 2020-04-07 14:46:47 2020-04-07 14:50:21    NaT  Stephen-M-Stone   \n",
       "930 2020-04-07 08:24:03 2020-04-07 08:24:32    NaT       mats-gothe   \n",
       "929 2020-04-06 14:53:38 2020-04-07 15:08:32    NaT   markus-mueller   \n",
       "\n",
       "           Assignee Status             Milestone   Type Component  \\\n",
       "931         scottsd   open                   NaN  Issue       NaN   \n",
       "930           rsiva   open                   NaN    Bug       NaN   \n",
       "929  shraddha-singh   open  April 2020 Sprint 13  Issue       NaN   \n",
       "\n",
       "    BusinessValue  Severity Risk          Theme Blocked    Pipeline  \\\n",
       "931             4         2    2            NaN     NaN  New Issues   \n",
       "930             4         2    2            NaN     NaN  New Issues   \n",
       "929             4         3    2  Anomaly-Theme     NaN  New Issues   \n",
       "\n",
       "                                                Labels  severity  \n",
       "931                                      ['bug', 'ui']         2  \n",
       "930                       ['Squad: Monitoring', 'bug']         4  \n",
       "929  ['Action Status: In Progress', 'Anomaly Detect...         3  "
      ]
     },
     "execution_count": 9,
     "metadata": {},
     "output_type": "execute_result"
    }
   ],
   "source": [
    "#invent severities\n",
    "df['Severity'] = np.random.choice([1,2,3,4], df.index.size, p = [0.1,0.4,0.3,0.2])\n",
    "df.head(3)"
   ]
  },
  {
   "cell_type": "code",
   "execution_count": 8,
   "metadata": {},
   "outputs": [
    {
     "data": {
      "application/vnd.jupyter.widget-view+json": {
       "model_id": "a4351b7fa973489b8e5252a9479a2eef",
       "version_major": 2,
       "version_minor": 0
      },
      "text/plain": [
       "IntSlider(value=0)"
      ]
     },
     "metadata": {},
     "output_type": "display_data"
    }
   ],
   "source": [
    "from IPython.display import display\n",
    "from ipywidgets import interact, interactive, fixed, interact_manual\n",
    "import ipywidgets as widgets\n",
    "\n",
    "w = widgets.IntSlider()\n",
    "display(w)"
   ]
  },
  {
   "cell_type": "code",
   "execution_count": 10,
   "metadata": {},
   "outputs": [
    {
     "data": {
      "application/vnd.jupyter.widget-view+json": {
       "model_id": "199ca08d82bf462989adb1bf1bff184d",
       "version_major": 2,
       "version_minor": 0
      },
      "text/plain": [
       "interactive(children=(Dropdown(description='severity', options=(('sev1', 1), ('sev2', 2), ('sev3', 3), ('sev4'…"
      ]
     },
     "metadata": {},
     "output_type": "display_data"
    }
   ],
   "source": [
    "from ipywidgets import interact, interactive, fixed, interact_manual\n",
    "import ipywidgets as widgets\n",
    "\n",
    "\n",
    "def f(severity):\n",
    "    dfs = df\n",
    "    if severity > 0:\n",
    "        dfs = df[df['Severity'] == severity]\n",
    "    cnt = dfs.groupby('Type')['Title'].count()\n",
    "    labels = cnt.index\n",
    "    sizes = cnt.values\n",
    "    fig1, ax1 = plt.subplots()\n",
    "    ax1.pie(sizes, explode=(0.04, 0, 0), labels=labels, autopct='%1.1f%%',\n",
    "            shadow=True, startangle=90)\n",
    "    ax1.axis('equal')  # Equal aspect ratio ensures that pie is drawn as a circle.\n",
    "    ax1.set_title('Monitoring issues by type')\n",
    "\n",
    "#plt.show()\n",
    "interact(f, severity=[('sev1', 1), ('sev2', 2), ('sev3',3), ('sev4',4), ('all', 0)]);"
   ]
  },
  {
   "cell_type": "markdown",
   "metadata": {},
   "source": [
    "### Velocities\n",
    "\n",
    "- Overall Velocity\n",
    "- Defect Velocity (**implemented** - starting mid 2019)\n",
    "- Customer satisfaction (**no data** not included as we have no data)\n",
    "- Defect breakdown by severity (**no data** we have no severities in our defects)\n",
    "- Value per sprint (**no data** value of epics or stories is not known)\n",
    "- Percentage of test case coverage (**no data** - we do not track that)\n",
    "- Customer Support Requests (**no data*)\n",
    "- Trends (let's define what trends we need)\n",
    "- NPS (**no data**)\n",
    "- Build failures (need to get Travis data)\n",
    "- Deployment failures (Jenkins ?)\n",
    "- Technical Debts (**no data** we need a label)"
   ]
  },
  {
   "cell_type": "code",
   "execution_count": 11,
   "metadata": {
    "scrolled": false
   },
   "outputs": [
    {
     "data": {
      "application/vnd.jupyter.widget-view+json": {
       "model_id": "3193b256f46b4878b642acbda0438524",
       "version_major": 2,
       "version_minor": 0
      },
      "text/plain": [
       "interactive(children=(Dropdown(description='severity', options=(('sev1', 1), ('sev2', 2), ('sev3', 3), ('sev4'…"
      ]
     },
     "metadata": {},
     "output_type": "display_data"
    }
   ],
   "source": [
    "# defect velocity since mid 2019\n",
    "StartWith = '2019-06-30'\n",
    "\n",
    "\n",
    "df_velocity = df.copy()\n",
    "df_velocity = df_velocity[df_velocity['Status'] == 'closed']\n",
    "df_velocity = df_velocity[df_velocity['Created'] > StartWith]\n",
    "df_velocity['Age_in_weeks'] = df_velocity['Closed'] - df_velocity['Created'] + pd.Timestamp('2020-01-01')\n",
    "df_velocity = df_velocity[['Severity', 'Age_in_weeks']]\n",
    "\n",
    "\n",
    "def f(severity):\n",
    "    df_vel = df_velocity.copy()\n",
    "    if severity != 0:\n",
    "        df_vel = df_vel[df_vel['Severity'] == severity]\n",
    "    df_vel = df_vel[['Age_in_weeks']]\n",
    "    #df_vel.groupby([df_vel[\"Age\"].dt.year,\n",
    "    #              df_vel[\"Age\"].dt.month, df_vel[\"Age\"].dt.week]).count().plot(figsize=(10,8), kind=\"bar\", title='Defect velocity by weeks')\n",
    "    df_vel.groupby(df_vel['Age_in_weeks'].dt.week).count().plot(figsize=(7,5), kind='bar', legend=False)\n",
    "    ax1 = plt.axes()\n",
    "    x_axis = ax1.axes.get_xaxis()\n",
    "    # x_axis.set_visible(False)\n",
    "\n",
    "interact(f, severity=[('sev1', 1), ('sev2', 2), ('sev3',3), ('sev4',4), ('all', 0)]);"
   ]
  },
  {
   "cell_type": "markdown",
   "metadata": {},
   "source": [
    "### Initiatives, Epics, Stories\n",
    "\n",
    "- Epics per Initiatives\n",
    "- Initiative completion by percentage\n",
    "- Percentage of Epics completed\n",
    "- Percentage of stories completed by sprint vs what was committed\n",
    "- Defects per story\n",
    "- End to end start to completion average"
   ]
  },
  {
   "cell_type": "code",
   "execution_count": null,
   "metadata": {},
   "outputs": [],
   "source": []
  }
 ],
 "metadata": {
  "kernelspec": {
   "display_name": "Python 3",
   "language": "python",
   "name": "python3"
  },
  "language_info": {
   "codemirror_mode": {
    "name": "ipython",
    "version": 3
   },
   "file_extension": ".py",
   "mimetype": "text/x-python",
   "name": "python",
   "nbconvert_exporter": "python",
   "pygments_lexer": "ipython3",
   "version": "3.7.5"
  }
 },
 "nbformat": 4,
 "nbformat_minor": 2
}
