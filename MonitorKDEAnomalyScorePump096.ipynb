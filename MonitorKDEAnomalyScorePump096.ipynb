{
 "cells": [
  {
   "cell_type": "markdown",
   "metadata": {},
   "source": [
    "### Preparation steps\n",
    "\n",
    "Install iotfunctions with\n",
    "\n",
    "`pip install git+https://github.com/ibm-watson-iot/functions@development`\n",
    "\n",
    "This projects contains the code for the Analytics Service pipeline as well as the anomaly functions and should pull in most of this notebook's dependencies.\n",
    "\n",
    "The plotting library matplotlib is the exception, so you need to run\n",
    "`pip install matplotlib`\n",
    "\n",
    "\n",
    "#### Unpacking the data\n",
    "\n",
    "Data is stored in `ArmstarkPumps_3408_36B1_096.tar.bz2`\n",
    "\n",
    "Please run `tar xfj ArmstarkPumps_3408_36B1_096.tar.bz2` to unpack it prior to running this notebook. You should find \n",
    "\n",
    "```\n",
    "-rw-rw-r-- 1 markus markus 72361832 Dez 22 17:10 04714B603408.csv\n",
    "-rw-rw-r-- 1 markus markus 71782702 Dez 22 16:43 04714B6036B1.csv\n",
    "-rw-rw-r-- 1 markus markus 50373659 Dez 22 16:43 IOT_PUMP_DE_GEN5_202012141519.csv\n",
    "```"
   ]
  },
  {
   "cell_type": "code",
   "execution_count": 1,
   "metadata": {},
   "outputs": [
    {
     "name": "stderr",
     "output_type": "stream",
     "text": [
      "Warning: confluent_kafka is not installed. Publish to MessageHub not supported.\n"
     ]
    }
   ],
   "source": [
    "# Real life data\n",
    "\n",
    "import logging\n",
    "import threading\n",
    "import itertools\n",
    "import math\n",
    "import datetime\n",
    "import pandas as pd  \n",
    "import numpy as np  \n",
    "import scipy as sp\n",
    "import json\n",
    "import ibm_db\n",
    "\n",
    "import matplotlib.pyplot as plt\n",
    "from matplotlib import cm\n",
    "from mpl_toolkits.mplot3d import axes3d\n",
    "import seaborn as seabornInstance\n",
    "from sqlalchemy import Column, Integer, String, Float, DateTime, Boolean, func\n",
    "from iotfunctions import base\n",
    "from iotfunctions import bif\n",
    "from iotfunctions import entity\n",
    "from iotfunctions import metadata\n",
    "from iotfunctions.metadata import EntityType\n",
    "from iotfunctions.db import Database\n",
    "from iotfunctions.dbtables import FileModelStore, DBModelStore\n",
    "from iotfunctions.enginelog import EngineLogging\n",
    "from iotfunctions import estimator\n",
    "from iotfunctions.bif import PythonExpression\n",
    "from iotfunctions.ui import (UISingle, UIMultiItem, UIFunctionOutSingle,\n",
    "                 UISingleItem, UIFunctionOutMulti, UIMulti, UIExpression,\n",
    "                 UIText, UIStatusFlag, UIParameters)\n",
    "from iotfunctions.anomaly import (SaliencybasedGeneralizedAnomalyScore, SpectralAnomalyScore,\n",
    "                 FFTbasedGeneralizedAnomalyScore, KMeansAnomalyScore,\n",
    "                 SaliencybasedGeneralizedAnomalyScoreV2, FFTbasedGeneralizedAnomalyScoreV2, \n",
    "                 KMeansAnomalyScoreV2, BayesRidgeRegressor,)\n",
    "from mmfunctions.anomaly import (FeatureBuilder, GBMForecaster, KDEAnomalyScore, VIAnomalyScore)\n",
    "from poc.functions import State_Timer\n",
    "import datetime as dt\n",
    "from sklearn.model_selection import train_test_split \n",
    "from sklearn.linear_model import LinearRegression\n",
    "from sklearn.preprocessing import StandardScaler, MinMaxScaler\n",
    "from sklearn import metrics\n",
    "from pandas.plotting import register_matplotlib_converters\n",
    "import seaborn as sns\n",
    "register_matplotlib_converters()\n",
    "\n",
    "EngineLogging.configure_console_logging(logging.INFO)"
   ]
  },
  {
   "cell_type": "code",
   "execution_count": 2,
   "metadata": {
    "scrolled": true
   },
   "outputs": [
    {
     "name": "stdout",
     "output_type": "stream",
     "text": [
      "<iotfunctions.db.Database object at 0x7f7a8419b7f0>\n"
     ]
    }
   ],
   "source": [
    "# set up a db object with a FileModelStore to support scaling\n",
    "with open('credentials_as_beta3.json', encoding='utf-8') as F:\n",
    "    credentials = json.loads(F.read())\n",
    "db_schema=None\n",
    "#fm = FileModelStore()\n",
    "#db = Database(credentials=credentials, model_store=fm)\n",
    "# 11390 is the entity type id of shadow_pump_de_gen5\n",
    "db=Database(credentials=credentials, entity_type_id=11930)\n",
    "\n",
    "\n",
    "# 11390 is the entity type id of shadow_pump_de_gen5\n",
    "if db.model_store is None:\n",
    "     db.model_store = DBModelStore('beta-3', 11390, 'bluadmin', db.native_connection, db.db_type)\n",
    "\n",
    "print (db)"
   ]
  },
  {
   "cell_type": "code",
   "execution_count": 3,
   "metadata": {},
   "outputs": [
    {
     "data": {
      "text/plain": [
       "<ibm_db.IBM_DBConnection at 0x7f799fb27e90>"
      ]
     },
     "execution_count": 3,
     "metadata": {},
     "output_type": "execute_result"
    }
   ],
   "source": [
    "db.native_connection"
   ]
  },
  {
   "cell_type": "code",
   "execution_count": 4,
   "metadata": {},
   "outputs": [],
   "source": [
    "def load_data(filename):\n",
    "    # load data\n",
    "    df_input = pd.read_csv(filename, parse_dates=['RCV_TIMESTAMP_UTC'], comment='#')\n",
    "    #df_input = df_input.asfreq('H')\n",
    "    df_input = df_input.sort_values(by='RCV_TIMESTAMP_UTC').\\\n",
    "                    rename(columns={'RCV_TIMESTAMP_UTC':'timestamp', 'DEVICEID': 'entity'}).\\\n",
    "                    drop(columns=['DEVICETYPE','ID','FORMAT','UPDATED_UTC','LOGICALINTERFACE_ID','PUMP_MODE',\\\n",
    "                                  'DEVICE_ID','FIRMWARE_VER','PTS_COUNT','SERIAL_NUMBER', 'HARDWARE_VER',\\\n",
    "                                  'TAG_NUMBER','PWR','HW_VER','DQ','FW_VER','PTS','PERF_OPTION']).\\\n",
    "                    drop(columns=['VIBRATION_N_XAXIS','VIBRATION_N_YAXIS','VIBRATION_N_ZAXIS','REATED_POWER',\\\n",
    "                                  'RATED_SPEED','RATED_CURRENT','RMSN_X','RMSN_Y','RMSN_Z','RUN_QTY',\\\n",
    "                                  'DESIGN_HEAD','DESIGN_FLOW','RMS_X_AVG'])\n",
    "\n",
    "    df_input = df_input[df_input['VERSION'] != 0].drop(columns=['VERSION'])\n",
    "    \n",
    "    \n",
    "    return df_input\n",
    "\n",
    "\n",
    "    \n",
    "def prep_data(df_input):\n",
    "    entity = df_input['entity'].values[0]\n",
    "    \n",
    "    list_ac_vx = []\n",
    "    cnt = 0\n",
    "    for idx,row in df_input[['timestamp','VIBRATIONS_XAXIS','VIBRATIONS_YAXIS','VIBRATIONS_ZAXIS',\n",
    "                             'ACCEL_POWER','ACCEL_SPEED']].iterrows():\n",
    "        if isinstance(row['timestamp'], str):\n",
    "            ts = datetime.datetime.strptime(row['timestamp'], '%Y-%m-%d-%H.%M.%S.%f')\n",
    "        else:\n",
    "            ts = row['timestamp']\n",
    "            \n",
    "        rvibxs = row['VIBRATIONS_XAXIS']\n",
    "        rvibys = row['VIBRATIONS_YAXIS']\n",
    "        rvibzs = row['VIBRATIONS_ZAXIS']\n",
    "        racc = row['ACCEL_POWER']\n",
    "        rspd = row['ACCEL_SPEED']\n",
    "\n",
    "        if isinstance(racc, str):\n",
    "            racc = eval(racc)\n",
    "        if isinstance(rspd, str):\n",
    "            rspd = eval(rspd)\n",
    "            \n",
    "        if isinstance(rvibxs, str):\n",
    "            list_ac = []\n",
    "           \n",
    "            for ac in racc:\n",
    "                #print(ac)\n",
    "                list_ac.append(eval(ac))\n",
    "                list_ac.append(eval(ac))\n",
    "                list_ac.append(eval(ac))\n",
    "                #print (list_ac)\n",
    "            \n",
    "            list_as = []\n",
    "            for as_ in rspd:\n",
    "                list_as.append(eval(as_))\n",
    "                list_as.append(eval(as_))\n",
    "                list_as.append(eval(as_))\n",
    "            \n",
    "            list_vx = []\n",
    "            for vx in eval(rvibxs):\n",
    "                list_vx.append(vx)\n",
    "                #print (list_vx)\n",
    "            \n",
    "            list_vy = []\n",
    "            for vy in eval(rvibys):\n",
    "                list_vy.append(vy)\n",
    "            \n",
    "            list_vz = []\n",
    "            for vz in eval(rvibzs):\n",
    "                list_vz.append(vz)\n",
    "\n",
    "            #print(list_ac, list_vx)\n",
    "            cnt2 = 0\n",
    "            for p in zip(list_ac, list_as, list_vx, list_vy, list_vz):\n",
    "                #print(ts + datetime.timedelta(seconds = cnt2 * 10), p[0],p[1])\n",
    "                list_ac_vx.append([ts + datetime.timedelta(seconds = cnt2 * 10), p[0],p[1],p[2],p[3],p[4]])\n",
    "                cnt2 += 1\n",
    "        cnt += 1\n",
    "\n",
    "    df_clean = pd.DataFrame(list_ac_vx, columns=['timestamp','power','speed','rms_x', 'rms_y', 'rms_z'])\n",
    "    df_clean['entity'] = entity\n",
    "    \n",
    "    return df_clean.set_index(['entity','timestamp'])\n",
    "    "
   ]
  },
  {
   "cell_type": "code",
   "execution_count": 5,
   "metadata": {},
   "outputs": [],
   "source": [
    "#df_clean = prep_data(load_data('./IOT_PUMP_DE_GEN5_202012141519.csv'))\n",
    "\n",
    "#df_clean.head(2)"
   ]
  },
  {
   "cell_type": "code",
   "execution_count": 6,
   "metadata": {},
   "outputs": [],
   "source": [
    "filename = \"./IOT_SHADOW_PUMP_DE_GEN5_202102051132.csv\"\n",
    "dff = pd.read_csv(filename, parse_dates=['EVT_TIMESTAMP'], comment='#')\n",
    "dff.columns = dff.columns.str.lower() \n",
    "df_clean = dff.drop(columns=['devicetype','logicalinterface_id','eventtype','format',\n",
    "                             'rcv_timestamp_utc','updated_utc']).set_index(['deviceid','evt_timestamp'])"
   ]
  },
  {
   "cell_type": "code",
   "execution_count": 7,
   "metadata": {},
   "outputs": [
    {
     "data": {
      "text/html": [
       "<div>\n",
       "<style scoped>\n",
       "    .dataframe tbody tr th:only-of-type {\n",
       "        vertical-align: middle;\n",
       "    }\n",
       "\n",
       "    .dataframe tbody tr th {\n",
       "        vertical-align: top;\n",
       "    }\n",
       "\n",
       "    .dataframe thead th {\n",
       "        text-align: right;\n",
       "    }\n",
       "</style>\n",
       "<table border=\"1\" class=\"dataframe\">\n",
       "  <thead>\n",
       "    <tr style=\"text-align: right;\">\n",
       "      <th></th>\n",
       "      <th></th>\n",
       "      <th>rms_x</th>\n",
       "      <th>rms_z</th>\n",
       "      <th>rms_y</th>\n",
       "      <th>power</th>\n",
       "      <th>speed</th>\n",
       "    </tr>\n",
       "    <tr>\n",
       "      <th>deviceid</th>\n",
       "      <th>evt_timestamp</th>\n",
       "      <th></th>\n",
       "      <th></th>\n",
       "      <th></th>\n",
       "      <th></th>\n",
       "      <th></th>\n",
       "    </tr>\n",
       "  </thead>\n",
       "  <tbody>\n",
       "    <tr>\n",
       "      <th rowspan=\"11\" valign=\"top\">04714B601096</th>\n",
       "      <th>2020-07-19-11.38.48.552000</th>\n",
       "      <td>NaN</td>\n",
       "      <td>NaN</td>\n",
       "      <td>NaN</td>\n",
       "      <td>1.7290</td>\n",
       "      <td>1059.0</td>\n",
       "    </tr>\n",
       "    <tr>\n",
       "      <th>2020-07-19-11.39.08.552000</th>\n",
       "      <td>NaN</td>\n",
       "      <td>NaN</td>\n",
       "      <td>NaN</td>\n",
       "      <td>1.7290</td>\n",
       "      <td>1059.0</td>\n",
       "    </tr>\n",
       "    <tr>\n",
       "      <th>2020-07-19-11.39.28.701000</th>\n",
       "      <td>0.095508</td>\n",
       "      <td>0.062686</td>\n",
       "      <td>0.957628</td>\n",
       "      <td>1.7258</td>\n",
       "      <td>1059.0</td>\n",
       "    </tr>\n",
       "    <tr>\n",
       "      <th>2020-07-19-11.39.48.701000</th>\n",
       "      <td>0.089758</td>\n",
       "      <td>0.064799</td>\n",
       "      <td>0.956392</td>\n",
       "      <td>1.7258</td>\n",
       "      <td>1059.0</td>\n",
       "    </tr>\n",
       "    <tr>\n",
       "      <th>2020-07-19-11.40.08.701000</th>\n",
       "      <td>0.093306</td>\n",
       "      <td>0.064766</td>\n",
       "      <td>0.957083</td>\n",
       "      <td>1.7258</td>\n",
       "      <td>1059.0</td>\n",
       "    </tr>\n",
       "    <tr>\n",
       "      <th>...</th>\n",
       "      <td>...</td>\n",
       "      <td>...</td>\n",
       "      <td>...</td>\n",
       "      <td>...</td>\n",
       "      <td>...</td>\n",
       "    </tr>\n",
       "    <tr>\n",
       "      <th>2021-01-11-14.16.56.144000</th>\n",
       "      <td>NaN</td>\n",
       "      <td>NaN</td>\n",
       "      <td>NaN</td>\n",
       "      <td>2.4482</td>\n",
       "      <td>1105.0</td>\n",
       "    </tr>\n",
       "    <tr>\n",
       "      <th>2021-01-11-14.17.16.144000</th>\n",
       "      <td>NaN</td>\n",
       "      <td>NaN</td>\n",
       "      <td>NaN</td>\n",
       "      <td>2.4482</td>\n",
       "      <td>1105.0</td>\n",
       "    </tr>\n",
       "    <tr>\n",
       "      <th>2021-01-11-14.17.36.144000</th>\n",
       "      <td>NaN</td>\n",
       "      <td>NaN</td>\n",
       "      <td>NaN</td>\n",
       "      <td>2.4488</td>\n",
       "      <td>1104.0</td>\n",
       "    </tr>\n",
       "    <tr>\n",
       "      <th>2021-01-11-14.17.56.144000</th>\n",
       "      <td>NaN</td>\n",
       "      <td>NaN</td>\n",
       "      <td>NaN</td>\n",
       "      <td>2.4488</td>\n",
       "      <td>1104.0</td>\n",
       "    </tr>\n",
       "    <tr>\n",
       "      <th>2021-01-11-14.18.16.144000</th>\n",
       "      <td>NaN</td>\n",
       "      <td>NaN</td>\n",
       "      <td>NaN</td>\n",
       "      <td>2.4488</td>\n",
       "      <td>1104.0</td>\n",
       "    </tr>\n",
       "  </tbody>\n",
       "</table>\n",
       "<p>533940 rows × 5 columns</p>\n",
       "</div>"
      ],
      "text/plain": [
       "                                            rms_x     rms_z     rms_y   power  \\\n",
       "deviceid     evt_timestamp                                                      \n",
       "04714B601096 2020-07-19-11.38.48.552000       NaN       NaN       NaN  1.7290   \n",
       "             2020-07-19-11.39.08.552000       NaN       NaN       NaN  1.7290   \n",
       "             2020-07-19-11.39.28.701000  0.095508  0.062686  0.957628  1.7258   \n",
       "             2020-07-19-11.39.48.701000  0.089758  0.064799  0.956392  1.7258   \n",
       "             2020-07-19-11.40.08.701000  0.093306  0.064766  0.957083  1.7258   \n",
       "...                                           ...       ...       ...     ...   \n",
       "             2021-01-11-14.16.56.144000       NaN       NaN       NaN  2.4482   \n",
       "             2021-01-11-14.17.16.144000       NaN       NaN       NaN  2.4482   \n",
       "             2021-01-11-14.17.36.144000       NaN       NaN       NaN  2.4488   \n",
       "             2021-01-11-14.17.56.144000       NaN       NaN       NaN  2.4488   \n",
       "             2021-01-11-14.18.16.144000       NaN       NaN       NaN  2.4488   \n",
       "\n",
       "                                          speed  \n",
       "deviceid     evt_timestamp                       \n",
       "04714B601096 2020-07-19-11.38.48.552000  1059.0  \n",
       "             2020-07-19-11.39.08.552000  1059.0  \n",
       "             2020-07-19-11.39.28.701000  1059.0  \n",
       "             2020-07-19-11.39.48.701000  1059.0  \n",
       "             2020-07-19-11.40.08.701000  1059.0  \n",
       "...                                         ...  \n",
       "             2021-01-11-14.16.56.144000  1105.0  \n",
       "             2021-01-11-14.17.16.144000  1105.0  \n",
       "             2021-01-11-14.17.36.144000  1104.0  \n",
       "             2021-01-11-14.17.56.144000  1104.0  \n",
       "             2021-01-11-14.18.16.144000  1104.0  \n",
       "\n",
       "[533940 rows x 5 columns]"
      ]
     },
     "execution_count": 7,
     "metadata": {},
     "output_type": "execute_result"
    }
   ],
   "source": [
    "df_clean"
   ]
  },
  {
   "cell_type": "code",
   "execution_count": 8,
   "metadata": {},
   "outputs": [
    {
     "data": {
      "text/plain": [
       "'04714B601096'"
      ]
     },
     "execution_count": 8,
     "metadata": {},
     "output_type": "execute_result"
    }
   ],
   "source": [
    "df_clean.index.levels[0].values[0]\n"
   ]
  },
  {
   "cell_type": "code",
   "execution_count": 11,
   "metadata": {},
   "outputs": [
    {
     "name": "stdout",
     "output_type": "stream",
     "text": [
      "2021-02-05T11:39:48.718 INFO numexpr.utils._init_num_threads Note: NumExpr detected 12 cores but \"NUMEXPR_MAX_THREADS\" not set, so enforcing safe limit of 8.\n",
      "2021-02-05T11:39:48.718 INFO numexpr.utils._init_num_threads NumExpr defaulting to 8 threads.\n"
     ]
    },
    {
     "data": {
      "text/plain": [
       "<seaborn.axisgrid.FacetGrid at 0x7f128c0566a0>"
      ]
     },
     "execution_count": 11,
     "metadata": {},
     "output_type": "execute_result"
    },
    {
     "data": {
      "text/plain": [
       "<Figure size 1152x432 with 0 Axes>"
      ]
     },
     "metadata": {},
     "output_type": "display_data"
    },
    {
     "data": {
      "image/png": "[encoded data removed]",
      "text/plain": [
       "<Figure size 360x360 with 1 Axes>"
      ]
     },
     "metadata": {
      "needs_background": "light"
     },
     "output_type": "display_data"
    }
   ],
   "source": [
    "plt.figure(figsize=(16, 6))\n",
    "gx = sns.displot(df_clean[['speed','rms_x']], x='speed', y='rms_x', kind=\"kde\", rug=True)\n",
    "    \n",
    "gx.set_titles('KDE for' + df_clean.index.levels[0].values[0])"
   ]
  },
  {
   "cell_type": "code",
   "execution_count": 12,
   "metadata": {},
   "outputs": [
    {
     "data": {
      "text/plain": [
       "<seaborn.axisgrid.FacetGrid at 0x7f11cd448af0>"
      ]
     },
     "execution_count": 12,
     "metadata": {},
     "output_type": "execute_result"
    },
    {
     "data": {
      "text/plain": [
       "<Figure size 1152x432 with 0 Axes>"
      ]
     },
     "metadata": {},
     "output_type": "display_data"
    },
    {
     "data": {
      "image/png": "[encoded data removed]",
      "text/plain": [
       "<Figure size 360x360 with 1 Axes>"
      ]
     },
     "metadata": {
      "needs_background": "light"
     },
     "output_type": "display_data"
    }
   ],
   "source": [
    "plt.figure(figsize=(16, 6))\n",
    "gy = sns.displot(df_clean[['speed','rms_y']], x='speed', y='rms_y', kind=\"kde\", rug=True)\n",
    "    \n",
    "gy.set_titles('KDE for' + df_clean.index.levels[0].values[0])"
   ]
  },
  {
   "cell_type": "code",
   "execution_count": 9,
   "metadata": {},
   "outputs": [
    {
     "name": "stdout",
     "output_type": "stream",
     "text": [
      "2021-02-05T15:13:26.938 INFO numexpr.utils._init_num_threads Note: NumExpr detected 12 cores but \"NUMEXPR_MAX_THREADS\" not set, so enforcing safe limit of 8.\n",
      "2021-02-05T15:13:26.939 INFO numexpr.utils._init_num_threads NumExpr defaulting to 8 threads.\n"
     ]
    }
   ],
   "source": [
    "# prepare\n",
    "delete_model = False\n",
    "df_i = df_clean.dropna()\n",
    "#df_i['speed'] /= 10"
   ]
  },
  {
   "cell_type": "code",
   "execution_count": 10,
   "metadata": {
    "scrolled": true
   },
   "outputs": [
    {
     "name": "stdout",
     "output_type": "stream",
     "text": [
      "Train and evaluate model for 04714B601096\n",
      "2021-02-05T15:13:36.069 DEBUG iotfunctions.enginelog.configure_console_logging Console logging has been configured. Level = 10\n",
      "2021-02-05T15:13:36.071 DEBUG root.__init__ __init__VIAnomalyScore\n",
      "2021-02-05T15:13:36.072 DEBUG root.__init__ __init__ done with parameters: speed.rms_x\n",
      "2021-02-05T15:13:36.074 DEBUG iotfunctions.metadata.__init__ Initializing new entity type using iotfunctions 8.3.1\n",
      "2021-02-05T15:13:36.075 DEBUG iotfunctions.util.__init__ Starting trace\n",
      "2021-02-05T15:13:36.076 DEBUG iotfunctions.util.__init__ Trace name: auto_trace_test_entity_for_VIAnomalyScore_20210205141336\n",
      "2021-02-05T15:13:36.077 DEBUG iotfunctions.util.__init__ auto_save None\n",
      "2021-02-05T15:13:36.078 DEBUG iotfunctions.util.categorize_args categorizing arguments\n",
      "2021-02-05T15:13:36.079 WARNING iotfunctions.metadata.__init__ Created a logical entity type. It is not connected to a real database table, so it cannot perform any database operations.\n",
      "2021-02-05T15:13:36.080 DEBUG iotfunctions.metadata.__init__ Initialized entity type \n",
      "LocalEntityType:TEST_ENTITY_FOR_VIANOMALYSCORE\n",
      "Functions:\n",
      "Granularities:\n",
      "No schedules metadata\n",
      "2021-02-05T15:13:36.083 DEBUG mmfunctions.anomaly.execute VIAnomalyScore execute: <class 'pandas.core.frame.DataFrame'>\n",
      "2021-02-05T15:13:36.084 DEBUG mmfunctions.anomaly.execute ['04714B601096']\n",
      "['speed']\n",
      "2021-02-05T15:13:37.348 INFO iotfunctions.dbtables.retrieve_model Model model.IOT_SHADOW_PUMP_DE_GEN5.VIAnomalyScore.rms_x.04714B601096 of size 16618 bytes has been retrieved from table \"BLUADMIN\".\"KPI_MODEL_STORE\"\n",
      "2021-02-05T15:13:37.352 INFO mmfunctions.anomaly.execute load model VI(\n",
      "  (q_mu): Sequential(\n",
      "    (0): Linear(in_features=1, out_features=20, bias=True)\n",
      "    (1): ReLU()\n",
      "    (2): Linear(in_features=20, out_features=10, bias=True)\n",
      "    (3): ReLU()\n",
      "    (4): Linear(in_features=10, out_features=1, bias=True)\n",
      "  )\n",
      "  (q_log_var): Sequential(\n",
      "    (0): Linear(in_features=1, out_features=50, bias=True)\n",
      "    (1): ReLU()\n",
      "    (2): Linear(in_features=50, out_features=35, bias=True)\n",
      "    (3): ReLU()\n",
      "    (4): Linear(in_features=35, out_features=10, bias=True)\n",
      "    (5): ReLU()\n",
      "    (6): Linear(in_features=10, out_features=1, bias=True)\n",
      "  )\n",
      ")\n",
      "2021-02-05T15:13:37.369 INFO mmfunctions.anomaly.execute Adjusting target mean with 0.2014988813574559\n",
      "CPU times: user 457 ms, sys: 64.8 ms, total: 522 ms\n",
      "Wall time: 1.45 s\n"
     ]
    },
    {
     "data": {
      "text/html": [
       "<div>\n",
       "<style scoped>\n",
       "    .dataframe tbody tr th:only-of-type {\n",
       "        vertical-align: middle;\n",
       "    }\n",
       "\n",
       "    .dataframe tbody tr th {\n",
       "        vertical-align: top;\n",
       "    }\n",
       "\n",
       "    .dataframe thead th {\n",
       "        text-align: right;\n",
       "    }\n",
       "</style>\n",
       "<table border=\"1\" class=\"dataframe\">\n",
       "  <thead>\n",
       "    <tr style=\"text-align: right;\">\n",
       "      <th></th>\n",
       "      <th>rms_x</th>\n",
       "      <th>rms_z</th>\n",
       "      <th>rms_y</th>\n",
       "      <th>power</th>\n",
       "      <th>speed</th>\n",
       "      <th>predicted_rms_x</th>\n",
       "      <th>pred_dev_rms_x</th>\n",
       "    </tr>\n",
       "  </thead>\n",
       "  <tbody>\n",
       "    <tr>\n",
       "      <th>count</th>\n",
       "      <td>177980.000000</td>\n",
       "      <td>177980.000000</td>\n",
       "      <td>177980.000000</td>\n",
       "      <td>177980.000000</td>\n",
       "      <td>177980.000000</td>\n",
       "      <td>177980.000000</td>\n",
       "      <td>177980.000000</td>\n",
       "    </tr>\n",
       "    <tr>\n",
       "      <th>mean</th>\n",
       "      <td>0.201499</td>\n",
       "      <td>0.087049</td>\n",
       "      <td>0.964827</td>\n",
       "      <td>2.052877</td>\n",
       "      <td>1079.609838</td>\n",
       "      <td>0.199317</td>\n",
       "      <td>0.243256</td>\n",
       "    </tr>\n",
       "    <tr>\n",
       "      <th>std</th>\n",
       "      <td>0.101279</td>\n",
       "      <td>0.028381</td>\n",
       "      <td>0.005473</td>\n",
       "      <td>0.435038</td>\n",
       "      <td>30.031477</td>\n",
       "      <td>0.050033</td>\n",
       "      <td>0.103079</td>\n",
       "    </tr>\n",
       "    <tr>\n",
       "      <th>min</th>\n",
       "      <td>0.018446</td>\n",
       "      <td>0.027219</td>\n",
       "      <td>0.952113</td>\n",
       "      <td>0.115600</td>\n",
       "      <td>212.000000</td>\n",
       "      <td>0.051936</td>\n",
       "      <td>-0.043635</td>\n",
       "    </tr>\n",
       "    <tr>\n",
       "      <th>25%</th>\n",
       "      <td>0.108721</td>\n",
       "      <td>0.065397</td>\n",
       "      <td>0.959472</td>\n",
       "      <td>1.740200</td>\n",
       "      <td>1059.000000</td>\n",
       "      <td>0.202365</td>\n",
       "      <td>0.173472</td>\n",
       "    </tr>\n",
       "    <tr>\n",
       "      <th>50%</th>\n",
       "      <td>0.189055</td>\n",
       "      <td>0.078209</td>\n",
       "      <td>0.965996</td>\n",
       "      <td>1.795200</td>\n",
       "      <td>1062.000000</td>\n",
       "      <td>0.205529</td>\n",
       "      <td>0.305867</td>\n",
       "    </tr>\n",
       "    <tr>\n",
       "      <th>75%</th>\n",
       "      <td>0.278364</td>\n",
       "      <td>0.100557</td>\n",
       "      <td>0.969530</td>\n",
       "      <td>2.325800</td>\n",
       "      <td>1096.000000</td>\n",
       "      <td>0.218051</td>\n",
       "      <td>0.306096</td>\n",
       "    </tr>\n",
       "    <tr>\n",
       "      <th>max</th>\n",
       "      <td>0.576303</td>\n",
       "      <td>0.244273</td>\n",
       "      <td>0.979979</td>\n",
       "      <td>6.122200</td>\n",
       "      <td>1353.000000</td>\n",
       "      <td>0.274805</td>\n",
       "      <td>1.510480</td>\n",
       "    </tr>\n",
       "  </tbody>\n",
       "</table>\n",
       "</div>"
      ],
      "text/plain": [
       "               rms_x          rms_z          rms_y          power  \\\n",
       "count  177980.000000  177980.000000  177980.000000  177980.000000   \n",
       "mean        0.201499       0.087049       0.964827       2.052877   \n",
       "std         0.101279       0.028381       0.005473       0.435038   \n",
       "min         0.018446       0.027219       0.952113       0.115600   \n",
       "25%         0.108721       0.065397       0.959472       1.740200   \n",
       "50%         0.189055       0.078209       0.965996       1.795200   \n",
       "75%         0.278364       0.100557       0.969530       2.325800   \n",
       "max         0.576303       0.244273       0.979979       6.122200   \n",
       "\n",
       "               speed  predicted_rms_x  pred_dev_rms_x  \n",
       "count  177980.000000    177980.000000   177980.000000  \n",
       "mean     1079.609838         0.199317        0.243256  \n",
       "std        30.031477         0.050033        0.103079  \n",
       "min       212.000000         0.051936       -0.043635  \n",
       "25%      1059.000000         0.202365        0.173472  \n",
       "50%      1062.000000         0.205529        0.305867  \n",
       "75%      1096.000000         0.218051        0.306096  \n",
       "max      1353.000000         0.274805        1.510480  "
      ]
     },
     "execution_count": 10,
     "metadata": {},
     "output_type": "execute_result"
    }
   ],
   "source": [
    "%%time\n",
    "print('Train and evaluate model for ' + df_i.index.levels[0].values[0])\n",
    "# Now run the anomaly functions as if they were executed in a pipeline\n",
    "EngineLogging.configure_console_logging(logging.DEBUG)\n",
    "jobsettings = { 'db': db, \n",
    "               '_db_schema': 'public', 'save_trace_to_file' : True}\n",
    "\n",
    "spsi = VIAnomalyScore(['speed'], ['rms_x'])\n",
    "#spsi.epochs = 1  # only for testing model storage\n",
    "spsi.epochs = 300\n",
    "\n",
    "spsi.auto_train = True\n",
    "spsi.delete_model = delete_model\n",
    "et = spsi._build_entity_type(columns = [Column('MinTemp',Float())], **jobsettings)\n",
    "et.name = 'IOT_SHADOW_PUMP_DE_GEN5'\n",
    "\n",
    "\n",
    "\n",
    "spsi._entity_type = et\n",
    "df_i = spsi.execute(df=df_i)\n",
    "\n",
    "EngineLogging.configure_console_logging(logging.INFO)\n",
    "df_i.describe()"
   ]
  },
  {
   "cell_type": "code",
   "execution_count": 11,
   "metadata": {
    "scrolled": true
   },
   "outputs": [
    {
     "name": "stdout",
     "output_type": "stream",
     "text": [
      "Train and evaluate model for 04714B601096\n",
      "2021-02-05T15:13:37.530 DEBUG iotfunctions.enginelog.configure_console_logging Console logging has been configured. Level = 10\n",
      "2021-02-05T15:13:37.531 DEBUG root.__init__ __init__VIAnomalyScore\n",
      "2021-02-05T15:13:37.531 DEBUG root.__init__ __init__ done with parameters: speed.rms_y\n",
      "2021-02-05T15:13:37.531 DEBUG iotfunctions.metadata.__init__ Initializing new entity type using iotfunctions 8.3.1\n",
      "2021-02-05T15:13:37.532 DEBUG iotfunctions.util.__init__ Starting trace\n",
      "2021-02-05T15:13:37.532 DEBUG iotfunctions.util.__init__ Trace name: auto_trace_test_entity_for_VIAnomalyScore_20210205141337\n",
      "2021-02-05T15:13:37.533 DEBUG iotfunctions.util.__init__ auto_save None\n",
      "2021-02-05T15:13:37.533 DEBUG iotfunctions.util.categorize_args categorizing arguments\n",
      "2021-02-05T15:13:37.534 WARNING iotfunctions.metadata.__init__ Created a logical entity type. It is not connected to a real database table, so it cannot perform any database operations.\n",
      "2021-02-05T15:13:37.534 DEBUG iotfunctions.metadata.__init__ Initialized entity type \n",
      "LocalEntityType:TEST_ENTITY_FOR_VIANOMALYSCORE\n",
      "Functions:\n",
      "Granularities:\n",
      "No schedules metadata\n",
      "2021-02-05T15:13:37.536 DEBUG mmfunctions.anomaly.execute VIAnomalyScore execute: <class 'pandas.core.frame.DataFrame'>\n",
      "2021-02-05T15:13:37.537 DEBUG mmfunctions.anomaly.execute ['04714B601096']\n",
      "['speed']\n",
      "2021-02-05T15:13:38.707 INFO iotfunctions.dbtables.retrieve_model Model model.IOT_SHADOW_PUMP_DE_GEN5.VIAnomalyScore.rms_y.04714B601096 of size 16634 bytes has been retrieved from table \"BLUADMIN\".\"KPI_MODEL_STORE\"\n",
      "2021-02-05T15:13:38.713 INFO mmfunctions.anomaly.execute load model VI(\n",
      "  (q_mu): Sequential(\n",
      "    (0): Linear(in_features=1, out_features=20, bias=True)\n",
      "    (1): ReLU()\n",
      "    (2): Linear(in_features=20, out_features=10, bias=True)\n",
      "    (3): ReLU()\n",
      "    (4): Linear(in_features=10, out_features=1, bias=True)\n",
      "  )\n",
      "  (q_log_var): Sequential(\n",
      "    (0): Linear(in_features=1, out_features=50, bias=True)\n",
      "    (1): ReLU()\n",
      "    (2): Linear(in_features=50, out_features=35, bias=True)\n",
      "    (3): ReLU()\n",
      "    (4): Linear(in_features=35, out_features=10, bias=True)\n",
      "    (5): ReLU()\n",
      "    (6): Linear(in_features=10, out_features=1, bias=True)\n",
      "  )\n",
      ")\n",
      "2021-02-05T15:13:38.758 INFO mmfunctions.anomaly.execute Adjusting target mean with 0.9648271186706371\n",
      "CPU times: user 523 ms, sys: 73.8 ms, total: 597 ms\n",
      "Wall time: 1.4 s\n"
     ]
    },
    {
     "data": {
      "text/html": [
       "<div>\n",
       "<style scoped>\n",
       "    .dataframe tbody tr th:only-of-type {\n",
       "        vertical-align: middle;\n",
       "    }\n",
       "\n",
       "    .dataframe tbody tr th {\n",
       "        vertical-align: top;\n",
       "    }\n",
       "\n",
       "    .dataframe thead th {\n",
       "        text-align: right;\n",
       "    }\n",
       "</style>\n",
       "<table border=\"1\" class=\"dataframe\">\n",
       "  <thead>\n",
       "    <tr style=\"text-align: right;\">\n",
       "      <th></th>\n",
       "      <th>rms_x</th>\n",
       "      <th>rms_z</th>\n",
       "      <th>rms_y</th>\n",
       "      <th>power</th>\n",
       "      <th>speed</th>\n",
       "      <th>predicted_rms_x</th>\n",
       "      <th>pred_dev_rms_x</th>\n",
       "      <th>predicted_rms_y</th>\n",
       "      <th>pred_dev_rms_y</th>\n",
       "    </tr>\n",
       "  </thead>\n",
       "  <tbody>\n",
       "    <tr>\n",
       "      <th>count</th>\n",
       "      <td>177980.000000</td>\n",
       "      <td>177980.000000</td>\n",
       "      <td>177980.000000</td>\n",
       "      <td>177980.000000</td>\n",
       "      <td>177980.000000</td>\n",
       "      <td>177980.000000</td>\n",
       "      <td>177980.000000</td>\n",
       "      <td>177980.000000</td>\n",
       "      <td>177980.000000</td>\n",
       "    </tr>\n",
       "    <tr>\n",
       "      <th>mean</th>\n",
       "      <td>0.201499</td>\n",
       "      <td>0.087049</td>\n",
       "      <td>0.964827</td>\n",
       "      <td>2.052877</td>\n",
       "      <td>1079.609838</td>\n",
       "      <td>0.199317</td>\n",
       "      <td>0.243256</td>\n",
       "      <td>0.964607</td>\n",
       "      <td>0.024917</td>\n",
       "    </tr>\n",
       "    <tr>\n",
       "      <th>std</th>\n",
       "      <td>0.101279</td>\n",
       "      <td>0.028381</td>\n",
       "      <td>0.005473</td>\n",
       "      <td>0.435038</td>\n",
       "      <td>30.031477</td>\n",
       "      <td>0.050033</td>\n",
       "      <td>0.103079</td>\n",
       "      <td>0.004391</td>\n",
       "      <td>0.005371</td>\n",
       "    </tr>\n",
       "    <tr>\n",
       "      <th>min</th>\n",
       "      <td>0.018446</td>\n",
       "      <td>0.027219</td>\n",
       "      <td>0.952113</td>\n",
       "      <td>0.115600</td>\n",
       "      <td>212.000000</td>\n",
       "      <td>0.051936</td>\n",
       "      <td>-0.043635</td>\n",
       "      <td>0.959193</td>\n",
       "      <td>0.007013</td>\n",
       "    </tr>\n",
       "    <tr>\n",
       "      <th>25%</th>\n",
       "      <td>0.108721</td>\n",
       "      <td>0.065397</td>\n",
       "      <td>0.959472</td>\n",
       "      <td>1.740200</td>\n",
       "      <td>1059.000000</td>\n",
       "      <td>0.202365</td>\n",
       "      <td>0.173472</td>\n",
       "      <td>0.960191</td>\n",
       "      <td>0.020119</td>\n",
       "    </tr>\n",
       "    <tr>\n",
       "      <th>50%</th>\n",
       "      <td>0.189055</td>\n",
       "      <td>0.078209</td>\n",
       "      <td>0.965996</td>\n",
       "      <td>1.795200</td>\n",
       "      <td>1062.000000</td>\n",
       "      <td>0.205529</td>\n",
       "      <td>0.305867</td>\n",
       "      <td>0.963184</td>\n",
       "      <td>0.022496</td>\n",
       "    </tr>\n",
       "    <tr>\n",
       "      <th>75%</th>\n",
       "      <td>0.278364</td>\n",
       "      <td>0.100557</td>\n",
       "      <td>0.969530</td>\n",
       "      <td>2.325800</td>\n",
       "      <td>1096.000000</td>\n",
       "      <td>0.218051</td>\n",
       "      <td>0.306096</td>\n",
       "      <td>0.969012</td>\n",
       "      <td>0.030674</td>\n",
       "    </tr>\n",
       "    <tr>\n",
       "      <th>max</th>\n",
       "      <td>0.576303</td>\n",
       "      <td>0.244273</td>\n",
       "      <td>0.979979</td>\n",
       "      <td>6.122200</td>\n",
       "      <td>1353.000000</td>\n",
       "      <td>0.274805</td>\n",
       "      <td>1.510480</td>\n",
       "      <td>0.977185</td>\n",
       "      <td>0.134411</td>\n",
       "    </tr>\n",
       "  </tbody>\n",
       "</table>\n",
       "</div>"
      ],
      "text/plain": [
       "               rms_x          rms_z          rms_y          power  \\\n",
       "count  177980.000000  177980.000000  177980.000000  177980.000000   \n",
       "mean        0.201499       0.087049       0.964827       2.052877   \n",
       "std         0.101279       0.028381       0.005473       0.435038   \n",
       "min         0.018446       0.027219       0.952113       0.115600   \n",
       "25%         0.108721       0.065397       0.959472       1.740200   \n",
       "50%         0.189055       0.078209       0.965996       1.795200   \n",
       "75%         0.278364       0.100557       0.969530       2.325800   \n",
       "max         0.576303       0.244273       0.979979       6.122200   \n",
       "\n",
       "               speed  predicted_rms_x  pred_dev_rms_x  predicted_rms_y  \\\n",
       "count  177980.000000    177980.000000   177980.000000    177980.000000   \n",
       "mean     1079.609838         0.199317        0.243256         0.964607   \n",
       "std        30.031477         0.050033        0.103079         0.004391   \n",
       "min       212.000000         0.051936       -0.043635         0.959193   \n",
       "25%      1059.000000         0.202365        0.173472         0.960191   \n",
       "50%      1062.000000         0.205529        0.305867         0.963184   \n",
       "75%      1096.000000         0.218051        0.306096         0.969012   \n",
       "max      1353.000000         0.274805        1.510480         0.977185   \n",
       "\n",
       "       pred_dev_rms_y  \n",
       "count   177980.000000  \n",
       "mean         0.024917  \n",
       "std          0.005371  \n",
       "min          0.007013  \n",
       "25%          0.020119  \n",
       "50%          0.022496  \n",
       "75%          0.030674  \n",
       "max          0.134411  "
      ]
     },
     "execution_count": 11,
     "metadata": {},
     "output_type": "execute_result"
    }
   ],
   "source": [
    "%%time\n",
    "print('Train and evaluate model for ' + df_i.index.levels[0].values[0])\n",
    "# Now run the anomaly functions as if they were executed in a pipeline\n",
    "EngineLogging.configure_console_logging(logging.DEBUG)\n",
    "jobsettings = { 'db': db, \n",
    "               '_db_schema': 'public', 'save_trace_to_file' : True}\n",
    "\n",
    "spsiy = VIAnomalyScore(['speed'], ['rms_y'])\n",
    "#spsiy.epochs = 1  # only for testing model storage\n",
    "spsiy.epochs = 300\n",
    "\n",
    "spsiy.auto_train = True\n",
    "spsiy.delete_model = delete_model\n",
    "ety = spsiy._build_entity_type(columns = [Column('MinTemp',Float())], **jobsettings)\n",
    "ety.name = 'IOT_SHADOW_PUMP_DE_GEN5'\n",
    "\n",
    "spsiy._entity_type = ety\n",
    "df_i = spsiy.execute(df=df_i)\n",
    "\n",
    "EngineLogging.configure_console_logging(logging.INFO)\n",
    "df_i.describe()"
   ]
  },
  {
   "cell_type": "code",
   "execution_count": 12,
   "metadata": {
    "scrolled": true
   },
   "outputs": [
    {
     "name": "stdout",
     "output_type": "stream",
     "text": [
      "Train and evaluate model for 04714B601096\n",
      "2021-02-05T15:13:38.938 DEBUG iotfunctions.enginelog.configure_console_logging Console logging has been configured. Level = 10\n",
      "2021-02-05T15:13:38.939 DEBUG root.__init__ __init__VIAnomalyScore\n",
      "2021-02-05T15:13:38.940 DEBUG root.__init__ __init__ done with parameters: speed.rms_z\n",
      "2021-02-05T15:13:38.940 DEBUG iotfunctions.metadata.__init__ Initializing new entity type using iotfunctions 8.3.1\n",
      "2021-02-05T15:13:38.941 DEBUG iotfunctions.util.__init__ Starting trace\n",
      "2021-02-05T15:13:38.941 DEBUG iotfunctions.util.__init__ Trace name: auto_trace_test_entity_for_VIAnomalyScore_20210205141338\n",
      "2021-02-05T15:13:38.942 DEBUG iotfunctions.util.__init__ auto_save None\n",
      "2021-02-05T15:13:38.942 DEBUG iotfunctions.util.categorize_args categorizing arguments\n",
      "2021-02-05T15:13:38.943 WARNING iotfunctions.metadata.__init__ Created a logical entity type. It is not connected to a real database table, so it cannot perform any database operations.\n",
      "2021-02-05T15:13:38.943 DEBUG iotfunctions.metadata.__init__ Initialized entity type \n",
      "LocalEntityType:TEST_ENTITY_FOR_VIANOMALYSCORE\n",
      "Functions:\n",
      "Granularities:\n",
      "No schedules metadata\n",
      "2021-02-05T15:13:38.946 DEBUG mmfunctions.anomaly.execute VIAnomalyScore execute: <class 'pandas.core.frame.DataFrame'>\n",
      "2021-02-05T15:13:38.946 DEBUG mmfunctions.anomaly.execute ['04714B601096']\n",
      "['speed']\n",
      "2021-02-05T15:13:40.565 INFO iotfunctions.dbtables.retrieve_model Model model.IOT_SHADOW_PUMP_DE_GEN5.VIAnomalyScore.rms_z.04714B601096 of size 16636 bytes has been retrieved from table \"BLUADMIN\".\"KPI_MODEL_STORE\"\n",
      "2021-02-05T15:13:40.571 INFO mmfunctions.anomaly.execute load model VI(\n",
      "  (q_mu): Sequential(\n",
      "    (0): Linear(in_features=1, out_features=20, bias=True)\n",
      "    (1): ReLU()\n",
      "    (2): Linear(in_features=20, out_features=10, bias=True)\n",
      "    (3): ReLU()\n",
      "    (4): Linear(in_features=10, out_features=1, bias=True)\n",
      "  )\n",
      "  (q_log_var): Sequential(\n",
      "    (0): Linear(in_features=1, out_features=50, bias=True)\n",
      "    (1): ReLU()\n",
      "    (2): Linear(in_features=50, out_features=35, bias=True)\n",
      "    (3): ReLU()\n",
      "    (4): Linear(in_features=35, out_features=10, bias=True)\n",
      "    (5): ReLU()\n",
      "    (6): Linear(in_features=10, out_features=1, bias=True)\n",
      "  )\n",
      ")\n",
      "2021-02-05T15:13:40.606 INFO mmfunctions.anomaly.execute Adjusting target mean with 0.08704876804697158\n",
      "CPU times: user 518 ms, sys: 43 ms, total: 561 ms\n",
      "Wall time: 1.84 s\n"
     ]
    },
    {
     "data": {
      "text/html": [
       "<div>\n",
       "<style scoped>\n",
       "    .dataframe tbody tr th:only-of-type {\n",
       "        vertical-align: middle;\n",
       "    }\n",
       "\n",
       "    .dataframe tbody tr th {\n",
       "        vertical-align: top;\n",
       "    }\n",
       "\n",
       "    .dataframe thead th {\n",
       "        text-align: right;\n",
       "    }\n",
       "</style>\n",
       "<table border=\"1\" class=\"dataframe\">\n",
       "  <thead>\n",
       "    <tr style=\"text-align: right;\">\n",
       "      <th></th>\n",
       "      <th>rms_x</th>\n",
       "      <th>rms_z</th>\n",
       "      <th>rms_y</th>\n",
       "      <th>power</th>\n",
       "      <th>speed</th>\n",
       "      <th>predicted_rms_x</th>\n",
       "      <th>pred_dev_rms_x</th>\n",
       "      <th>predicted_rms_y</th>\n",
       "      <th>pred_dev_rms_y</th>\n",
       "      <th>predicted_rms_z</th>\n",
       "      <th>pred_dev_rms_z</th>\n",
       "    </tr>\n",
       "  </thead>\n",
       "  <tbody>\n",
       "    <tr>\n",
       "      <th>count</th>\n",
       "      <td>177980.000000</td>\n",
       "      <td>177980.000000</td>\n",
       "      <td>177980.000000</td>\n",
       "      <td>177980.000000</td>\n",
       "      <td>177980.000000</td>\n",
       "      <td>177980.000000</td>\n",
       "      <td>177980.000000</td>\n",
       "      <td>177980.000000</td>\n",
       "      <td>177980.000000</td>\n",
       "      <td>177980.000000</td>\n",
       "      <td>177980.000000</td>\n",
       "    </tr>\n",
       "    <tr>\n",
       "      <th>mean</th>\n",
       "      <td>0.201499</td>\n",
       "      <td>0.087049</td>\n",
       "      <td>0.964827</td>\n",
       "      <td>2.052877</td>\n",
       "      <td>1079.609838</td>\n",
       "      <td>0.199317</td>\n",
       "      <td>0.243256</td>\n",
       "      <td>0.964607</td>\n",
       "      <td>0.024917</td>\n",
       "      <td>0.080121</td>\n",
       "      <td>0.096390</td>\n",
       "    </tr>\n",
       "    <tr>\n",
       "      <th>std</th>\n",
       "      <td>0.101279</td>\n",
       "      <td>0.028381</td>\n",
       "      <td>0.005473</td>\n",
       "      <td>0.435038</td>\n",
       "      <td>30.031477</td>\n",
       "      <td>0.050033</td>\n",
       "      <td>0.103079</td>\n",
       "      <td>0.004391</td>\n",
       "      <td>0.005371</td>\n",
       "      <td>0.002173</td>\n",
       "      <td>0.027322</td>\n",
       "    </tr>\n",
       "    <tr>\n",
       "      <th>min</th>\n",
       "      <td>0.018446</td>\n",
       "      <td>0.027219</td>\n",
       "      <td>0.952113</td>\n",
       "      <td>0.115600</td>\n",
       "      <td>212.000000</td>\n",
       "      <td>0.051936</td>\n",
       "      <td>-0.043635</td>\n",
       "      <td>0.959193</td>\n",
       "      <td>0.007013</td>\n",
       "      <td>-0.304107</td>\n",
       "      <td>-0.205957</td>\n",
       "    </tr>\n",
       "    <tr>\n",
       "      <th>25%</th>\n",
       "      <td>0.108721</td>\n",
       "      <td>0.065397</td>\n",
       "      <td>0.959472</td>\n",
       "      <td>1.740200</td>\n",
       "      <td>1059.000000</td>\n",
       "      <td>0.202365</td>\n",
       "      <td>0.173472</td>\n",
       "      <td>0.960191</td>\n",
       "      <td>0.020119</td>\n",
       "      <td>0.080134</td>\n",
       "      <td>0.075043</td>\n",
       "    </tr>\n",
       "    <tr>\n",
       "      <th>50%</th>\n",
       "      <td>0.189055</td>\n",
       "      <td>0.078209</td>\n",
       "      <td>0.965996</td>\n",
       "      <td>1.795200</td>\n",
       "      <td>1062.000000</td>\n",
       "      <td>0.205529</td>\n",
       "      <td>0.305867</td>\n",
       "      <td>0.963184</td>\n",
       "      <td>0.022496</td>\n",
       "      <td>0.080134</td>\n",
       "      <td>0.083694</td>\n",
       "    </tr>\n",
       "    <tr>\n",
       "      <th>75%</th>\n",
       "      <td>0.278364</td>\n",
       "      <td>0.100557</td>\n",
       "      <td>0.969530</td>\n",
       "      <td>2.325800</td>\n",
       "      <td>1096.000000</td>\n",
       "      <td>0.218051</td>\n",
       "      <td>0.306096</td>\n",
       "      <td>0.969012</td>\n",
       "      <td>0.030674</td>\n",
       "      <td>0.080134</td>\n",
       "      <td>0.112059</td>\n",
       "    </tr>\n",
       "    <tr>\n",
       "      <th>max</th>\n",
       "      <td>0.576303</td>\n",
       "      <td>0.244273</td>\n",
       "      <td>0.979979</td>\n",
       "      <td>6.122200</td>\n",
       "      <td>1353.000000</td>\n",
       "      <td>0.274805</td>\n",
       "      <td>1.510480</td>\n",
       "      <td>0.977185</td>\n",
       "      <td>0.134411</td>\n",
       "      <td>0.080134</td>\n",
       "      <td>0.160004</td>\n",
       "    </tr>\n",
       "  </tbody>\n",
       "</table>\n",
       "</div>"
      ],
      "text/plain": [
       "               rms_x          rms_z          rms_y          power  \\\n",
       "count  177980.000000  177980.000000  177980.000000  177980.000000   \n",
       "mean        0.201499       0.087049       0.964827       2.052877   \n",
       "std         0.101279       0.028381       0.005473       0.435038   \n",
       "min         0.018446       0.027219       0.952113       0.115600   \n",
       "25%         0.108721       0.065397       0.959472       1.740200   \n",
       "50%         0.189055       0.078209       0.965996       1.795200   \n",
       "75%         0.278364       0.100557       0.969530       2.325800   \n",
       "max         0.576303       0.244273       0.979979       6.122200   \n",
       "\n",
       "               speed  predicted_rms_x  pred_dev_rms_x  predicted_rms_y  \\\n",
       "count  177980.000000    177980.000000   177980.000000    177980.000000   \n",
       "mean     1079.609838         0.199317        0.243256         0.964607   \n",
       "std        30.031477         0.050033        0.103079         0.004391   \n",
       "min       212.000000         0.051936       -0.043635         0.959193   \n",
       "25%      1059.000000         0.202365        0.173472         0.960191   \n",
       "50%      1062.000000         0.205529        0.305867         0.963184   \n",
       "75%      1096.000000         0.218051        0.306096         0.969012   \n",
       "max      1353.000000         0.274805        1.510480         0.977185   \n",
       "\n",
       "       pred_dev_rms_y  predicted_rms_z  pred_dev_rms_z  \n",
       "count   177980.000000    177980.000000   177980.000000  \n",
       "mean         0.024917         0.080121        0.096390  \n",
       "std          0.005371         0.002173        0.027322  \n",
       "min          0.007013        -0.304107       -0.205957  \n",
       "25%          0.020119         0.080134        0.075043  \n",
       "50%          0.022496         0.080134        0.083694  \n",
       "75%          0.030674         0.080134        0.112059  \n",
       "max          0.134411         0.080134        0.160004  "
      ]
     },
     "execution_count": 12,
     "metadata": {},
     "output_type": "execute_result"
    }
   ],
   "source": [
    "%%time\n",
    "print('Train and evaluate model for ' + df_i.index.levels[0].values[0])\n",
    "# Now run the anomaly functions as if they were executed in a pipeline\n",
    "EngineLogging.configure_console_logging(logging.DEBUG)\n",
    "jobsettings = { 'db': db, \n",
    "               '_db_schema': 'public', 'save_trace_to_file' : True}\n",
    "\n",
    "spsiz = VIAnomalyScore(['speed'], ['rms_z'])\n",
    "#spsiz.epochs = 1  # only for testing model storage\n",
    "spsiz.epochs = 300\n",
    "\n",
    "spsiz.auto_train = True\n",
    "spsiz.delete_model = delete_model\n",
    "etz = spsiz._build_entity_type(columns = [Column('MinTemp',Float())], **jobsettings)\n",
    "etz.name = 'IOT_SHADOW_PUMP_DE_GEN5'\n",
    "\n",
    "spsiz._entity_type = etz\n",
    "df_i = spsiz.execute(df=df_i)\n",
    "\n",
    "EngineLogging.configure_console_logging(logging.INFO)\n",
    "df_i.describe()"
   ]
  },
  {
   "cell_type": "code",
   "execution_count": 13,
   "metadata": {},
   "outputs": [
    {
     "data": {
      "text/plain": [
       "'IOT_SHADOW_PUMP_DE_GEN5'"
      ]
     },
     "execution_count": 13,
     "metadata": {},
     "output_type": "execute_result"
    }
   ],
   "source": [
    "et.name"
   ]
  },
  {
   "cell_type": "code",
   "execution_count": 14,
   "metadata": {},
   "outputs": [
    {
     "data": {
      "text/plain": [
       "Index(['rms_x', 'rms_z', 'rms_y', 'power', 'speed', 'predicted_rms_x',\n",
       "       'pred_dev_rms_x', 'predicted_rms_y', 'pred_dev_rms_y',\n",
       "       'predicted_rms_z', 'pred_dev_rms_z'],\n",
       "      dtype='object')"
      ]
     },
     "execution_count": 14,
     "metadata": {},
     "output_type": "execute_result"
    }
   ],
   "source": [
    "df_i.columns"
   ]
  },
  {
   "cell_type": "code",
   "execution_count": 15,
   "metadata": {},
   "outputs": [
    {
     "data": {
      "text/html": [
       "<div>\n",
       "<style scoped>\n",
       "    .dataframe tbody tr th:only-of-type {\n",
       "        vertical-align: middle;\n",
       "    }\n",
       "\n",
       "    .dataframe tbody tr th {\n",
       "        vertical-align: top;\n",
       "    }\n",
       "\n",
       "    .dataframe thead th {\n",
       "        text-align: right;\n",
       "    }\n",
       "</style>\n",
       "<table border=\"1\" class=\"dataframe\">\n",
       "  <thead>\n",
       "    <tr style=\"text-align: right;\">\n",
       "      <th></th>\n",
       "      <th>rms_x</th>\n",
       "      <th>rms_z</th>\n",
       "      <th>rms_y</th>\n",
       "      <th>power</th>\n",
       "      <th>speed</th>\n",
       "      <th>predicted_rms_x</th>\n",
       "      <th>pred_dev_rms_x</th>\n",
       "      <th>predicted_rms_y</th>\n",
       "      <th>pred_dev_rms_y</th>\n",
       "      <th>predicted_rms_z</th>\n",
       "      <th>pred_dev_rms_z</th>\n",
       "    </tr>\n",
       "  </thead>\n",
       "  <tbody>\n",
       "    <tr>\n",
       "      <th>count</th>\n",
       "      <td>177980.000000</td>\n",
       "      <td>177980.000000</td>\n",
       "      <td>177980.000000</td>\n",
       "      <td>177980.000000</td>\n",
       "      <td>177980.000000</td>\n",
       "      <td>177980.000000</td>\n",
       "      <td>177980.000000</td>\n",
       "      <td>177980.000000</td>\n",
       "      <td>177980.000000</td>\n",
       "      <td>177980.000000</td>\n",
       "      <td>177980.000000</td>\n",
       "    </tr>\n",
       "    <tr>\n",
       "      <th>mean</th>\n",
       "      <td>0.201499</td>\n",
       "      <td>0.087049</td>\n",
       "      <td>0.964827</td>\n",
       "      <td>2.052877</td>\n",
       "      <td>1079.609838</td>\n",
       "      <td>0.199317</td>\n",
       "      <td>0.243256</td>\n",
       "      <td>0.964607</td>\n",
       "      <td>0.024917</td>\n",
       "      <td>0.080121</td>\n",
       "      <td>0.096390</td>\n",
       "    </tr>\n",
       "    <tr>\n",
       "      <th>std</th>\n",
       "      <td>0.101279</td>\n",
       "      <td>0.028381</td>\n",
       "      <td>0.005473</td>\n",
       "      <td>0.435038</td>\n",
       "      <td>30.031477</td>\n",
       "      <td>0.050033</td>\n",
       "      <td>0.103079</td>\n",
       "      <td>0.004391</td>\n",
       "      <td>0.005371</td>\n",
       "      <td>0.002173</td>\n",
       "      <td>0.027322</td>\n",
       "    </tr>\n",
       "    <tr>\n",
       "      <th>min</th>\n",
       "      <td>0.018446</td>\n",
       "      <td>0.027219</td>\n",
       "      <td>0.952113</td>\n",
       "      <td>0.115600</td>\n",
       "      <td>212.000000</td>\n",
       "      <td>0.051936</td>\n",
       "      <td>-0.043635</td>\n",
       "      <td>0.959193</td>\n",
       "      <td>0.007013</td>\n",
       "      <td>-0.304107</td>\n",
       "      <td>-0.205957</td>\n",
       "    </tr>\n",
       "    <tr>\n",
       "      <th>25%</th>\n",
       "      <td>0.108721</td>\n",
       "      <td>0.065397</td>\n",
       "      <td>0.959472</td>\n",
       "      <td>1.740200</td>\n",
       "      <td>1059.000000</td>\n",
       "      <td>0.202365</td>\n",
       "      <td>0.173472</td>\n",
       "      <td>0.960191</td>\n",
       "      <td>0.020119</td>\n",
       "      <td>0.080134</td>\n",
       "      <td>0.075043</td>\n",
       "    </tr>\n",
       "    <tr>\n",
       "      <th>50%</th>\n",
       "      <td>0.189055</td>\n",
       "      <td>0.078209</td>\n",
       "      <td>0.965996</td>\n",
       "      <td>1.795200</td>\n",
       "      <td>1062.000000</td>\n",
       "      <td>0.205529</td>\n",
       "      <td>0.305867</td>\n",
       "      <td>0.963184</td>\n",
       "      <td>0.022496</td>\n",
       "      <td>0.080134</td>\n",
       "      <td>0.083694</td>\n",
       "    </tr>\n",
       "    <tr>\n",
       "      <th>75%</th>\n",
       "      <td>0.278364</td>\n",
       "      <td>0.100557</td>\n",
       "      <td>0.969530</td>\n",
       "      <td>2.325800</td>\n",
       "      <td>1096.000000</td>\n",
       "      <td>0.218051</td>\n",
       "      <td>0.306096</td>\n",
       "      <td>0.969012</td>\n",
       "      <td>0.030674</td>\n",
       "      <td>0.080134</td>\n",
       "      <td>0.112059</td>\n",
       "    </tr>\n",
       "    <tr>\n",
       "      <th>max</th>\n",
       "      <td>0.576303</td>\n",
       "      <td>0.244273</td>\n",
       "      <td>0.979979</td>\n",
       "      <td>6.122200</td>\n",
       "      <td>1353.000000</td>\n",
       "      <td>0.274805</td>\n",
       "      <td>1.510480</td>\n",
       "      <td>0.977185</td>\n",
       "      <td>0.134411</td>\n",
       "      <td>0.080134</td>\n",
       "      <td>0.160004</td>\n",
       "    </tr>\n",
       "  </tbody>\n",
       "</table>\n",
       "</div>"
      ],
      "text/plain": [
       "               rms_x          rms_z          rms_y          power  \\\n",
       "count  177980.000000  177980.000000  177980.000000  177980.000000   \n",
       "mean        0.201499       0.087049       0.964827       2.052877   \n",
       "std         0.101279       0.028381       0.005473       0.435038   \n",
       "min         0.018446       0.027219       0.952113       0.115600   \n",
       "25%         0.108721       0.065397       0.959472       1.740200   \n",
       "50%         0.189055       0.078209       0.965996       1.795200   \n",
       "75%         0.278364       0.100557       0.969530       2.325800   \n",
       "max         0.576303       0.244273       0.979979       6.122200   \n",
       "\n",
       "               speed  predicted_rms_x  pred_dev_rms_x  predicted_rms_y  \\\n",
       "count  177980.000000    177980.000000   177980.000000    177980.000000   \n",
       "mean     1079.609838         0.199317        0.243256         0.964607   \n",
       "std        30.031477         0.050033        0.103079         0.004391   \n",
       "min       212.000000         0.051936       -0.043635         0.959193   \n",
       "25%      1059.000000         0.202365        0.173472         0.960191   \n",
       "50%      1062.000000         0.205529        0.305867         0.963184   \n",
       "75%      1096.000000         0.218051        0.306096         0.969012   \n",
       "max      1353.000000         0.274805        1.510480         0.977185   \n",
       "\n",
       "       pred_dev_rms_y  predicted_rms_z  pred_dev_rms_z  \n",
       "count   177980.000000    177980.000000   177980.000000  \n",
       "mean         0.024917         0.080121        0.096390  \n",
       "std          0.005371         0.002173        0.027322  \n",
       "min          0.007013        -0.304107       -0.205957  \n",
       "25%          0.020119         0.080134        0.075043  \n",
       "50%          0.022496         0.080134        0.083694  \n",
       "75%          0.030674         0.080134        0.112059  \n",
       "max          0.134411         0.080134        0.160004  "
      ]
     },
     "execution_count": 15,
     "metadata": {},
     "output_type": "execute_result"
    }
   ],
   "source": [
    "df_i.describe()"
   ]
  },
  {
   "cell_type": "code",
   "execution_count": 34,
   "metadata": {},
   "outputs": [
    {
     "data": {
      "text/html": [
       "<div>\n",
       "<style scoped>\n",
       "    .dataframe tbody tr th:only-of-type {\n",
       "        vertical-align: middle;\n",
       "    }\n",
       "\n",
       "    .dataframe tbody tr th {\n",
       "        vertical-align: top;\n",
       "    }\n",
       "\n",
       "    .dataframe thead th {\n",
       "        text-align: right;\n",
       "    }\n",
       "</style>\n",
       "<table border=\"1\" class=\"dataframe\">\n",
       "  <thead>\n",
       "    <tr style=\"text-align: right;\">\n",
       "      <th></th>\n",
       "      <th>AnomalyZ</th>\n",
       "    </tr>\n",
       "    <tr>\n",
       "      <th>evt_timestamp</th>\n",
       "      <th></th>\n",
       "    </tr>\n",
       "  </thead>\n",
       "  <tbody>\n",
       "    <tr>\n",
       "      <th>2020-10-31-12.38.56.846000</th>\n",
       "      <td>0.192863</td>\n",
       "    </tr>\n",
       "    <tr>\n",
       "      <th>2020-10-31-18.08.31.521000</th>\n",
       "      <td>0.194593</td>\n",
       "    </tr>\n",
       "    <tr>\n",
       "      <th>2020-10-31-18.08.51.521000</th>\n",
       "      <td>0.189823</td>\n",
       "    </tr>\n",
       "    <tr>\n",
       "      <th>2020-10-31-18.14.50.528000</th>\n",
       "      <td>0.200746</td>\n",
       "    </tr>\n",
       "    <tr>\n",
       "      <th>2020-10-31-18.18.31.928000</th>\n",
       "      <td>0.175144</td>\n",
       "    </tr>\n",
       "    <tr>\n",
       "      <th>...</th>\n",
       "      <td>...</td>\n",
       "    </tr>\n",
       "    <tr>\n",
       "      <th>2021-01-09-19.23.26.491000</th>\n",
       "      <td>0.192157</td>\n",
       "    </tr>\n",
       "    <tr>\n",
       "      <th>2021-01-09-19.23.46.491000</th>\n",
       "      <td>0.198031</td>\n",
       "    </tr>\n",
       "    <tr>\n",
       "      <th>2021-01-09-19.24.06.491000</th>\n",
       "      <td>0.191960</td>\n",
       "    </tr>\n",
       "    <tr>\n",
       "      <th>2021-01-09-19.24.46.491000</th>\n",
       "      <td>0.191667</td>\n",
       "    </tr>\n",
       "    <tr>\n",
       "      <th>2021-01-09-19.58.48.014000</th>\n",
       "      <td>0.180750</td>\n",
       "    </tr>\n",
       "  </tbody>\n",
       "</table>\n",
       "<p>370 rows × 1 columns</p>\n",
       "</div>"
      ],
      "text/plain": [
       "                            AnomalyZ\n",
       "evt_timestamp                       \n",
       "2020-10-31-12.38.56.846000  0.192863\n",
       "2020-10-31-18.08.31.521000  0.194593\n",
       "2020-10-31-18.08.51.521000  0.189823\n",
       "2020-10-31-18.14.50.528000  0.200746\n",
       "2020-10-31-18.18.31.928000  0.175144\n",
       "...                              ...\n",
       "2021-01-09-19.23.26.491000  0.192157\n",
       "2021-01-09-19.23.46.491000  0.198031\n",
       "2021-01-09-19.24.06.491000  0.191960\n",
       "2021-01-09-19.24.46.491000  0.191667\n",
       "2021-01-09-19.58.48.014000  0.180750\n",
       "\n",
       "[370 rows x 1 columns]"
      ]
     },
     "execution_count": 34,
     "metadata": {},
     "output_type": "execute_result"
    }
   ],
   "source": [
    "df_1[['AnomalyZ']].dropna()"
   ]
  },
  {
   "cell_type": "code",
   "execution_count": 17,
   "metadata": {},
   "outputs": [],
   "source": [
    "# no multilevel index for plotting\n",
    "df_1 = df_i.loc[df_i.index.levels[0].values[0]].copy()\n",
    "\n",
    "# remove speed < 400\n",
    "df_1[df_1['speed'] < 400] = np.nan"
   ]
  },
  {
   "cell_type": "code",
   "execution_count": 18,
   "metadata": {},
   "outputs": [
    {
     "data": {
      "text/plain": [
       "Text(0.5, 1.0, 'pump 04714B601096')"
      ]
     },
     "execution_count": 18,
     "metadata": {},
     "output_type": "execute_result"
    },
    {
     "data": {
      "image/png": "[encoded data removed]",
      "text/plain": [
       "<Figure size 720x576 with 1 Axes>"
      ]
     },
     "metadata": {
      "needs_background": "light"
     },
     "output_type": "display_data"
    }
   ],
   "source": [
    "rmsstr = 'rms_x'\n",
    "predstr = 'predicted_rms_x'\n",
    "preddstr = 'pred_dev_rms_x'\n",
    "anostr = 'AnomalyX'\n",
    "\n",
    "# X-coordinate\n",
    "arr1 = np.where(df_1[rmsstr] > df_1[predstr] + df_1[preddstr], df_1[rmsstr], 0) + \\\n",
    "       np.where(df_1[rmsstr] < df_1[predstr] - df_1[preddstr], df_1[rmsstr], 0)\n",
    "arr1[arr1 == 0] = np.nan\n",
    "df_1[anostr] = arr1\n",
    "\n",
    "fig, ax = plt.subplots(1, 1, figsize=(10, 8), squeeze=False)\n",
    "\n",
    "ax[0,0].scatter(df_1['speed'], df_1[rmsstr])\n",
    "ax[0,0].scatter(df_1['speed'], df_1[predstr], color='green')\n",
    "ax[0,0].scatter(df_1['speed'], df_1[predstr] - df_1[preddstr], color='orange', lw=0.1, label='limit - p<0.05')\n",
    "ax[0,0].scatter(df_1['speed'], df_1[predstr] + df_1[preddstr], color='orange', lw=0.1)\n",
    "ax[0,0].scatter(df_1['speed'], df_1[anostr], color='red', lw=2)\n",
    "ax[0,0].set_xlabel('Speed')\n",
    "ax[0,0].set_ylabel('Vibration - X')\n",
    "ax[0,0].legend()\n",
    "ax[0,0].set_title('pump ' + df_i.index.levels[0].values[0])"
   ]
  },
  {
   "cell_type": "code",
   "execution_count": 19,
   "metadata": {},
   "outputs": [
    {
     "data": {
      "text/plain": [
       "Text(0.5, 1.0, 'pump 04714B601096')"
      ]
     },
     "execution_count": 19,
     "metadata": {},
     "output_type": "execute_result"
    },
    {
     "data": {
      "image/png": "[encoded data removed]",
      "text/plain": [
       "<Figure size 720x576 with 1 Axes>"
      ]
     },
     "metadata": {
      "needs_background": "light"
     },
     "output_type": "display_data"
    }
   ],
   "source": [
    "rmsstr = 'rms_y'\n",
    "predstr = 'predicted_rms_y'\n",
    "preddstr = 'pred_dev_rms_y'\n",
    "anostr = 'AnomalyY'\n",
    "\n",
    "# Y-coordinate\n",
    "arr1 = np.where(df_1[rmsstr] > df_1[predstr] + df_1[preddstr], df_1[rmsstr], 0) + \\\n",
    "       np.where(df_1[rmsstr] < df_1[predstr] - df_1[preddstr], df_1[rmsstr], 0)\n",
    "arr1[arr1 == 0] = np.nan\n",
    "df_1[anostr] = arr1\n",
    "\n",
    "fig, ax = plt.subplots(1, 1, figsize=(10, 8), squeeze=False)\n",
    "\n",
    "ax[0,0].scatter(df_1['speed'], df_1[rmsstr])\n",
    "ax[0,0].scatter(df_1['speed'], df_1[predstr], color='green')\n",
    "ax[0,0].scatter(df_1['speed'], df_1[predstr] - df_1[preddstr], color='orange', lw=0.1, label='limit - p<0.05')\n",
    "ax[0,0].scatter(df_1['speed'], df_1[predstr] + df_1[preddstr], color='orange', lw=0.1)\n",
    "ax[0,0].scatter(df_1['speed'], df_1[anostr], color='red', lw=2)\n",
    "ax[0,0].set_xlabel('Speed')\n",
    "ax[0,0].set_ylabel('Vibration - Y')\n",
    "ax[0,0].legend()\n",
    "ax[0,0].set_title('pump ' + df_i.index.levels[0].values[0])"
   ]
  },
  {
   "cell_type": "code",
   "execution_count": 20,
   "metadata": {},
   "outputs": [
    {
     "data": {
      "text/plain": [
       "Text(0.5, 1.0, 'pump 04714B601096')"
      ]
     },
     "execution_count": 20,
     "metadata": {},
     "output_type": "execute_result"
    },
    {
     "data": {
      "image/png": "[encoded data removed]",
      "text/plain": [
       "<Figure size 720x576 with 1 Axes>"
      ]
     },
     "metadata": {
      "needs_background": "light"
     },
     "output_type": "display_data"
    }
   ],
   "source": [
    "rmsstr = 'rms_z'\n",
    "predstr = 'predicted_rms_z'\n",
    "preddstr = 'pred_dev_rms_z'\n",
    "anostr = 'AnomalyZ'\n",
    "\n",
    "# Z-coordinate\n",
    "arr1 = np.where(df_1[rmsstr] > df_1[predstr] + df_1[preddstr], df_1[rmsstr], 0) + \\\n",
    "       np.where(df_1[rmsstr] < df_1[predstr] - df_1[preddstr], df_1[rmsstr], 0)\n",
    "arr1[arr1 == 0] = np.nan\n",
    "df_1[anostr] = arr1\n",
    "\n",
    "fig, ax = plt.subplots(1, 1, figsize=(10, 8), squeeze=False)\n",
    "\n",
    "ax[0,0].scatter(df_1['speed'], df_1[rmsstr])\n",
    "ax[0,0].scatter(df_1['speed'], df_1[predstr], color='green')\n",
    "ax[0,0].scatter(df_1['speed'], df_1[predstr] - df_1[preddstr], color='orange', lw=0.1, label='limit - p<0.05')\n",
    "ax[0,0].scatter(df_1['speed'], df_1[predstr] + df_1[preddstr], color='orange', lw=0.1)\n",
    "ax[0,0].scatter(df_1['speed'], df_1[anostr], color='red', lw=2)\n",
    "ax[0,0].set_xlabel('Speed')\n",
    "ax[0,0].set_ylabel('Vibration - Y')\n",
    "ax[0,0].legend()\n",
    "ax[0,0].set_title('pump ' + df_i.index.levels[0].values[0])"
   ]
  },
  {
   "cell_type": "code",
   "execution_count": null,
   "metadata": {},
   "outputs": [],
   "source": []
  },
  {
   "cell_type": "code",
   "execution_count": 21,
   "metadata": {},
   "outputs": [
    {
     "name": "stdout",
     "output_type": "stream",
     "text": [
      "2021-02-05T15:14:22.852 WARNING matplotlib.legend._parse_legend_args No handles with labels found to put in legend.\n"
     ]
    },
    {
     "data": {
      "text/plain": [
       "Text(0.5, 1.0, 'pump 04714B601096 - plain scatterplot')"
      ]
     },
     "execution_count": 21,
     "metadata": {},
     "output_type": "execute_result"
    },
    {
     "data": {
      "image/png": "[encoded data removed]",
      "text/plain": [
       "<Figure size 1440x432 with 4 Axes>"
      ]
     },
     "metadata": {
      "needs_background": "light"
     },
     "output_type": "display_data"
    }
   ],
   "source": [
    "#df_1 = df_i.loc[df_i.index.levels[0].values[0]].copy()\n",
    "\n",
    "fig, ax = plt.subplots(2, 2, figsize=(20, 6), squeeze=False)\n",
    "\n",
    "ax[0,0].scatter(df_1['speed'], df_1['rms_x'])\n",
    "ax[0,0].scatter(df_1['speed'], df_1['predicted_rms_x'], color='green')\n",
    "ax[0,0].scatter(df_1['speed'], df_1['predicted_rms_x'] - df_1['pred_dev_rms_x'], color='orange', lw=0.1, label='limit - p<0.05')\n",
    "ax[0,0].scatter(df_1['speed'], df_1['predicted_rms_x'] + df_1['pred_dev_rms_x'], color='orange', lw=0.1)\n",
    "ax[0,0].scatter(df_1['speed'], df_1['AnomalyX'], color='red', lw=0.5)\n",
    "ax[0,0].set_xlabel('Speed')\n",
    "ax[0,0].set_ylabel('Vibration - X')\n",
    "ax[0,0].legend()\n",
    "ax[0,0].set_title('pump ' + df_i.index.levels[0].values[0])\n",
    "\n",
    "\n",
    "ax[0,1].scatter(df_1['speed'], df_1['rms_y'])\n",
    "ax[0,1].scatter(df_1['speed'], df_1['predicted_rms_y'], color='green')\n",
    "ax[0,1].scatter(df_1['speed'], df_1['predicted_rms_y'] - df_1['pred_dev_rms_y'], color='orange', lw=0.1, label='limit - p<0.05')\n",
    "ax[0,1].scatter(df_1['speed'], df_1['predicted_rms_y'] + df_1['pred_dev_rms_y'], color='orange', lw=0.1)\n",
    "ax[0,1].scatter(df_1['speed'], df_1['AnomalyY'], color='red', lw=0.5)\n",
    "ax[0,1].set_xlabel('Speed')\n",
    "ax[0,1].set_ylabel('Vibration - Y')\n",
    "ax[0,1].legend()\n",
    "ax[0,1].set_title('pump ' + df_i.index.levels[0].values[0])\n",
    "\n",
    "ax[1,0].scatter(df_1['speed'], df_1['rms_z'])\n",
    "ax[1,0].scatter(df_1['speed'], df_1['predicted_rms_z'], color='green')\n",
    "ax[1,0].scatter(df_1['speed'], df_1['predicted_rms_z'] - df_1['pred_dev_rms_z'], color='orange', lw=0.1, label='limit - p<0.05')\n",
    "ax[1,0].scatter(df_1['speed'], df_1['predicted_rms_z'] + df_1['pred_dev_rms_z'], color='orange', lw=0.1)\n",
    "ax[1,0].scatter(df_1['speed'], df_1['AnomalyZ'], color='red', lw=0.5)\n",
    "ax[1,0].set_xlabel('Speed')\n",
    "ax[1,0].set_ylabel('Vibration - Z')\n",
    "ax[1,0].legend()\n",
    "ax[1,0].set_title('pump ' + df_i.index.levels[0].values[0])\n",
    "\n",
    "\n",
    "ax[1,1].scatter(df_1['speed'], df_1['rms_y'])\n",
    "ax[1,1].set_xlabel('Speed')\n",
    "ax[1,1].set_ylabel('Vibration - Y')\n",
    "ax[1,1].legend()\n",
    "ax[1,1].set_title('pump ' + df_i.index.levels[0].values[0] + ' - plain scatterplot')\n",
    "\n",
    "#plt.fill_between(df_1['Ap'], - df_1['pred_dev_Vx'], df_1['pred_dev_Vx'], alpha=0.2)"
   ]
  },
  {
   "cell_type": "code",
   "execution_count": 22,
   "metadata": {},
   "outputs": [
    {
     "data": {
      "text/plain": [
       "'\\ndf_1i = df_1[24000:28000]\\ncnt = 0\\nfig, ax = plt.subplots(1, 1, figsize=(15, 6), squeeze=False)\\nax[cnt,0].scatter(df_1i.index,df_1i[\\'rms_x\\'], lw=0.4, color=\\'green\\', label=\\'vibration\\')\\nax[cnt,0].scatter(df_1i.index, df_1i[\\'AnomalyX\\'], lw=0.4, color=\\'red\\', zorder=10, label=\\'excessive vibration\\')\\nax[cnt,0].legend()\\nax[cnt,0].set_title(\\'pump (X)\\' + df_i.index.levels[0].values[0])\\nax[cnt,0].tick_params(axis = \"x\", which = \"both\", bottom = False, top = False)\\nax[cnt,0].set_xticklabels([])\\n'"
      ]
     },
     "execution_count": 22,
     "metadata": {},
     "output_type": "execute_result"
    }
   ],
   "source": [
    "'''\n",
    "df_1i = df_1[24000:28000]\n",
    "cnt = 0\n",
    "fig, ax = plt.subplots(1, 1, figsize=(15, 6), squeeze=False)\n",
    "ax[cnt,0].scatter(df_1i.index,df_1i['rms_x'], lw=0.4, color='green', label='vibration')\n",
    "ax[cnt,0].scatter(df_1i.index, df_1i['AnomalyX'], lw=0.4, color='red', zorder=10, label='excessive vibration')\n",
    "ax[cnt,0].legend()\n",
    "ax[cnt,0].set_title('pump (X)' + df_i.index.levels[0].values[0])\n",
    "ax[cnt,0].tick_params(axis = \"x\", which = \"both\", bottom = False, top = False)\n",
    "ax[cnt,0].set_xticklabels([])\n",
    "'''"
   ]
  },
  {
   "cell_type": "code",
   "execution_count": 23,
   "metadata": {},
   "outputs": [
    {
     "data": {
      "text/plain": [
       "'\\ndf_1i = df_1[24000:28000]\\ncnt = 0\\nfig, ax = plt.subplots(1, 1, figsize=(15, 6), squeeze=False)\\nax[cnt,0].scatter(df_1i.index,df_1i[\\'rms_y\\'], lw=0.4, color=\\'green\\', label=\\'vibration\\')\\nax[cnt,0].scatter(df_1i.index, df_1i[\\'AnomalyY\\'], lw=0.4, color=\\'red\\', zorder=10, label=\\'excessive vibration\\')\\nax[cnt,0].legend()\\nax[cnt,0].set_title(\\'pump (Y)\\' + df_i.index.levels[0].values[0])\\nax[cnt,0].tick_params(axis = \"x\", which = \"both\", bottom = False, top = False)\\nax[cnt,0].set_xticklabels([])\\n'"
      ]
     },
     "execution_count": 23,
     "metadata": {},
     "output_type": "execute_result"
    }
   ],
   "source": [
    "'''\n",
    "df_1i = df_1[24000:28000]\n",
    "cnt = 0\n",
    "fig, ax = plt.subplots(1, 1, figsize=(15, 6), squeeze=False)\n",
    "ax[cnt,0].scatter(df_1i.index,df_1i['rms_y'], lw=0.4, color='green', label='vibration')\n",
    "ax[cnt,0].scatter(df_1i.index, df_1i['AnomalyY'], lw=0.4, color='red', zorder=10, label='excessive vibration')\n",
    "ax[cnt,0].legend()\n",
    "ax[cnt,0].set_title('pump (Y)' + df_i.index.levels[0].values[0])\n",
    "ax[cnt,0].tick_params(axis = \"x\", which = \"both\", bottom = False, top = False)\n",
    "ax[cnt,0].set_xticklabels([])\n",
    "'''"
   ]
  },
  {
   "cell_type": "code",
   "execution_count": 24,
   "metadata": {},
   "outputs": [
    {
     "data": {
      "text/plain": [
       "\"\\ndf_1i = df_1[0:4000]\\nfig, ax = plt.subplots(4, 1, figsize=(15, 12), squeeze=False)\\n\\ncnt = 0\\nax[0,0].scatter(df_1i.index,df_1i['speed'], lw=0.4, color='orange', zorder=5, label='speed')\\ncnt += 1\\nax[cnt,0].scatter(df_1i.index,df_1i['rms_x'], lw=0.4, color='green', label='vibration')\\nax[cnt,0].scatter(df_1i.index, df_1i['AnomalyX'], lw=0.4, color='red', zorder=10, label='excessive vibration')\\nax[cnt,0].legend()\\nax[cnt,0].set_title('pump (X)' + df_i.index.levels[0].values[0])\\ncnt += 1\\nax[cnt,0].scatter(df_1i.index,df_1i['rms_y'], lw=0.4, color='green', label='vibration')\\nax[cnt,0].scatter(df_1i.index, df_1i['AnomalyY'], lw=0.4, color='red', zorder=10, label='excessive vibration')\\nax[cnt,0].legend()\\nax[cnt,0].set_title('pump (Y)' + df_i.index.levels[0].values[0])\\ncnt += 1\\nax[cnt,0].scatter(df_1i.index,df_1i['rms_z'], lw=0.4, color='green', label='vibration')\\nax[cnt,0].scatter(df_1i.index, df_1i['AnomalyZ'], lw=0.4, color='red', zorder=10, label='excessive vibration')\\nax[cnt,0].legend()\\nax[cnt,0].set_title('pump (Z)' + df_i.index.levels[0].values[0])\\n\""
      ]
     },
     "execution_count": 24,
     "metadata": {},
     "output_type": "execute_result"
    }
   ],
   "source": [
    "# OOM for ~170000 data points\n",
    "'''\n",
    "df_1i = df_1[0:4000]\n",
    "fig, ax = plt.subplots(4, 1, figsize=(15, 12), squeeze=False)\n",
    "\n",
    "cnt = 0\n",
    "ax[0,0].scatter(df_1i.index,df_1i['speed'], lw=0.4, color='orange', zorder=5, label='speed')\n",
    "cnt += 1\n",
    "ax[cnt,0].scatter(df_1i.index,df_1i['rms_x'], lw=0.4, color='green', label='vibration')\n",
    "ax[cnt,0].scatter(df_1i.index, df_1i['AnomalyX'], lw=0.4, color='red', zorder=10, label='excessive vibration')\n",
    "ax[cnt,0].legend()\n",
    "ax[cnt,0].set_title('pump (X)' + df_i.index.levels[0].values[0])\n",
    "cnt += 1\n",
    "ax[cnt,0].scatter(df_1i.index,df_1i['rms_y'], lw=0.4, color='green', label='vibration')\n",
    "ax[cnt,0].scatter(df_1i.index, df_1i['AnomalyY'], lw=0.4, color='red', zorder=10, label='excessive vibration')\n",
    "ax[cnt,0].legend()\n",
    "ax[cnt,0].set_title('pump (Y)' + df_i.index.levels[0].values[0])\n",
    "cnt += 1\n",
    "ax[cnt,0].scatter(df_1i.index,df_1i['rms_z'], lw=0.4, color='green', label='vibration')\n",
    "ax[cnt,0].scatter(df_1i.index, df_1i['AnomalyZ'], lw=0.4, color='red', zorder=10, label='excessive vibration')\n",
    "ax[cnt,0].legend()\n",
    "ax[cnt,0].set_title('pump (Z)' + df_i.index.levels[0].values[0])\n",
    "'''\n"
   ]
  },
  {
   "cell_type": "code",
   "execution_count": 25,
   "metadata": {},
   "outputs": [
    {
     "data": {
      "text/plain": [
       "Index(['2020-07-19-11.39.28.701000', '2020-07-19-11.39.48.701000',\n",
       "       '2020-07-19-11.40.08.701000', '2020-07-19-11.40.28.701000',\n",
       "       '2020-07-19-11.40.48.701000', '2020-07-19-11.44.28.948000',\n",
       "       '2020-07-19-11.44.48.948000', '2020-07-19-11.45.08.948000',\n",
       "       '2020-07-19-11.45.28.948000', '2020-07-19-11.45.48.948000',\n",
       "       ...\n",
       "       '2021-01-11-11.35.48.595000', '2021-01-11-11.39.28.840000',\n",
       "       '2021-01-11-11.39.48.840000', '2021-01-11-11.40.08.840000',\n",
       "       '2021-01-11-11.40.28.840000', '2021-01-11-11.40.48.840000',\n",
       "       '2021-01-11-14.14.56.144000', '2021-01-11-14.15.16.144000',\n",
       "       '2021-01-11-14.15.36.144000', '2021-01-11-14.15.56.144000'],\n",
       "      dtype='object', name='evt_timestamp', length=177980)"
      ]
     },
     "execution_count": 25,
     "metadata": {},
     "output_type": "execute_result"
    }
   ],
   "source": [
    "df_i.loc['04714B601096'].index"
   ]
  },
  {
   "cell_type": "code",
   "execution_count": null,
   "metadata": {},
   "outputs": [],
   "source": []
  },
  {
   "cell_type": "markdown",
   "metadata": {},
   "source": [
    "#### Does it make sense to have both accel values as features"
   ]
  },
  {
   "cell_type": "code",
   "execution_count": 26,
   "metadata": {},
   "outputs": [
    {
     "data": {
      "text/plain": [
       "Text(0, 0.5, 'accel power')"
      ]
     },
     "execution_count": 26,
     "metadata": {},
     "output_type": "execute_result"
    },
    {
     "data": {
      "image/png": "[encoded data removed]",
      "text/plain": [
       "<Figure size 432x360 with 1 Axes>"
      ]
     },
     "metadata": {
      "needs_background": "light"
     },
     "output_type": "display_data"
    }
   ],
   "source": [
    "fig, ax = plt.subplots(1, 1, figsize=(6, 5), squeeze=False)\n",
    "ax[0,0].scatter(df_i['speed'].values, df_i['power'].values)\n",
    "ax[0,0].set_xlabel('accel speed')\n",
    "ax[0,0].set_ylabel('accel power')\n",
    "\n",
    "#ax[0,1].plot(df_i.loc['04714B601096'].index, df_i['speed'].values, color='green')\n",
    "#ax[0,1].plot(df_i.loc['04714B601096'].index, df_i['power'].values*100 + 400, color='orange')\n",
    "\n",
    "#df_i[['As','Ap']].plot(figsize=(20,20))\n"
   ]
  },
  {
   "cell_type": "code",
   "execution_count": 27,
   "metadata": {},
   "outputs": [
    {
     "name": "stdout",
     "output_type": "stream",
     "text": [
      "2021-02-05T15:14:53.524 INFO iotfunctions.dbtables.__init__ Init FileModelStore\n",
      "2021-02-05T15:14:53.525 DEBUG iotfunctions.enginelog.configure_console_logging Console logging has been configured. Level = 10\n",
      "2021-02-05T15:14:53.526 DEBUG iotfunctions.metadata.__init__ Initializing new entity type using iotfunctions 8.3.1\n",
      "2021-02-05T15:14:53.526 DEBUG iotfunctions.util.__init__ Starting trace\n",
      "2021-02-05T15:14:53.527 DEBUG iotfunctions.util.__init__ Trace name: auto_trace_test_entity_for_BayesRidgeRegressor_20210205141453\n",
      "2021-02-05T15:14:53.527 DEBUG iotfunctions.util.__init__ auto_save None\n",
      "2021-02-05T15:14:53.528 DEBUG iotfunctions.util.categorize_args categorizing arguments\n",
      "2021-02-05T15:14:53.529 WARNING iotfunctions.metadata.__init__ Created a logical entity type. It is not connected to a real database table, so it cannot perform any database operations.\n",
      "2021-02-05T15:14:53.529 DEBUG iotfunctions.metadata.__init__ Initialized entity type \n",
      "LocalEntityType:TEST_ENTITY_FOR_BAYESRIDGEREGRESSOR\n",
      "Functions:\n",
      "Granularities:\n",
      "No schedules metadata\n",
      "2021-02-05T15:14:53.532 DEBUG iotfunctions.anomaly.execute ['04714B601096'] predicting ['power'] from ['speed'] to appear in ['predicted_power'] with confidence interval ['stddev_power']\n",
      "2021-02-05T15:14:53.536 DEBUG iotfunctions.anomaly.execute check passed\n",
      "2021-02-05T15:14:53.562 INFO iotfunctions.base.get_models_for_training predicting target power\n",
      "2021-02-05T15:14:53.564 INFO iotfunctions.dbtables.retrieve_model Model model.TEST_ENTITY_FOR_BAYESRIDGEREGRESSOR.BayesRidgeRegressor.power.04714B601096 of size 1825 bytes has been retrieved from filesystem\n",
      "2021-02-05T15:14:53.564 INFO iotfunctions.base.get_models_for_training load model {\n",
      " \"name\": \"model.TEST_ENTITY_FOR_BAYESRIDGEREGRESSOR.BayesRidgeRegressor.power.04714B601096\",\n",
      " \"target\": \"power\",\n",
      " \"features\": [\n",
      "  \"speed\"\n",
      " ],\n",
      " \"estimator_name\": \"bayesianridge\",\n",
      " \"eval_metric_name\": \"r2_score\",\n",
      " \"eval_metric_train\": 1.0,\n",
      " \"eval_metric_test\": 1.0,\n",
      " \"trained_date\": \"2021-02-04T09:03:27.991368\",\n",
      " \"expiry_date\": null,\n",
      " \"col_name\": \"predicted_power\",\n",
      " \"col_name_stddev\": \"stddev_power\"\n",
      "}\n",
      "2021-02-05T15:14:53.565 INFO iotfunctions.base.get_models_for_training training required: False  results: Existing model has not expired and eval metric is good\n",
      "2021-02-05T15:14:53.565 INFO iotfunctions.dbtables.retrieve_model Model model.TEST_ENTITY_FOR_BAYESRIDGEREGRESSOR.BayesRidgeRegressor.power.04714B601096 of size 1825 bytes has been retrieved from filesystem\n",
      "2021-02-05T15:14:53.576 INFO iotfunctions.metadata.predict_with_std_dev predicted using model model.TEST_ENTITY_FOR_BAYESRIDGEREGRESSOR.BayesRidgeRegressor.power.04714B601096\n",
      "2021-02-05T15:14:53.581 DEBUG iotfunctions.util.log_df_info After adding predictions for target power ; df row count: 177980  ; index: { deviceid , evt_timestamp }  ; columns: { rms_x , rms_z , rms_y , power , speed , predicted_rms_x , pred_dev_rms_x , predicted_rms_y , pred_dev_rms_y , predicted_rms_z , pred_dev_rms_z , predicted_power , stddev_power }\n",
      "2021-02-05T15:14:53.607 DEBUG iotfunctions.anomaly.execute BayesianRidge: Entity 04714B601096 Type of pred, stddev arrays <class 'pandas.core.frame.DataFrame'><class 'numpy.ndarray'>\n"
     ]
    },
    {
     "data": {
      "text/html": [
       "<div>\n",
       "<style scoped>\n",
       "    .dataframe tbody tr th:only-of-type {\n",
       "        vertical-align: middle;\n",
       "    }\n",
       "\n",
       "    .dataframe tbody tr th {\n",
       "        vertical-align: top;\n",
       "    }\n",
       "\n",
       "    .dataframe thead th {\n",
       "        text-align: right;\n",
       "    }\n",
       "</style>\n",
       "<table border=\"1\" class=\"dataframe\">\n",
       "  <thead>\n",
       "    <tr style=\"text-align: right;\">\n",
       "      <th></th>\n",
       "      <th>rms_x</th>\n",
       "      <th>rms_z</th>\n",
       "      <th>rms_y</th>\n",
       "      <th>power</th>\n",
       "      <th>speed</th>\n",
       "      <th>predicted_rms_x</th>\n",
       "      <th>pred_dev_rms_x</th>\n",
       "      <th>predicted_rms_y</th>\n",
       "      <th>pred_dev_rms_y</th>\n",
       "      <th>predicted_rms_z</th>\n",
       "      <th>pred_dev_rms_z</th>\n",
       "      <th>predicted_power</th>\n",
       "      <th>stddev_power</th>\n",
       "    </tr>\n",
       "  </thead>\n",
       "  <tbody>\n",
       "    <tr>\n",
       "      <th>count</th>\n",
       "      <td>177980.000000</td>\n",
       "      <td>177980.000000</td>\n",
       "      <td>177980.000000</td>\n",
       "      <td>177980.000000</td>\n",
       "      <td>177980.000000</td>\n",
       "      <td>177980.000000</td>\n",
       "      <td>177980.000000</td>\n",
       "      <td>177980.000000</td>\n",
       "      <td>177980.000000</td>\n",
       "      <td>177980.000000</td>\n",
       "      <td>177980.000000</td>\n",
       "      <td>177980.000000</td>\n",
       "      <td>1.779800e+05</td>\n",
       "    </tr>\n",
       "    <tr>\n",
       "      <th>mean</th>\n",
       "      <td>0.201499</td>\n",
       "      <td>0.087049</td>\n",
       "      <td>0.964827</td>\n",
       "      <td>2.052877</td>\n",
       "      <td>1079.609838</td>\n",
       "      <td>0.199317</td>\n",
       "      <td>0.243256</td>\n",
       "      <td>0.964607</td>\n",
       "      <td>0.024917</td>\n",
       "      <td>0.080121</td>\n",
       "      <td>0.096390</td>\n",
       "      <td>1079.609838</td>\n",
       "      <td>2.494303e-05</td>\n",
       "    </tr>\n",
       "    <tr>\n",
       "      <th>std</th>\n",
       "      <td>0.101279</td>\n",
       "      <td>0.028381</td>\n",
       "      <td>0.005473</td>\n",
       "      <td>0.435038</td>\n",
       "      <td>30.031477</td>\n",
       "      <td>0.050033</td>\n",
       "      <td>0.103079</td>\n",
       "      <td>0.004391</td>\n",
       "      <td>0.005371</td>\n",
       "      <td>0.002173</td>\n",
       "      <td>0.027322</td>\n",
       "      <td>30.031477</td>\n",
       "      <td>6.791502e-07</td>\n",
       "    </tr>\n",
       "    <tr>\n",
       "      <th>min</th>\n",
       "      <td>0.018446</td>\n",
       "      <td>0.027219</td>\n",
       "      <td>0.952113</td>\n",
       "      <td>0.115600</td>\n",
       "      <td>212.000000</td>\n",
       "      <td>0.051936</td>\n",
       "      <td>-0.043635</td>\n",
       "      <td>0.959193</td>\n",
       "      <td>0.007013</td>\n",
       "      <td>-0.304107</td>\n",
       "      <td>-0.205957</td>\n",
       "      <td>212.000000</td>\n",
       "      <td>6.093499e-06</td>\n",
       "    </tr>\n",
       "    <tr>\n",
       "      <th>25%</th>\n",
       "      <td>0.108721</td>\n",
       "      <td>0.065397</td>\n",
       "      <td>0.959472</td>\n",
       "      <td>1.740200</td>\n",
       "      <td>1059.000000</td>\n",
       "      <td>0.202365</td>\n",
       "      <td>0.173472</td>\n",
       "      <td>0.960191</td>\n",
       "      <td>0.020119</td>\n",
       "      <td>0.080134</td>\n",
       "      <td>0.075043</td>\n",
       "      <td>1059.000000</td>\n",
       "      <td>2.447661e-05</td>\n",
       "    </tr>\n",
       "    <tr>\n",
       "      <th>50%</th>\n",
       "      <td>0.189055</td>\n",
       "      <td>0.078209</td>\n",
       "      <td>0.965996</td>\n",
       "      <td>1.795200</td>\n",
       "      <td>1062.000000</td>\n",
       "      <td>0.205529</td>\n",
       "      <td>0.305867</td>\n",
       "      <td>0.963184</td>\n",
       "      <td>0.022496</td>\n",
       "      <td>0.080134</td>\n",
       "      <td>0.083694</td>\n",
       "      <td>1062.000000</td>\n",
       "      <td>2.454446e-05</td>\n",
       "    </tr>\n",
       "    <tr>\n",
       "      <th>75%</th>\n",
       "      <td>0.278364</td>\n",
       "      <td>0.100557</td>\n",
       "      <td>0.969530</td>\n",
       "      <td>2.325800</td>\n",
       "      <td>1096.000000</td>\n",
       "      <td>0.218051</td>\n",
       "      <td>0.306096</td>\n",
       "      <td>0.969012</td>\n",
       "      <td>0.030674</td>\n",
       "      <td>0.080134</td>\n",
       "      <td>0.112059</td>\n",
       "      <td>1096.000000</td>\n",
       "      <td>2.531369e-05</td>\n",
       "    </tr>\n",
       "    <tr>\n",
       "      <th>max</th>\n",
       "      <td>0.576303</td>\n",
       "      <td>0.244273</td>\n",
       "      <td>0.979979</td>\n",
       "      <td>6.122200</td>\n",
       "      <td>1353.000000</td>\n",
       "      <td>0.274805</td>\n",
       "      <td>1.510480</td>\n",
       "      <td>0.977185</td>\n",
       "      <td>0.134411</td>\n",
       "      <td>0.080134</td>\n",
       "      <td>0.160004</td>\n",
       "      <td>1353.000000</td>\n",
       "      <td>3.114243e-05</td>\n",
       "    </tr>\n",
       "  </tbody>\n",
       "</table>\n",
       "</div>"
      ],
      "text/plain": [
       "               rms_x          rms_z          rms_y          power  \\\n",
       "count  177980.000000  177980.000000  177980.000000  177980.000000   \n",
       "mean        0.201499       0.087049       0.964827       2.052877   \n",
       "std         0.101279       0.028381       0.005473       0.435038   \n",
       "min         0.018446       0.027219       0.952113       0.115600   \n",
       "25%         0.108721       0.065397       0.959472       1.740200   \n",
       "50%         0.189055       0.078209       0.965996       1.795200   \n",
       "75%         0.278364       0.100557       0.969530       2.325800   \n",
       "max         0.576303       0.244273       0.979979       6.122200   \n",
       "\n",
       "               speed  predicted_rms_x  pred_dev_rms_x  predicted_rms_y  \\\n",
       "count  177980.000000    177980.000000   177980.000000    177980.000000   \n",
       "mean     1079.609838         0.199317        0.243256         0.964607   \n",
       "std        30.031477         0.050033        0.103079         0.004391   \n",
       "min       212.000000         0.051936       -0.043635         0.959193   \n",
       "25%      1059.000000         0.202365        0.173472         0.960191   \n",
       "50%      1062.000000         0.205529        0.305867         0.963184   \n",
       "75%      1096.000000         0.218051        0.306096         0.969012   \n",
       "max      1353.000000         0.274805        1.510480         0.977185   \n",
       "\n",
       "       pred_dev_rms_y  predicted_rms_z  pred_dev_rms_z  predicted_power  \\\n",
       "count   177980.000000    177980.000000   177980.000000    177980.000000   \n",
       "mean         0.024917         0.080121        0.096390      1079.609838   \n",
       "std          0.005371         0.002173        0.027322        30.031477   \n",
       "min          0.007013        -0.304107       -0.205957       212.000000   \n",
       "25%          0.020119         0.080134        0.075043      1059.000000   \n",
       "50%          0.022496         0.080134        0.083694      1062.000000   \n",
       "75%          0.030674         0.080134        0.112059      1096.000000   \n",
       "max          0.134411         0.080134        0.160004      1353.000000   \n",
       "\n",
       "       stddev_power  \n",
       "count  1.779800e+05  \n",
       "mean   2.494303e-05  \n",
       "std    6.791502e-07  \n",
       "min    6.093499e-06  \n",
       "25%    2.447661e-05  \n",
       "50%    2.454446e-05  \n",
       "75%    2.531369e-05  \n",
       "max    3.114243e-05  "
      ]
     },
     "execution_count": 27,
     "metadata": {},
     "output_type": "execute_result"
    }
   ],
   "source": [
    "# hack - do not store model in db2\n",
    "old_model_store = db.model_store\n",
    "db.model_store = FileModelStore()\n",
    "\n",
    "# Now run the anomaly functions as if they were executed in a pipeline\n",
    "EngineLogging.configure_console_logging(logging.DEBUG)\n",
    "jobsettings = { 'db': db, \n",
    "               '_db_schema': 'public', 'save_trace_to_file' : True}\n",
    "\n",
    "spsib = BayesRidgeRegressor(['speed'], ['power'])\n",
    "et = spsib._build_entity_type(columns = [Column('speed',Float())], **jobsettings)\n",
    "spsib._entity_type = et\n",
    "df_i = spsib.execute(df=df_i)\n",
    "\n",
    "db.model_store = old_model_store\n",
    "df_i.describe()"
   ]
  },
  {
   "cell_type": "code",
   "execution_count": 28,
   "metadata": {},
   "outputs": [],
   "source": [
    "df_2 = df_i[0:10000]\n",
    "df_2 = df_2[df_2['speed'] > 400]"
   ]
  },
  {
   "cell_type": "code",
   "execution_count": 29,
   "metadata": {
    "scrolled": false
   },
   "outputs": [
    {
     "name": "stdout",
     "output_type": "stream",
     "text": [
      "2021-02-05T15:16:27.266 DEBUG matplotlib.font_manager._findfont_cached findfont: Matching :family=sans-serif:style=normal:variant=normal:weight=bold:stretch=normal:size=12.0.\n",
      "2021-02-05T15:16:27.266 DEBUG matplotlib.font_manager._findfont_cached findfont: score(<Font 'cmex10' (cmex10.ttf) normal normal 400 normal>) = 10.335\n",
      "2021-02-05T15:16:27.267 DEBUG matplotlib.font_manager._findfont_cached findfont: score(<Font 'STIXSizeTwoSym' (STIXSizTwoSymReg.ttf) normal normal regular normal>) = 10.335\n",
      "2021-02-05T15:16:27.267 DEBUG matplotlib.font_manager._findfont_cached findfont: score(<Font 'STIXNonUnicode' (STIXNonUni.ttf) normal normal regular normal>) = 10.335\n",
      "2021-02-05T15:16:27.268 DEBUG matplotlib.font_manager._findfont_cached findfont: score(<Font 'STIXSizeOneSym' (STIXSizOneSymReg.ttf) normal normal regular normal>) = 10.335\n",
      "2021-02-05T15:16:27.268 DEBUG matplotlib.font_manager._findfont_cached findfont: score(<Font 'STIXSizeFiveSym' (STIXSizFiveSymReg.ttf) normal normal regular normal>) = 10.335\n",
      "2021-02-05T15:16:27.269 DEBUG matplotlib.font_manager._findfont_cached findfont: score(<Font 'DejaVu Sans' (DejaVuSans-BoldOblique.ttf) oblique normal bold normal>) = 1.0\n",
      "2021-02-05T15:16:27.269 DEBUG matplotlib.font_manager._findfont_cached findfont: score(<Font 'cmr10' (cmr10.ttf) normal normal 400 normal>) = 10.335\n",
      "2021-02-05T15:16:27.270 DEBUG matplotlib.font_manager._findfont_cached findfont: score(<Font 'DejaVu Sans' (DejaVuSans-Bold.ttf) normal normal bold normal>) = 0.0\n",
      "2021-02-05T15:16:27.270 DEBUG matplotlib.font_manager._findfont_cached findfont: Matching :family=sans-serif:style=normal:variant=normal:weight=bold:stretch=normal:size=12.0 to DejaVu Sans ('/home/markus/.local/lib/python3.8/site-packages/matplotlib/mpl-data/fonts/ttf/DejaVuSans-Bold.ttf') with score of 0.000000.\n"
     ]
    },
    {
     "data": {
      "image/png": "[encoded data removed]",
      "text/plain": [
       "<Figure size 1440x720 with 1 Axes>"
      ]
     },
     "metadata": {
      "needs_background": "light"
     },
     "output_type": "display_data"
    }
   ],
   "source": [
    "plots = 1\n",
    "\n",
    "fig, ax = plt.subplots(plots, 1, figsize=(20,10), squeeze=False)\n",
    "cnt = 0\n",
    "ax[cnt,0].plot(df_2.unstack(level=0).index, df_2['speed'],linewidth=0.5,color='blue',label='speed')\n",
    "ax[cnt,0].plot(df_2.unstack(level=0).index, df_2['power'],linewidth=0.5,color='green',label='power')\n",
    "ax[cnt,0].plot(df_2.unstack(level=0).index, df_2['predicted_power'],linewidth=0.5,color='red',label='MaxTemp pred')\n",
    "ax[cnt,0].fill_between(df_2.unstack(level=0).index, df_2['predicted_power'] - df_2['stddev_power'],\n",
    "                df_2['predicted_power'] + df_2['stddev_power'], color=\"pink\", alpha=0.3, label=\"predict stddev\")\n",
    "ax[cnt,0].legend(bbox_to_anchor=(1.1, 1.05))\n",
    "ax[cnt,0].set_ylabel('power',fontsize=12,weight=\"bold\")\n",
    "ax[cnt,0].set_xlabel('speed',fontsize=12,weight=\"bold\")\n",
    "cnt = 1"
   ]
  },
  {
   "cell_type": "code",
   "execution_count": null,
   "metadata": {},
   "outputs": [],
   "source": []
  },
  {
   "cell_type": "code",
   "execution_count": null,
   "metadata": {},
   "outputs": [],
   "source": []
  },
  {
   "cell_type": "code",
   "execution_count": null,
   "metadata": {},
   "outputs": [],
   "source": []
  },
  {
   "cell_type": "code",
   "execution_count": 12,
   "metadata": {},
   "outputs": [],
   "source": [
    "def load_data_short(filename):\n",
    "    # load data\n",
    "    df_input = pd.read_csv(filename, parse_dates=['RCV_TIMESTAMP_UTC'], comment='#')\n",
    "    #df_input = df_input.asfreq('H')\n",
    "    df_input = df_input.sort_values(by='RCV_TIMESTAMP_UTC').\\\n",
    "                    rename(columns={'RCV_TIMESTAMP_UTC':'timestamp', 'DEVICEID': 'entity'}).\\\n",
    "                    drop(columns=['DEVICETYPE', 'FORMAT','UPDATED_UTC','LOGICALINTERFACE_ID','DEVICE_ID']).\\\n",
    "                    drop(columns=['RMS_X','RMS_Y','RMS_Z'])\n",
    "    #df_input = df_input[df_input['VERSION'] != 0].drop(columns=['VERSION'])\n",
    "       \n",
    "    return df_input\n",
    "    \n",
    "def prep_data_short(df_input):\n",
    "    entity = df_input['entity'].values[0]\n",
    "    \n",
    "    list_ac_vx = []\n",
    "    cnt = 0\n",
    "    for idx,row in df_input[['timestamp','VIBRATIONS_XAXIS','ACCEL_SPEED']].iterrows():\n",
    "        if isinstance(row['timestamp'], str):\n",
    "            ts = datetime.datetime.strptime(row['timestamp'], '%Y-%m-%d-%H.%M.%S.%f')\n",
    "        else:\n",
    "            ts = row['timestamp']\n",
    "            \n",
    "        rvibs = row['VIBRATIONS_XAXIS']\n",
    "        racc = row['ACCEL_SPEED']\n",
    "        \n",
    "        if isinstance(racc, str):\n",
    "            racc = eval(racc)\n",
    "\n",
    "        if not isinstance(racc, list) and math.isnan(racc):\n",
    "            continue\n",
    "            \n",
    "        if isinstance(rvibs, str):\n",
    "            list_ac = []\n",
    "           \n",
    "            for ac in racc:\n",
    "                #print(ac)\n",
    "                list_ac.append(eval(ac))\n",
    "                list_ac.append(eval(ac))\n",
    "                list_ac.append(eval(ac))\n",
    "                #print (list_ac)\n",
    "\n",
    "            list_vx = []\n",
    "            for vx in eval(rvibs):\n",
    "                list_vx.append(vx)\n",
    "                #print (list_vx)\n",
    "\n",
    "            #print(list_ac, list_vx)\n",
    "            cnt2 = 0\n",
    "            for p in zip(list_ac, list_vx):\n",
    "                #print(ts + datetime.timedelta(seconds = cnt2 * 10), p[0],p[1])\n",
    "                list_ac_vx.append([ts + datetime.timedelta(seconds = cnt2 * 10), p[0],p[1]])\n",
    "                cnt2 += 1\n",
    "        cnt += 1\n",
    "\n",
    "    df_clean = pd.DataFrame(list_ac_vx, columns=['timestamp','Ap','Vx'])\n",
    "    df_clean['Ap'] = df_clean['Ap']/1000\n",
    "    df_clean['entity'] = entity\n",
    "    \n",
    "    return df_clean.set_index(['entity','timestamp'])\n",
    "    "
   ]
  },
  {
   "cell_type": "code",
   "execution_count": 13,
   "metadata": {},
   "outputs": [
    {
     "data": {
      "text/plain": [
       "'04714B603408'"
      ]
     },
     "execution_count": 13,
     "metadata": {},
     "output_type": "execute_result"
    }
   ],
   "source": [
    "#df_clean2 = prep_data(load_data('./IOT_PUMP_DE_GEN5_202012151526.csv'))\n",
    "df_clean2 = prep_data_short(load_data_short('./04714B603408.csv'))\n",
    "#df_clean2.describe()\n",
    "df_clean2.head(2)\n",
    "df_clean2.index.levels[0].values[0]"
   ]
  },
  {
   "cell_type": "code",
   "execution_count": 14,
   "metadata": {},
   "outputs": [
    {
     "data": {
      "text/html": [
       "<div>\n",
       "<style scoped>\n",
       "    .dataframe tbody tr th:only-of-type {\n",
       "        vertical-align: middle;\n",
       "    }\n",
       "\n",
       "    .dataframe tbody tr th {\n",
       "        vertical-align: top;\n",
       "    }\n",
       "\n",
       "    .dataframe thead th {\n",
       "        text-align: right;\n",
       "    }\n",
       "</style>\n",
       "<table border=\"1\" class=\"dataframe\">\n",
       "  <thead>\n",
       "    <tr style=\"text-align: right;\">\n",
       "      <th></th>\n",
       "      <th>Ap</th>\n",
       "      <th>Vx</th>\n",
       "    </tr>\n",
       "  </thead>\n",
       "  <tbody>\n",
       "    <tr>\n",
       "      <th>count</th>\n",
       "      <td>1.371300e+06</td>\n",
       "      <td>1.371300e+06</td>\n",
       "    </tr>\n",
       "    <tr>\n",
       "      <th>mean</th>\n",
       "      <td>1.501744e+00</td>\n",
       "      <td>-2.946143e-02</td>\n",
       "    </tr>\n",
       "    <tr>\n",
       "      <th>std</th>\n",
       "      <td>1.482848e+00</td>\n",
       "      <td>1.308858e-01</td>\n",
       "    </tr>\n",
       "    <tr>\n",
       "      <th>min</th>\n",
       "      <td>0.000000e+00</td>\n",
       "      <td>-1.039100e+00</td>\n",
       "    </tr>\n",
       "    <tr>\n",
       "      <th>25%</th>\n",
       "      <td>0.000000e+00</td>\n",
       "      <td>-4.390000e-02</td>\n",
       "    </tr>\n",
       "    <tr>\n",
       "      <th>50%</th>\n",
       "      <td>1.281000e+00</td>\n",
       "      <td>-2.730000e-02</td>\n",
       "    </tr>\n",
       "    <tr>\n",
       "      <th>75%</th>\n",
       "      <td>3.099000e+00</td>\n",
       "      <td>-8.800000e-03</td>\n",
       "    </tr>\n",
       "    <tr>\n",
       "      <th>max</th>\n",
       "      <td>3.780000e+00</td>\n",
       "      <td>1.035200e+00</td>\n",
       "    </tr>\n",
       "  </tbody>\n",
       "</table>\n",
       "</div>"
      ],
      "text/plain": [
       "                 Ap            Vx\n",
       "count  1.371300e+06  1.371300e+06\n",
       "mean   1.501744e+00 -2.946143e-02\n",
       "std    1.482848e+00  1.308858e-01\n",
       "min    0.000000e+00 -1.039100e+00\n",
       "25%    0.000000e+00 -4.390000e-02\n",
       "50%    1.281000e+00 -2.730000e-02\n",
       "75%    3.099000e+00 -8.800000e-03\n",
       "max    3.780000e+00  1.035200e+00"
      ]
     },
     "execution_count": 14,
     "metadata": {},
     "output_type": "execute_result"
    }
   ],
   "source": [
    "df_clean2.describe()"
   ]
  },
  {
   "cell_type": "code",
   "execution_count": 15,
   "metadata": {},
   "outputs": [
    {
     "data": {
      "text/plain": [
       "<seaborn.axisgrid.FacetGrid at 0x7fe5a0675160>"
      ]
     },
     "execution_count": 15,
     "metadata": {},
     "output_type": "execute_result"
    },
    {
     "data": {
      "text/plain": [
       "<Figure size 1152x432 with 0 Axes>"
      ]
     },
     "metadata": {},
     "output_type": "display_data"
    },
    {
     "data": {
      "image/png": "[encoded data removed]",
      "text/plain": [
       "<Figure size 360x360 with 1 Axes>"
      ]
     },
     "metadata": {
      "needs_background": "light"
     },
     "output_type": "display_data"
    }
   ],
   "source": [
    "\n",
    "plt.figure(figsize=(16, 6))\n",
    "g = sns.displot(df_clean2[['Ap','Vx']], x='Ap', y='Vx', kind=\"kde\", rug=True)\n",
    "    \n",
    "g.set_titles('KDE for' + df_clean2.index.levels[0].values[0])"
   ]
  },
  {
   "cell_type": "code",
   "execution_count": 16,
   "metadata": {},
   "outputs": [],
   "source": [
    "df_i2 = df_clean2.copy()\n"
   ]
  },
  {
   "cell_type": "code",
   "execution_count": 17,
   "metadata": {
    "scrolled": true
   },
   "outputs": [
    {
     "name": "stdout",
     "output_type": "stream",
     "text": [
      "Train and evaluate model for 04714B603408\n",
      "2020-12-22T13:57:10.081 DEBUG iotfunctions.enginelog.configure_console_logging Console logging has been configured. Level = 10\n",
      "2020-12-22T13:57:10.082 DEBUG mmfunctions.anomaly.__init__ init KDE Estimator\n",
      "2020-12-22T13:57:10.083 DEBUG iotfunctions.metadata.__init__ Initializing new entity type using iotfunctions 8.2.1\n",
      "2020-12-22T13:57:10.084 DEBUG iotfunctions.util.__init__ Starting trace\n",
      "2020-12-22T13:57:10.084 DEBUG iotfunctions.util.__init__ Trace name: auto_trace_test_entity_for_VIAnomalyScore_20201222125710\n",
      "2020-12-22T13:57:10.084 DEBUG iotfunctions.util.__init__ auto_save None\n",
      "2020-12-22T13:57:10.085 DEBUG iotfunctions.util.categorize_args categorizing arguments\n",
      "2020-12-22T13:57:10.085 WARNING iotfunctions.metadata.__init__ Created a logical entity type. It is not connected to a real database table, so it cannot perform any database operations.\n",
      "2020-12-22T13:57:10.085 DEBUG iotfunctions.metadata.__init__ Initialized entity type \n",
      "LocalEntityType:TEST_ENTITY_FOR_VIANOMALYSCORE\n",
      "Functions:\n",
      "Granularities:\n",
      "No schedules metadata\n",
      "Here 1 <class 'pandas.core.frame.DataFrame'>\n",
      "2020-12-22T13:57:10.093 DEBUG mmfunctions.anomaly.execute ['04714B603408']\n",
      "['Ap']\n",
      "2020-12-22T13:57:10.306 INFO iotfunctions.dbtables.retrieve_model Model model.TEST_ENTITY_FOR_VIANOMALYSCORE.VIAnomalyScore.Vx.04714B603408 does not exist in filesystem\n",
      "2020-12-22T13:57:10.306 INFO mmfunctions.anomaly.execute load model None\n",
      "2020-12-22T13:57:11.221 DEBUG mmfunctions.anomaly.execute Epoch: 0, Loss: 0.8914065361022949\n",
      "2020-12-22T13:57:21.196 DEBUG mmfunctions.anomaly.execute Epoch: 10, Loss: 0.6331454515457153\n",
      "2020-12-22T13:57:31.118 DEBUG mmfunctions.anomaly.execute Epoch: 20, Loss: 0.56513911485672\n",
      "2020-12-22T13:57:41.202 DEBUG mmfunctions.anomaly.execute Epoch: 30, Loss: 0.5272055268287659\n",
      "2020-12-22T13:57:51.118 DEBUG mmfunctions.anomaly.execute Epoch: 40, Loss: 0.51528400182724\n",
      "2020-12-22T13:58:01.048 DEBUG mmfunctions.anomaly.execute Epoch: 50, Loss: 0.5176530480384827\n",
      "2020-12-22T13:58:11.025 DEBUG mmfunctions.anomaly.execute Epoch: 60, Loss: 0.5161495208740234\n",
      "2020-12-22T13:58:21.046 DEBUG mmfunctions.anomaly.execute Epoch: 70, Loss: 0.515254020690918\n",
      "2020-12-22T13:58:31.043 DEBUG mmfunctions.anomaly.execute Epoch: 80, Loss: 0.5147814750671387\n",
      "2020-12-22T13:58:41.231 DEBUG mmfunctions.anomaly.execute Epoch: 90, Loss: 0.5146395564079285\n",
      "2020-12-22T13:58:51.802 DEBUG mmfunctions.anomaly.execute Epoch: 100, Loss: 0.515004575252533\n",
      "2020-12-22T13:59:02.172 DEBUG mmfunctions.anomaly.execute Epoch: 110, Loss: 0.5155276656150818\n",
      "2020-12-22T13:59:12.339 DEBUG mmfunctions.anomaly.execute Epoch: 120, Loss: 0.5141093134880066\n",
      "2020-12-22T13:59:22.321 DEBUG mmfunctions.anomaly.execute Epoch: 130, Loss: 0.5144382119178772\n",
      "2020-12-22T13:59:32.385 DEBUG mmfunctions.anomaly.execute Epoch: 140, Loss: 0.5153028964996338\n",
      "2020-12-22T13:59:42.491 DEBUG mmfunctions.anomaly.execute Epoch: 150, Loss: 0.5147557258605957\n",
      "2020-12-22T13:59:52.704 DEBUG mmfunctions.anomaly.execute Epoch: 160, Loss: 0.514911949634552\n",
      "2020-12-22T14:00:02.880 DEBUG mmfunctions.anomaly.execute Epoch: 170, Loss: 0.5151118040084839\n",
      "2020-12-22T14:00:13.050 DEBUG mmfunctions.anomaly.execute Epoch: 180, Loss: 0.5142313241958618\n",
      "2020-12-22T14:00:23.218 DEBUG mmfunctions.anomaly.execute Epoch: 190, Loss: 0.5151821970939636\n",
      "2020-12-22T14:00:33.321 DEBUG mmfunctions.anomaly.execute Epoch: 200, Loss: 0.5146312117576599\n",
      "2020-12-22T14:00:43.626 DEBUG mmfunctions.anomaly.execute Epoch: 210, Loss: 0.5153499245643616\n",
      "2020-12-22T14:00:53.778 DEBUG mmfunctions.anomaly.execute Epoch: 220, Loss: 0.5148592591285706\n",
      "2020-12-22T14:01:04.026 DEBUG mmfunctions.anomaly.execute Epoch: 230, Loss: 0.5150873064994812\n",
      "2020-12-22T14:01:14.208 DEBUG mmfunctions.anomaly.execute Epoch: 240, Loss: 0.5148673057556152\n",
      "2020-12-22T14:01:24.167 DEBUG mmfunctions.anomaly.execute Epoch: 250, Loss: 0.515082836151123\n",
      "2020-12-22T14:01:34.233 DEBUG mmfunctions.anomaly.execute Epoch: 260, Loss: 0.515089213848114\n",
      "2020-12-22T14:01:44.408 DEBUG mmfunctions.anomaly.execute Epoch: 270, Loss: 0.5139238834381104\n",
      "2020-12-22T14:01:54.596 DEBUG mmfunctions.anomaly.execute Epoch: 280, Loss: 0.5150812864303589\n",
      "2020-12-22T14:02:05.458 DEBUG mmfunctions.anomaly.execute Epoch: 290, Loss: 0.5146006345748901\n",
      "2020-12-22T14:02:15.839 DEBUG mmfunctions.anomaly.execute Epoch: 300, Loss: 0.5148071050643921\n",
      "2020-12-22T14:02:25.985 DEBUG mmfunctions.anomaly.execute Epoch: 310, Loss: 0.5151475667953491\n",
      "2020-12-22T14:02:36.358 DEBUG mmfunctions.anomaly.execute Epoch: 320, Loss: 0.5154476761817932\n",
      "2020-12-22T14:02:46.581 DEBUG mmfunctions.anomaly.execute Epoch: 330, Loss: 0.5145741701126099\n",
      "2020-12-22T14:02:56.706 DEBUG mmfunctions.anomaly.execute Epoch: 340, Loss: 0.5140682458877563\n",
      "2020-12-22T14:03:06.818 DEBUG mmfunctions.anomaly.execute Epoch: 350, Loss: 0.5148553252220154\n",
      "2020-12-22T14:03:16.944 DEBUG mmfunctions.anomaly.execute Epoch: 360, Loss: 0.5152938961982727\n",
      "2020-12-22T14:03:26.998 DEBUG mmfunctions.anomaly.execute Epoch: 370, Loss: 0.5144619345664978\n",
      "2020-12-22T14:03:37.211 DEBUG mmfunctions.anomaly.execute Epoch: 380, Loss: 0.5145074725151062\n",
      "2020-12-22T14:03:47.529 DEBUG mmfunctions.anomaly.execute Epoch: 390, Loss: 0.5141514539718628\n",
      "2020-12-22T14:03:57.711 DEBUG mmfunctions.anomaly.execute Epoch: 400, Loss: 0.515694260597229\n",
      "2020-12-22T14:04:07.877 DEBUG mmfunctions.anomaly.execute Epoch: 410, Loss: 0.5152667760848999\n",
      "2020-12-22T14:04:17.942 DEBUG mmfunctions.anomaly.execute Epoch: 420, Loss: 0.514506995677948\n",
      "2020-12-22T14:04:28.160 DEBUG mmfunctions.anomaly.execute Epoch: 430, Loss: 0.5140680074691772\n",
      "2020-12-22T14:04:38.418 DEBUG mmfunctions.anomaly.execute Epoch: 440, Loss: 0.5151513814926147\n",
      "2020-12-22T14:04:48.858 DEBUG mmfunctions.anomaly.execute Epoch: 450, Loss: 0.5153243541717529\n",
      "2020-12-22T14:04:59.093 DEBUG mmfunctions.anomaly.execute Epoch: 460, Loss: 0.5149504542350769\n",
      "2020-12-22T14:05:09.372 DEBUG mmfunctions.anomaly.execute Epoch: 470, Loss: 0.5146647691726685\n",
      "2020-12-22T14:05:19.537 DEBUG mmfunctions.anomaly.execute Epoch: 480, Loss: 0.5142231583595276\n",
      "2020-12-22T14:05:29.721 DEBUG mmfunctions.anomaly.execute Epoch: 490, Loss: 0.5133796334266663\n",
      "2020-12-22T14:05:39.882 DEBUG mmfunctions.anomaly.execute Epoch: 500, Loss: 0.5152966380119324\n",
      "2020-12-22T14:05:50.110 DEBUG mmfunctions.anomaly.execute Epoch: 510, Loss: 0.5144299864768982\n",
      "2020-12-22T14:06:00.274 DEBUG mmfunctions.anomaly.execute Epoch: 520, Loss: 0.5148006677627563\n",
      "2020-12-22T14:06:10.541 DEBUG mmfunctions.anomaly.execute Epoch: 530, Loss: 0.5146817564964294\n",
      "2020-12-22T14:06:20.738 DEBUG mmfunctions.anomaly.execute Epoch: 540, Loss: 0.5140889286994934\n",
      "2020-12-22T14:06:30.766 DEBUG mmfunctions.anomaly.execute Epoch: 550, Loss: 0.5141640901565552\n",
      "2020-12-22T14:06:40.877 DEBUG mmfunctions.anomaly.execute Epoch: 560, Loss: 0.5149827003479004\n",
      "2020-12-22T14:06:51.163 DEBUG mmfunctions.anomaly.execute Epoch: 570, Loss: 0.5139686465263367\n",
      "2020-12-22T14:07:01.329 DEBUG mmfunctions.anomaly.execute Epoch: 580, Loss: 0.5154014229774475\n",
      "2020-12-22T14:07:11.506 DEBUG mmfunctions.anomaly.execute Epoch: 590, Loss: 0.5142351984977722\n",
      "2020-12-22T14:07:21.830 DEBUG mmfunctions.anomaly.execute Epoch: 600, Loss: 0.5153434872627258\n",
      "2020-12-22T14:07:32.068 DEBUG mmfunctions.anomaly.execute Epoch: 610, Loss: 0.5152716040611267\n",
      "2020-12-22T14:07:42.397 DEBUG mmfunctions.anomaly.execute Epoch: 620, Loss: 0.5144082307815552\n",
      "2020-12-22T14:07:52.674 DEBUG mmfunctions.anomaly.execute Epoch: 630, Loss: 0.5143427848815918\n",
      "2020-12-22T14:08:03.039 DEBUG mmfunctions.anomaly.execute Epoch: 640, Loss: 0.5143038034439087\n",
      "2020-12-22T14:08:13.204 DEBUG mmfunctions.anomaly.execute Epoch: 650, Loss: 0.5141136050224304\n",
      "2020-12-22T14:08:23.457 DEBUG mmfunctions.anomaly.execute Epoch: 660, Loss: 0.5130411982536316\n",
      "2020-12-22T14:08:33.750 DEBUG mmfunctions.anomaly.execute Epoch: 670, Loss: 0.5142372250556946\n",
      "2020-12-22T14:08:43.972 DEBUG mmfunctions.anomaly.execute Epoch: 680, Loss: 0.5152056217193604\n",
      "2020-12-22T14:08:54.216 DEBUG mmfunctions.anomaly.execute Epoch: 690, Loss: 0.5141973495483398\n",
      "2020-12-22T14:09:04.555 DEBUG mmfunctions.anomaly.execute Epoch: 700, Loss: 0.5143685340881348\n",
      "2020-12-22T14:09:14.739 DEBUG mmfunctions.anomaly.execute Epoch: 710, Loss: 0.5157939791679382\n"
     ]
    },
    {
     "name": "stdout",
     "output_type": "stream",
     "text": [
      "2020-12-22T14:09:25.001 DEBUG mmfunctions.anomaly.execute Epoch: 720, Loss: 0.5140376091003418\n",
      "2020-12-22T14:09:35.230 DEBUG mmfunctions.anomaly.execute Epoch: 730, Loss: 0.5148692727088928\n",
      "2020-12-22T14:09:45.743 DEBUG mmfunctions.anomaly.execute Epoch: 740, Loss: 0.513357400894165\n",
      "2020-12-22T14:09:56.328 DEBUG mmfunctions.anomaly.execute Epoch: 750, Loss: 0.5140331387519836\n",
      "2020-12-22T14:10:06.852 DEBUG mmfunctions.anomaly.execute Epoch: 760, Loss: 0.5143701434135437\n",
      "2020-12-22T14:10:17.249 DEBUG mmfunctions.anomaly.execute Epoch: 770, Loss: 0.5141509175300598\n",
      "2020-12-22T14:10:27.786 DEBUG mmfunctions.anomaly.execute Epoch: 780, Loss: 0.5143022537231445\n",
      "2020-12-22T14:10:38.410 DEBUG mmfunctions.anomaly.execute Epoch: 790, Loss: 0.5142222046852112\n",
      "2020-12-22T14:10:49.238 DEBUG mmfunctions.anomaly.execute Epoch: 800, Loss: 0.5146180987358093\n",
      "2020-12-22T14:11:00.254 DEBUG mmfunctions.anomaly.execute Epoch: 810, Loss: 0.5139776468276978\n",
      "2020-12-22T14:11:11.208 DEBUG mmfunctions.anomaly.execute Epoch: 820, Loss: 0.5138651728630066\n",
      "2020-12-22T14:11:22.086 DEBUG mmfunctions.anomaly.execute Epoch: 830, Loss: 0.5135164260864258\n",
      "2020-12-22T14:11:32.951 DEBUG mmfunctions.anomaly.execute Epoch: 840, Loss: 0.5155550241470337\n",
      "2020-12-22T14:11:44.073 DEBUG mmfunctions.anomaly.execute Epoch: 850, Loss: 0.5142265558242798\n",
      "2020-12-22T14:11:55.120 DEBUG mmfunctions.anomaly.execute Epoch: 860, Loss: 0.5138198137283325\n",
      "2020-12-22T14:12:05.962 DEBUG mmfunctions.anomaly.execute Epoch: 870, Loss: 0.5144504308700562\n",
      "2020-12-22T14:12:16.919 DEBUG mmfunctions.anomaly.execute Epoch: 880, Loss: 0.5146055221557617\n",
      "2020-12-22T14:12:28.016 DEBUG mmfunctions.anomaly.execute Epoch: 890, Loss: 0.5149950981140137\n",
      "2020-12-22T14:12:39.038 DEBUG mmfunctions.anomaly.execute Epoch: 900, Loss: 0.5134389996528625\n",
      "2020-12-22T14:12:50.154 DEBUG mmfunctions.anomaly.execute Epoch: 910, Loss: 0.5146349668502808\n",
      "2020-12-22T14:13:01.462 DEBUG mmfunctions.anomaly.execute Epoch: 920, Loss: 0.5140714049339294\n",
      "2020-12-22T14:13:12.553 DEBUG mmfunctions.anomaly.execute Epoch: 930, Loss: 0.513556957244873\n",
      "2020-12-22T14:13:23.657 DEBUG mmfunctions.anomaly.execute Epoch: 940, Loss: 0.5141644477844238\n",
      "2020-12-22T14:13:34.755 DEBUG mmfunctions.anomaly.execute Epoch: 950, Loss: 0.5147133469581604\n",
      "2020-12-22T14:13:45.849 DEBUG mmfunctions.anomaly.execute Epoch: 960, Loss: 0.5143046975135803\n",
      "2020-12-22T14:13:56.907 DEBUG mmfunctions.anomaly.execute Epoch: 970, Loss: 0.5137965083122253\n",
      "2020-12-22T14:14:07.925 DEBUG mmfunctions.anomaly.execute Epoch: 980, Loss: 0.5133213996887207\n",
      "2020-12-22T14:14:18.996 DEBUG mmfunctions.anomaly.execute Epoch: 990, Loss: 0.5144398808479309\n",
      "2020-12-22T14:14:29.859 DEBUG mmfunctions.anomaly.execute Epoch: 1000, Loss: 0.5143953561782837\n",
      "2020-12-22T14:14:40.803 DEBUG mmfunctions.anomaly.execute Epoch: 1010, Loss: 0.5149785280227661\n",
      "2020-12-22T14:14:51.799 DEBUG mmfunctions.anomaly.execute Epoch: 1020, Loss: 0.5142021775245667\n",
      "2020-12-22T14:15:02.932 DEBUG mmfunctions.anomaly.execute Epoch: 1030, Loss: 0.5147781372070312\n",
      "2020-12-22T14:15:13.969 DEBUG mmfunctions.anomaly.execute Epoch: 1040, Loss: 0.5149414539337158\n",
      "2020-12-22T14:15:24.995 DEBUG mmfunctions.anomaly.execute Epoch: 1050, Loss: 0.5148706436157227\n",
      "2020-12-22T14:15:36.048 DEBUG mmfunctions.anomaly.execute Epoch: 1060, Loss: 0.5148179531097412\n",
      "2020-12-22T14:15:47.303 DEBUG mmfunctions.anomaly.execute Epoch: 1070, Loss: 0.5138766765594482\n",
      "2020-12-22T14:15:58.392 DEBUG mmfunctions.anomaly.execute Epoch: 1080, Loss: 0.5141459107398987\n",
      "2020-12-22T14:16:09.395 DEBUG mmfunctions.anomaly.execute Epoch: 1090, Loss: 0.5145758390426636\n",
      "2020-12-22T14:16:20.458 DEBUG mmfunctions.anomaly.execute Epoch: 1100, Loss: 0.5150577425956726\n",
      "2020-12-22T14:16:31.653 DEBUG mmfunctions.anomaly.execute Epoch: 1110, Loss: 0.5130228400230408\n",
      "2020-12-22T14:16:42.898 DEBUG mmfunctions.anomaly.execute Epoch: 1120, Loss: 0.5149590969085693\n",
      "2020-12-22T14:16:53.885 DEBUG mmfunctions.anomaly.execute Epoch: 1130, Loss: 0.5144556164741516\n",
      "2020-12-22T14:17:04.967 DEBUG mmfunctions.anomaly.execute Epoch: 1140, Loss: 0.5144173502922058\n",
      "2020-12-22T14:17:16.056 DEBUG mmfunctions.anomaly.execute Epoch: 1150, Loss: 0.5134467482566833\n",
      "2020-12-22T14:17:27.178 DEBUG mmfunctions.anomaly.execute Epoch: 1160, Loss: 0.514385998249054\n",
      "2020-12-22T14:17:38.269 DEBUG mmfunctions.anomaly.execute Epoch: 1170, Loss: 0.5140436291694641\n",
      "2020-12-22T14:17:49.507 DEBUG mmfunctions.anomaly.execute Epoch: 1180, Loss: 0.5149255990982056\n",
      "2020-12-22T14:18:00.623 DEBUG mmfunctions.anomaly.execute Epoch: 1190, Loss: 0.5143675804138184\n",
      "2020-12-22T14:18:11.658 DEBUG mmfunctions.anomaly.execute Epoch: 1200, Loss: 0.5145463347434998\n",
      "2020-12-22T14:18:22.687 DEBUG mmfunctions.anomaly.execute Epoch: 1210, Loss: 0.5148018598556519\n",
      "2020-12-22T14:18:33.756 DEBUG mmfunctions.anomaly.execute Epoch: 1220, Loss: 0.51361083984375\n",
      "2020-12-22T14:18:44.918 DEBUG mmfunctions.anomaly.execute Epoch: 1230, Loss: 0.5146350860595703\n",
      "2020-12-22T14:18:55.906 DEBUG mmfunctions.anomaly.execute Epoch: 1240, Loss: 0.5146235227584839\n",
      "2020-12-22T14:19:07.103 DEBUG mmfunctions.anomaly.execute Epoch: 1250, Loss: 0.5154386162757874\n",
      "2020-12-22T14:19:18.151 DEBUG mmfunctions.anomaly.execute Epoch: 1260, Loss: 0.5131248235702515\n",
      "2020-12-22T14:19:29.191 DEBUG mmfunctions.anomaly.execute Epoch: 1270, Loss: 0.5137571692466736\n",
      "2020-12-22T14:19:40.291 DEBUG mmfunctions.anomaly.execute Epoch: 1280, Loss: 0.5144015550613403\n",
      "2020-12-22T14:19:51.426 DEBUG mmfunctions.anomaly.execute Epoch: 1290, Loss: 0.5150455832481384\n",
      "2020-12-22T14:20:02.474 DEBUG mmfunctions.anomaly.execute Epoch: 1300, Loss: 0.5150640606880188\n",
      "2020-12-22T14:20:13.698 DEBUG mmfunctions.anomaly.execute Epoch: 1310, Loss: 0.5138633847236633\n",
      "2020-12-22T14:20:24.754 DEBUG mmfunctions.anomaly.execute Epoch: 1320, Loss: 0.5143010020256042\n",
      "2020-12-22T14:20:35.925 DEBUG mmfunctions.anomaly.execute Epoch: 1330, Loss: 0.5139129757881165\n",
      "2020-12-22T14:20:47.151 DEBUG mmfunctions.anomaly.execute Epoch: 1340, Loss: 0.513812243938446\n",
      "2020-12-22T14:20:58.316 DEBUG mmfunctions.anomaly.execute Epoch: 1350, Loss: 0.5140603184700012\n",
      "2020-12-22T14:21:09.781 DEBUG mmfunctions.anomaly.execute Epoch: 1360, Loss: 0.5139245986938477\n",
      "2020-12-22T14:21:20.931 DEBUG mmfunctions.anomaly.execute Epoch: 1370, Loss: 0.5143417716026306\n",
      "2020-12-22T14:21:32.036 DEBUG mmfunctions.anomaly.execute Epoch: 1380, Loss: 0.5143312811851501\n",
      "2020-12-22T14:21:43.320 DEBUG mmfunctions.anomaly.execute Epoch: 1390, Loss: 0.5150663256645203\n",
      "2020-12-22T14:21:54.519 DEBUG mmfunctions.anomaly.execute Epoch: 1400, Loss: 0.5134438872337341\n",
      "2020-12-22T14:22:05.661 DEBUG mmfunctions.anomaly.execute Epoch: 1410, Loss: 0.5146374106407166\n",
      "2020-12-22T14:22:16.888 DEBUG mmfunctions.anomaly.execute Epoch: 1420, Loss: 0.5138710737228394\n",
      "2020-12-22T14:22:28.274 DEBUG mmfunctions.anomaly.execute Epoch: 1430, Loss: 0.5140697956085205\n",
      "2020-12-22T14:22:39.539 DEBUG mmfunctions.anomaly.execute Epoch: 1440, Loss: 0.5143080353736877\n",
      "2020-12-22T14:22:50.828 DEBUG mmfunctions.anomaly.execute Epoch: 1450, Loss: 0.5147854089736938\n",
      "2020-12-22T14:23:02.188 DEBUG mmfunctions.anomaly.execute Epoch: 1460, Loss: 0.513729989528656\n",
      "2020-12-22T14:23:13.125 DEBUG mmfunctions.anomaly.execute Epoch: 1470, Loss: 0.5134919285774231\n",
      "2020-12-22T14:23:24.424 DEBUG mmfunctions.anomaly.execute Epoch: 1480, Loss: 0.5124624967575073\n",
      "2020-12-22T14:23:35.644 DEBUG mmfunctions.anomaly.execute Epoch: 1490, Loss: 0.5135117769241333\n",
      "2020-12-22T14:23:46.644 DEBUG mmfunctions.anomaly.execute Created VAE VI(\n",
      "  (q_mu): Sequential(\n",
      "    (0): Linear(in_features=1, out_features=20, bias=True)\n",
      "    (1): ReLU()\n",
      "    (2): Linear(in_features=20, out_features=10, bias=True)\n",
      "    (3): ReLU()\n",
      "    (4): Linear(in_features=10, out_features=1, bias=True)\n",
      "  )\n",
      "  (q_log_var): Sequential(\n",
      "    (0): Linear(in_features=1, out_features=50, bias=True)\n",
      "    (1): ReLU()\n",
      "    (2): Linear(in_features=50, out_features=35, bias=True)\n",
      "    (3): ReLU()\n",
      "    (4): Linear(in_features=35, out_features=10, bias=True)\n",
      "    (5): ReLU()\n",
      "    (6): Linear(in_features=10, out_features=1, bias=True)\n",
      "  )\n",
      ")\n"
     ]
    },
    {
     "name": "stderr",
     "output_type": "stream",
     "text": [
      "<ipython-input-17-bb9e9a5bbb29>:1: PerformanceWarning: indexing past lexsort depth may impact performance.\n",
      "  get_ipython().run_cell_magic('time', '', \"print('Train and evaluate model for ' + df_i2.index.levels[0].values[0])\\n# Now run the anomaly functions as if they were executed in a pipeline\\nEngineLogging.configure_console_logging(logging.DEBUG)\\njobsettings = { 'db': db, \\n               '_db_schema': 'public', 'save_trace_to_file' : True}\\n\\nspsi2 = VIAnomalyScore(['Ap'], ['Vx'])\\net = spsi2._build_entity_type(columns = [Column('MinTemp',Float())], **jobsettings)\\nspsi2._entity_type = et\\nspsi2.epochs = 300   # 1500 takes ages\\ndf_i2 = spsi.execute(df=df_i2)\\n\\nEngineLogging.configure_console_logging(logging.INFO)\\ndf_i2.describe()\\n\")\n"
     ]
    },
    {
     "name": "stdout",
     "output_type": "stream",
     "text": [
      "CPU times: user 1h 59min 6s, sys: 30min 21s, total: 2h 29min 27s\n",
      "Wall time: 26min 37s\n"
     ]
    },
    {
     "data": {
      "text/html": [
       "<div>\n",
       "<style scoped>\n",
       "    .dataframe tbody tr th:only-of-type {\n",
       "        vertical-align: middle;\n",
       "    }\n",
       "\n",
       "    .dataframe tbody tr th {\n",
       "        vertical-align: top;\n",
       "    }\n",
       "\n",
       "    .dataframe thead th {\n",
       "        text-align: right;\n",
       "    }\n",
       "</style>\n",
       "<table border=\"1\" class=\"dataframe\">\n",
       "  <thead>\n",
       "    <tr style=\"text-align: right;\">\n",
       "      <th></th>\n",
       "      <th>Ap</th>\n",
       "      <th>Vx</th>\n",
       "      <th>predicted_Vx</th>\n",
       "      <th>pred_dev_Vx</th>\n",
       "    </tr>\n",
       "  </thead>\n",
       "  <tbody>\n",
       "    <tr>\n",
       "      <th>count</th>\n",
       "      <td>1.371300e+06</td>\n",
       "      <td>1.371300e+06</td>\n",
       "      <td>1.371300e+06</td>\n",
       "      <td>1.371300e+06</td>\n",
       "    </tr>\n",
       "    <tr>\n",
       "      <th>mean</th>\n",
       "      <td>1.501744e+00</td>\n",
       "      <td>-2.946143e-02</td>\n",
       "      <td>-2.734308e-02</td>\n",
       "      <td>4.044737e-01</td>\n",
       "    </tr>\n",
       "    <tr>\n",
       "      <th>std</th>\n",
       "      <td>1.482848e+00</td>\n",
       "      <td>1.308858e-01</td>\n",
       "      <td>1.372179e-03</td>\n",
       "      <td>2.715333e-01</td>\n",
       "    </tr>\n",
       "    <tr>\n",
       "      <th>min</th>\n",
       "      <td>0.000000e+00</td>\n",
       "      <td>-1.039100e+00</td>\n",
       "      <td>-3.356946e-02</td>\n",
       "      <td>1.361498e-01</td>\n",
       "    </tr>\n",
       "    <tr>\n",
       "      <th>25%</th>\n",
       "      <td>0.000000e+00</td>\n",
       "      <td>-4.390000e-02</td>\n",
       "      <td>-2.845207e-02</td>\n",
       "      <td>1.361498e-01</td>\n",
       "    </tr>\n",
       "    <tr>\n",
       "      <th>50%</th>\n",
       "      <td>1.281000e+00</td>\n",
       "      <td>-2.730000e-02</td>\n",
       "      <td>-2.845207e-02</td>\n",
       "      <td>2.858738e-01</td>\n",
       "    </tr>\n",
       "    <tr>\n",
       "      <th>75%</th>\n",
       "      <td>3.099000e+00</td>\n",
       "      <td>-8.800000e-03</td>\n",
       "      <td>-2.569535e-02</td>\n",
       "      <td>6.752676e-01</td>\n",
       "    </tr>\n",
       "    <tr>\n",
       "      <th>max</th>\n",
       "      <td>3.780000e+00</td>\n",
       "      <td>1.035200e+00</td>\n",
       "      <td>-1.292527e-03</td>\n",
       "      <td>8.986392e-01</td>\n",
       "    </tr>\n",
       "  </tbody>\n",
       "</table>\n",
       "</div>"
      ],
      "text/plain": [
       "                 Ap            Vx  predicted_Vx   pred_dev_Vx\n",
       "count  1.371300e+06  1.371300e+06  1.371300e+06  1.371300e+06\n",
       "mean   1.501744e+00 -2.946143e-02 -2.734308e-02  4.044737e-01\n",
       "std    1.482848e+00  1.308858e-01  1.372179e-03  2.715333e-01\n",
       "min    0.000000e+00 -1.039100e+00 -3.356946e-02  1.361498e-01\n",
       "25%    0.000000e+00 -4.390000e-02 -2.845207e-02  1.361498e-01\n",
       "50%    1.281000e+00 -2.730000e-02 -2.845207e-02  2.858738e-01\n",
       "75%    3.099000e+00 -8.800000e-03 -2.569535e-02  6.752676e-01\n",
       "max    3.780000e+00  1.035200e+00 -1.292527e-03  8.986392e-01"
      ]
     },
     "execution_count": 17,
     "metadata": {},
     "output_type": "execute_result"
    }
   ],
   "source": [
    "%%time\n",
    "print('Train and evaluate model for ' + df_i2.index.levels[0].values[0])\n",
    "# Now run the anomaly functions as if they were executed in a pipeline\n",
    "EngineLogging.configure_console_logging(logging.DEBUG)\n",
    "jobsettings = { 'db': db, \n",
    "               '_db_schema': 'public', 'save_trace_to_file' : True}\n",
    "\n",
    "spsi2 = VIAnomalyScore(['Ap'], ['Vx'])\n",
    "et = spsi2._build_entity_type(columns = [Column('MinTemp',Float())], **jobsettings)\n",
    "spsi2._entity_type = et\n",
    "spsi2.epochs = 300   # 1500 takes ages\n",
    "df_i2 = spsi.execute(df=df_i2)\n",
    "\n",
    "EngineLogging.configure_console_logging(logging.INFO)\n",
    "df_i2.describe()"
   ]
  },
  {
   "cell_type": "code",
   "execution_count": 26,
   "metadata": {},
   "outputs": [
    {
     "name": "stdout",
     "output_type": "stream",
     "text": [
      "2020-12-22T14:50:14.011 WARNING matplotlib.legend._parse_legend_args No handles with labels found to put in legend.\n"
     ]
    },
    {
     "data": {
      "text/plain": [
       "Text(0.5, 1.0, 'pump 04714B603408 - plain scatterplot')"
      ]
     },
     "execution_count": 26,
     "metadata": {},
     "output_type": "execute_result"
    },
    {
     "data": {
      "image/png": "[encoded data removed]",
      "text/plain": [
       "<Figure size 1440x432 with 2 Axes>"
      ]
     },
     "metadata": {
      "needs_background": "light"
     },
     "output_type": "display_data"
    }
   ],
   "source": [
    "entity = df_i2.index.levels[0].values[0]\n",
    "\n",
    "df_1 = df_i2.loc[entity].copy()\n",
    "\n",
    "\n",
    "arr1 = np.where(df_1['Vx'] > df_1['predicted_Vx'] + df_1['pred_dev_Vx'], df_1['Vx'], 0) + \\\n",
    "       np.where(df_1['Vx'] < df_1['predicted_Vx'] - df_1['pred_dev_Vx'], df_1['Vx'], 0)\n",
    "arr1[arr1 == 0] = np.nan\n",
    "df_1['Anomaly'] = arr1\n",
    "\n",
    "fig, ax = plt.subplots(1, 2, figsize=(20, 6), squeeze=False)\n",
    "\n",
    "ax[0,0].scatter(df_1['Ap'], df_1['Vx'])\n",
    "ax[0,0].scatter(df_1['Ap'], df_1['predicted_Vx'], color='green')\n",
    "ax[0,0].scatter(df_1['Ap'], df_1['predicted_Vx'] - df_1['pred_dev_Vx'], color='orange', lw=0.1, label='limit - p<0.05')\n",
    "ax[0,0].scatter(df_1['Ap'], df_1['predicted_Vx'] + df_1['pred_dev_Vx'], color='orange', lw=0.1)\n",
    "ax[0,0].scatter(df_1['Ap'], df_1['Anomaly'], color='red', lw=2)\n",
    "ax[0,0].set_xlabel('Speed')\n",
    "ax[0,0].set_ylabel('Vibration')\n",
    "ax[0,0].legend()\n",
    "ax[0,0].set_title('pump ' + entity)\n",
    "\n",
    "ax[0,1].scatter(df_i2['Ap'], df_i2['Vx'])\n",
    "ax[0,1].set_xlabel('Speed')\n",
    "ax[0,1].set_ylabel('Vibration')\n",
    "ax[0,1].legend()\n",
    "ax[0,1].set_title('pump ' + entity + ' - plain scatterplot')\n"
   ]
  },
  {
   "cell_type": "code",
   "execution_count": 27,
   "metadata": {},
   "outputs": [
    {
     "name": "stderr",
     "output_type": "stream",
     "text": [
      "<ipython-input-27-11cbb9c58f70>:1: SettingWithCopyWarning: \n",
      "A value is trying to be set on a copy of a slice from a DataFrame.\n",
      "Try using .loc[row_indexer,col_indexer] = value instead\n",
      "\n",
      "See the caveats in the documentation: http://pandas.pydata.org/pandas-docs/stable/user_guide/indexing.html#returning-a-view-versus-a-copy\n",
      "  df_1[df_1['Ap'] < 2.0]['Anomaly'] = np.nan\n",
      "<ipython-input-27-11cbb9c58f70>:2: SettingWithCopyWarning: \n",
      "A value is trying to be set on a copy of a slice from a DataFrame.\n",
      "Try using .loc[row_indexer,col_indexer] = value instead\n",
      "\n",
      "See the caveats in the documentation: http://pandas.pydata.org/pandas-docs/stable/user_guide/indexing.html#returning-a-view-versus-a-copy\n",
      "  df_1[np.abs(df_1['Vx']) < 0.7]['Anomaly'] = np.nan\n"
     ]
    }
   ],
   "source": [
    "df_1[df_1['Ap'] < 2.0]['Anomaly'] = np.nan\n",
    "df_1[np.abs(df_1['Vx']) < 0.7]['Anomaly'] = np.nan"
   ]
  },
  {
   "cell_type": "code",
   "execution_count": 28,
   "metadata": {},
   "outputs": [
    {
     "data": {
      "text/plain": [
       "Text(0.5, 1.0, 'pump 04714B603408')"
      ]
     },
     "execution_count": 28,
     "metadata": {},
     "output_type": "execute_result"
    },
    {
     "data": {
      "image/png": "[encoded data removed]",
      "text/plain": [
       "<Figure size 1080x432 with 1 Axes>"
      ]
     },
     "metadata": {
      "needs_background": "light"
     },
     "output_type": "display_data"
    }
   ],
   "source": [
    "fig, ax = plt.subplots(1, 1, figsize=(15, 6), squeeze=False)\n",
    "#ax[0,0].plot(df_1['max'] + 2.0, lw=0.4, color='blue', label='smoothed max vib + 1')\n",
    "ax[0,0].scatter(df_1.index,df_1['Vx'], lw=0.4, color='green', label='vibration')\n",
    "ax[0,0].scatter(df_1.index,df_1['Ap']/3, lw=0.4, color='orange', zorder=5, label='accel speed')\n",
    "ax[0,0].scatter(df_1.index, df_1['Anomaly'], lw=0.4, color='red', zorder=10, label='excessive vibration')\n",
    "ax[0,0].legend()\n",
    "ax[0,0].set_title('pump ' + df_i2.index.levels[0].values[0])"
   ]
  },
  {
   "cell_type": "code",
   "execution_count": null,
   "metadata": {},
   "outputs": [],
   "source": []
  },
  {
   "cell_type": "code",
   "execution_count": 29,
   "metadata": {
    "scrolled": true
   },
   "outputs": [
    {
     "data": {
      "text/plain": [
       "'04714B6036B1'"
      ]
     },
     "execution_count": 29,
     "metadata": {},
     "output_type": "execute_result"
    }
   ],
   "source": [
    "df_clean3 = prep_data_short(load_data_short('./04714B6036B1.csv'))\n",
    "df_clean3.head(2)\n",
    "df_clean3.index.levels[0].values[0]"
   ]
  },
  {
   "cell_type": "code",
   "execution_count": 30,
   "metadata": {},
   "outputs": [
    {
     "data": {
      "text/plain": [
       "<seaborn.axisgrid.FacetGrid at 0x7fe5a3a91e80>"
      ]
     },
     "execution_count": 30,
     "metadata": {},
     "output_type": "execute_result"
    },
    {
     "data": {
      "text/plain": [
       "<Figure size 1152x432 with 0 Axes>"
      ]
     },
     "metadata": {},
     "output_type": "display_data"
    },
    {
     "data": {
      "image/png": "[encoded data removed]",
      "text/plain": [
       "<Figure size 360x360 with 1 Axes>"
      ]
     },
     "metadata": {
      "needs_background": "light"
     },
     "output_type": "display_data"
    }
   ],
   "source": [
    "plt.figure(figsize=(16, 6))\n",
    "g = sns.displot(df_clean3[['Ap','Vx']], x='Ap', y='Vx', kind=\"kde\", rug=True)\n",
    "    \n",
    "g.set_titles('KDE for' + df_clean3.index.levels[0].values[0])"
   ]
  },
  {
   "cell_type": "code",
   "execution_count": 31,
   "metadata": {},
   "outputs": [],
   "source": [
    "df_i3 = df_clean3.copy()"
   ]
  },
  {
   "cell_type": "code",
   "execution_count": 32,
   "metadata": {
    "scrolled": true
   },
   "outputs": [
    {
     "name": "stdout",
     "output_type": "stream",
     "text": [
      "Train and evaluate model for 04714B6036B1\n",
      "2020-12-22T15:50:44.327 DEBUG iotfunctions.enginelog.configure_console_logging Console logging has been configured. Level = 10\n",
      "2020-12-22T15:50:44.328 DEBUG mmfunctions.anomaly.__init__ init KDE Estimator\n",
      "2020-12-22T15:50:44.328 DEBUG iotfunctions.metadata.__init__ Initializing new entity type using iotfunctions 8.2.1\n",
      "2020-12-22T15:50:44.329 DEBUG iotfunctions.util.__init__ Starting trace\n",
      "2020-12-22T15:50:44.330 DEBUG iotfunctions.util.__init__ Trace name: auto_trace_test_entity_for_VIAnomalyScore_20201222145044\n",
      "2020-12-22T15:50:44.330 DEBUG iotfunctions.util.__init__ auto_save None\n",
      "2020-12-22T15:50:44.331 DEBUG iotfunctions.util.categorize_args categorizing arguments\n",
      "2020-12-22T15:50:44.331 WARNING iotfunctions.metadata.__init__ Created a logical entity type. It is not connected to a real database table, so it cannot perform any database operations.\n",
      "2020-12-22T15:50:44.332 DEBUG iotfunctions.metadata.__init__ Initialized entity type \n",
      "LocalEntityType:TEST_ENTITY_FOR_VIANOMALYSCORE\n",
      "Functions:\n",
      "Granularities:\n",
      "No schedules metadata\n",
      "Here 1 <class 'pandas.core.frame.DataFrame'>\n",
      "2020-12-22T15:50:44.338 DEBUG mmfunctions.anomaly.execute ['04714B6036B1']\n",
      "['Ap']\n",
      "2020-12-22T15:50:44.552 INFO iotfunctions.dbtables.retrieve_model Model model.TEST_ENTITY_FOR_VIANOMALYSCORE.VIAnomalyScore.Vx.04714B6036B1 does not exist in filesystem\n",
      "2020-12-22T15:50:44.552 INFO mmfunctions.anomaly.execute load model None\n",
      "2020-12-22T15:50:45.588 DEBUG mmfunctions.anomaly.execute Epoch: 0, Loss: 0.8325163125991821\n",
      "2020-12-22T15:50:56.103 DEBUG mmfunctions.anomaly.execute Epoch: 10, Loss: 0.5652421712875366\n",
      "2020-12-22T15:51:06.955 DEBUG mmfunctions.anomaly.execute Epoch: 20, Loss: 0.5153636932373047\n",
      "2020-12-22T15:51:17.711 DEBUG mmfunctions.anomaly.execute Epoch: 30, Loss: 0.4913690984249115\n",
      "2020-12-22T15:51:28.383 DEBUG mmfunctions.anomaly.execute Epoch: 40, Loss: 0.4863063097000122\n",
      "2020-12-22T15:51:38.963 DEBUG mmfunctions.anomaly.execute Epoch: 50, Loss: 0.4872589111328125\n",
      "2020-12-22T15:51:49.619 DEBUG mmfunctions.anomaly.execute Epoch: 60, Loss: 0.486362099647522\n",
      "2020-12-22T15:51:59.948 DEBUG mmfunctions.anomaly.execute Epoch: 70, Loss: 0.48674455285072327\n",
      "2020-12-22T15:52:10.797 DEBUG mmfunctions.anomaly.execute Epoch: 80, Loss: 0.48609670996665955\n",
      "2020-12-22T15:52:21.633 DEBUG mmfunctions.anomaly.execute Epoch: 90, Loss: 0.48684075474739075\n",
      "2020-12-22T15:52:32.288 DEBUG mmfunctions.anomaly.execute Epoch: 100, Loss: 0.48644647002220154\n",
      "2020-12-22T15:52:43.031 DEBUG mmfunctions.anomaly.execute Epoch: 110, Loss: 0.4854465425014496\n",
      "2020-12-22T15:52:53.978 DEBUG mmfunctions.anomaly.execute Epoch: 120, Loss: 0.48618194460868835\n",
      "2020-12-22T15:53:04.776 DEBUG mmfunctions.anomaly.execute Epoch: 130, Loss: 0.4873572289943695\n",
      "2020-12-22T15:53:15.521 DEBUG mmfunctions.anomaly.execute Epoch: 140, Loss: 0.4859188497066498\n",
      "2020-12-22T15:53:26.247 DEBUG mmfunctions.anomaly.execute Epoch: 150, Loss: 0.48691684007644653\n",
      "2020-12-22T15:53:37.112 DEBUG mmfunctions.anomaly.execute Epoch: 160, Loss: 0.4861513674259186\n",
      "2020-12-22T15:53:48.188 DEBUG mmfunctions.anomaly.execute Epoch: 170, Loss: 0.48652270436286926\n",
      "2020-12-22T15:53:58.871 DEBUG mmfunctions.anomaly.execute Epoch: 180, Loss: 0.4864473342895508\n",
      "2020-12-22T15:54:09.567 DEBUG mmfunctions.anomaly.execute Epoch: 190, Loss: 0.4863928258419037\n",
      "2020-12-22T15:54:20.527 DEBUG mmfunctions.anomaly.execute Epoch: 200, Loss: 0.48636096715927124\n",
      "2020-12-22T15:54:31.252 DEBUG mmfunctions.anomaly.execute Epoch: 210, Loss: 0.48703843355178833\n",
      "2020-12-22T15:54:42.669 DEBUG mmfunctions.anomaly.execute Epoch: 220, Loss: 0.48699185252189636\n",
      "2020-12-22T15:54:53.437 DEBUG mmfunctions.anomaly.execute Epoch: 230, Loss: 0.4859136939048767\n",
      "2020-12-22T15:55:04.288 DEBUG mmfunctions.anomaly.execute Epoch: 240, Loss: 0.4861014187335968\n",
      "2020-12-22T15:55:15.210 DEBUG mmfunctions.anomaly.execute Epoch: 250, Loss: 0.48731422424316406\n",
      "2020-12-22T15:55:26.216 DEBUG mmfunctions.anomaly.execute Epoch: 260, Loss: 0.48592686653137207\n",
      "2020-12-22T15:55:39.288 DEBUG mmfunctions.anomaly.execute Epoch: 270, Loss: 0.48709630966186523\n",
      "2020-12-22T15:55:50.662 DEBUG mmfunctions.anomaly.execute Epoch: 280, Loss: 0.4863559305667877\n",
      "2020-12-22T15:56:01.874 DEBUG mmfunctions.anomaly.execute Epoch: 290, Loss: 0.4861152470111847\n",
      "2020-12-22T15:56:13.266 DEBUG mmfunctions.anomaly.execute Epoch: 300, Loss: 0.4857954978942871\n",
      "2020-12-22T15:56:24.917 DEBUG mmfunctions.anomaly.execute Epoch: 310, Loss: 0.48659488558769226\n",
      "2020-12-22T15:56:38.002 DEBUG mmfunctions.anomaly.execute Epoch: 320, Loss: 0.486554354429245\n",
      "2020-12-22T15:56:50.738 DEBUG mmfunctions.anomaly.execute Epoch: 330, Loss: 0.4864659309387207\n",
      "2020-12-22T15:57:04.072 DEBUG mmfunctions.anomaly.execute Epoch: 340, Loss: 0.48656079173088074\n",
      "2020-12-22T15:57:16.402 DEBUG mmfunctions.anomaly.execute Epoch: 350, Loss: 0.4858933687210083\n",
      "2020-12-22T15:57:28.602 DEBUG mmfunctions.anomaly.execute Epoch: 360, Loss: 0.48608890175819397\n",
      "2020-12-22T15:57:40.958 DEBUG mmfunctions.anomaly.execute Epoch: 370, Loss: 0.4864509105682373\n",
      "2020-12-22T15:57:56.109 DEBUG mmfunctions.anomaly.execute Epoch: 380, Loss: 0.48563650250434875\n",
      "2020-12-22T15:58:11.466 DEBUG mmfunctions.anomaly.execute Epoch: 390, Loss: 0.48714694380760193\n",
      "2020-12-22T15:58:32.321 DEBUG mmfunctions.anomaly.execute Epoch: 400, Loss: 0.487199604511261\n",
      "2020-12-22T15:58:56.036 DEBUG mmfunctions.anomaly.execute Epoch: 410, Loss: 0.4866694509983063\n",
      "2020-12-22T15:59:17.196 DEBUG mmfunctions.anomaly.execute Epoch: 420, Loss: 0.4864768385887146\n",
      "2020-12-22T15:59:36.088 DEBUG mmfunctions.anomaly.execute Epoch: 430, Loss: 0.4860832095146179\n",
      "2020-12-22T15:59:55.002 DEBUG mmfunctions.anomaly.execute Epoch: 440, Loss: 0.4863526523113251\n",
      "2020-12-22T16:00:11.835 DEBUG mmfunctions.anomaly.execute Epoch: 450, Loss: 0.48591163754463196\n",
      "2020-12-22T16:00:29.052 DEBUG mmfunctions.anomaly.execute Epoch: 460, Loss: 0.48736992478370667\n",
      "2020-12-22T16:00:46.637 DEBUG mmfunctions.anomaly.execute Epoch: 470, Loss: 0.486917644739151\n",
      "2020-12-22T16:01:04.056 DEBUG mmfunctions.anomaly.execute Epoch: 480, Loss: 0.48650404810905457\n",
      "2020-12-22T16:01:23.137 DEBUG mmfunctions.anomaly.execute Epoch: 490, Loss: 0.48635298013687134\n",
      "2020-12-22T16:01:40.722 DEBUG mmfunctions.anomaly.execute Epoch: 500, Loss: 0.4861403703689575\n",
      "2020-12-22T16:01:59.116 DEBUG mmfunctions.anomaly.execute Epoch: 510, Loss: 0.48623207211494446\n",
      "2020-12-22T16:02:18.820 DEBUG mmfunctions.anomaly.execute Epoch: 520, Loss: 0.4860113859176636\n",
      "2020-12-22T16:02:36.960 DEBUG mmfunctions.anomaly.execute Epoch: 530, Loss: 0.4870612919330597\n",
      "2020-12-22T16:02:56.152 DEBUG mmfunctions.anomaly.execute Epoch: 540, Loss: 0.4864642918109894\n",
      "2020-12-22T16:03:14.533 DEBUG mmfunctions.anomaly.execute Epoch: 550, Loss: 0.4874727129936218\n",
      "2020-12-22T16:03:34.348 DEBUG mmfunctions.anomaly.execute Epoch: 560, Loss: 0.48634791374206543\n",
      "2020-12-22T16:03:53.736 DEBUG mmfunctions.anomaly.execute Epoch: 570, Loss: 0.48615625500679016\n",
      "2020-12-22T16:04:14.594 DEBUG mmfunctions.anomaly.execute Epoch: 580, Loss: 0.48614296317100525\n",
      "2020-12-22T16:04:36.694 DEBUG mmfunctions.anomaly.execute Epoch: 590, Loss: 0.48542025685310364\n",
      "2020-12-22T16:04:54.580 DEBUG mmfunctions.anomaly.execute Epoch: 600, Loss: 0.4853813946247101\n",
      "2020-12-22T16:05:13.723 DEBUG mmfunctions.anomaly.execute Epoch: 610, Loss: 0.4863088130950928\n",
      "2020-12-22T16:05:34.084 DEBUG mmfunctions.anomaly.execute Epoch: 620, Loss: 0.4867885112762451\n",
      "2020-12-22T16:05:58.037 DEBUG mmfunctions.anomaly.execute Epoch: 630, Loss: 0.4858531951904297\n",
      "2020-12-22T16:06:19.762 DEBUG mmfunctions.anomaly.execute Epoch: 640, Loss: 0.48698464035987854\n",
      "2020-12-22T16:06:37.212 DEBUG mmfunctions.anomaly.execute Epoch: 650, Loss: 0.48672446608543396\n",
      "2020-12-22T16:06:55.175 DEBUG mmfunctions.anomaly.execute Epoch: 660, Loss: 0.4864636957645416\n",
      "2020-12-22T16:07:12.830 DEBUG mmfunctions.anomaly.execute Epoch: 670, Loss: 0.48536059260368347\n",
      "2020-12-22T16:07:33.552 DEBUG mmfunctions.anomaly.execute Epoch: 680, Loss: 0.4857752025127411\n",
      "2020-12-22T16:07:54.241 DEBUG mmfunctions.anomaly.execute Epoch: 690, Loss: 0.48669639229774475\n",
      "2020-12-22T16:08:10.764 DEBUG mmfunctions.anomaly.execute Epoch: 700, Loss: 0.4875572919845581\n"
     ]
    },
    {
     "name": "stdout",
     "output_type": "stream",
     "text": [
      "2020-12-22T16:08:27.718 DEBUG mmfunctions.anomaly.execute Epoch: 710, Loss: 0.4861690402030945\n",
      "2020-12-22T16:08:48.223 DEBUG mmfunctions.anomaly.execute Epoch: 720, Loss: 0.4854114055633545\n",
      "2020-12-22T16:09:10.729 DEBUG mmfunctions.anomaly.execute Epoch: 730, Loss: 0.48605582118034363\n",
      "2020-12-22T16:09:31.181 DEBUG mmfunctions.anomaly.execute Epoch: 740, Loss: 0.48728975653648376\n",
      "2020-12-22T16:09:41.966 DEBUG mmfunctions.anomaly.execute Epoch: 750, Loss: 0.4858241081237793\n",
      "2020-12-22T16:09:52.462 DEBUG mmfunctions.anomaly.execute Epoch: 760, Loss: 0.4855801463127136\n",
      "2020-12-22T16:10:02.648 DEBUG mmfunctions.anomaly.execute Epoch: 770, Loss: 0.48650646209716797\n",
      "2020-12-22T16:10:13.460 DEBUG mmfunctions.anomaly.execute Epoch: 780, Loss: 0.4863134026527405\n",
      "2020-12-22T16:10:24.221 DEBUG mmfunctions.anomaly.execute Epoch: 790, Loss: 0.48651033639907837\n",
      "2020-12-22T16:10:34.580 DEBUG mmfunctions.anomaly.execute Epoch: 800, Loss: 0.48592084646224976\n",
      "2020-12-22T16:10:45.270 DEBUG mmfunctions.anomaly.execute Epoch: 810, Loss: 0.4858454465866089\n",
      "2020-12-22T16:10:55.837 DEBUG mmfunctions.anomaly.execute Epoch: 820, Loss: 0.4861123859882355\n",
      "2020-12-22T16:11:07.126 DEBUG mmfunctions.anomaly.execute Epoch: 830, Loss: 0.48574298620224\n",
      "2020-12-22T16:11:17.557 DEBUG mmfunctions.anomaly.execute Epoch: 840, Loss: 0.48601198196411133\n",
      "2020-12-22T16:11:28.256 DEBUG mmfunctions.anomaly.execute Epoch: 850, Loss: 0.48634594678878784\n",
      "2020-12-22T16:11:38.814 DEBUG mmfunctions.anomaly.execute Epoch: 860, Loss: 0.4857790172100067\n",
      "2020-12-22T16:11:49.332 DEBUG mmfunctions.anomaly.execute Epoch: 870, Loss: 0.4871848523616791\n",
      "2020-12-22T16:11:59.930 DEBUG mmfunctions.anomaly.execute Epoch: 880, Loss: 0.4860883057117462\n",
      "2020-12-22T16:12:11.145 DEBUG mmfunctions.anomaly.execute Epoch: 890, Loss: 0.48607900738716125\n",
      "2020-12-22T16:12:21.549 DEBUG mmfunctions.anomaly.execute Epoch: 900, Loss: 0.4859886169433594\n",
      "2020-12-22T16:12:32.143 DEBUG mmfunctions.anomaly.execute Epoch: 910, Loss: 0.48615342378616333\n",
      "2020-12-22T16:12:42.831 DEBUG mmfunctions.anomaly.execute Epoch: 920, Loss: 0.48666912317276\n",
      "2020-12-22T16:12:54.207 DEBUG mmfunctions.anomaly.execute Epoch: 930, Loss: 0.4866842031478882\n",
      "2020-12-22T16:13:05.347 DEBUG mmfunctions.anomaly.execute Epoch: 940, Loss: 0.4850946366786957\n",
      "2020-12-22T16:13:16.280 DEBUG mmfunctions.anomaly.execute Epoch: 950, Loss: 0.48710891604423523\n",
      "2020-12-22T16:13:27.371 DEBUG mmfunctions.anomaly.execute Epoch: 960, Loss: 0.486395925283432\n",
      "2020-12-22T16:13:38.240 DEBUG mmfunctions.anomaly.execute Epoch: 970, Loss: 0.48582524061203003\n",
      "2020-12-22T16:13:49.514 DEBUG mmfunctions.anomaly.execute Epoch: 980, Loss: 0.4864894449710846\n",
      "2020-12-22T16:14:00.490 DEBUG mmfunctions.anomaly.execute Epoch: 990, Loss: 0.48681971430778503\n",
      "2020-12-22T16:14:12.278 DEBUG mmfunctions.anomaly.execute Epoch: 1000, Loss: 0.4864182472229004\n",
      "2020-12-22T16:14:23.575 DEBUG mmfunctions.anomaly.execute Epoch: 1010, Loss: 0.487104594707489\n",
      "2020-12-22T16:14:34.735 DEBUG mmfunctions.anomaly.execute Epoch: 1020, Loss: 0.48670080304145813\n",
      "2020-12-22T16:14:46.180 DEBUG mmfunctions.anomaly.execute Epoch: 1030, Loss: 0.4866601526737213\n",
      "2020-12-22T16:14:58.478 DEBUG mmfunctions.anomaly.execute Epoch: 1040, Loss: 0.48662593960762024\n",
      "2020-12-22T16:15:09.799 DEBUG mmfunctions.anomaly.execute Epoch: 1050, Loss: 0.4856388568878174\n",
      "2020-12-22T16:15:20.386 DEBUG mmfunctions.anomaly.execute Epoch: 1060, Loss: 0.48538678884506226\n",
      "2020-12-22T16:15:30.865 DEBUG mmfunctions.anomaly.execute Epoch: 1070, Loss: 0.48568153381347656\n",
      "2020-12-22T16:15:41.711 DEBUG mmfunctions.anomaly.execute Epoch: 1080, Loss: 0.4858759641647339\n",
      "2020-12-22T16:15:52.250 DEBUG mmfunctions.anomaly.execute Epoch: 1090, Loss: 0.4856809377670288\n",
      "2020-12-22T16:16:03.035 DEBUG mmfunctions.anomaly.execute Epoch: 1100, Loss: 0.48627591133117676\n",
      "2020-12-22T16:16:14.084 DEBUG mmfunctions.anomaly.execute Epoch: 1110, Loss: 0.4862355887889862\n",
      "2020-12-22T16:16:25.733 DEBUG mmfunctions.anomaly.execute Epoch: 1120, Loss: 0.48609238862991333\n",
      "2020-12-22T16:16:36.640 DEBUG mmfunctions.anomaly.execute Epoch: 1130, Loss: 0.4869769811630249\n",
      "2020-12-22T16:16:47.439 DEBUG mmfunctions.anomaly.execute Epoch: 1140, Loss: 0.4861745238304138\n",
      "2020-12-22T16:16:58.072 DEBUG mmfunctions.anomaly.execute Epoch: 1150, Loss: 0.486310750246048\n",
      "2020-12-22T16:17:09.259 DEBUG mmfunctions.anomaly.execute Epoch: 1160, Loss: 0.48594656586647034\n",
      "2020-12-22T16:17:20.027 DEBUG mmfunctions.anomaly.execute Epoch: 1170, Loss: 0.4859270751476288\n",
      "2020-12-22T16:17:30.787 DEBUG mmfunctions.anomaly.execute Epoch: 1180, Loss: 0.48596322536468506\n",
      "2020-12-22T16:17:41.901 DEBUG mmfunctions.anomaly.execute Epoch: 1190, Loss: 0.4862907826900482\n",
      "2020-12-22T16:17:53.092 DEBUG mmfunctions.anomaly.execute Epoch: 1200, Loss: 0.4856567978858948\n",
      "2020-12-22T16:18:05.058 DEBUG mmfunctions.anomaly.execute Epoch: 1210, Loss: 0.4859086275100708\n",
      "2020-12-22T16:18:17.537 DEBUG mmfunctions.anomaly.execute Epoch: 1220, Loss: 0.48617538809776306\n",
      "2020-12-22T16:18:30.283 DEBUG mmfunctions.anomaly.execute Epoch: 1230, Loss: 0.4870046377182007\n",
      "2020-12-22T16:18:42.879 DEBUG mmfunctions.anomaly.execute Epoch: 1240, Loss: 0.48572883009910583\n",
      "2020-12-22T16:18:55.700 DEBUG mmfunctions.anomaly.execute Epoch: 1250, Loss: 0.48631376028060913\n",
      "2020-12-22T16:19:08.318 DEBUG mmfunctions.anomaly.execute Epoch: 1260, Loss: 0.4862262010574341\n",
      "2020-12-22T16:19:21.067 DEBUG mmfunctions.anomaly.execute Epoch: 1270, Loss: 0.4854844808578491\n",
      "2020-12-22T16:19:33.953 DEBUG mmfunctions.anomaly.execute Epoch: 1280, Loss: 0.48578497767448425\n",
      "2020-12-22T16:19:48.351 DEBUG mmfunctions.anomaly.execute Epoch: 1290, Loss: 0.485117107629776\n",
      "2020-12-22T16:20:03.213 DEBUG mmfunctions.anomaly.execute Epoch: 1300, Loss: 0.4853770136833191\n",
      "2020-12-22T16:20:19.919 DEBUG mmfunctions.anomaly.execute Epoch: 1310, Loss: 0.4856608510017395\n",
      "2020-12-22T16:20:38.667 DEBUG mmfunctions.anomaly.execute Epoch: 1320, Loss: 0.48569896817207336\n",
      "2020-12-22T16:20:55.478 DEBUG mmfunctions.anomaly.execute Epoch: 1330, Loss: 0.48554328083992004\n",
      "2020-12-22T16:21:13.278 DEBUG mmfunctions.anomaly.execute Epoch: 1340, Loss: 0.4855981767177582\n",
      "2020-12-22T16:21:30.950 DEBUG mmfunctions.anomaly.execute Epoch: 1350, Loss: 0.48531609773635864\n",
      "2020-12-22T16:21:49.096 DEBUG mmfunctions.anomaly.execute Epoch: 1360, Loss: 0.48670801520347595\n",
      "2020-12-22T16:22:05.546 DEBUG mmfunctions.anomaly.execute Epoch: 1370, Loss: 0.4852875769138336\n",
      "2020-12-22T16:22:22.686 DEBUG mmfunctions.anomaly.execute Epoch: 1380, Loss: 0.4848087430000305\n",
      "2020-12-22T16:22:39.363 DEBUG mmfunctions.anomaly.execute Epoch: 1390, Loss: 0.4856317639350891\n",
      "2020-12-22T16:22:55.841 DEBUG mmfunctions.anomaly.execute Epoch: 1400, Loss: 0.4858027994632721\n",
      "2020-12-22T16:23:12.857 DEBUG mmfunctions.anomaly.execute Epoch: 1410, Loss: 0.4848630726337433\n",
      "2020-12-22T16:23:29.226 DEBUG mmfunctions.anomaly.execute Epoch: 1420, Loss: 0.4854389727115631\n",
      "2020-12-22T16:23:45.377 DEBUG mmfunctions.anomaly.execute Epoch: 1430, Loss: 0.486282616853714\n",
      "2020-12-22T16:24:01.841 DEBUG mmfunctions.anomaly.execute Epoch: 1440, Loss: 0.4853481650352478\n",
      "2020-12-22T16:24:18.709 DEBUG mmfunctions.anomaly.execute Epoch: 1450, Loss: 0.48608991503715515\n",
      "2020-12-22T16:24:35.701 DEBUG mmfunctions.anomaly.execute Epoch: 1460, Loss: 0.4854182004928589\n",
      "2020-12-22T16:24:54.074 DEBUG mmfunctions.anomaly.execute Epoch: 1470, Loss: 0.48608341813087463\n",
      "2020-12-22T16:25:11.277 DEBUG mmfunctions.anomaly.execute Epoch: 1480, Loss: 0.48522114753723145\n",
      "2020-12-22T16:25:27.729 DEBUG mmfunctions.anomaly.execute Epoch: 1490, Loss: 0.4852508306503296\n",
      "2020-12-22T16:25:44.498 DEBUG mmfunctions.anomaly.execute Created VAE VI(\n",
      "  (q_mu): Sequential(\n",
      "    (0): Linear(in_features=1, out_features=20, bias=True)\n",
      "    (1): ReLU()\n",
      "    (2): Linear(in_features=20, out_features=10, bias=True)\n",
      "    (3): ReLU()\n",
      "    (4): Linear(in_features=10, out_features=1, bias=True)\n",
      "  )\n",
      "  (q_log_var): Sequential(\n",
      "    (0): Linear(in_features=1, out_features=50, bias=True)\n",
      "    (1): ReLU()\n",
      "    (2): Linear(in_features=50, out_features=35, bias=True)\n",
      "    (3): ReLU()\n",
      "    (4): Linear(in_features=35, out_features=10, bias=True)\n",
      "    (5): ReLU()\n",
      "    (6): Linear(in_features=10, out_features=1, bias=True)\n",
      "  )\n",
      ")\n"
     ]
    },
    {
     "name": "stderr",
     "output_type": "stream",
     "text": [
      "<ipython-input-32-c9f26aead716>:1: PerformanceWarning: indexing past lexsort depth may impact performance.\n",
      "  get_ipython().run_cell_magic('time', '', \"print('Train and evaluate model for ' + df_i3.index.levels[0].values[0])\\n# Now run the anomaly functions as if they were executed in a pipeline\\nEngineLogging.configure_console_logging(logging.DEBUG)\\njobsettings = { 'db': db, \\n               '_db_schema': 'public', 'save_trace_to_file' : True}\\n\\nspsi3 = VIAnomalyScore(['Ap'], ['Vx'])\\net = spsi3._build_entity_type(columns = [Column('MinTemp',Float())], **jobsettings)\\nspsi3._entity_type = et\\ndf_i3 = spsi.execute(df=df_i3)\\n\\nEngineLogging.configure_console_logging(logging.INFO)\\ndf_i3.describe()\\n\")\n"
     ]
    },
    {
     "name": "stdout",
     "output_type": "stream",
     "text": [
      "CPU times: user 2h 33min 9s, sys: 41min 20s, total: 3h 14min 30s\n",
      "Wall time: 35min 1s\n"
     ]
    },
    {
     "data": {
      "text/html": [
       "<div>\n",
       "<style scoped>\n",
       "    .dataframe tbody tr th:only-of-type {\n",
       "        vertical-align: middle;\n",
       "    }\n",
       "\n",
       "    .dataframe tbody tr th {\n",
       "        vertical-align: top;\n",
       "    }\n",
       "\n",
       "    .dataframe thead th {\n",
       "        text-align: right;\n",
       "    }\n",
       "</style>\n",
       "<table border=\"1\" class=\"dataframe\">\n",
       "  <thead>\n",
       "    <tr style=\"text-align: right;\">\n",
       "      <th></th>\n",
       "      <th>Ap</th>\n",
       "      <th>Vx</th>\n",
       "      <th>predicted_Vx</th>\n",
       "      <th>pred_dev_Vx</th>\n",
       "    </tr>\n",
       "  </thead>\n",
       "  <tbody>\n",
       "    <tr>\n",
       "      <th>count</th>\n",
       "      <td>1.368975e+06</td>\n",
       "      <td>1.368975e+06</td>\n",
       "      <td>1.368975e+06</td>\n",
       "      <td>1.368975e+06</td>\n",
       "    </tr>\n",
       "    <tr>\n",
       "      <th>mean</th>\n",
       "      <td>1.400429e+00</td>\n",
       "      <td>9.770501e-03</td>\n",
       "      <td>8.359868e-03</td>\n",
       "      <td>3.902670e-01</td>\n",
       "    </tr>\n",
       "    <tr>\n",
       "      <th>std</th>\n",
       "      <td>1.396439e+00</td>\n",
       "      <td>8.449316e-02</td>\n",
       "      <td>2.403382e-03</td>\n",
       "      <td>1.797408e-01</td>\n",
       "    </tr>\n",
       "    <tr>\n",
       "      <th>min</th>\n",
       "      <td>0.000000e+00</td>\n",
       "      <td>-9.580000e-01</td>\n",
       "      <td>6.013222e-03</td>\n",
       "      <td>2.128958e-01</td>\n",
       "    </tr>\n",
       "    <tr>\n",
       "      <th>25%</th>\n",
       "      <td>0.000000e+00</td>\n",
       "      <td>-1.370000e-02</td>\n",
       "      <td>6.013222e-03</td>\n",
       "      <td>2.128958e-01</td>\n",
       "    </tr>\n",
       "    <tr>\n",
       "      <th>50%</th>\n",
       "      <td>1.234000e+00</td>\n",
       "      <td>6.800000e-03</td>\n",
       "      <td>7.152006e-03</td>\n",
       "      <td>2.514825e-01</td>\n",
       "    </tr>\n",
       "    <tr>\n",
       "      <th>75%</th>\n",
       "      <td>3.099000e+00</td>\n",
       "      <td>2.930000e-02</td>\n",
       "      <td>1.133477e-02</td>\n",
       "      <td>5.796511e-01</td>\n",
       "    </tr>\n",
       "    <tr>\n",
       "      <th>max</th>\n",
       "      <td>3.780000e+00</td>\n",
       "      <td>9.834000e-01</td>\n",
       "      <td>1.609729e-02</td>\n",
       "      <td>6.654118e-01</td>\n",
       "    </tr>\n",
       "  </tbody>\n",
       "</table>\n",
       "</div>"
      ],
      "text/plain": [
       "                 Ap            Vx  predicted_Vx   pred_dev_Vx\n",
       "count  1.368975e+06  1.368975e+06  1.368975e+06  1.368975e+06\n",
       "mean   1.400429e+00  9.770501e-03  8.359868e-03  3.902670e-01\n",
       "std    1.396439e+00  8.449316e-02  2.403382e-03  1.797408e-01\n",
       "min    0.000000e+00 -9.580000e-01  6.013222e-03  2.128958e-01\n",
       "25%    0.000000e+00 -1.370000e-02  6.013222e-03  2.128958e-01\n",
       "50%    1.234000e+00  6.800000e-03  7.152006e-03  2.514825e-01\n",
       "75%    3.099000e+00  2.930000e-02  1.133477e-02  5.796511e-01\n",
       "max    3.780000e+00  9.834000e-01  1.609729e-02  6.654118e-01"
      ]
     },
     "execution_count": 32,
     "metadata": {},
     "output_type": "execute_result"
    }
   ],
   "source": [
    "%%time\n",
    "print('Train and evaluate model for ' + df_i3.index.levels[0].values[0])\n",
    "# Now run the anomaly functions as if they were executed in a pipeline\n",
    "EngineLogging.configure_console_logging(logging.DEBUG)\n",
    "jobsettings = { 'db': db, \n",
    "               '_db_schema': 'public', 'save_trace_to_file' : True}\n",
    "\n",
    "spsi3 = VIAnomalyScore(['Ap'], ['Vx'])\n",
    "et = spsi3._build_entity_type(columns = [Column('MinTemp',Float())], **jobsettings)\n",
    "spsi3._entity_type = et\n",
    "df_i3 = spsi.execute(df=df_i3)\n",
    "\n",
    "EngineLogging.configure_console_logging(logging.INFO)\n",
    "df_i3.describe()"
   ]
  },
  {
   "cell_type": "code",
   "execution_count": 33,
   "metadata": {},
   "outputs": [
    {
     "name": "stdout",
     "output_type": "stream",
     "text": [
      "2020-12-22T16:26:02.429 WARNING matplotlib.legend._parse_legend_args No handles with labels found to put in legend.\n"
     ]
    },
    {
     "data": {
      "text/plain": [
       "Text(0.5, 1.0, 'pump 04714B6036B1 - plain scatterplot')"
      ]
     },
     "execution_count": 33,
     "metadata": {},
     "output_type": "execute_result"
    },
    {
     "data": {
      "image/png": "[encoded data removed]",
      "text/plain": [
       "<Figure size 1440x432 with 2 Axes>"
      ]
     },
     "metadata": {
      "needs_background": "light"
     },
     "output_type": "display_data"
    }
   ],
   "source": [
    "entity = df_i3.index.levels[0].values[0]\n",
    "\n",
    "df_1 = df_i3.loc[entity].copy()\n",
    "\n",
    "\n",
    "arr1 = np.where(df_1['Vx'] > df_1['predicted_Vx'] + df_1['pred_dev_Vx'], df_1['Vx'], 0) + \\\n",
    "       np.where(df_1['Vx'] < df_1['predicted_Vx'] - df_1['pred_dev_Vx'], df_1['Vx'], 0)\n",
    "arr1[arr1 == 0] = np.nan\n",
    "df_1['Anomaly'] = arr1\n",
    "\n",
    "fig, ax = plt.subplots(1, 2, figsize=(20, 6), squeeze=False)\n",
    "\n",
    "ax[0,0].scatter(df_1['Ap'], df_1['Vx'])\n",
    "ax[0,0].scatter(df_1['Ap'], df_1['predicted_Vx'], color='green')\n",
    "ax[0,0].scatter(df_1['Ap'], df_1['predicted_Vx'] - df_1['pred_dev_Vx'], color='orange', lw=0.1, label='limit - p<0.05')\n",
    "ax[0,0].scatter(df_1['Ap'], df_1['predicted_Vx'] + df_1['pred_dev_Vx'], color='orange', lw=0.1)\n",
    "ax[0,0].scatter(df_1['Ap'], df_1['Anomaly'], color='red', lw=2)\n",
    "ax[0,0].set_xlabel('Accel Speed')\n",
    "ax[0,0].set_ylabel('Vibration')\n",
    "ax[0,0].legend()\n",
    "ax[0,0].set_title('pump ' + entity)\n",
    "\n",
    "ax[0,1].scatter(df_i3['Ap'], df_i3['Vx'])\n",
    "ax[0,1].set_xlabel('Power')\n",
    "ax[0,1].set_ylabel('Vibration')\n",
    "ax[0,1].legend()\n",
    "ax[0,1].set_title('pump ' + entity + ' - plain scatterplot')\n"
   ]
  },
  {
   "cell_type": "code",
   "execution_count": 34,
   "metadata": {},
   "outputs": [
    {
     "name": "stderr",
     "output_type": "stream",
     "text": [
      "<ipython-input-34-dac41d32ec2f>:1: SettingWithCopyWarning: \n",
      "A value is trying to be set on a copy of a slice from a DataFrame.\n",
      "Try using .loc[row_indexer,col_indexer] = value instead\n",
      "\n",
      "See the caveats in the documentation: http://pandas.pydata.org/pandas-docs/stable/user_guide/indexing.html#returning-a-view-versus-a-copy\n",
      "  df_1[df_1['Ap'] < 0.5]['Anomaly'] = np.nan\n",
      "<ipython-input-34-dac41d32ec2f>:2: SettingWithCopyWarning: \n",
      "A value is trying to be set on a copy of a slice from a DataFrame.\n",
      "Try using .loc[row_indexer,col_indexer] = value instead\n",
      "\n",
      "See the caveats in the documentation: http://pandas.pydata.org/pandas-docs/stable/user_guide/indexing.html#returning-a-view-versus-a-copy\n",
      "  df_1[np.abs(df_1['Vx']) < 0.5]['Anomaly'] = np.nan\n"
     ]
    }
   ],
   "source": [
    "df_1[df_1['Ap'] < 0.5]['Anomaly'] = np.nan\n",
    "df_1[np.abs(df_1['Vx']) < 0.5]['Anomaly'] = np.nan"
   ]
  },
  {
   "cell_type": "code",
   "execution_count": 35,
   "metadata": {},
   "outputs": [
    {
     "data": {
      "text/plain": [
       "Text(0.5, 1.0, 'pump 04714B6036B1')"
      ]
     },
     "execution_count": 35,
     "metadata": {},
     "output_type": "execute_result"
    },
    {
     "data": {
      "image/png": "[encoded data removed]",
      "text/plain": [
       "<Figure size 1080x432 with 1 Axes>"
      ]
     },
     "metadata": {
      "needs_background": "light"
     },
     "output_type": "display_data"
    }
   ],
   "source": [
    "fig, ax = plt.subplots(1, 1, figsize=(15, 6), squeeze=False)\n",
    "#ax[0,0].plot(df_1['max'] + 2.0, lw=0.4, color='blue', label='smoothed max vib + 1')\n",
    "ax[0,0].scatter(df_1.index,df_1['Vx'], lw=0.4, color='green', label='vibration')\n",
    "ax[0,0].scatter(df_1.index,df_1['Ap']/3, lw=0.4, color='orange', zorder=5, label='accel speed')\n",
    "ax[0,0].scatter(df_1.index, df_1['Anomaly'], lw=0.4, color='red', zorder=10, label='excessive vibration')\n",
    "ax[0,0].legend()\n",
    "ax[0,0].set_title('pump ' + df_i3.index.levels[0].values[0])"
   ]
  },
  {
   "cell_type": "code",
   "execution_count": null,
   "metadata": {},
   "outputs": [],
   "source": []
  },
  {
   "cell_type": "code",
   "execution_count": null,
   "metadata": {},
   "outputs": [],
   "source": []
  },
  {
   "cell_type": "code",
   "execution_count": null,
   "metadata": {},
   "outputs": [],
   "source": []
  },
  {
   "cell_type": "code",
   "execution_count": null,
   "metadata": {},
   "outputs": [],
   "source": []
  },
  {
   "cell_type": "code",
   "execution_count": null,
   "metadata": {},
   "outputs": [],
   "source": []
  },
  {
   "cell_type": "code",
   "execution_count": null,
   "metadata": {},
   "outputs": [],
   "source": []
  },
  {
   "cell_type": "markdown",
   "metadata": {},
   "source": [
    "#### Approximate with Gaussian\n",
    "\n",
    "major contribution: gaussian along x/y coordinates, start with diagonal covariance matrix:\n",
    "\n",
    "likelihood:\n",
    "\n",
    "$e^{\\frac{ {(\\mu_0 - x)}^2}{\\sigma_0} \\frac{ {(\\mu_1 - y)}^2}{\\sigma_1}  }$\n"
   ]
  },
  {
   "cell_type": "code",
   "execution_count": 4,
   "metadata": {},
   "outputs": [
    {
     "ename": "ModuleNotFoundError",
     "evalue": "No module named 'tensorflow.contrib'",
     "output_type": "error",
     "traceback": [
      "\u001b[0;31m---------------------------------------------------------------------------\u001b[0m",
      "\u001b[0;31mModuleNotFoundError\u001b[0m                       Traceback (most recent call last)",
      "\u001b[0;32m<ipython-input-4-29b13a3a01e9>\u001b[0m in \u001b[0;36m<module>\u001b[0;34m\u001b[0m\n\u001b[0;32m----> 1\u001b[0;31m \u001b[0;32mimport\u001b[0m \u001b[0medward\u001b[0m\u001b[0;34m\u001b[0m\u001b[0;34m\u001b[0m\u001b[0m\n\u001b[0m",
      "\u001b[0;32m~/src/mmfunctions/src/edward/edward/__init__.py\u001b[0m in \u001b[0;36m<module>\u001b[0;34m\u001b[0m\n\u001b[1;32m      3\u001b[0m \u001b[0;32mfrom\u001b[0m \u001b[0m__future__\u001b[0m \u001b[0;32mimport\u001b[0m \u001b[0mprint_function\u001b[0m\u001b[0;34m\u001b[0m\u001b[0;34m\u001b[0m\u001b[0m\n\u001b[1;32m      4\u001b[0m \u001b[0;34m\u001b[0m\u001b[0m\n\u001b[0;32m----> 5\u001b[0;31m \u001b[0;32mfrom\u001b[0m \u001b[0medward\u001b[0m \u001b[0;32mimport\u001b[0m \u001b[0mcriticisms\u001b[0m\u001b[0;34m\u001b[0m\u001b[0;34m\u001b[0m\u001b[0m\n\u001b[0m\u001b[1;32m      6\u001b[0m \u001b[0;32mfrom\u001b[0m \u001b[0medward\u001b[0m \u001b[0;32mimport\u001b[0m \u001b[0minferences\u001b[0m\u001b[0;34m\u001b[0m\u001b[0;34m\u001b[0m\u001b[0m\n\u001b[1;32m      7\u001b[0m \u001b[0;32mfrom\u001b[0m \u001b[0medward\u001b[0m \u001b[0;32mimport\u001b[0m \u001b[0mmodels\u001b[0m\u001b[0;34m\u001b[0m\u001b[0;34m\u001b[0m\u001b[0m\n",
      "\u001b[0;32m~/src/mmfunctions/src/edward/edward/criticisms/__init__.py\u001b[0m in \u001b[0;36m<module>\u001b[0;34m\u001b[0m\n\u001b[1;32m      5\u001b[0m \u001b[0;32mfrom\u001b[0m \u001b[0m__future__\u001b[0m \u001b[0;32mimport\u001b[0m \u001b[0mprint_function\u001b[0m\u001b[0;34m\u001b[0m\u001b[0;34m\u001b[0m\u001b[0m\n\u001b[1;32m      6\u001b[0m \u001b[0;34m\u001b[0m\u001b[0m\n\u001b[0;32m----> 7\u001b[0;31m \u001b[0;32mfrom\u001b[0m \u001b[0medward\u001b[0m\u001b[0;34m.\u001b[0m\u001b[0mcriticisms\u001b[0m\u001b[0;34m.\u001b[0m\u001b[0mevaluate\u001b[0m \u001b[0;32mimport\u001b[0m \u001b[0;34m*\u001b[0m\u001b[0;34m\u001b[0m\u001b[0;34m\u001b[0m\u001b[0m\n\u001b[0m\u001b[1;32m      8\u001b[0m \u001b[0;32mfrom\u001b[0m \u001b[0medward\u001b[0m\u001b[0;34m.\u001b[0m\u001b[0mcriticisms\u001b[0m\u001b[0;34m.\u001b[0m\u001b[0mppc\u001b[0m \u001b[0;32mimport\u001b[0m \u001b[0;34m*\u001b[0m\u001b[0;34m\u001b[0m\u001b[0;34m\u001b[0m\u001b[0m\n\u001b[1;32m      9\u001b[0m \u001b[0;32mfrom\u001b[0m \u001b[0medward\u001b[0m\u001b[0;34m.\u001b[0m\u001b[0mcriticisms\u001b[0m\u001b[0;34m.\u001b[0m\u001b[0mppc_plots\u001b[0m \u001b[0;32mimport\u001b[0m \u001b[0;34m*\u001b[0m\u001b[0;34m\u001b[0m\u001b[0;34m\u001b[0m\u001b[0m\n",
      "\u001b[0;32m~/src/mmfunctions/src/edward/edward/criticisms/evaluate.py\u001b[0m in \u001b[0;36m<module>\u001b[0;34m\u001b[0m\n\u001b[1;32m      7\u001b[0m \u001b[0;32mimport\u001b[0m \u001b[0mtensorflow\u001b[0m \u001b[0;32mas\u001b[0m \u001b[0mtf\u001b[0m\u001b[0;34m\u001b[0m\u001b[0;34m\u001b[0m\u001b[0m\n\u001b[1;32m      8\u001b[0m \u001b[0;34m\u001b[0m\u001b[0m\n\u001b[0;32m----> 9\u001b[0;31m \u001b[0;32mfrom\u001b[0m \u001b[0medward\u001b[0m\u001b[0;34m.\u001b[0m\u001b[0mmodels\u001b[0m \u001b[0;32mimport\u001b[0m \u001b[0mRandomVariable\u001b[0m\u001b[0;34m\u001b[0m\u001b[0;34m\u001b[0m\u001b[0m\n\u001b[0m\u001b[1;32m     10\u001b[0m \u001b[0;32mfrom\u001b[0m \u001b[0medward\u001b[0m\u001b[0;34m.\u001b[0m\u001b[0mutil\u001b[0m \u001b[0;32mimport\u001b[0m \u001b[0mcheck_data\u001b[0m\u001b[0;34m,\u001b[0m \u001b[0mget_session\u001b[0m\u001b[0;34m,\u001b[0m \u001b[0mcompute_multinomial_mode\u001b[0m\u001b[0;34m,\u001b[0m\u001b[0;31m \u001b[0m\u001b[0;31m\\\u001b[0m\u001b[0;34m\u001b[0m\u001b[0;34m\u001b[0m\u001b[0m\n\u001b[1;32m     11\u001b[0m     \u001b[0mwith_binary_averaging\u001b[0m\u001b[0;34m\u001b[0m\u001b[0;34m\u001b[0m\u001b[0m\n",
      "\u001b[0;32m~/src/mmfunctions/src/edward/edward/models/__init__.py\u001b[0m in \u001b[0;36m<module>\u001b[0;34m\u001b[0m\n\u001b[1;32m      5\u001b[0m \u001b[0;32mfrom\u001b[0m \u001b[0m__future__\u001b[0m \u001b[0;32mimport\u001b[0m \u001b[0mprint_function\u001b[0m\u001b[0;34m\u001b[0m\u001b[0;34m\u001b[0m\u001b[0m\n\u001b[1;32m      6\u001b[0m \u001b[0;34m\u001b[0m\u001b[0m\n\u001b[0;32m----> 7\u001b[0;31m \u001b[0;32mfrom\u001b[0m \u001b[0medward\u001b[0m\u001b[0;34m.\u001b[0m\u001b[0mmodels\u001b[0m\u001b[0;34m.\u001b[0m\u001b[0mdirichlet_process\u001b[0m \u001b[0;32mimport\u001b[0m \u001b[0;34m*\u001b[0m\u001b[0;34m\u001b[0m\u001b[0;34m\u001b[0m\u001b[0m\n\u001b[0m\u001b[1;32m      8\u001b[0m \u001b[0;32mfrom\u001b[0m \u001b[0medward\u001b[0m\u001b[0;34m.\u001b[0m\u001b[0mmodels\u001b[0m\u001b[0;34m.\u001b[0m\u001b[0mempirical\u001b[0m \u001b[0;32mimport\u001b[0m \u001b[0;34m*\u001b[0m\u001b[0;34m\u001b[0m\u001b[0;34m\u001b[0m\u001b[0m\n\u001b[1;32m      9\u001b[0m \u001b[0;32mfrom\u001b[0m \u001b[0medward\u001b[0m\u001b[0;34m.\u001b[0m\u001b[0mmodels\u001b[0m\u001b[0;34m.\u001b[0m\u001b[0mparam_mixture\u001b[0m \u001b[0;32mimport\u001b[0m \u001b[0;34m*\u001b[0m\u001b[0;34m\u001b[0m\u001b[0;34m\u001b[0m\u001b[0m\n",
      "\u001b[0;32m~/src/mmfunctions/src/edward/edward/models/dirichlet_process.py\u001b[0m in \u001b[0;36m<module>\u001b[0;34m\u001b[0m\n\u001b[1;32m      6\u001b[0m \u001b[0;34m\u001b[0m\u001b[0m\n\u001b[1;32m      7\u001b[0m \u001b[0;32mfrom\u001b[0m \u001b[0medward\u001b[0m\u001b[0;34m.\u001b[0m\u001b[0mmodels\u001b[0m\u001b[0;34m.\u001b[0m\u001b[0mrandom_variable\u001b[0m \u001b[0;32mimport\u001b[0m \u001b[0mRandomVariable\u001b[0m\u001b[0;34m\u001b[0m\u001b[0;34m\u001b[0m\u001b[0m\n\u001b[0;32m----> 8\u001b[0;31m \u001b[0;32mfrom\u001b[0m \u001b[0mtensorflow\u001b[0m\u001b[0;34m.\u001b[0m\u001b[0mcontrib\u001b[0m\u001b[0;34m.\u001b[0m\u001b[0mdistributions\u001b[0m \u001b[0;32mimport\u001b[0m \u001b[0mDistribution\u001b[0m\u001b[0;34m\u001b[0m\u001b[0;34m\u001b[0m\u001b[0m\n\u001b[0m\u001b[1;32m      9\u001b[0m \u001b[0;34m\u001b[0m\u001b[0m\n\u001b[1;32m     10\u001b[0m \u001b[0;32mtry\u001b[0m\u001b[0;34m:\u001b[0m\u001b[0;34m\u001b[0m\u001b[0;34m\u001b[0m\u001b[0m\n",
      "\u001b[0;31mModuleNotFoundError\u001b[0m: No module named 'tensorflow.contrib'"
     ]
    }
   ],
   "source": []
  },
  {
   "cell_type": "code",
   "execution_count": null,
   "metadata": {},
   "outputs": [],
   "source": []
  },
  {
   "cell_type": "code",
   "execution_count": null,
   "metadata": {},
   "outputs": [],
   "source": [
    "# theta_0, theta_1 = mu_0/mu_1, theta_2/theta_3 = sigma_0/ sigma_1\n",
    "def log_likelihood(theta, F, e):\n",
    "    \n",
    "    \n",
    "    return np.sum(theta[0]\n",
    "        \n",
    "        np.log(2 * np.pi * (theta[1] ** 2 + theta[2] ** 2))\n",
    "                         + (theta[0]) ** 2 / (theta[1] ** 2 + theta[2] ** 2))\n",
    "\n",
    "\n",
    "\n",
    "def log_prior(theta):\n",
    "    # sigma needs to be positive.\n",
    "    if theta[1] <= 0:\n",
    "        return -np.inf\n",
    "    else:\n",
    "        return 0\n",
    "\n",
    "def log_posterior(theta, F, e):\n",
    "    return log_prior(theta) + log_likelihood(theta, F, e)\n",
    "\n",
    "# same setup as above:\n",
    "ndim, nwalkers = 2, 50\n",
    "nsteps, nburn = 2000, 1000\n",
    "\n",
    "starting_guesses = np.random.rand(nwalkers, ndim)\n",
    "starting_guesses[:, 0] *= 2000  # start mu between 0 and 2000\n",
    "starting_guesses[:, 1] *= 20    # start sigma between 0 and 20\n",
    "\n",
    "sampler = emcee.EnsembleSampler(nwalkers, ndim, log_posterior, args=[F, e])\n",
    "sampler.run_mcmc(starting_guesses, nsteps)\n",
    "\n",
    "sample = sampler.chain  # shape = (nwalkers, nsteps, ndim)\n",
    "sample = sampler.chain[:, nburn:, :].reshape(-1, 2)"
   ]
  }
 ],
 "metadata": {
  "kernelspec": {
   "display_name": "Python 3",
   "language": "python",
   "name": "python3"
  },
  "language_info": {
   "codemirror_mode": {
    "name": "ipython",
    "version": 3
   },
   "file_extension": ".py",
   "mimetype": "text/x-python",
   "name": "python",
   "nbconvert_exporter": "python",
   "pygments_lexer": "ipython3",
   "version": "3.8.6"
  }
 },
 "nbformat": 4,
 "nbformat_minor": 2
}
