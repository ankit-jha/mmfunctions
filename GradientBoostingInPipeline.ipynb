{
 "cells": [
  {
   "cell_type": "code",
   "execution_count": 1,
   "metadata": {},
   "outputs": [
    {
     "name": "stderr",
     "output_type": "stream",
     "text": [
      "/home/markus/.local/lib/python3.7/site-packages/statsmodels/tools/_testing.py:19: FutureWarning: pandas.util.testing is deprecated. Use the functions in the public API at pandas.testing instead.\n",
      "  import pandas.util.testing as tm\n",
      "Warning: confluent_kafka is not installed. Publish to MessageHub not supported.\n",
      "/home/markus/.local/lib/python3.7/site-packages/iotfunctions/bif.py:1605: UserWarning: IoTCalcSettings is deprecated. Use entity type constants instead of a metadata provider to set entity type properties\n",
      "  warnings.warn(('IoTCalcSettings is deprecated. Use entity type constants'\n"
     ]
    }
   ],
   "source": [
    "# Real life data\n",
    "\n",
    "import logging\n",
    "import threading\n",
    "import itertools\n",
    "import pandas as pd  \n",
    "import numpy as np  \n",
    "import matplotlib.pyplot as plt\n",
    "from matplotlib import cm\n",
    "from mpl_toolkits.mplot3d import axes3d\n",
    "import seaborn as seabornInstance\n",
    "from sqlalchemy import Column, Integer, String, Float, DateTime, Boolean, func\n",
    "from iotfunctions import base\n",
    "from iotfunctions import bif\n",
    "from iotfunctions import entity\n",
    "from iotfunctions import metadata\n",
    "from iotfunctions.metadata import EntityType\n",
    "from iotfunctions.db import Database\n",
    "from iotfunctions.enginelog import EngineLogging\n",
    "from iotfunctions import estimator\n",
    "from iotfunctions.ui import (UISingle, UIMultiItem, UIFunctionOutSingle,\n",
    "                 UISingleItem, UIFunctionOutMulti, UIMulti, UIExpression,\n",
    "                 UIText, UIStatusFlag, UIParameters)\n",
    "from mmfunctions.anomaly import (SaliencybasedGeneralizedAnomalyScore, SpectralAnomalyScore,\n",
    "                 FFTbasedGeneralizedAnomalyScore, KMeansAnomalyScore, GBMRegressor)\n",
    "import datetime as dt\n",
    "from sklearn.model_selection import train_test_split \n",
    "from sklearn.linear_model import LinearRegression\n",
    "from sklearn import metrics\n",
    "import scipy as sp\n",
    "import scipy.fftpack\n",
    "import skimage as ski  \n",
    "from skimage import util as skiutil # for nifty windowing\n",
    "import pyod as pyod\n",
    "from pyod.utils.data import generate_data\n",
    "from pyod.utils.data import evaluate_print\n",
    "from pyod.utils.example import visualize\n",
    "from pyod.models.knn import KNN\n",
    "from pyod.models.iforest import IForest\n",
    "%matplotlib inline\n",
    "from pandas.plotting import register_matplotlib_converters\n",
    "register_matplotlib_converters()\n",
    "\n",
    "EngineLogging.configure_console_logging(logging.INFO)"
   ]
  },
  {
   "cell_type": "code",
   "execution_count": 18,
   "metadata": {},
   "outputs": [
    {
     "name": "stdout",
     "output_type": "stream",
     "text": [
      "2020-02-07T18:15:27.294 INFO iotfunctions.db.__init__ Connection string for SqlAlchemy => db2): db2+ibm_db://bluadmin:MjZkZTEwN2FjMWY1@dashdb-enterprise-yp-dal12-125.services.dal.bluemix.net:50000/BLUDB;\n"
     ]
    },
    {
     "name": "stderr",
     "output_type": "stream",
     "text": [
      "/home/markus/.local/lib/python3.7/site-packages/urllib3/connectionpool.py:858: InsecureRequestWarning: Unverified HTTPS request is being made. Adding certificate verification is strongly advised. See: https://urllib3.readthedocs.io/en/latest/advanced-usage.html#ssl-warnings\n",
      "  InsecureRequestWarning)\n"
     ]
    },
    {
     "name": "stdout",
     "output_type": "stream",
     "text": [
      "<iotfunctions.db.Database object at 0x7f85bb2c8910>\n"
     ]
    }
   ],
   "source": [
    "credentials={\"_id\":\"2d6dbddcd0ef52f54ab7e7a81f4face6\",\n",
    "             \"tenantId\":\"Monitor-Demo\",\n",
    "             \"db2\":{\"username\":\"bluadmin\",\"password\":\"MjZkZTEwN2FjMWY1\",\"databaseName\":\"BLUDB\",\"port\":50000,\n",
    "                    \"httpsUrl\":\"https://dashdb-enterprise-yp-dal12-125.services.dal.bluemix.net:8443\",\n",
    "                    \"host\":\"dashdb-enterprise-yp-dal12-125.services.dal.bluemix.net\"},\n",
    "             \"iotp\":{\"url\":\"https://vrvzh6.internetofthings.ibmcloud.com/api/v0002\",\"orgId\":\"vrvzh6\",\n",
    "                     \"host\":\"vrvzh6.messaging.internetofthings.ibmcloud.com\",\"port\":8883,\n",
    "                     \"asHost\":\"api-beta.connectedproducts.internetofthings.ibmcloud.com\",\n",
    "                     \"apiKey\":\"a-vrvzh6-am4fwylysp\",\"apiToken\":\"F+PF@HQhe_N*ecS4gb\"},\n",
    "             \"messageHub\":{\"brokers\":[\"kafka03-prod02.messagehub.services.us-south.bluemix.net:9093\",\n",
    "                                      \"kafka01-prod02.messagehub.services.us-south.bluemix.net:9093\",\n",
    "                                      \"kafka05-prod02.messagehub.services.us-south.bluemix.net:9093\",\n",
    "                                      \"kafka02-prod02.messagehub.services.us-south.bluemix.net:9093\",\n",
    "                                      \"kafka04-prod02.messagehub.services.us-south.bluemix.net:9093\"],\n",
    "                           \"username\":\"S0Zzzp1zZsF4hotd\",\"password\":\"S1wyAP2jy9R2cmqcZwSfoqL5gByWSqn9\"},\n",
    "             \"objectStorage\":{\"region\":\"global\",\"username\":\"5c9b5139a83d4f68bd2fe458a2117fac\",\n",
    "                              \"password\":\"5b282a68b84d070bd8674da4771998c6cb0743a4a0288129\"},\n",
    "             \"config\":{\"objectStorageEndpoint\":\"https://s3-api.us-geo.objectstorage.softlayer.net\",\"bos_logs_bucket\":\n",
    "                       \"analytics-logs-monitor-demo-9c6aaaf268a1\",\n",
    "                       \"bos_runtime_bucket\":\"analytics-runtime-monitor-demo-395729cb6a06\",\n",
    "                       \"mh_topic_analytics_alerts\":\"analytics-alerts-Monitor-Demo\"}}\n",
    "db_schema=None\n",
    "db = Database(credentials=credentials)\n",
    "print (db)"
   ]
  },
  {
   "cell_type": "code",
   "execution_count": 2,
   "metadata": {},
   "outputs": [],
   "source": [
    "# need a helper function to convert array columns to something easier\n",
    "from scipy import linalg\n",
    "def l2norm(df, tcol, col1, col2 = None, col3 = None):\n",
    "    l2vib = []\n",
    "    for index, row in df.iterrows():\n",
    "        l2vib_element = linalg.norm(np.fromstring(row[col1].replace('[',' ').replace(']',''), sep = ','))**2\n",
    "        if col2 is not None:\n",
    "            l2vib_element = l2vib_element + \\\n",
    "                            linalg.norm(np.fromstring(row[col2].replace('[',' ').replace(']',''), sep = ','))**2\n",
    "        if col3 is not None:\n",
    "            l2vib_element = l2vib_element + \\\n",
    "                            linalg.norm(np.fromstring(row[col3].replace('[',' ').replace(']',''), sep = ','))**2\n",
    "        l2vib.append(l2vib_element**(1/2))\n",
    "    df[tcol] = np.asarray(l2vib)\n",
    "    \n",
    "\n",
    "def unrollAccel(df):\n",
    "    l0,l1,l2,l3,l4=[],[],[],[],[]\n",
    "    for i in df['ACCEL_POWER'].values:\n",
    "        l0.append(eval(eval(i)[0]))\n",
    "        l1.append(eval(eval(i)[1]))\n",
    "        l2.append(eval(eval(i)[2]))\n",
    "        l3.append(eval(eval(i)[3]))\n",
    "        l4.append(eval(eval(i)[4]))\n",
    "    df['accel_power_0'] = np.asarray(l0)\n",
    "    df['accel_power_1'] = np.asarray(l1)\n",
    "    df['accel_power_2'] = np.asarray(l2)\n",
    "    df['accel_power_3'] = np.asarray(l3)\n",
    "    df['accel_power_4'] = np.asarray(l4)\n",
    "    \n",
    "listAttr = ['timestamp','entity','vibrations','rms','accel_speed','accel_power_0','accel_power_1',\n",
    "            'accel_power_2','accel_power_3','accel_power_4']"
   ]
  },
  {
   "cell_type": "code",
   "execution_count": 3,
   "metadata": {},
   "outputs": [
    {
     "name": "stderr",
     "output_type": "stream",
     "text": [
      "/home/markus/.local/lib/python3.7/site-packages/ipykernel_launcher.py:6: DeprecationWarning: string or file could not be read to its end due to unmatched data; this will raise a ValueError in the future.\n",
      "  \n",
      "/home/markus/.local/lib/python3.7/site-packages/ipykernel_launcher.py:9: DeprecationWarning: string or file could not be read to its end due to unmatched data; this will raise a ValueError in the future.\n",
      "  if __name__ == '__main__':\n",
      "/home/markus/.local/lib/python3.7/site-packages/ipykernel_launcher.py:12: DeprecationWarning: string or file could not be read to its end due to unmatched data; this will raise a ValueError in the future.\n",
      "  if sys.path[0] == '':\n"
     ]
    },
    {
     "data": {
      "text/html": [
       "<div>\n",
       "<style scoped>\n",
       "    .dataframe tbody tr th:only-of-type {\n",
       "        vertical-align: middle;\n",
       "    }\n",
       "\n",
       "    .dataframe tbody tr th {\n",
       "        vertical-align: top;\n",
       "    }\n",
       "\n",
       "    .dataframe thead th {\n",
       "        text-align: right;\n",
       "    }\n",
       "</style>\n",
       "<table border=\"1\" class=\"dataframe\">\n",
       "  <thead>\n",
       "    <tr style=\"text-align: right;\">\n",
       "      <th></th>\n",
       "      <th>vibrations</th>\n",
       "      <th>rms</th>\n",
       "      <th>accel_speed</th>\n",
       "      <th>accel_power_0</th>\n",
       "      <th>accel_power_1</th>\n",
       "      <th>accel_power_2</th>\n",
       "      <th>accel_power_3</th>\n",
       "      <th>accel_power_4</th>\n",
       "    </tr>\n",
       "  </thead>\n",
       "  <tbody>\n",
       "    <tr>\n",
       "      <th>count</th>\n",
       "      <td>8620.000000</td>\n",
       "      <td>8.620000e+03</td>\n",
       "      <td>8620.0</td>\n",
       "      <td>8620.000000</td>\n",
       "      <td>8620.000000</td>\n",
       "      <td>8620.000000</td>\n",
       "      <td>8620.000000</td>\n",
       "      <td>8620.000000</td>\n",
       "    </tr>\n",
       "    <tr>\n",
       "      <th>mean</th>\n",
       "      <td>3.759047</td>\n",
       "      <td>1.732051e+00</td>\n",
       "      <td>1.0</td>\n",
       "      <td>2.453523</td>\n",
       "      <td>2.453312</td>\n",
       "      <td>2.452808</td>\n",
       "      <td>2.452053</td>\n",
       "      <td>2.452439</td>\n",
       "    </tr>\n",
       "    <tr>\n",
       "      <th>std</th>\n",
       "      <td>0.033272</td>\n",
       "      <td>4.441150e-16</td>\n",
       "      <td>0.0</td>\n",
       "      <td>0.856247</td>\n",
       "      <td>0.857594</td>\n",
       "      <td>0.857678</td>\n",
       "      <td>0.857200</td>\n",
       "      <td>0.856340</td>\n",
       "    </tr>\n",
       "    <tr>\n",
       "      <th>min</th>\n",
       "      <td>3.616515</td>\n",
       "      <td>1.732051e+00</td>\n",
       "      <td>1.0</td>\n",
       "      <td>0.000000</td>\n",
       "      <td>0.000000</td>\n",
       "      <td>0.000000</td>\n",
       "      <td>0.000000</td>\n",
       "      <td>0.000000</td>\n",
       "    </tr>\n",
       "    <tr>\n",
       "      <th>25%</th>\n",
       "      <td>3.737696</td>\n",
       "      <td>1.732051e+00</td>\n",
       "      <td>1.0</td>\n",
       "      <td>2.251800</td>\n",
       "      <td>2.251800</td>\n",
       "      <td>2.252000</td>\n",
       "      <td>2.252000</td>\n",
       "      <td>2.251800</td>\n",
       "    </tr>\n",
       "    <tr>\n",
       "      <th>50%</th>\n",
       "      <td>3.757949</td>\n",
       "      <td>1.732051e+00</td>\n",
       "      <td>1.0</td>\n",
       "      <td>2.313800</td>\n",
       "      <td>2.313400</td>\n",
       "      <td>2.311800</td>\n",
       "      <td>2.312200</td>\n",
       "      <td>2.312600</td>\n",
       "    </tr>\n",
       "    <tr>\n",
       "      <th>75%</th>\n",
       "      <td>3.780154</td>\n",
       "      <td>1.732051e+00</td>\n",
       "      <td>1.0</td>\n",
       "      <td>2.691450</td>\n",
       "      <td>2.692100</td>\n",
       "      <td>2.685100</td>\n",
       "      <td>2.681850</td>\n",
       "      <td>2.682300</td>\n",
       "    </tr>\n",
       "    <tr>\n",
       "      <th>max</th>\n",
       "      <td>3.898555</td>\n",
       "      <td>1.732051e+00</td>\n",
       "      <td>1.0</td>\n",
       "      <td>5.325799</td>\n",
       "      <td>5.293200</td>\n",
       "      <td>5.334001</td>\n",
       "      <td>5.278600</td>\n",
       "      <td>5.282000</td>\n",
       "    </tr>\n",
       "  </tbody>\n",
       "</table>\n",
       "</div>"
      ],
      "text/plain": [
       "        vibrations           rms  accel_speed  accel_power_0  accel_power_1  \\\n",
       "count  8620.000000  8.620000e+03       8620.0    8620.000000    8620.000000   \n",
       "mean      3.759047  1.732051e+00          1.0       2.453523       2.453312   \n",
       "std       0.033272  4.441150e-16          0.0       0.856247       0.857594   \n",
       "min       3.616515  1.732051e+00          1.0       0.000000       0.000000   \n",
       "25%       3.737696  1.732051e+00          1.0       2.251800       2.251800   \n",
       "50%       3.757949  1.732051e+00          1.0       2.313800       2.313400   \n",
       "75%       3.780154  1.732051e+00          1.0       2.691450       2.692100   \n",
       "max       3.898555  1.732051e+00          1.0       5.325799       5.293200   \n",
       "\n",
       "       accel_power_2  accel_power_3  accel_power_4  \n",
       "count    8620.000000    8620.000000    8620.000000  \n",
       "mean        2.452808       2.452053       2.452439  \n",
       "std         0.857678       0.857200       0.856340  \n",
       "min         0.000000       0.000000       0.000000  \n",
       "25%         2.252000       2.252000       2.251800  \n",
       "50%         2.311800       2.312200       2.312600  \n",
       "75%         2.685100       2.681850       2.682300  \n",
       "max         5.334001       5.278600       5.282000  "
      ]
     },
     "execution_count": 3,
     "metadata": {},
     "output_type": "execute_result"
    }
   ],
   "source": [
    "# Now we proceed to customer data - GOOD CASE\n",
    "\n",
    "# Get stuff in\n",
    "df_input_raw = pd.read_csv('./Armstark04714B6046D5.csv', index_col=False, parse_dates=['RCV_TIMESTAMP_UTC'])\n",
    "df_input_raw['entity']=df_input_raw['DEVICE_ID']\n",
    "df_input_raw['timestamp']=df_input_raw['RCV_TIMESTAMP_UTC']\n",
    "\n",
    "# and sort it by timestamp\n",
    "df_input_raw = df_input_raw.sort_values(by='timestamp')\n",
    "df_input_raw = df_input_raw.set_index(['entity','timestamp']).dropna()\n",
    "\n",
    "l2norm(df_input_raw, 'vibrations', 'VIBRATIONS_XAXIS', 'VIBRATIONS_YAXIS', 'VIBRATIONS_ZAXIS')\n",
    "l2norm(df_input_raw, 'rms', 'RMS_X', 'RMS_Y', 'RMS_Z')\n",
    "l2norm(df_input_raw, 'accel_speed', 'ACCEL_SPEED')\n",
    "unrollAccel(df_input_raw)\n",
    "#l2norm(df_input_raw, 'accel_power', 'ACCEL_POWER')\n",
    "\n",
    "df_input = df_input_raw.filter(listAttr, axis=1)\n",
    "df_input_raw.describe()"
   ]
  },
  {
   "cell_type": "code",
   "execution_count": 19,
   "metadata": {},
   "outputs": [
    {
     "name": "stdout",
     "output_type": "stream",
     "text": [
      "2020-02-07T18:15:38.209 WARNING iotfunctions.metadata.__init__ Created a logical entity type. It is not connected to a real database table, so it cannot perform any database operations.\n",
      "2020-02-07T18:15:39.411 WARNING iotfunctions.util._cos_api_request error cos_api_request: request_url=https://s3-api.us-geo.objectstorage.softlayer.net/analytics-runtime-monitor-demo-395729cb6a06/model.TEST_ENTITY_FOR_GBMREGRESSOR.GBMRegressor.vibrations, http_method=GET, status_code=404, response_text=<?xml version=\"1.0\" encoding=\"UTF-8\" standalone=\"yes\"?><Error><Code>NoSuchKey</Code><Message>The specified key does not exist.</Message><Resource>/analytics-runtime-monitor-demo-395729cb6a06/model.TEST_ENTITY_FOR_GBMREGRESSOR.GBMRegressor.vibrations</Resource><RequestId>7897b2fb-d600-45b0-b0e3-3b7a668e3ae9</RequestId><httpStatusCode>404</httpStatusCode></Error>\n",
      "2020-02-07T18:15:39.411 ERROR iotfunctions.db.cos_load Not able to GET model.TEST_ENTITY_FOR_GBMREGRESSOR.GBMRegressor.vibrations from COS bucket analytics-runtime-monitor-demo-395729cb6a06\n"
     ]
    },
    {
     "name": "stderr",
     "output_type": "stream",
     "text": [
      "/home/markus/.local/lib/python3.7/site-packages/urllib3/connectionpool.py:858: InsecureRequestWarning: Unverified HTTPS request is being made. Adding certificate verification is strongly advised. See: https://urllib3.readthedocs.io/en/latest/advanced-usage.html#ssl-warnings\n",
      "  InsecureRequestWarning)\n"
     ]
    },
    {
     "name": "stdout",
     "output_type": "stream",
     "text": [
      "2020-02-07T18:15:43.754 WARNING iotfunctions.pipeline.write Error while writing unmatched members to dimension. 'LocalEntityType' object has no attribute 'table'\n",
      "2020-02-07T18:15:43.757 INFO iotfunctions.base.execute Prepare to train model {\n",
      " \"name\": \"model.TEST_ENTITY_FOR_GBMREGRESSOR.GBMRegressor.vibrations\",\n",
      " \"target\": \"vibrations\",\n",
      " \"features\": [\n",
      "  \"accel_power_0\"\n",
      " ],\n",
      " \"estimator_name\": null,\n",
      " \"eval_metric_name\": \"r2_score\",\n",
      " \"eval_metric_train\": null,\n",
      " \"eval_metric_test\": null,\n",
      " \"trained_date\": null,\n",
      " \"expiry_date\": null\n",
      "}\n",
      "2020-02-07T18:15:43.757 INFO mmfunctions.anomaly.set_estimators GBMRegressor start search for best model\n"
     ]
    },
    {
     "name": "stderr",
     "output_type": "stream",
     "text": [
      "/home/markus/.local/lib/python3.7/site-packages/sklearn/model_selection/_search.py:281: UserWarning: The total space of parameters 1 is smaller than n_iter=3. Running 1 iterations. For exhaustive searches, use GridSearchCV.\n",
      "  % (grid_size, self.n_iter, grid_size), UserWarning)\n"
     ]
    },
    {
     "name": "stdout",
     "output_type": "stream",
     "text": [
      "2020-02-07T18:15:51.121 INFO iotfunctions.metadata.test evaluated model model.TEST_ENTITY_FOR_GBMREGRESSOR.GBMRegressor.vibrations with evaluation metric value 0.0003039584736973522\n"
     ]
    },
    {
     "name": "stderr",
     "output_type": "stream",
     "text": [
      "/home/markus/.local/lib/python3.7/site-packages/sklearn/model_selection/_search.py:281: UserWarning: The total space of parameters 1 is smaller than n_iter=3. Running 1 iterations. For exhaustive searches, use GridSearchCV.\n",
      "  % (grid_size, self.n_iter, grid_size), UserWarning)\n"
     ]
    },
    {
     "name": "stdout",
     "output_type": "stream",
     "text": [
      "2020-02-07T18:15:58.915 INFO iotfunctions.metadata.test evaluated model model.TEST_ENTITY_FOR_GBMREGRESSOR.GBMRegressor.vibrations with evaluation metric value 0.0003039584736973522\n"
     ]
    },
    {
     "name": "stderr",
     "output_type": "stream",
     "text": [
      "/home/markus/.local/lib/python3.7/site-packages/sklearn/model_selection/_search.py:281: UserWarning: The total space of parameters 1 is smaller than n_iter=3. Running 1 iterations. For exhaustive searches, use GridSearchCV.\n",
      "  % (grid_size, self.n_iter, grid_size), UserWarning)\n"
     ]
    },
    {
     "name": "stdout",
     "output_type": "stream",
     "text": [
      "2020-02-07T18:16:06.972 INFO iotfunctions.metadata.test evaluated model model.TEST_ENTITY_FOR_GBMREGRESSOR.GBMRegressor.vibrations with evaluation metric value 0.0003039584736973522\n"
     ]
    },
    {
     "name": "stderr",
     "output_type": "stream",
     "text": [
      "/home/markus/.local/lib/python3.7/site-packages/sklearn/model_selection/_search.py:281: UserWarning: The total space of parameters 1 is smaller than n_iter=3. Running 1 iterations. For exhaustive searches, use GridSearchCV.\n",
      "  % (grid_size, self.n_iter, grid_size), UserWarning)\n"
     ]
    },
    {
     "name": "stdout",
     "output_type": "stream",
     "text": [
      "2020-02-07T18:16:14.627 INFO iotfunctions.metadata.test evaluated model model.TEST_ENTITY_FOR_GBMREGRESSOR.GBMRegressor.vibrations with evaluation metric value 0.0003039584736973522\n"
     ]
    },
    {
     "name": "stderr",
     "output_type": "stream",
     "text": [
      "/home/markus/.local/lib/python3.7/site-packages/sklearn/model_selection/_search.py:281: UserWarning: The total space of parameters 1 is smaller than n_iter=3. Running 1 iterations. For exhaustive searches, use GridSearchCV.\n",
      "  % (grid_size, self.n_iter, grid_size), UserWarning)\n"
     ]
    },
    {
     "name": "stdout",
     "output_type": "stream",
     "text": [
      "2020-02-07T18:16:22.511 INFO iotfunctions.metadata.test evaluated model model.TEST_ENTITY_FOR_GBMREGRESSOR.GBMRegressor.vibrations with evaluation metric value 0.0003039584736973522\n",
      "2020-02-07T18:16:22.551 INFO iotfunctions.metadata.test evaluated model model.TEST_ENTITY_FOR_GBMREGRESSOR.GBMRegressor.vibrations with evaluation metric value 0.0003039584736973522\n"
     ]
    },
    {
     "name": "stderr",
     "output_type": "stream",
     "text": [
      "/home/markus/.local/lib/python3.7/site-packages/urllib3/connectionpool.py:858: InsecureRequestWarning: Unverified HTTPS request is being made. Adding certificate verification is strongly advised. See: https://urllib3.readthedocs.io/en/latest/advanced-usage.html#ssl-warnings\n",
      "  InsecureRequestWarning)\n"
     ]
    },
    {
     "name": "stdout",
     "output_type": "stream",
     "text": [
      "2020-02-07T18:16:39.720 INFO iotfunctions.base.execute Finished training model model.TEST_ENTITY_FOR_GBMREGRESSOR.GBMRegressor.vibrations\n"
     ]
    },
    {
     "name": "stderr",
     "output_type": "stream",
     "text": [
      "/home/markus/.local/lib/python3.7/site-packages/urllib3/connectionpool.py:858: InsecureRequestWarning: Unverified HTTPS request is being made. Adding certificate verification is strongly advised. See: https://urllib3.readthedocs.io/en/latest/advanced-usage.html#ssl-warnings\n",
      "  InsecureRequestWarning)\n"
     ]
    },
    {
     "name": "stdout",
     "output_type": "stream",
     "text": [
      "2020-02-07T18:16:43.144 INFO iotfunctions.metadata.predict predicted using model model.TEST_ENTITY_FOR_GBMREGRESSOR.GBMRegressor.vibrations\n"
     ]
    }
   ],
   "source": [
    "# Run Monitoring's anomaly detector functions\n",
    "\n",
    "gbmii = GBMRegressor(features=['accel_power_0'], max_depth=100000, num_leaves=40, threshold=2,\n",
    "                     n_estimators=1000, learning_rate=0.001, targets=['vibrations'],\n",
    "                     predictions=['vibration_pred'])\n",
    "\n",
    "jobsettings = { 'db': db, \n",
    "               '_db_schema': 'public', 'save_trace_to_file' : True}\n",
    "et = gbmii._build_entity_type(columns = [Column('accel_power0',Float())], **jobsettings)\n",
    "gbmii._entity_type = et\n",
    "\n",
    "df_input = gbmii.execute(df=df_input)"
   ]
  },
  {
   "cell_type": "code",
   "execution_count": 20,
   "metadata": {},
   "outputs": [
    {
     "name": "stdout",
     "output_type": "stream",
     "text": [
      "2020-02-07T18:17:07.993 WARNING iotfunctions.metadata.__init__ Created a logical entity type. It is not connected to a real database table, so it cannot perform any database operations.\n"
     ]
    },
    {
     "name": "stderr",
     "output_type": "stream",
     "text": [
      "/home/markus/.local/lib/python3.7/site-packages/urllib3/connectionpool.py:858: InsecureRequestWarning: Unverified HTTPS request is being made. Adding certificate verification is strongly advised. See: https://urllib3.readthedocs.io/en/latest/advanced-usage.html#ssl-warnings\n",
      "  InsecureRequestWarning)\n"
     ]
    },
    {
     "name": "stdout",
     "output_type": "stream",
     "text": [
      "2020-02-07T18:17:11.324 WARNING iotfunctions.pipeline.write Error while writing unmatched members to dimension. 'LocalEntityType' object has no attribute 'table'\n",
      "2020-02-07T18:17:11.327 INFO iotfunctions.base.execute Prepare to train model {\n",
      " \"name\": \"model.TEST_ENTITY_FOR_GBMREGRESSOR.GBMRegressor.vibrations\",\n",
      " \"target\": \"vibrations\",\n",
      " \"features\": [\n",
      "  \"accel_power_0\"\n",
      " ],\n",
      " \"estimator_name\": \"gradient_boosted_regressor\",\n",
      " \"eval_metric_name\": \"r2_score\",\n",
      " \"eval_metric_train\": 0.027587497590742194,\n",
      " \"eval_metric_test\": 0.0003039584736973522,\n",
      " \"trained_date\": \"2020-02-07T17:15:51.101618\",\n",
      " \"expiry_date\": null\n",
      "}\n",
      "2020-02-07T18:17:11.328 INFO mmfunctions.anomaly.set_estimators GBMRegressor start search for best model\n"
     ]
    },
    {
     "name": "stderr",
     "output_type": "stream",
     "text": [
      "/home/markus/.local/lib/python3.7/site-packages/sklearn/model_selection/_search.py:281: UserWarning: The total space of parameters 1 is smaller than n_iter=3. Running 1 iterations. For exhaustive searches, use GridSearchCV.\n",
      "  % (grid_size, self.n_iter, grid_size), UserWarning)\n"
     ]
    },
    {
     "name": "stdout",
     "output_type": "stream",
     "text": [
      "2020-02-07T18:17:18.353 INFO iotfunctions.metadata.test evaluated model model.TEST_ENTITY_FOR_GBMREGRESSOR.GBMRegressor.vibrations with evaluation metric value 0.004288262733559978\n"
     ]
    },
    {
     "name": "stderr",
     "output_type": "stream",
     "text": [
      "/home/markus/.local/lib/python3.7/site-packages/sklearn/model_selection/_search.py:281: UserWarning: The total space of parameters 1 is smaller than n_iter=3. Running 1 iterations. For exhaustive searches, use GridSearchCV.\n",
      "  % (grid_size, self.n_iter, grid_size), UserWarning)\n"
     ]
    },
    {
     "name": "stdout",
     "output_type": "stream",
     "text": [
      "2020-02-07T18:17:26.226 INFO iotfunctions.metadata.test evaluated model model.TEST_ENTITY_FOR_GBMREGRESSOR.GBMRegressor.vibrations with evaluation metric value 0.004288262733559978\n"
     ]
    },
    {
     "name": "stderr",
     "output_type": "stream",
     "text": [
      "/home/markus/.local/lib/python3.7/site-packages/sklearn/model_selection/_search.py:281: UserWarning: The total space of parameters 1 is smaller than n_iter=3. Running 1 iterations. For exhaustive searches, use GridSearchCV.\n",
      "  % (grid_size, self.n_iter, grid_size), UserWarning)\n"
     ]
    },
    {
     "name": "stdout",
     "output_type": "stream",
     "text": [
      "2020-02-07T18:17:38.181 INFO iotfunctions.metadata.test evaluated model model.TEST_ENTITY_FOR_GBMREGRESSOR.GBMRegressor.vibrations with evaluation metric value 0.004288262733559978\n"
     ]
    },
    {
     "name": "stderr",
     "output_type": "stream",
     "text": [
      "/home/markus/.local/lib/python3.7/site-packages/sklearn/model_selection/_search.py:281: UserWarning: The total space of parameters 1 is smaller than n_iter=3. Running 1 iterations. For exhaustive searches, use GridSearchCV.\n",
      "  % (grid_size, self.n_iter, grid_size), UserWarning)\n"
     ]
    },
    {
     "name": "stdout",
     "output_type": "stream",
     "text": [
      "2020-02-07T18:17:51.136 INFO iotfunctions.metadata.test evaluated model model.TEST_ENTITY_FOR_GBMREGRESSOR.GBMRegressor.vibrations with evaluation metric value 0.004288262733559978\n"
     ]
    },
    {
     "name": "stderr",
     "output_type": "stream",
     "text": [
      "/home/markus/.local/lib/python3.7/site-packages/sklearn/model_selection/_search.py:281: UserWarning: The total space of parameters 1 is smaller than n_iter=3. Running 1 iterations. For exhaustive searches, use GridSearchCV.\n",
      "  % (grid_size, self.n_iter, grid_size), UserWarning)\n"
     ]
    },
    {
     "name": "stdout",
     "output_type": "stream",
     "text": [
      "2020-02-07T18:18:04.248 INFO iotfunctions.metadata.test evaluated model model.TEST_ENTITY_FOR_GBMREGRESSOR.GBMRegressor.vibrations with evaluation metric value 0.004288262733559978\n",
      "2020-02-07T18:18:04.279 INFO iotfunctions.metadata.test evaluated model model.TEST_ENTITY_FOR_GBMREGRESSOR.GBMRegressor.vibrations with evaluation metric value 0.004288262733559978\n"
     ]
    },
    {
     "name": "stderr",
     "output_type": "stream",
     "text": [
      "/home/markus/.local/lib/python3.7/site-packages/urllib3/connectionpool.py:858: InsecureRequestWarning: Unverified HTTPS request is being made. Adding certificate verification is strongly advised. See: https://urllib3.readthedocs.io/en/latest/advanced-usage.html#ssl-warnings\n",
      "  InsecureRequestWarning)\n"
     ]
    },
    {
     "name": "stdout",
     "output_type": "stream",
     "text": [
      "2020-02-07T18:18:21.525 INFO iotfunctions.base.execute Finished training model model.TEST_ENTITY_FOR_GBMREGRESSOR.GBMRegressor.vibrations\n"
     ]
    },
    {
     "name": "stderr",
     "output_type": "stream",
     "text": [
      "/home/markus/.local/lib/python3.7/site-packages/urllib3/connectionpool.py:858: InsecureRequestWarning: Unverified HTTPS request is being made. Adding certificate verification is strongly advised. See: https://urllib3.readthedocs.io/en/latest/advanced-usage.html#ssl-warnings\n",
      "  InsecureRequestWarning)\n"
     ]
    },
    {
     "name": "stdout",
     "output_type": "stream",
     "text": [
      "2020-02-07T18:18:24.638 INFO iotfunctions.metadata.predict predicted using model model.TEST_ENTITY_FOR_GBMREGRESSOR.GBMRegressor.vibrations\n"
     ]
    }
   ],
   "source": [
    "# now predict \n",
    "gbmii = GBMRegressor(features=['accel_power_0'], max_depth=100000, num_leaves=40, threshold=2,\n",
    "                     n_estimators=1000, learning_rate=0.001, targets=['vibrations'],\n",
    "                     predictions=['vibration_pred'])\n",
    "\n",
    "jobsettings = { 'db': db, \n",
    "               '_db_schema': 'public', 'save_trace_to_file' : True}\n",
    "et = gbmii._build_entity_type(columns = [Column('accel_power0',Float())], **jobsettings)\n",
    "gbmii._entity_type = et\n",
    "\n",
    "df_input = gbmii.execute(df=df_input)"
   ]
  },
  {
   "cell_type": "code",
   "execution_count": null,
   "metadata": {},
   "outputs": [],
   "source": []
  }
 ],
 "metadata": {
  "kernelspec": {
   "display_name": "Python 3",
   "language": "python",
   "name": "python3"
  },
  "language_info": {
   "codemirror_mode": {
    "name": "ipython",
    "version": 3
   },
   "file_extension": ".py",
   "mimetype": "text/x-python",
   "name": "python",
   "nbconvert_exporter": "python",
   "pygments_lexer": "ipython3",
   "version": "3.7.5"
  }
 },
 "nbformat": 4,
 "nbformat_minor": 2
}
