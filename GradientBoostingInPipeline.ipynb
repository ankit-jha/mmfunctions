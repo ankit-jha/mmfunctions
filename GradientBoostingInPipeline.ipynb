{
 "cells": [
  {
   "cell_type": "code",
   "execution_count": 1,
   "metadata": {},
   "outputs": [
    {
     "name": "stderr",
     "output_type": "stream",
     "text": [
      "Warning: confluent_kafka is not installed. Publish to MessageHub not supported.\n",
      "/home/markus/.local/lib/python3.7/site-packages/iotfunctions/bif.py:1943: UserWarning: IoTCalcSettings is deprecated. Use entity type constants instead of a metadata provider to set entity type properties\n",
      "  warnings.warn(('IoTCalcSettings is deprecated. Use entity type constants'\n"
     ]
    }
   ],
   "source": [
    "# Real life data\n",
    "\n",
    "import logging\n",
    "import threading\n",
    "import itertools\n",
    "import pandas as pd  \n",
    "import numpy as np  \n",
    "import matplotlib.pyplot as plt\n",
    "from matplotlib import cm\n",
    "from mpl_toolkits.mplot3d import axes3d\n",
    "import seaborn as seabornInstance\n",
    "from sqlalchemy import Column, Integer, String, Float, DateTime, Boolean, func\n",
    "from iotfunctions import base\n",
    "from iotfunctions import bif\n",
    "from iotfunctions import entity\n",
    "from iotfunctions import metadata\n",
    "from iotfunctions.metadata import EntityType\n",
    "from iotfunctions.db import Database\n",
    "from iotfunctions.enginelog import EngineLogging\n",
    "from iotfunctions import estimator\n",
    "from iotfunctions.ui import (UISingle, UIMultiItem, UIFunctionOutSingle,\n",
    "                 UISingleItem, UIFunctionOutMulti, UIMulti, UIExpression,\n",
    "                 UIText, UIStatusFlag, UIParameters)\n",
    "from mmfunctions.anomaly import (SaliencybasedGeneralizedAnomalyScore, SpectralAnomalyScore,\n",
    "                 FFTbasedGeneralizedAnomalyScore, KMeansAnomalyScore, GBMRegressor)\n",
    "import datetime as dt\n",
    "from sklearn.model_selection import train_test_split \n",
    "from sklearn.linear_model import LinearRegression\n",
    "from sklearn import metrics\n",
    "import scipy as sp\n",
    "import scipy.fftpack\n",
    "import skimage as ski  \n",
    "from skimage import util as skiutil # for nifty windowing\n",
    "import pyod as pyod\n",
    "from pyod.utils.data import generate_data\n",
    "from pyod.utils.data import evaluate_print\n",
    "from pyod.utils.example import visualize\n",
    "from pyod.models.knn import KNN\n",
    "from pyod.models.iforest import IForest\n",
    "%matplotlib inline\n",
    "from pandas.plotting import register_matplotlib_converters\n",
    "register_matplotlib_converters()\n",
    "\n",
    "EngineLogging.configure_console_logging(logging.INFO)"
   ]
  },
  {
   "cell_type": "code",
   "execution_count": 2,
   "metadata": {},
   "outputs": [
    {
     "name": "stdout",
     "output_type": "stream",
     "text": [
      "2020-03-03T08:44:11.264 INFO iotfunctions.db.__init__ Connection string for SqlAlchemy => db2): db2+ibm_db://bluadmin:MjZkZTEwN2FjMWY1@dashdb-enterprise-yp-dal12-125.services.dal.bluemix.net:50000/BLUDB;\n",
      "<iotfunctions.db.Database object at 0x7ff6265bfb90>\n"
     ]
    }
   ],
   "source": [
    "credentials={}\n",
    "db_schema=None\n",
    "db = Database(credentials=credentials)\n",
    "print (db)"
   ]
  },
  {
   "cell_type": "code",
   "execution_count": 3,
   "metadata": {},
   "outputs": [],
   "source": [
    "# need a helper function to convert array columns to something easier\n",
    "from scipy import linalg\n",
    "def l2norm(df, tcol, col1, col2 = None, col3 = None):\n",
    "    l2vib = []\n",
    "    for index, row in df.iterrows():\n",
    "        l2vib_element = linalg.norm(np.fromstring(row[col1].replace('[',' ').replace(']',''), sep = ','))**2\n",
    "        if col2 is not None:\n",
    "            l2vib_element = l2vib_element + \\\n",
    "                            linalg.norm(np.fromstring(row[col2].replace('[',' ').replace(']',''), sep = ','))**2\n",
    "        if col3 is not None:\n",
    "            l2vib_element = l2vib_element + \\\n",
    "                            linalg.norm(np.fromstring(row[col3].replace('[',' ').replace(']',''), sep = ','))**2\n",
    "        l2vib.append(l2vib_element**(1/2))\n",
    "    df[tcol] = np.asarray(l2vib)\n",
    "    \n",
    "\n",
    "def unrollAccel(df):\n",
    "    l0,l1,l2,l3,l4=[],[],[],[],[]\n",
    "    for i in df['ACCEL_POWER'].values:\n",
    "        l0.append(eval(eval(i)[0]))\n",
    "        l1.append(eval(eval(i)[1]))\n",
    "        l2.append(eval(eval(i)[2]))\n",
    "        l3.append(eval(eval(i)[3]))\n",
    "        l4.append(eval(eval(i)[4]))\n",
    "    df['accel_power_0'] = np.asarray(l0)\n",
    "    df['accel_power_1'] = np.asarray(l1)\n",
    "    df['accel_power_2'] = np.asarray(l2)\n",
    "    df['accel_power_3'] = np.asarray(l3)\n",
    "    df['accel_power_4'] = np.asarray(l4)\n",
    "    \n",
    "listAttr = ['timestamp','entity','vibrations','rms','accel_speed','accel_power_0','accel_power_1',\n",
    "            'accel_power_2','accel_power_3','accel_power_4']"
   ]
  },
  {
   "cell_type": "code",
   "execution_count": 4,
   "metadata": {},
   "outputs": [
    {
     "name": "stderr",
     "output_type": "stream",
     "text": [
      "/usr/lib/python3/dist-packages/ipykernel_launcher.py:6: DeprecationWarning: string or file could not be read to its end due to unmatched data; this will raise a ValueError in the future.\n",
      "  \n",
      "/usr/lib/python3/dist-packages/ipykernel_launcher.py:8: DeprecationWarning: string or file could not be read to its end due to unmatched data; this will raise a ValueError in the future.\n",
      "  \n",
      "/usr/lib/python3/dist-packages/ipykernel_launcher.py:10: DeprecationWarning: string or file could not be read to its end due to unmatched data; this will raise a ValueError in the future.\n",
      "  # Remove the CWD from sys.path while we load stuff.\n"
     ]
    },
    {
     "data": {
      "text/html": [
       "<div>\n",
       "<style scoped>\n",
       "    .dataframe tbody tr th:only-of-type {\n",
       "        vertical-align: middle;\n",
       "    }\n",
       "\n",
       "    .dataframe tbody tr th {\n",
       "        vertical-align: top;\n",
       "    }\n",
       "\n",
       "    .dataframe thead th {\n",
       "        text-align: right;\n",
       "    }\n",
       "</style>\n",
       "<table border=\"1\" class=\"dataframe\">\n",
       "  <thead>\n",
       "    <tr style=\"text-align: right;\">\n",
       "      <th></th>\n",
       "      <th>vibrations</th>\n",
       "      <th>rms</th>\n",
       "      <th>accel_speed</th>\n",
       "      <th>accel_power_0</th>\n",
       "      <th>accel_power_1</th>\n",
       "      <th>accel_power_2</th>\n",
       "      <th>accel_power_3</th>\n",
       "      <th>accel_power_4</th>\n",
       "    </tr>\n",
       "  </thead>\n",
       "  <tbody>\n",
       "    <tr>\n",
       "      <th>count</th>\n",
       "      <td>8620.000000</td>\n",
       "      <td>8.620000e+03</td>\n",
       "      <td>8620.0</td>\n",
       "      <td>8620.000000</td>\n",
       "      <td>8620.000000</td>\n",
       "      <td>8620.000000</td>\n",
       "      <td>8620.000000</td>\n",
       "      <td>8620.000000</td>\n",
       "    </tr>\n",
       "    <tr>\n",
       "      <th>mean</th>\n",
       "      <td>3.759047</td>\n",
       "      <td>1.732051e+00</td>\n",
       "      <td>1.0</td>\n",
       "      <td>2.453523</td>\n",
       "      <td>2.453312</td>\n",
       "      <td>2.452808</td>\n",
       "      <td>2.452053</td>\n",
       "      <td>2.452439</td>\n",
       "    </tr>\n",
       "    <tr>\n",
       "      <th>std</th>\n",
       "      <td>0.033272</td>\n",
       "      <td>4.441150e-16</td>\n",
       "      <td>0.0</td>\n",
       "      <td>0.856247</td>\n",
       "      <td>0.857594</td>\n",
       "      <td>0.857678</td>\n",
       "      <td>0.857200</td>\n",
       "      <td>0.856340</td>\n",
       "    </tr>\n",
       "    <tr>\n",
       "      <th>min</th>\n",
       "      <td>3.616515</td>\n",
       "      <td>1.732051e+00</td>\n",
       "      <td>1.0</td>\n",
       "      <td>0.000000</td>\n",
       "      <td>0.000000</td>\n",
       "      <td>0.000000</td>\n",
       "      <td>0.000000</td>\n",
       "      <td>0.000000</td>\n",
       "    </tr>\n",
       "    <tr>\n",
       "      <th>25%</th>\n",
       "      <td>3.737696</td>\n",
       "      <td>1.732051e+00</td>\n",
       "      <td>1.0</td>\n",
       "      <td>2.251800</td>\n",
       "      <td>2.251800</td>\n",
       "      <td>2.252000</td>\n",
       "      <td>2.252000</td>\n",
       "      <td>2.251800</td>\n",
       "    </tr>\n",
       "    <tr>\n",
       "      <th>50%</th>\n",
       "      <td>3.757949</td>\n",
       "      <td>1.732051e+00</td>\n",
       "      <td>1.0</td>\n",
       "      <td>2.313800</td>\n",
       "      <td>2.313400</td>\n",
       "      <td>2.311800</td>\n",
       "      <td>2.312200</td>\n",
       "      <td>2.312600</td>\n",
       "    </tr>\n",
       "    <tr>\n",
       "      <th>75%</th>\n",
       "      <td>3.780154</td>\n",
       "      <td>1.732051e+00</td>\n",
       "      <td>1.0</td>\n",
       "      <td>2.691450</td>\n",
       "      <td>2.692100</td>\n",
       "      <td>2.685100</td>\n",
       "      <td>2.681850</td>\n",
       "      <td>2.682300</td>\n",
       "    </tr>\n",
       "    <tr>\n",
       "      <th>max</th>\n",
       "      <td>3.898555</td>\n",
       "      <td>1.732051e+00</td>\n",
       "      <td>1.0</td>\n",
       "      <td>5.325799</td>\n",
       "      <td>5.293200</td>\n",
       "      <td>5.334001</td>\n",
       "      <td>5.278600</td>\n",
       "      <td>5.282000</td>\n",
       "    </tr>\n",
       "  </tbody>\n",
       "</table>\n",
       "</div>"
      ],
      "text/plain": [
       "        vibrations           rms  accel_speed  accel_power_0  accel_power_1  \\\n",
       "count  8620.000000  8.620000e+03       8620.0    8620.000000    8620.000000   \n",
       "mean      3.759047  1.732051e+00          1.0       2.453523       2.453312   \n",
       "std       0.033272  4.441150e-16          0.0       0.856247       0.857594   \n",
       "min       3.616515  1.732051e+00          1.0       0.000000       0.000000   \n",
       "25%       3.737696  1.732051e+00          1.0       2.251800       2.251800   \n",
       "50%       3.757949  1.732051e+00          1.0       2.313800       2.313400   \n",
       "75%       3.780154  1.732051e+00          1.0       2.691450       2.692100   \n",
       "max       3.898555  1.732051e+00          1.0       5.325799       5.293200   \n",
       "\n",
       "       accel_power_2  accel_power_3  accel_power_4  \n",
       "count    8620.000000    8620.000000    8620.000000  \n",
       "mean        2.452808       2.452053       2.452439  \n",
       "std         0.857678       0.857200       0.856340  \n",
       "min         0.000000       0.000000       0.000000  \n",
       "25%         2.252000       2.252000       2.251800  \n",
       "50%         2.311800       2.312200       2.312600  \n",
       "75%         2.685100       2.681850       2.682300  \n",
       "max         5.334001       5.278600       5.282000  "
      ]
     },
     "execution_count": 4,
     "metadata": {},
     "output_type": "execute_result"
    }
   ],
   "source": [
    "# Now we proceed to customer data - GOOD CASE\n",
    "\n",
    "# Get stuff in\n",
    "df_input_raw = pd.read_csv('./Armstark04714B6046D5.csv', index_col=False, parse_dates=['RCV_TIMESTAMP_UTC'])\n",
    "df_input_raw['entity']=df_input_raw['DEVICE_ID']\n",
    "df_input_raw['timestamp']=df_input_raw['RCV_TIMESTAMP_UTC']\n",
    "\n",
    "# and sort it by timestamp\n",
    "df_input_raw = df_input_raw.sort_values(by='timestamp')\n",
    "df_input_raw = df_input_raw.set_index(['entity','timestamp']).dropna()\n",
    "\n",
    "l2norm(df_input_raw, 'vibrations', 'VIBRATIONS_XAXIS', 'VIBRATIONS_YAXIS', 'VIBRATIONS_ZAXIS')\n",
    "l2norm(df_input_raw, 'rms', 'RMS_X', 'RMS_Y', 'RMS_Z')\n",
    "l2norm(df_input_raw, 'accel_speed', 'ACCEL_SPEED')\n",
    "unrollAccel(df_input_raw)\n",
    "#l2norm(df_input_raw, 'accel_power', 'ACCEL_POWER')\n",
    "\n",
    "df_input = df_input_raw.filter(listAttr, axis=1)\n",
    "df_input_raw.describe()"
   ]
  },
  {
   "cell_type": "markdown",
   "metadata": {},
   "source": [
    "#### Pandas Profiling\n",
    "\n",
    "Try Pandas Profiling to get an overview about the data, mostly its distributions and correlations\n",
    "<br>\n"
   ]
  },
  {
   "cell_type": "code",
   "execution_count": 5,
   "metadata": {},
   "outputs": [
    {
     "data": {
      "application/vnd.jupyter.widget-view+json": {
       "model_id": "66f629a12c01475b89cfde2c27632597",
       "version_major": 2,
       "version_minor": 0
      },
      "text/plain": [
       "HBox(children=(FloatProgress(value=0.0, description='variables', max=10.0, style=ProgressStyle(description_wid…"
      ]
     },
     "metadata": {},
     "output_type": "display_data"
    },
    {
     "name": "stdout",
     "output_type": "stream",
     "text": [
      "\n"
     ]
    },
    {
     "data": {
      "application/vnd.jupyter.widget-view+json": {
       "model_id": "07909fb7a7b84cd3bdcdf9adc1d1d22f",
       "version_major": 2,
       "version_minor": 0
      },
      "text/plain": [
       "HBox(children=(FloatProgress(value=0.0, description='correlations', max=6.0, style=ProgressStyle(description_w…"
      ]
     },
     "metadata": {},
     "output_type": "display_data"
    },
    {
     "name": "stdout",
     "output_type": "stream",
     "text": [
      "\n"
     ]
    },
    {
     "data": {
      "application/vnd.jupyter.widget-view+json": {
       "model_id": "e1096c41bb35458f8252977403513998",
       "version_major": 2,
       "version_minor": 0
      },
      "text/plain": [
       "HBox(children=(FloatProgress(value=0.0, description='interactions [continuous]', max=36.0, style=ProgressStyle…"
      ]
     },
     "metadata": {},
     "output_type": "display_data"
    },
    {
     "name": "stdout",
     "output_type": "stream",
     "text": [
      "\n"
     ]
    },
    {
     "data": {
      "application/vnd.jupyter.widget-view+json": {
       "model_id": "1f9b14861178453590586c081a31612e",
       "version_major": 2,
       "version_minor": 0
      },
      "text/plain": [
       "HBox(children=(FloatProgress(value=0.0, description='table', max=1.0, style=ProgressStyle(description_width='i…"
      ]
     },
     "metadata": {},
     "output_type": "display_data"
    },
    {
     "name": "stdout",
     "output_type": "stream",
     "text": [
      "\n"
     ]
    },
    {
     "data": {
      "application/vnd.jupyter.widget-view+json": {
       "model_id": "1d85b12ebf17468b8edb83f0a26d2ada",
       "version_major": 2,
       "version_minor": 0
      },
      "text/plain": [
       "HBox(children=(FloatProgress(value=0.0, description='missing', max=2.0, style=ProgressStyle(description_width=…"
      ]
     },
     "metadata": {},
     "output_type": "display_data"
    },
    {
     "name": "stdout",
     "output_type": "stream",
     "text": [
      "\n"
     ]
    },
    {
     "data": {
      "application/vnd.jupyter.widget-view+json": {
       "model_id": "9bd559a17134442aa2218a2eeecff110",
       "version_major": 2,
       "version_minor": 0
      },
      "text/plain": [
       "HBox(children=(FloatProgress(value=0.0, description='warnings', max=3.0, style=ProgressStyle(description_width…"
      ]
     },
     "metadata": {},
     "output_type": "display_data"
    },
    {
     "name": "stdout",
     "output_type": "stream",
     "text": [
      "\n"
     ]
    },
    {
     "data": {
      "application/vnd.jupyter.widget-view+json": {
       "model_id": "6d10ceaa91654544b1cdc4fb4da7d679",
       "version_major": 2,
       "version_minor": 0
      },
      "text/plain": [
       "HBox(children=(FloatProgress(value=0.0, description='package', max=1.0, style=ProgressStyle(description_width=…"
      ]
     },
     "metadata": {},
     "output_type": "display_data"
    },
    {
     "name": "stdout",
     "output_type": "stream",
     "text": [
      "\n"
     ]
    },
    {
     "data": {
      "application/vnd.jupyter.widget-view+json": {
       "model_id": "4841fc6a2eb4479681cc4882bf892027",
       "version_major": 2,
       "version_minor": 0
      },
      "text/plain": [
       "HBox(children=(FloatProgress(value=0.0, description='build report structure', max=1.0, style=ProgressStyle(des…"
      ]
     },
     "metadata": {},
     "output_type": "display_data"
    },
    {
     "name": "stdout",
     "output_type": "stream",
     "text": [
      "\n"
     ]
    },
    {
     "data": {
      "application/vnd.jupyter.widget-view+json": {
       "model_id": "a6660ecd8ede4a20accae0c97b1faf05",
       "version_major": 2,
       "version_minor": 0
      },
      "text/plain": [
       "Tab(children=(Tab(children=(GridBox(children=(VBox(children=(GridspecLayout(children=(HTML(value='Number of va…"
      ]
     },
     "metadata": {},
     "output_type": "display_data"
    },
    {
     "data": {
      "text/html": [
       "Report generated with <a href=\"https://github.com/pandas-profiling/pandas-profiling\">pandas-profiling</a>."
      ],
      "text/plain": [
       "<IPython.core.display.HTML object>"
      ]
     },
     "metadata": {},
     "output_type": "display_data"
    }
   ],
   "source": [
    "from pandas_profiling import ProfileReport\n",
    "profile = ProfileReport(df_input, title='Pandas Profiling Report', html={'style':{'full_width':True}})\n",
    "profile.to_widgets()"
   ]
  },
  {
   "cell_type": "markdown",
   "metadata": {},
   "source": [
    "#### Customer suggested a correlation between vibration and acceleration\n",
    "\n",
    "so let's try to predict (although correlation tests do not really indicate it)"
   ]
  },
  {
   "cell_type": "code",
   "execution_count": 6,
   "metadata": {
    "scrolled": false
   },
   "outputs": [
    {
     "name": "stdout",
     "output_type": "stream",
     "text": [
      "2020-03-03T08:50:29.851 DEBUG iotfunctions.enginelog.configure_console_logging Console logging has been configured. Level = 10\n",
      "2020-03-03T08:50:29.852 DEBUG iotfunctions.metadata.__init__ Initializing new entity type using iotfunctions 2.0.3\n",
      "2020-03-03T08:50:29.853 DEBUG iotfunctions.util.__init__ Starting trace\n",
      "2020-03-03T08:50:29.853 DEBUG iotfunctions.util.__init__ Trace name: auto_trace_test_entity_for_GBMRegressor_20200303075029\n",
      "2020-03-03T08:50:29.854 DEBUG iotfunctions.util.__init__ auto_save None\n",
      "2020-03-03T08:50:29.855 DEBUG iotfunctions.util.categorize_args categorizing arguments\n",
      "2020-03-03T08:50:29.855 WARNING iotfunctions.metadata.__init__ Created a logical entity type. It is not connected to a real database table, so it cannot perform any database operations.\n",
      "2020-03-03T08:50:29.855 DEBUG iotfunctions.metadata.__init__ Initialized entity type \n",
      "LocalEntityType:TEST_ENTITY_FOR_GBMREGRESSOR\n",
      "Functions:\n",
      "Granularities:\n",
      "No schedules metadata\n",
      "2020-03-03T08:50:29.860 DEBUG urllib3.connectionpool._new_conn Starting new HTTPS connection (1): s3-api.us-geo.objectstorage.softlayer.net\n",
      "2020-03-03T08:50:32.214 DEBUG urllib3.connectionpool._make_request https://s3-api.us-geo.objectstorage.softlayer.net:443 \"DELETE /analytics-runtime-monitor-demo-395729cb6a06/model.TEST_ENTITY_FOR_GBMREGRESSOR.GBMRegressor.vibrations HTTP/1.1\" 204 0\n",
      "2020-03-03T08:50:32.218 INFO iotfunctions.base.get_models_for_training predicting target vibrations\n",
      "2020-03-03T08:50:32.220 DEBUG urllib3.connectionpool._new_conn Starting new HTTPS connection (1): s3-api.us-geo.objectstorage.softlayer.net\n",
      "2020-03-03T08:50:33.711 DEBUG urllib3.connectionpool._make_request https://s3-api.us-geo.objectstorage.softlayer.net:443 \"GET /analytics-runtime-monitor-demo-395729cb6a06/model.TEST_ENTITY_FOR_GBMREGRESSOR.GBMRegressor.vibrations HTTP/1.1\" 404 363\n",
      "2020-03-03T08:50:33.715 WARNING iotfunctions.util._cos_api_request error cos_api_request: request_url=https://s3-api.us-geo.objectstorage.softlayer.net/analytics-runtime-monitor-demo-395729cb6a06/model.TEST_ENTITY_FOR_GBMREGRESSOR.GBMRegressor.vibrations, http_method=GET, status_code=404, response_text=<?xml version=\"1.0\" encoding=\"UTF-8\" standalone=\"yes\"?><Error><Code>NoSuchKey</Code><Message>The specified key does not exist.</Message><Resource>/analytics-runtime-monitor-demo-395729cb6a06/model.TEST_ENTITY_FOR_GBMREGRESSOR.GBMRegressor.vibrations</Resource><RequestId>2a117c70-a75e-4251-a8e0-9ab67bb90924</RequestId><httpStatusCode>404</httpStatusCode></Error>\n",
      "2020-03-03T08:50:33.717 ERROR iotfunctions.db.cos_load Not able to GET model.TEST_ENTITY_FOR_GBMREGRESSOR.GBMRegressor.vibrations from COS bucket analytics-runtime-monitor-demo-395729cb6a06\n",
      "2020-03-03T08:50:33.719 INFO iotfunctions.base.get_models_for_training load model None\n",
      "2020-03-03T08:50:33.721 INFO iotfunctions.base.get_models_for_training training required: True  results: Training required because there is no existing model\n",
      "2020-03-03T08:50:33.724 DEBUG iotfunctions.pipeline.execute Executing pipeline with 0 stages.\n",
      "2020-03-03T08:50:33.726 DEBUG iotfunctions.pipeline.execute columns excluded when dropping null rows ['deviceid', '_timestamp', 'logicalinterface_id', 'devicetype', 'format', 'updated_utc', 'evt_timestamp']\n",
      "2020-03-03T08:50:33.728 DEBUG iotfunctions.pipeline.execute columns considered when dropping null rows ['vibrations', 'rms', 'accel_speed', 'accel_power_0', 'accel_power_1', 'accel_power_2', 'accel_power_3', 'accel_power_4']\n",
      "2020-03-03T08:50:33.732 DEBUG iotfunctions.pipeline.execute vibrations count not null: 8620\n",
      "2020-03-03T08:50:33.735 DEBUG iotfunctions.pipeline.execute rms count not null: 8620\n",
      "2020-03-03T08:50:33.738 DEBUG iotfunctions.pipeline.execute accel_speed count not null: 8620\n",
      "2020-03-03T08:50:33.741 DEBUG iotfunctions.pipeline.execute accel_power_0 count not null: 8620\n",
      "2020-03-03T08:50:33.743 DEBUG iotfunctions.pipeline.execute accel_power_1 count not null: 8620\n",
      "2020-03-03T08:50:33.745 DEBUG iotfunctions.pipeline.execute accel_power_2 count not null: 8620\n",
      "2020-03-03T08:50:33.748 DEBUG iotfunctions.pipeline.execute accel_power_3 count not null: 8620\n",
      "2020-03-03T08:50:33.749 DEBUG iotfunctions.pipeline.execute accel_power_4 count not null: 8620\n",
      "2020-03-03T08:50:33.760 DEBUG iotfunctions.util.log_df_info post drop all null rows df count: 8620  ; index: entity,timestamp  ; columns: vibrations,rms,accel_speed,accel_power_0,accel_power_1,accel_power_2,accel_power_3,accel_power_4\n"
     ]
    },
    {
     "name": "stderr",
     "output_type": "stream",
     "text": [
      "/home/markus/.local/lib/python3.7/site-packages/sqlalchemy/engine/reflection.py:915: SAWarning: index key 'sqlnotapplicable' was not located in columns for table 'TEST_ENTITY_FOR_GBMREGRESSOR_AUTO_DIM'\n",
      "  \"columns for table '%s'\" % (flavor, c, table_name)\n"
     ]
    },
    {
     "name": "stdout",
     "output_type": "stream",
     "text": [
      "2020-03-03T08:50:36.622 WARNING iotfunctions.pipeline.write Error while writing unmatched members to dimension. 'LocalEntityType' object has no attribute 'table'\n",
      "2020-03-03T08:50:36.624 DEBUG iotfunctions.base.execute_preprocessing Completed preprocessing\n",
      "2020-03-03T08:50:36.633 DEBUG iotfunctions.util.log_df_info training set df count: 6896  ; index: entity,timestamp  ; columns: vibrations,rms,accel_speed,accel_power_0,accel_power_1,accel_power_2,accel_power_3,accel_power_4\n",
      "2020-03-03T08:50:36.634 DEBUG iotfunctions.util.log_df_info test set df count: 1724  ; index: entity,timestamp  ; columns: vibrations,rms,accel_speed,accel_power_0,accel_power_1,accel_power_2,accel_power_3,accel_power_4\n",
      "2020-03-03T08:50:36.636 INFO iotfunctions.base.execute Prepare to train model {\n",
      " \"name\": \"model.TEST_ENTITY_FOR_GBMREGRESSOR.GBMRegressor.vibrations\",\n",
      " \"target\": \"vibrations\",\n",
      " \"features\": [\n",
      "  \"accel_power_0\"\n",
      " ],\n",
      " \"estimator_name\": null,\n",
      " \"eval_metric_name\": \"r2_score\",\n",
      " \"eval_metric_train\": null,\n",
      " \"eval_metric_test\": null,\n",
      " \"trained_date\": null,\n",
      " \"expiry_date\": null\n",
      "}\n",
      "2020-03-03T08:50:36.638 INFO mmfunctions.anomaly.set_estimators GBMRegressor start search for best model\n",
      "2020-03-03T08:50:36.648 DEBUG iotfunctions.base.make_estimators Selected estimators ['light_gradient_boosted_regressor', 'light_gradient_boosted_regressor', 'light_gradient_boosted_regressor', 'light_gradient_boosted_regressor', 'light_gradient_boosted_regressor']\n"
     ]
    },
    {
     "name": "stderr",
     "output_type": "stream",
     "text": [
      "/usr/local/lib/python3.7/dist-packages/sklearn/model_selection/_search.py:281: UserWarning: The total space of parameters 1 is smaller than n_iter=3. Running 1 iterations. For exhaustive searches, use GridSearchCV.\n",
      "  % (grid_size, self.n_iter, grid_size), UserWarning)\n"
     ]
    },
    {
     "name": "stdout",
     "output_type": "stream",
     "text": [
      "2020-03-03T08:51:15.536 DEBUG iotfunctions.base.fit_with_search_cv Used randomize search cross validation to find best hyper parameters for estimator RandomizedSearchCV\n",
      "2020-03-03T08:51:15.537 INFO iotfunctions.base.find_best_model Trained model: 0\n",
      "2020-03-03T08:51:15.922 INFO iotfunctions.base.find_best_model Trained model: 0 score:0.002047056433677863\n",
      "2020-03-03T08:51:16.055 INFO iotfunctions.metadata.test evaluated model model.TEST_ENTITY_FOR_GBMREGRESSOR.GBMRegressor.vibrations with evaluation metric value 0.0005335272716041617\n"
     ]
    },
    {
     "name": "stderr",
     "output_type": "stream",
     "text": [
      "/usr/local/lib/python3.7/dist-packages/sklearn/model_selection/_search.py:281: UserWarning: The total space of parameters 1 is smaller than n_iter=3. Running 1 iterations. For exhaustive searches, use GridSearchCV.\n",
      "  % (grid_size, self.n_iter, grid_size), UserWarning)\n"
     ]
    },
    {
     "name": "stdout",
     "output_type": "stream",
     "text": [
      "2020-03-03T08:51:53.083 DEBUG iotfunctions.base.fit_with_search_cv Used randomize search cross validation to find best hyper parameters for estimator RandomizedSearchCV\n",
      "2020-03-03T08:51:53.084 INFO iotfunctions.base.find_best_model Trained model: 1\n",
      "2020-03-03T08:51:53.498 INFO iotfunctions.base.find_best_model Trained model: 1 score:0.002047056433677863\n",
      "2020-03-03T08:51:53.627 INFO iotfunctions.metadata.test evaluated model model.TEST_ENTITY_FOR_GBMREGRESSOR.GBMRegressor.vibrations with evaluation metric value 0.0005335272716041617\n"
     ]
    },
    {
     "name": "stderr",
     "output_type": "stream",
     "text": [
      "/usr/local/lib/python3.7/dist-packages/sklearn/model_selection/_search.py:281: UserWarning: The total space of parameters 1 is smaller than n_iter=3. Running 1 iterations. For exhaustive searches, use GridSearchCV.\n",
      "  % (grid_size, self.n_iter, grid_size), UserWarning)\n"
     ]
    },
    {
     "name": "stdout",
     "output_type": "stream",
     "text": [
      "2020-03-03T08:52:43.125 DEBUG iotfunctions.base.fit_with_search_cv Used randomize search cross validation to find best hyper parameters for estimator RandomizedSearchCV\n",
      "2020-03-03T08:52:43.125 INFO iotfunctions.base.find_best_model Trained model: 2\n",
      "2020-03-03T08:52:43.536 INFO iotfunctions.base.find_best_model Trained model: 2 score:0.002047056433677863\n",
      "2020-03-03T08:52:43.634 INFO iotfunctions.metadata.test evaluated model model.TEST_ENTITY_FOR_GBMREGRESSOR.GBMRegressor.vibrations with evaluation metric value 0.0005335272716041617\n"
     ]
    },
    {
     "name": "stderr",
     "output_type": "stream",
     "text": [
      "/usr/local/lib/python3.7/dist-packages/sklearn/model_selection/_search.py:281: UserWarning: The total space of parameters 1 is smaller than n_iter=3. Running 1 iterations. For exhaustive searches, use GridSearchCV.\n",
      "  % (grid_size, self.n_iter, grid_size), UserWarning)\n"
     ]
    },
    {
     "name": "stdout",
     "output_type": "stream",
     "text": [
      "2020-03-03T08:53:27.548 DEBUG iotfunctions.base.fit_with_search_cv Used randomize search cross validation to find best hyper parameters for estimator RandomizedSearchCV\n",
      "2020-03-03T08:53:27.548 INFO iotfunctions.base.find_best_model Trained model: 3\n",
      "2020-03-03T08:53:27.888 INFO iotfunctions.base.find_best_model Trained model: 3 score:0.002047056433677863\n",
      "2020-03-03T08:53:27.977 INFO iotfunctions.metadata.test evaluated model model.TEST_ENTITY_FOR_GBMREGRESSOR.GBMRegressor.vibrations with evaluation metric value 0.0005335272716041617\n"
     ]
    },
    {
     "name": "stderr",
     "output_type": "stream",
     "text": [
      "/usr/local/lib/python3.7/dist-packages/sklearn/model_selection/_search.py:281: UserWarning: The total space of parameters 1 is smaller than n_iter=3. Running 1 iterations. For exhaustive searches, use GridSearchCV.\n",
      "  % (grid_size, self.n_iter, grid_size), UserWarning)\n"
     ]
    },
    {
     "name": "stdout",
     "output_type": "stream",
     "text": [
      "2020-03-03T08:54:13.136 DEBUG iotfunctions.base.fit_with_search_cv Used randomize search cross validation to find best hyper parameters for estimator RandomizedSearchCV\n",
      "2020-03-03T08:54:13.136 INFO iotfunctions.base.find_best_model Trained model: 4\n",
      "2020-03-03T08:54:13.448 INFO iotfunctions.base.find_best_model Trained model: 4 score:0.002047056433677863\n",
      "2020-03-03T08:54:13.543 INFO iotfunctions.metadata.test evaluated model model.TEST_ENTITY_FOR_GBMREGRESSOR.GBMRegressor.vibrations with evaluation metric value 0.0005335272716041617\n",
      "2020-03-03T08:54:13.564 DEBUG iotfunctions.base.execute Trained model: {\n",
      " \"name\": \"model.TEST_ENTITY_FOR_GBMREGRESSOR.GBMRegressor.vibrations\",\n",
      " \"target\": \"vibrations\",\n",
      " \"features\": [\n",
      "  \"accel_power_0\"\n",
      " ],\n",
      " \"estimator_name\": \"light_gradient_boosted_regressor\",\n",
      " \"eval_metric_name\": \"r2_score\",\n",
      " \"eval_metric_train\": 0.002047056433677863,\n",
      " \"eval_metric_test\": 0.0005335272716041617,\n",
      " \"trained_date\": \"2020-03-03T07:51:15.924770\",\n",
      " \"expiry_date\": null\n",
      "}\n",
      "2020-03-03T08:54:13.668 INFO iotfunctions.metadata.test evaluated model model.TEST_ENTITY_FOR_GBMREGRESSOR.GBMRegressor.vibrations with evaluation metric value 0.0005335272716041617\n",
      "2020-03-03T08:54:14.010 DEBUG urllib3.connectionpool._new_conn Starting new HTTPS connection (1): s3-api.us-geo.objectstorage.softlayer.net\n",
      "2020-03-03T08:55:25.904 DEBUG urllib3.connectionpool._make_request https://s3-api.us-geo.objectstorage.softlayer.net:443 \"PUT /analytics-runtime-monitor-demo-395729cb6a06/model.TEST_ENTITY_FOR_GBMREGRESSOR.GBMRegressor.vibrations HTTP/1.1\" 200 0\n",
      "2020-03-03T08:55:25.909 DEBUG iotfunctions.base.evaluate_and_write_model  wrote new model model.TEST_ENTITY_FOR_GBMREGRESSOR.GBMRegressor.vibrations \n",
      "2020-03-03T08:55:25.909 INFO iotfunctions.base.execute Finished training model model.TEST_ENTITY_FOR_GBMREGRESSOR.GBMRegressor.vibrations\n",
      "2020-03-03T08:55:25.910 DEBUG urllib3.connectionpool._new_conn Starting new HTTPS connection (1): s3-api.us-geo.objectstorage.softlayer.net\n",
      "2020-03-03T08:55:28.274 DEBUG urllib3.connectionpool._make_request https://s3-api.us-geo.objectstorage.softlayer.net:443 \"GET /analytics-runtime-monitor-demo-395729cb6a06/model.TEST_ENTITY_FOR_GBMREGRESSOR.GBMRegressor.vibrations HTTP/1.1\" 200 15147685\n",
      "2020-03-03T08:55:53.185 INFO iotfunctions.metadata.predict predicted using model model.TEST_ENTITY_FOR_GBMREGRESSOR.GBMRegressor.vibrations\n",
      "2020-03-03T08:55:53.188 DEBUG iotfunctions.util.log_df_info After adding predictions for target vibrations df count: 8620  ; index: entity,timestamp  ; columns: vibrations,rms,accel_speed,accel_power_0,accel_power_1,accel_power_2,accel_power_3,accel_power_4,vibration_pred\n"
     ]
    }
   ],
   "source": [
    "# Run Monitoring's anomaly detector functions\n",
    "EngineLogging.configure_console_logging(logging.DEBUG)\n",
    "\n",
    "gbmii = GBMRegressor(features=['accel_power_0'], max_depth=20, num_leaves=40, threshold=2,\n",
    "                     n_estimators=4000, learning_rate=0.00001, targets=['vibrations'],\n",
    "                     predictions=['vibration_pred'])\n",
    "\n",
    "jobsettings = { 'db': db, \n",
    "               '_db_schema': 'public', 'save_trace_to_file' : True}\n",
    "et = gbmii._build_entity_type(columns = [Column('accel_power0',Float())], **jobsettings)\n",
    "gbmii._entity_type = et\n",
    "\n",
    "# allow training and delete existing models\n",
    "gbmii.auto_train = True\n",
    "gbmii.delete_existing_models = True\n",
    "df_input = gbmii.execute(df=df_input)"
   ]
  },
  {
   "cell_type": "code",
   "execution_count": 7,
   "metadata": {
    "scrolled": false
   },
   "outputs": [
    {
     "name": "stdout",
     "output_type": "stream",
     "text": [
      "2020-03-03T09:08:05.430 DEBUG iotfunctions.enginelog.configure_console_logging Console logging has been configured. Level = 10\n",
      "2020-03-03T09:08:05.431 DEBUG iotfunctions.metadata.__init__ Initializing new entity type using iotfunctions 2.0.3\n",
      "2020-03-03T09:08:05.432 DEBUG iotfunctions.util.__init__ Starting trace\n",
      "2020-03-03T09:08:05.432 DEBUG iotfunctions.util.__init__ Trace name: auto_trace_test_entity_for_GBMRegressor_20200303080805\n",
      "2020-03-03T09:08:05.433 DEBUG iotfunctions.util.__init__ auto_save None\n",
      "2020-03-03T09:08:05.433 DEBUG iotfunctions.util.categorize_args categorizing arguments\n",
      "2020-03-03T09:08:05.433 WARNING iotfunctions.metadata.__init__ Created a logical entity type. It is not connected to a real database table, so it cannot perform any database operations.\n",
      "2020-03-03T09:08:05.434 DEBUG iotfunctions.metadata.__init__ Initialized entity type \n",
      "LocalEntityType:TEST_ENTITY_FOR_GBMREGRESSOR\n",
      "Functions:\n",
      "Granularities:\n",
      "No schedules metadata\n",
      "2020-03-03T09:08:05.435 INFO iotfunctions.base.get_models_for_training predicting target vibrations\n",
      "2020-03-03T09:08:05.438 DEBUG urllib3.connectionpool._new_conn Starting new HTTPS connection (1): s3-api.us-geo.objectstorage.softlayer.net\n",
      "2020-03-03T09:08:09.034 DEBUG urllib3.connectionpool._make_request https://s3-api.us-geo.objectstorage.softlayer.net:443 \"GET /analytics-runtime-monitor-demo-395729cb6a06/model.TEST_ENTITY_FOR_GBMREGRESSOR.GBMRegressor.vibrations HTTP/1.1\" 200 15147685\n",
      "2020-03-03T09:08:20.851 INFO iotfunctions.base.get_models_for_training load model {\n",
      " \"name\": \"model.TEST_ENTITY_FOR_GBMREGRESSOR.GBMRegressor.vibrations\",\n",
      " \"target\": \"vibrations\",\n",
      " \"features\": [\n",
      "  \"accel_power_0\"\n",
      " ],\n",
      " \"estimator_name\": \"light_gradient_boosted_regressor\",\n",
      " \"eval_metric_name\": \"r2_score\",\n",
      " \"eval_metric_train\": 0.002047056433677863,\n",
      " \"eval_metric_test\": 0.0005335272716041617,\n",
      " \"trained_date\": \"2020-03-03T07:51:15.924770\",\n",
      " \"expiry_date\": null\n",
      "}\n",
      "2020-03-03T09:08:20.852 INFO iotfunctions.base.get_models_for_training training required: False  results: Existing model has not expired and eval metric is good\n",
      "2020-03-03T09:08:20.857 DEBUG urllib3.connectionpool._new_conn Starting new HTTPS connection (1): s3-api.us-geo.objectstorage.softlayer.net\n",
      "2020-03-03T09:08:23.173 DEBUG urllib3.connectionpool._make_request https://s3-api.us-geo.objectstorage.softlayer.net:443 \"GET /analytics-runtime-monitor-demo-395729cb6a06/model.TEST_ENTITY_FOR_GBMREGRESSOR.GBMRegressor.vibrations HTTP/1.1\" 200 15147685\n",
      "2020-03-03T09:08:46.053 INFO iotfunctions.metadata.predict predicted using model model.TEST_ENTITY_FOR_GBMREGRESSOR.GBMRegressor.vibrations\n",
      "2020-03-03T09:08:46.057 DEBUG iotfunctions.util.log_df_info After adding predictions for target vibrations df count: 8620  ; index: entity,timestamp  ; columns: vibrations,rms,accel_speed,accel_power_0,accel_power_1,accel_power_2,accel_power_3,accel_power_4,vibration_pred,_diff_,vibrations_alert\n"
     ]
    }
   ],
   "source": [
    "# now predict \n",
    "EngineLogging.configure_console_logging(logging.DEBUG)\n",
    "gbmii = GBMRegressor(features=['accel_power_0'], max_depth=100000, num_leaves=40, threshold=2,\n",
    "                     n_estimators=1000, learning_rate=0.001, targets=['vibrations'],\n",
    "                     predictions=['vibration_pred'])\n",
    "\n",
    "jobsettings = { 'db': db, \n",
    "               '_db_schema': 'public', 'save_trace_to_file' : True}\n",
    "et = gbmii._build_entity_type(columns = [Column('accel_power0',Float())], **jobsettings)\n",
    "gbmii._entity_type = et\n",
    "\n",
    "df_input = gbmii.execute(df=df_input)"
   ]
  },
  {
   "cell_type": "code",
   "execution_count": null,
   "metadata": {},
   "outputs": [],
   "source": []
  }
 ],
 "metadata": {
  "kernelspec": {
   "display_name": "Python 3",
   "language": "python",
   "name": "python3"
  },
  "language_info": {
   "codemirror_mode": {
    "name": "ipython",
    "version": 3
   },
   "file_extension": ".py",
   "mimetype": "text/x-python",
   "name": "python",
   "nbconvert_exporter": "python",
   "pygments_lexer": "ipython3",
   "version": "3.7.5"
  }
 },
 "nbformat": 4,
 "nbformat_minor": 2
}
