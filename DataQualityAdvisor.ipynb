{
 "cells": [
  {
   "cell_type": "markdown",
   "metadata": {},
   "source": [
    "#### Preparations\n",
    "\n",
    "* Checkout code with `git clone -b extreme_anomaly_package ssh://git@github.com/ankit-jha/addCustomIotFn`\n",
    "* cd into the directory, adapt setup.py: turn all `==` operators into `>=` to avoid accidentially uninstalling stuff\n",
    "* Run `pip install .`"
   ]
  },
  {
   "cell_type": "code",
   "execution_count": 1,
   "metadata": {},
   "outputs": [
    {
     "name": "stderr",
     "output_type": "stream",
     "text": [
      "Warning: confluent_kafka is not installed. Publish to MessageHub not supported.\n",
      "/home/markus/.local/lib/python3.7/site-packages/iotfunctions/bif.py:1605: UserWarning: IoTCalcSettings is deprecated. Use entity type constants instead of a metadata provider to set entity type properties\n",
      "  warnings.warn(('IoTCalcSettings is deprecated. Use entity type constants'\n"
     ]
    }
   ],
   "source": [
    "# Real life data\n",
    "\n",
    "import logging\n",
    "import threading\n",
    "import itertools\n",
    "import pandas as pd  \n",
    "import numpy as np  \n",
    "import matplotlib.pyplot as plt\n",
    "from matplotlib import cm\n",
    "from mpl_toolkits.mplot3d import axes3d\n",
    "import seaborn as seabornInstance\n",
    "from sqlalchemy import Column, Integer, String, Float, DateTime, Boolean, func\n",
    "from iotfunctions import base\n",
    "from iotfunctions import bif\n",
    "from iotfunctions import entity\n",
    "from iotfunctions import metadata\n",
    "from iotfunctions.metadata import EntityType\n",
    "from iotfunctions.db import Database\n",
    "from iotfunctions.enginelog import EngineLogging\n",
    "from iotfunctions import estimator\n",
    "from iotfunctions.ui import (UISingle, UIMultiItem, UIFunctionOutSingle,\n",
    "                 UISingleItem, UIFunctionOutMulti, UIMulti, UIExpression,\n",
    "                 UIText, UIStatusFlag, UIParameters)\n",
    "from mmfunctions.anomaly import (SaliencybasedGeneralizedAnomalyScore, SpectralAnomalyScore,\n",
    "                 FFTbasedGeneralizedAnomalyScore, KMeansAnomalyScore, GBMRegressor)\n",
    "from extremeanomaly.extremeanomalygenerator import ExtremeAnomalyGenerator\n",
    "\n",
    "import datetime as dt\n",
    "from sklearn.model_selection import train_test_split \n",
    "from sklearn.linear_model import LinearRegression\n",
    "from sklearn import metrics\n",
    "import scipy as sp\n",
    "import scipy.fftpack\n",
    "import skimage as ski  \n",
    "from skimage import util as skiutil # for nifty windowing\n",
    "import pyod as pyod\n",
    "from pyod.utils.data import generate_data\n",
    "from pyod.utils.data import evaluate_print\n",
    "from pyod.utils.example import visualize\n",
    "from pyod.models.knn import KNN\n",
    "from pyod.models.iforest import IForest\n",
    "%matplotlib inline\n",
    "from pandas.plotting import register_matplotlib_converters\n",
    "register_matplotlib_converters()\n",
    "\n",
    "EngineLogging.configure_console_logging(logging.INFO)"
   ]
  },
  {
   "cell_type": "code",
   "execution_count": 3,
   "metadata": {},
   "outputs": [],
   "source": [
    "# need a helper function to convert array columns to something easier\n",
    "from scipy import linalg\n",
    "def l2norm(df, tcol, col1, col2 = None, col3 = None):\n",
    "    def str_norm(cols_str):\n",
    "        '''norm for one string element (encodes an array of value)\n",
    "           in one column of a data point'''\n",
    "        return linalg.norm(np.fromstring(cols_str.replace('[',' ').replace(']','').replace('\\\"', ''), sep = ','))**2\n",
    "\n",
    "    def column_norm(df, tcol, col1, col2=None, col3=None):\n",
    "        '''norm of all columns specified in parameters for all datapoints'''\n",
    "        df_temp = pd.DataFrame()\n",
    "        df_temp['col1_np'] = df[col1].apply(str_norm)\n",
    "        df_temp['col2_np'] = 0 \n",
    "        df_temp['col3_np'] = 0\n",
    "        if col2 is not None:\n",
    "            df_temp['col2_np'] = df[col2].apply(str_norm)\n",
    "        if col3 is not None:\n",
    "            df_temp['col3_np'] = df[col3].apply(str_norm)\n",
    "\n",
    "        return (df_temp['col1_np'] + df_temp['col2_np'] + df_temp['col3_np'])**(1/2)\n",
    "    \n",
    "    df[tcol] = column_norm(df, tcol, col1, col2, col3)\n",
    "\n",
    "\n",
    "def unrollAccel(df):\n",
    "    l0,l1,l2,l3,l4=[],[],[],[],[]\n",
    "    for i in df['ACCEL_POWER'].values:\n",
    "        l0.append(eval(eval(i)[0]))\n",
    "        l1.append(eval(eval(i)[1]))\n",
    "        l2.append(eval(eval(i)[2]))\n",
    "        l3.append(eval(eval(i)[3]))\n",
    "        l4.append(eval(eval(i)[4]))\n",
    "    df['accel_power_0'] = np.asarray(l0)\n",
    "    df['accel_power_1'] = np.asarray(l1)\n",
    "    df['accel_power_2'] = np.asarray(l2)\n",
    "    df['accel_power_3'] = np.asarray(l3)\n",
    "    df['accel_power_4'] = np.asarray(l4)\n",
    "    \n",
    "listAttr = ['timestamp','entity','vibrations','rms','accel_speed','accel_power_0','accel_power_1',\n",
    "            'accel_power_2','accel_power_3','accel_power_4']"
   ]
  },
  {
   "cell_type": "code",
   "execution_count": 4,
   "metadata": {},
   "outputs": [
    {
     "data": {
      "text/html": [
       "<div>\n",
       "<style scoped>\n",
       "    .dataframe tbody tr th:only-of-type {\n",
       "        vertical-align: middle;\n",
       "    }\n",
       "\n",
       "    .dataframe tbody tr th {\n",
       "        vertical-align: top;\n",
       "    }\n",
       "\n",
       "    .dataframe thead th {\n",
       "        text-align: right;\n",
       "    }\n",
       "</style>\n",
       "<table border=\"1\" class=\"dataframe\">\n",
       "  <thead>\n",
       "    <tr style=\"text-align: right;\">\n",
       "      <th></th>\n",
       "      <th>vibrations</th>\n",
       "      <th>rms</th>\n",
       "      <th>accel_speed</th>\n",
       "      <th>accel_power_0</th>\n",
       "      <th>accel_power_1</th>\n",
       "      <th>accel_power_2</th>\n",
       "      <th>accel_power_3</th>\n",
       "      <th>accel_power_4</th>\n",
       "    </tr>\n",
       "  </thead>\n",
       "  <tbody>\n",
       "    <tr>\n",
       "      <th>count</th>\n",
       "      <td>8620.000000</td>\n",
       "      <td>8620.000000</td>\n",
       "      <td>8620.000000</td>\n",
       "      <td>8620.000000</td>\n",
       "      <td>8620.000000</td>\n",
       "      <td>8620.000000</td>\n",
       "      <td>8620.000000</td>\n",
       "      <td>8620.000000</td>\n",
       "    </tr>\n",
       "    <tr>\n",
       "      <th>mean</th>\n",
       "      <td>3.759047</td>\n",
       "      <td>2.170460</td>\n",
       "      <td>2208.854495</td>\n",
       "      <td>2.453523</td>\n",
       "      <td>2.453312</td>\n",
       "      <td>2.452808</td>\n",
       "      <td>2.452053</td>\n",
       "      <td>2.452439</td>\n",
       "    </tr>\n",
       "    <tr>\n",
       "      <th>std</th>\n",
       "      <td>0.033272</td>\n",
       "      <td>0.002922</td>\n",
       "      <td>589.925540</td>\n",
       "      <td>0.856247</td>\n",
       "      <td>0.857594</td>\n",
       "      <td>0.857678</td>\n",
       "      <td>0.857200</td>\n",
       "      <td>0.856340</td>\n",
       "    </tr>\n",
       "    <tr>\n",
       "      <th>min</th>\n",
       "      <td>3.616515</td>\n",
       "      <td>2.155864</td>\n",
       "      <td>0.000000</td>\n",
       "      <td>0.000000</td>\n",
       "      <td>0.000000</td>\n",
       "      <td>0.000000</td>\n",
       "      <td>0.000000</td>\n",
       "      <td>0.000000</td>\n",
       "    </tr>\n",
       "    <tr>\n",
       "      <th>25%</th>\n",
       "      <td>3.737696</td>\n",
       "      <td>2.169444</td>\n",
       "      <td>2316.566425</td>\n",
       "      <td>2.251800</td>\n",
       "      <td>2.251800</td>\n",
       "      <td>2.252000</td>\n",
       "      <td>2.252000</td>\n",
       "      <td>2.251800</td>\n",
       "    </tr>\n",
       "    <tr>\n",
       "      <th>50%</th>\n",
       "      <td>3.757949</td>\n",
       "      <td>2.170800</td>\n",
       "      <td>2318.802493</td>\n",
       "      <td>2.313800</td>\n",
       "      <td>2.313400</td>\n",
       "      <td>2.311800</td>\n",
       "      <td>2.312200</td>\n",
       "      <td>2.312600</td>\n",
       "    </tr>\n",
       "    <tr>\n",
       "      <th>75%</th>\n",
       "      <td>3.780154</td>\n",
       "      <td>2.171949</td>\n",
       "      <td>2379.176328</td>\n",
       "      <td>2.691450</td>\n",
       "      <td>2.692100</td>\n",
       "      <td>2.685100</td>\n",
       "      <td>2.681850</td>\n",
       "      <td>2.682300</td>\n",
       "    </tr>\n",
       "    <tr>\n",
       "      <th>max</th>\n",
       "      <td>3.898555</td>\n",
       "      <td>2.184292</td>\n",
       "      <td>2672.101233</td>\n",
       "      <td>5.325799</td>\n",
       "      <td>5.293200</td>\n",
       "      <td>5.334001</td>\n",
       "      <td>5.278600</td>\n",
       "      <td>5.282000</td>\n",
       "    </tr>\n",
       "  </tbody>\n",
       "</table>\n",
       "</div>"
      ],
      "text/plain": [
       "        vibrations          rms  accel_speed  accel_power_0  accel_power_1  \\\n",
       "count  8620.000000  8620.000000  8620.000000    8620.000000    8620.000000   \n",
       "mean      3.759047     2.170460  2208.854495       2.453523       2.453312   \n",
       "std       0.033272     0.002922   589.925540       0.856247       0.857594   \n",
       "min       3.616515     2.155864     0.000000       0.000000       0.000000   \n",
       "25%       3.737696     2.169444  2316.566425       2.251800       2.251800   \n",
       "50%       3.757949     2.170800  2318.802493       2.313800       2.313400   \n",
       "75%       3.780154     2.171949  2379.176328       2.691450       2.692100   \n",
       "max       3.898555     2.184292  2672.101233       5.325799       5.293200   \n",
       "\n",
       "       accel_power_2  accel_power_3  accel_power_4  \n",
       "count    8620.000000    8620.000000    8620.000000  \n",
       "mean        2.452808       2.452053       2.452439  \n",
       "std         0.857678       0.857200       0.856340  \n",
       "min         0.000000       0.000000       0.000000  \n",
       "25%         2.252000       2.252000       2.251800  \n",
       "50%         2.311800       2.312200       2.312600  \n",
       "75%         2.685100       2.681850       2.682300  \n",
       "max         5.334001       5.278600       5.282000  "
      ]
     },
     "execution_count": 4,
     "metadata": {},
     "output_type": "execute_result"
    }
   ],
   "source": [
    "# Now we proceed to customer data - GOOD CASE\n",
    "\n",
    "# Get stuff in\n",
    "df_input_raw = pd.read_csv('./Armstark04714B6046D5.csv', index_col=False, parse_dates=['RCV_TIMESTAMP_UTC'])\n",
    "df_input_raw['entity']=df_input_raw['DEVICE_ID']\n",
    "df_input_raw['timestamp']=df_input_raw['RCV_TIMESTAMP_UTC']\n",
    "\n",
    "# and sort it by timestamp\n",
    "df_input_raw = df_input_raw.sort_values(by='timestamp')\n",
    "df_input_raw = df_input_raw.set_index(['entity','timestamp']).dropna()\n",
    "\n",
    "l2norm(df_input_raw, 'vibrations', 'VIBRATIONS_XAXIS', 'VIBRATIONS_YAXIS', 'VIBRATIONS_ZAXIS')\n",
    "l2norm(df_input_raw, 'rms', 'RMS_X', 'RMS_Y', 'RMS_Z')\n",
    "l2norm(df_input_raw, 'accel_speed', 'ACCEL_SPEED')\n",
    "unrollAccel(df_input_raw)\n",
    "#l2norm(df_input_raw, 'accel_power', 'ACCEL_POWER')\n",
    "\n",
    "df_input = df_input_raw.filter(listAttr, axis=1)\n",
    "df_input_raw.describe()"
   ]
  },
  {
   "cell_type": "markdown",
   "metadata": {},
   "source": [
    "#### Pandas Profiling\n",
    "\n",
    "Try [Pandas Profiling](https://github.com/pandas-profiling/pandas-profiling) first, since srom's `DataQualityAdvisor` is currently not usable. \n"
   ]
  },
  {
   "cell_type": "code",
   "execution_count": 5,
   "metadata": {
    "scrolled": false
   },
   "outputs": [
    {
     "data": {
      "application/vnd.jupyter.widget-view+json": {
       "model_id": "076899e3015a44b68469e30bc568e197",
       "version_major": 2,
       "version_minor": 0
      },
      "text/plain": [
       "HBox(children=(FloatProgress(value=0.0, description='variables', max=10.0, style=ProgressStyle(description_wid…"
      ]
     },
     "metadata": {},
     "output_type": "display_data"
    },
    {
     "name": "stdout",
     "output_type": "stream",
     "text": [
      "\n"
     ]
    },
    {
     "data": {
      "application/vnd.jupyter.widget-view+json": {
       "model_id": "8cb95273bfc342f98e579a9847a2450a",
       "version_major": 2,
       "version_minor": 0
      },
      "text/plain": [
       "HBox(children=(FloatProgress(value=0.0, description='correlations', max=6.0, style=ProgressStyle(description_w…"
      ]
     },
     "metadata": {},
     "output_type": "display_data"
    },
    {
     "name": "stdout",
     "output_type": "stream",
     "text": [
      "\n"
     ]
    },
    {
     "data": {
      "application/vnd.jupyter.widget-view+json": {
       "model_id": "f180598663ac4d79bb565cfdb4a77138",
       "version_major": 2,
       "version_minor": 0
      },
      "text/plain": [
       "HBox(children=(FloatProgress(value=0.0, description='interactions [continuous]', max=64.0, style=ProgressStyle…"
      ]
     },
     "metadata": {},
     "output_type": "display_data"
    },
    {
     "name": "stdout",
     "output_type": "stream",
     "text": [
      "\n"
     ]
    },
    {
     "data": {
      "application/vnd.jupyter.widget-view+json": {
       "model_id": "79558e05ad2f42db886273a411f558db",
       "version_major": 2,
       "version_minor": 0
      },
      "text/plain": [
       "HBox(children=(FloatProgress(value=0.0, description='table', max=1.0, style=ProgressStyle(description_width='i…"
      ]
     },
     "metadata": {},
     "output_type": "display_data"
    },
    {
     "name": "stdout",
     "output_type": "stream",
     "text": [
      "\n"
     ]
    },
    {
     "data": {
      "application/vnd.jupyter.widget-view+json": {
       "model_id": "7004032fa57b44e48fd24ff89313e843",
       "version_major": 2,
       "version_minor": 0
      },
      "text/plain": [
       "HBox(children=(FloatProgress(value=0.0, description='missing', max=2.0, style=ProgressStyle(description_width=…"
      ]
     },
     "metadata": {},
     "output_type": "display_data"
    },
    {
     "name": "stdout",
     "output_type": "stream",
     "text": [
      "\n"
     ]
    },
    {
     "data": {
      "application/vnd.jupyter.widget-view+json": {
       "model_id": "bd1430115bec4618a1674b0242a31138",
       "version_major": 2,
       "version_minor": 0
      },
      "text/plain": [
       "HBox(children=(FloatProgress(value=0.0, description='warnings', max=3.0, style=ProgressStyle(description_width…"
      ]
     },
     "metadata": {},
     "output_type": "display_data"
    },
    {
     "name": "stdout",
     "output_type": "stream",
     "text": [
      "\n"
     ]
    },
    {
     "data": {
      "application/vnd.jupyter.widget-view+json": {
       "model_id": "2a8e37163d894c36a11f46c40383c271",
       "version_major": 2,
       "version_minor": 0
      },
      "text/plain": [
       "HBox(children=(FloatProgress(value=0.0, description='package', max=1.0, style=ProgressStyle(description_width=…"
      ]
     },
     "metadata": {},
     "output_type": "display_data"
    },
    {
     "name": "stdout",
     "output_type": "stream",
     "text": [
      "\n"
     ]
    },
    {
     "data": {
      "application/vnd.jupyter.widget-view+json": {
       "model_id": "c9967705dea14e458985739e5fc504bc",
       "version_major": 2,
       "version_minor": 0
      },
      "text/plain": [
       "HBox(children=(FloatProgress(value=0.0, description='build report structure', max=1.0, style=ProgressStyle(des…"
      ]
     },
     "metadata": {},
     "output_type": "display_data"
    },
    {
     "name": "stdout",
     "output_type": "stream",
     "text": [
      "\n"
     ]
    },
    {
     "data": {
      "application/vnd.jupyter.widget-view+json": {
       "model_id": "3117b29f4f6646a79c51e9e7763c904c",
       "version_major": 2,
       "version_minor": 0
      },
      "text/plain": [
       "Tab(children=(Tab(children=(GridBox(children=(VBox(children=(GridspecLayout(children=(HTML(value='Number of va…"
      ]
     },
     "metadata": {},
     "output_type": "display_data"
    },
    {
     "data": {
      "text/html": [
       "Report generated with <a href=\"https://github.com/pandas-profiling/pandas-profiling\">pandas-profiling</a>."
      ],
      "text/plain": [
       "<IPython.core.display.HTML object>"
      ]
     },
     "metadata": {},
     "output_type": "display_data"
    }
   ],
   "source": [
    "from pandas_profiling import ProfileReport\n",
    "profile = ProfileReport(df_input, title='Pandas Profiling Report', html={'style':{'full_width':True}})\n",
    "profile.to_widgets()"
   ]
  },
  {
   "cell_type": "markdown",
   "metadata": {},
   "source": [
    "#### DataQualityAdvisor\n",
    "\n",
    "Import after pip-installing it from [IBM enterprise github](https://github.ibm.com/srom/DataQualityAdvisor/)\n",
    "\n"
   ]
  },
  {
   "cell_type": "code",
   "execution_count": 6,
   "metadata": {},
   "outputs": [],
   "source": [
    "from dqlearn.ui.interactive.data_loader import data_loader_configuration_ui, data_loader_configuration, load_data\n",
    "from dqlearn.ui.interactive.data_loader import load_data\n",
    "from dqlearn.ui.interactive.display_data import display_data_ui\n",
    "from dqlearn.ui.interactive.metadata_gen import column_metadata_dict, user_metadata_input_ui\n",
    "from dqlearn.ui.interactive.data_insight import valid_list_ui\n",
    "from dqlearn.dask.base_functions import value_properness_checks\n",
    "from dqlearn.dask.base_functions import duplicate_value_checks\n",
    "from dqlearn.dask.base_functions import uniqueness_checks\n",
    "from dqlearn.tabular.transactional import check_low_variance_variables\n",
    "from dqlearn.dask.base_functions import distribution_analyzer\n",
    "from dqlearn.ai.ensemble_anomaly import anomaly_detection_isolation_forest\n",
    "from dqlearn.ui.interactive.data_insight import valid_output_and_plot_ui\n",
    "from dqlearn.ai.modelling_fit import check_data_modelling_fit\n",
    "from dqlearn.ui.interactive.data_insight import valid_output_only_ui\n",
    "from dqlearn.tabular.correlation import correlation_information\n",
    "# from autodive.autoimpute import check_data_imputation"
   ]
  },
  {
   "cell_type": "code",
   "execution_count": 16,
   "metadata": {},
   "outputs": [
    {
     "data": {
      "application/vnd.jupyter.widget-view+json": {
       "model_id": "5c8596d3ea824e75b4a194d0399bce01",
       "version_major": 2,
       "version_minor": 0
      },
      "text/plain": [
       "Tab(children=(HBox(children=(VBox(children=(HBox(children=(FloatRangeSlider(value=(3.6165146163122306, 3.89855…"
      ]
     },
     "metadata": {},
     "output_type": "display_data"
    },
    {
     "data": {
      "application/vnd.jupyter.widget-view+json": {
       "model_id": "bdd7eed9edf749d290e7816e1d3d2494",
       "version_major": 2,
       "version_minor": 0
      },
      "text/plain": [
       "Output(layout=Layout(border='solid', height='350px', overflow_x='scroll', overflow_y='scroll', width='auto'))"
      ]
     },
     "metadata": {},
     "output_type": "display_data"
    }
   ],
   "source": [
    "display_data_ui(df_input)"
   ]
  },
  {
   "cell_type": "code",
   "execution_count": 7,
   "metadata": {},
   "outputs": [
    {
     "data": {
      "application/vnd.jupyter.widget-view+json": {
       "model_id": "8d54e4f48dfa4c939d4a6da50bc458c1",
       "version_major": 2,
       "version_minor": 0
      },
      "text/plain": [
       "VBox(children=(HBox(children=(Button(button_style='success', description='vibrations', layout=Layout(height='a…"
      ]
     },
     "metadata": {},
     "output_type": "display_data"
    },
    {
     "data": {
      "application/vnd.jupyter.widget-view+json": {
       "model_id": "e1148548920b497c9dc119739923f745",
       "version_major": 2,
       "version_minor": 0
      },
      "text/plain": [
       "HBox(children=(VBox(children=(HTML(value=\"<h3><font color='blue'>'accel_power_2'</h3>\"), HTML(value='<b>Column…"
      ]
     },
     "metadata": {},
     "output_type": "display_data"
    }
   ],
   "source": [
    "user_metadata_input_ui(df_input)\n",
    "column_metadata_dict\n"
   ]
  },
  {
   "cell_type": "code",
   "execution_count": 21,
   "metadata": {},
   "outputs": [
    {
     "data": {
      "text/plain": [
       "{'vibrations': ['float64', 'data', 'numeric'],\n",
       " 'rms': ['float64'],\n",
       " 'accel_speed': ['float64'],\n",
       " 'accel_power_0': ['float64'],\n",
       " 'accel_power_1': ['float64'],\n",
       " 'accel_power_3': ['float64'],\n",
       " 'accel_power_4': ['float64'],\n",
       " 'accel_power_2': ['float64']}"
      ]
     },
     "execution_count": 21,
     "metadata": {},
     "output_type": "execute_result"
    }
   ],
   "source": [
    "for i in column_metadata_dict:\n",
    "    i = ['float64', 'data', 'numeric']\n",
    "column_metadata_dict"
   ]
  },
  {
   "cell_type": "markdown",
   "metadata": {},
   "source": [
    "**Unfortunately the package is currently not in a usable state**\n",
    "\n",
    "Last slack exchange:\n",
    "```\n",
    "@markus_mueller due to some changes in Ipywidgets and plotly version, this issue comes up. I'm looking into it and will let you know```\n",
    "\n",
    "<br>"
   ]
  },
  {
   "cell_type": "code",
   "execution_count": 24,
   "metadata": {},
   "outputs": [
    {
     "data": {
      "application/vnd.jupyter.widget-view+json": {
       "model_id": "109db5bd50cd457e9d9a1a91fe3df691",
       "version_major": 2,
       "version_minor": 0
      },
      "text/plain": [
       "Tab(children=(VBox(children=(HTML(value='<h1>Summary Report</h1>'), HBox(children=(HTML(value='<b>Check Passed…"
      ]
     },
     "metadata": {},
     "output_type": "display_data"
    }
   ],
   "source": [
    "value_properness_analysis_result = value_properness_checks(df_input, column_metadata_dict)\n",
    "valid_list_ui(value_properness_analysis_result)"
   ]
  },
  {
   "cell_type": "code",
   "execution_count": 25,
   "metadata": {},
   "outputs": [
    {
     "data": {
      "application/vnd.jupyter.widget-view+json": {
       "model_id": "7693361828c942d2bb1b2bf7b5c72a67",
       "version_major": 2,
       "version_minor": 0
      },
      "text/plain": [
       "VBox(children=(HTML(value='<h1>Low Variance Check</h1>'), HBox(children=(VBox(children=(HBox(children=(HTML(va…"
      ]
     },
     "metadata": {},
     "output_type": "display_data"
    }
   ],
   "source": [
    "validation_check_low_variance_variables = check_low_variance_variables(df_input)\n",
    "valid_output_and_plot_ui(validation_check_low_variance_variables)[0]\n"
   ]
  },
  {
   "cell_type": "code",
   "execution_count": 26,
   "metadata": {},
   "outputs": [
    {
     "data": {
      "application/vnd.jupyter.widget-view+json": {
       "model_id": "d0a36f2cef374a3a814e7096ad887aa6",
       "version_major": 2,
       "version_minor": 0
      },
      "text/plain": [
       "Tab(children=(VBox(children=(HTML(value='<h1>Summary Report</h1>'), HBox(children=(HTML(value='<b>Check Passed…"
      ]
     },
     "metadata": {},
     "output_type": "display_data"
    }
   ],
   "source": [
    "distribution_result = distribution_analyzer(df_input, column_metadata_dict)\n",
    "valid_list_ui(distribution_result)"
   ]
  },
  {
   "cell_type": "code",
   "execution_count": 22,
   "metadata": {},
   "outputs": [
    {
     "data": {
      "application/vnd.jupyter.widget-view+json": {
       "model_id": "5cde2763ecf94ec0ba9ef2cd9f99c824",
       "version_major": 2,
       "version_minor": 0
      },
      "text/plain": [
       "VBox(children=(HTML(value='<h1>Correlation Information</h1>'), HBox(children=(VBox(children=(HBox(children=(HT…"
      ]
     },
     "metadata": {},
     "output_type": "display_data"
    }
   ],
   "source": [
    "valid_correlation = correlation_information(df_input, column_metadata_dict)\n",
    "valid_output_and_plot_ui(valid_correlation)[0]"
   ]
  },
  {
   "cell_type": "code",
   "execution_count": 9,
   "metadata": {},
   "outputs": [
    {
     "data": {
      "application/vnd.jupyter.widget-view+json": {
       "model_id": "a5fe4a080c924bc1af2ccf73192a2ed5",
       "version_major": 2,
       "version_minor": 0
      },
      "text/plain": [
       "Tab(children=(VBox(children=(HTML(value='<h1>Summary Report</h1>'), HBox(children=(HTML(value='<b>Check Passed…"
      ]
     },
     "metadata": {},
     "output_type": "display_data"
    }
   ],
   "source": [
    "distribution_result = distribution_analyzer(df_input, column_metadata_dict)\n",
    "valid_list_ui(distribution_result)"
   ]
  },
  {
   "cell_type": "code",
   "execution_count": 8,
   "metadata": {
    "scrolled": false
   },
   "outputs": [
    {
     "name": "stdout",
     "output_type": "stream",
     "text": [
      "2020-02-24T19:14:15.527 DEBUG iotfunctions.enginelog.configure_console_logging Console logging has been configured. Level = 10\n"
     ]
    },
    {
     "ename": "NameError",
     "evalue": "name 'blrub' is not defined",
     "output_type": "error",
     "traceback": [
      "\u001b[0;31m---------------------------------------------------------------------------\u001b[0m",
      "\u001b[0;31mNameError\u001b[0m                                 Traceback (most recent call last)",
      "\u001b[0;32m<ipython-input-8-5aedcfa072ff>\u001b[0m in \u001b[0;36m<module>\u001b[0;34m\u001b[0m\n\u001b[1;32m      1\u001b[0m \u001b[0;31m# now run anomaly\u001b[0m\u001b[0;34m\u001b[0m\u001b[0;34m\u001b[0m\u001b[0;34m\u001b[0m\u001b[0m\n\u001b[1;32m      2\u001b[0m \u001b[0mEngineLogging\u001b[0m\u001b[0;34m.\u001b[0m\u001b[0mconfigure_console_logging\u001b[0m\u001b[0;34m(\u001b[0m\u001b[0mlogging\u001b[0m\u001b[0;34m.\u001b[0m\u001b[0mDEBUG\u001b[0m\u001b[0;34m)\u001b[0m\u001b[0;34m\u001b[0m\u001b[0;34m\u001b[0m\u001b[0m\n\u001b[0;32m----> 3\u001b[0;31m \u001b[0mblrub\u001b[0m\u001b[0;34m\u001b[0m\u001b[0;34m\u001b[0m\u001b[0m\n\u001b[0m\u001b[1;32m      4\u001b[0m \u001b[0mextanomii\u001b[0m \u001b[0;34m=\u001b[0m \u001b[0mExtremeAnomalyGenerator\u001b[0m\u001b[0;34m(\u001b[0m\u001b[0minput_item\u001b[0m\u001b[0;34m=\u001b[0m\u001b[0;34m'vibrations'\u001b[0m\u001b[0;34m,\u001b[0m  \u001b[0moutput_item\u001b[0m\u001b[0;34m=\u001b[0m\u001b[0;34m'vibrations_anom'\u001b[0m\u001b[0;34m,\u001b[0m \u001b[0mfactor\u001b[0m\u001b[0;34m=\u001b[0m\u001b[0;36m3\u001b[0m\u001b[0;34m,\u001b[0m \u001b[0msize\u001b[0m\u001b[0;34m=\u001b[0m\u001b[0;36m8\u001b[0m\u001b[0;34m)\u001b[0m\u001b[0;34m\u001b[0m\u001b[0;34m\u001b[0m\u001b[0m\n\u001b[1;32m      5\u001b[0m jobsettings = { 'db': db, \n",
      "\u001b[0;31mNameError\u001b[0m: name 'blrub' is not defined"
     ]
    }
   ],
   "source": [
    "# now run anomaly \n",
    "EngineLogging.configure_console_logging(logging.DEBUG)\n",
    "blrub\n",
    "extanomii = ExtremeAnomalyGenerator(input_item='vibrations',  output_item='vibrations_anom', factor=3, size=8)\n",
    "jobsettings = { 'db': db, \n",
    "               '_db_schema': 'public', 'save_trace_to_file' : True}\n",
    "et = extanomii._build_entity_type(columns = [Column('vibrations_anom',Float())], **jobsettings)\n",
    "extanomii._entity_type = et\n",
    "\n",
    "df_input = extanomii.execute(df=df_input)"
   ]
  },
  {
   "cell_type": "code",
   "execution_count": 1,
   "metadata": {},
   "outputs": [
    {
     "ename": "NameError",
     "evalue": "name 'df_input' is not defined",
     "output_type": "error",
     "traceback": [
      "\u001b[0;31m---------------------------------------------------------------------------\u001b[0m",
      "\u001b[0;31mNameError\u001b[0m                                 Traceback (most recent call last)",
      "\u001b[0;32m<ipython-input-1-858549b7b6c7>\u001b[0m in \u001b[0;36m<module>\u001b[0;34m\u001b[0m\n\u001b[0;32m----> 1\u001b[0;31m \u001b[0mdf_input2\u001b[0m \u001b[0;34m=\u001b[0m \u001b[0mdf_input\u001b[0m\u001b[0;34m.\u001b[0m\u001b[0mloc\u001b[0m\u001b[0;34m[\u001b[0m\u001b[0;34m[\u001b[0m\u001b[0;34m'04714B6046D5'\u001b[0m\u001b[0;34m]\u001b[0m\u001b[0;34m]\u001b[0m\u001b[0;34m\u001b[0m\u001b[0;34m\u001b[0m\u001b[0m\n\u001b[0m\u001b[1;32m      2\u001b[0m \u001b[0mdf_input2\u001b[0m\u001b[0;34m.\u001b[0m\u001b[0mreset_index\u001b[0m\u001b[0;34m(\u001b[0m\u001b[0mlevel\u001b[0m\u001b[0;34m=\u001b[0m\u001b[0;34m[\u001b[0m\u001b[0;36m0\u001b[0m\u001b[0;34m]\u001b[0m\u001b[0;34m,\u001b[0m \u001b[0minplace\u001b[0m\u001b[0;34m=\u001b[0m\u001b[0;32mTrue\u001b[0m\u001b[0;34m)\u001b[0m\u001b[0;34m\u001b[0m\u001b[0;34m\u001b[0m\u001b[0m\n\u001b[1;32m      3\u001b[0m \u001b[0mTemperature\u001b[0m\u001b[0;34m=\u001b[0m\u001b[0;34m'vibrations'\u001b[0m\u001b[0;34m\u001b[0m\u001b[0;34m\u001b[0m\u001b[0m\n\u001b[1;32m      4\u001b[0m \u001b[0mTempAnom\u001b[0m\u001b[0;34m=\u001b[0m\u001b[0;34m'vibrations_anom'\u001b[0m\u001b[0;34m\u001b[0m\u001b[0;34m\u001b[0m\u001b[0m\n",
      "\u001b[0;31mNameError\u001b[0m: name 'df_input' is not defined"
     ]
    }
   ],
   "source": [
    "df_input2 = df_input.loc[['04714B6046D5']]\n",
    "df_input2.reset_index(level=[0], inplace=True)\n",
    "Temperature='vibrations'\n",
    "TempAnom='vibrations_anom'"
   ]
  },
  {
   "cell_type": "code",
   "execution_count": 2,
   "metadata": {
    "scrolled": false
   },
   "outputs": [
    {
     "ename": "NameError",
     "evalue": "name 'df_input2' is not defined",
     "output_type": "error",
     "traceback": [
      "\u001b[0;31m---------------------------------------------------------------------------\u001b[0m",
      "\u001b[0;31mNameError\u001b[0m                                 Traceback (most recent call last)",
      "\u001b[0;32m<ipython-input-2-fe3209911b88>\u001b[0m in \u001b[0;36m<module>\u001b[0;34m\u001b[0m\n\u001b[1;32m      2\u001b[0m \u001b[0;34m\u001b[0m\u001b[0m\n\u001b[1;32m      3\u001b[0m \u001b[0mplots\u001b[0m \u001b[0;34m=\u001b[0m \u001b[0;36m2\u001b[0m\u001b[0;34m\u001b[0m\u001b[0;34m\u001b[0m\u001b[0m\n\u001b[0;32m----> 4\u001b[0;31m \u001b[0mdf_sub1\u001b[0m \u001b[0;34m=\u001b[0m \u001b[0mdf_input2\u001b[0m\u001b[0;34m[\u001b[0m\u001b[0;34m'2020-01-05 00'\u001b[0m\u001b[0;34m:\u001b[0m\u001b[0;34m'2020-01-05 02'\u001b[0m\u001b[0;34m]\u001b[0m\u001b[0;34m\u001b[0m\u001b[0;34m\u001b[0m\u001b[0m\n\u001b[0m\u001b[1;32m      5\u001b[0m \u001b[0mdf_sub2\u001b[0m \u001b[0;34m=\u001b[0m \u001b[0mdf_input2\u001b[0m\u001b[0;34m[\u001b[0m\u001b[0;34m'2020-01-05 02'\u001b[0m\u001b[0;34m:\u001b[0m\u001b[0;34m'2020-01-05 04'\u001b[0m\u001b[0;34m]\u001b[0m\u001b[0;34m\u001b[0m\u001b[0;34m\u001b[0m\u001b[0m\n\u001b[1;32m      6\u001b[0m \u001b[0;34m\u001b[0m\u001b[0m\n",
      "\u001b[0;31mNameError\u001b[0m: name 'df_input2' is not defined"
     ]
    }
   ],
   "source": [
    "# Side plot - digging a bit deeper to look for seasonalities\n",
    "\n",
    "plots = 2\n",
    "df_sub1 = df_input2['2020-01-05 00':'2020-01-05 02']\n",
    "df_sub2 = df_input2['2020-01-05 02':'2020-01-05 04']\n",
    "\n",
    "\n",
    "fig, ax = plt.subplots(plots, 1, figsize=(20,10))\n",
    "cnt = 0\n",
    "ax[cnt].plot(df_sub1.index, df_sub1[Temperature],lw=2,color='blue',label=Temperature)\n",
    "ax[cnt].plot(df_sub1.index, df_sub2[TempAnom],lw=2,color='red',label=TempAnom)\n",
    "ax[cnt].legend(bbox_to_anchor=(1.1, 1.05))\n",
    "ax[cnt].set_ylabel('Input data - 2 hours', fontsize=14)\n",
    "cnt = 1\n",
    "ax[cnt].plot(df_sub2.index, df_sub1[Temperature],lw=2,color='blue',label=Temperature)\n",
    "ax[cnt].plot(df_sub2.index, df_sub2[TempAnom],lw=2,color='red',label=TempAnom)\n",
    "ax[cnt].legend(bbox_to_anchor=(1.1, 1.05))\n",
    "ax[cnt].set_ylabel('Input data - next 2 hours', fontsize=14)"
   ]
  },
  {
   "cell_type": "code",
   "execution_count": null,
   "metadata": {},
   "outputs": [],
   "source": []
  },
  {
   "cell_type": "code",
   "execution_count": null,
   "metadata": {},
   "outputs": [],
   "source": []
  }
 ],
 "metadata": {
  "kernelspec": {
   "display_name": "Python 3",
   "language": "python",
   "name": "python3"
  },
  "language_info": {
   "codemirror_mode": {
    "name": "ipython",
    "version": 3
   },
   "file_extension": ".py",
   "mimetype": "text/x-python",
   "name": "python",
   "nbconvert_exporter": "python",
   "pygments_lexer": "ipython3",
   "version": "3.7.5"
  }
 },
 "nbformat": 4,
 "nbformat_minor": 2
}
