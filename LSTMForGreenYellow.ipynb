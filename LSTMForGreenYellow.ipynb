{
 "cells": [
  {
   "cell_type": "code",
   "execution_count": 1,
   "metadata": {},
   "outputs": [
    {
     "name": "stderr",
     "output_type": "stream",
     "text": [
      "Warning: confluent_kafka is not installed. Publish to MessageHub not supported.\n"
     ]
    }
   ],
   "source": [
    "# Real life data\n",
    "\n",
    "import logging\n",
    "import threading\n",
    "import itertools\n",
    "import json\n",
    "import os\n",
    "import pandas as pd  \n",
    "import numpy as np  \n",
    "import matplotlib.pyplot as plt\n",
    "from matplotlib import cm\n",
    "from mpl_toolkits.mplot3d import axes3d\n",
    "import seaborn as seabornInstance\n",
    "from sqlalchemy import Column, Integer, String, Float, DateTime, Boolean, func\n",
    "\n",
    "from iotfunctions import base\n",
    "from iotfunctions import bif\n",
    "from iotfunctions import entity\n",
    "from iotfunctions import metadata\n",
    "from iotfunctions.metadata import EntityType\n",
    "from iotfunctions.db import Database\n",
    "from iotfunctions.enginelog import EngineLogging\n",
    "from iotfunctions import estimator\n",
    "from iotfunctions.ui import (UISingle, UIMultiItem, UIFunctionOutSingle,\n",
    "                 UISingleItem, UIFunctionOutMulti, UIMulti, UIExpression,\n",
    "                 UIText, UIStatusFlag, UIParameters)\n",
    "from mmfunctions.anomaly import (SaliencybasedGeneralizedAnomalyScore, SpectralAnomalyScore,\n",
    "                 FFTbasedGeneralizedAnomalyScore, KMeansAnomalyScore)\n",
    "import datetime as dt\n",
    "from sklearn.model_selection import train_test_split \n",
    "from sklearn.preprocessing import StandardScaler\n",
    "from sklearn.linear_model import LinearRegression\n",
    "from sklearn import metrics\n",
    "from sklearn.metrics import roc_curve, auc, roc_auc_score, r2_score\n",
    "\n",
    "import scipy as sp\n",
    "import scipy.fftpack\n",
    "import skimage as ski\n",
    "\n",
    "from skimage import util as skiutil # for nifty windowing\n",
    "import pyod as pyod\n",
    "from pyod.utils.data import generate_data\n",
    "from pyod.utils.data import evaluate_print\n",
    "from pyod.utils.example import visualize\n",
    "from pyod.models.knn import KNN\n",
    "from pyod.models.iforest import IForest\n",
    "%matplotlib inline\n",
    "from pandas.plotting import register_matplotlib_converters\n",
    "register_matplotlib_converters()\n",
    "\n",
    "EngineLogging.configure_console_logging(logging.INFO)"
   ]
  },
  {
   "cell_type": "markdown",
   "metadata": {},
   "source": [
    "#### Train a 2-layered LSTM in Watson Machine Learning\n",
    "\n",
    " \n",
    "Telemanom ([Detecting Spacecraft Anomalies Using LSTMs and Nonparametric Dynamic Thresholding](https://arxiv.org/pdf/1802.04431.pdf) - 2018\n",
    "\n",
    "\n",
    "Let's find out first what ML libraries are supported by WML.\n"
   ]
  },
  {
   "cell_type": "markdown",
   "metadata": {},
   "source": [
    "### Basic Definitions\n",
    "\n",
    "Forecast 24 data points from a sequence length of 200"
   ]
  },
  {
   "cell_type": "code",
   "execution_count": 7,
   "metadata": {},
   "outputs": [],
   "source": [
    "\n",
    "n_predictions = 24\n",
    "n_sequence_length = 200"
   ]
  },
  {
   "cell_type": "markdown",
   "metadata": {},
   "source": [
    "### Load data"
   ]
  },
  {
   "cell_type": "code",
   "execution_count": 36,
   "metadata": {},
   "outputs": [],
   "source": [
    "# load data\n",
    "df_input = pd.read_csv('BP_DATA/IoTData.csv', parse_dates=['DATETIME'], comment='#')\n",
    "df_input.rename(columns={'DATETIME': 'timestamp'}, inplace=True)\n",
    "#df_input = df_input.asfreq('H')\n",
    "df_input.set_index('timestamp', inplace=True)"
   ]
  },
  {
   "cell_type": "markdown",
   "metadata": {},
   "source": [
    "### Build features"
   ]
  },
  {
   "cell_type": "code",
   "execution_count": 59,
   "metadata": {
    "scrolled": false
   },
   "outputs": [],
   "source": [
    "# build features\n",
    "\n",
    "def addDailyTimeFeatures(df):\n",
    "    df['hour'] = df.index.hour / 10\n",
    "    #df['day'] = df.index.dayofyear\n",
    "    #df['week'] = df.index.weekofyear\n",
    "    return df\n",
    "\n",
    "def addConsumptionLagDay(df):\n",
    "    dfkw = df[['KW']]\n",
    "    dfkw2 = df.merge(dfkw.assign(date = df.index+pd.Timedelta(days=1)), left_on=['timestamp'],\n",
    "                       right_on=['date'], how='left', suffixes=['','_1dayago']).\\\n",
    "                 dropna().rename(columns={'date':'timestamp'}).set_index('timestamp')\n",
    "    return dfkw2\n",
    "\n",
    "def addConsumptionLag2Days(df):\n",
    "    dfkw = df[['KW']]\n",
    "    dfkw2 = df.merge(dfkw.assign(date = df.index+pd.Timedelta(days=2)), left_on=['timestamp'],\n",
    "                       right_on=['date'], how='left', suffixes=['','_2daysago']).\\\n",
    "                 dropna().rename(columns={'date':'timestamp'}).set_index('timestamp')\n",
    "    return dfkw2\n",
    "\n",
    "def addConsumptionLagHour(df):\n",
    "    dfkw = df[['KW']]\n",
    "    dfkw2 = df.merge(dfkw.assign(date = df.index+pd.Timedelta(hours=1)), left_on=['timestamp'],\n",
    "                       right_on=['date'], how='left', suffixes=['','_1hourago']).\\\n",
    "                 dropna().rename(columns={'date':'timestamp'}).set_index('timestamp')\n",
    "    return dfkw2\n",
    "\n",
    "def addConsumptionLag2Hours(df):\n",
    "    dfkw = df[['KW']]\n",
    "    dfkw2 = df.merge(dfkw.assign(date = df.index+pd.Timedelta(hours=2)), left_on=['timestamp'],\n",
    "                       right_on=['date'], how='left', suffixes=['','_2hoursago']).\\\n",
    "                 dropna().rename(columns={'date':'timestamp'}).set_index('timestamp')\n",
    "    return dfkw2\n",
    "\n",
    "def fixBlueMonday(df):\n",
    "    df_blue_monday = df[(df.index.weekday != 0) | (df.index.hour != 9)].\\\n",
    "                        resample('1H').interpolate()\n",
    "    return df_blue_monday\n",
    "\n",
    "\n",
    "#featureList = ['KW','TEMP_AIR','UMIDADE_REL']\n",
    "featureList = ['KW','TEMP_AIR']\n",
    "stdscal = StandardScaler()\n",
    "np_input2 = stdscal.fit_transform(df_input[featureList])\n",
    "\n",
    "df_input2 = pd.DataFrame(np_input2, columns=featureList, index=df_input.index)\n",
    "\n",
    "df_input2 = fixBlueMonday(df_input2)\n",
    "df_input2 = addConsumptionLagDay(df_input2)\n",
    "df_input2 = addConsumptionLag2Days(df_input2)\n",
    "df_input2 = addConsumptionLagHour(df_input2)\n",
    "df_input2 = addConsumptionLag2Hours(df_input2)\n",
    "\n",
    "\n",
    "df_input2 = addDailyTimeFeatures(df_input2)\n"
   ]
  },
  {
   "cell_type": "code",
   "execution_count": 60,
   "metadata": {},
   "outputs": [
    {
     "data": {
      "text/html": [
       "<div>\n",
       "<style scoped>\n",
       "    .dataframe tbody tr th:only-of-type {\n",
       "        vertical-align: middle;\n",
       "    }\n",
       "\n",
       "    .dataframe tbody tr th {\n",
       "        vertical-align: top;\n",
       "    }\n",
       "\n",
       "    .dataframe thead th {\n",
       "        text-align: right;\n",
       "    }\n",
       "</style>\n",
       "<table border=\"1\" class=\"dataframe\">\n",
       "  <thead>\n",
       "    <tr style=\"text-align: right;\">\n",
       "      <th></th>\n",
       "      <th>KW</th>\n",
       "      <th>TEMP_AIR</th>\n",
       "      <th>KW_1dayago</th>\n",
       "      <th>KW_2daysago</th>\n",
       "      <th>KW_1hourago</th>\n",
       "      <th>KW_2hoursago</th>\n",
       "      <th>hour</th>\n",
       "    </tr>\n",
       "    <tr>\n",
       "      <th>timestamp</th>\n",
       "      <th></th>\n",
       "      <th></th>\n",
       "      <th></th>\n",
       "      <th></th>\n",
       "      <th></th>\n",
       "      <th></th>\n",
       "      <th></th>\n",
       "    </tr>\n",
       "  </thead>\n",
       "  <tbody>\n",
       "    <tr>\n",
       "      <th>2019-09-18 03:00:00</th>\n",
       "      <td>0.797056</td>\n",
       "      <td>0.498175</td>\n",
       "      <td>0.742610</td>\n",
       "      <td>0.041041</td>\n",
       "      <td>0.797056</td>\n",
       "      <td>0.807945</td>\n",
       "      <td>0.3</td>\n",
       "    </tr>\n",
       "    <tr>\n",
       "      <th>2019-09-18 04:00:00</th>\n",
       "      <td>0.807945</td>\n",
       "      <td>0.498175</td>\n",
       "      <td>0.633719</td>\n",
       "      <td>-0.189186</td>\n",
       "      <td>0.797056</td>\n",
       "      <td>0.797056</td>\n",
       "      <td>0.4</td>\n",
       "    </tr>\n",
       "    <tr>\n",
       "      <th>2019-09-18 05:00:00</th>\n",
       "      <td>0.709943</td>\n",
       "      <td>0.658531</td>\n",
       "      <td>0.611941</td>\n",
       "      <td>-0.419412</td>\n",
       "      <td>0.807945</td>\n",
       "      <td>0.797056</td>\n",
       "      <td>0.5</td>\n",
       "    </tr>\n",
       "    <tr>\n",
       "      <th>2019-09-18 06:00:00</th>\n",
       "      <td>0.775277</td>\n",
       "      <td>0.681439</td>\n",
       "      <td>0.699054</td>\n",
       "      <td>-0.649639</td>\n",
       "      <td>0.709943</td>\n",
       "      <td>0.807945</td>\n",
       "      <td>0.6</td>\n",
       "    </tr>\n",
       "  </tbody>\n",
       "</table>\n",
       "</div>"
      ],
      "text/plain": [
       "                           KW  TEMP_AIR  KW_1dayago  KW_2daysago  KW_1hourago  \\\n",
       "timestamp                                                                       \n",
       "2019-09-18 03:00:00  0.797056  0.498175    0.742610     0.041041     0.797056   \n",
       "2019-09-18 04:00:00  0.807945  0.498175    0.633719    -0.189186     0.797056   \n",
       "2019-09-18 05:00:00  0.709943  0.658531    0.611941    -0.419412     0.807945   \n",
       "2019-09-18 06:00:00  0.775277  0.681439    0.699054    -0.649639     0.709943   \n",
       "\n",
       "                     KW_2hoursago  hour  \n",
       "timestamp                                \n",
       "2019-09-18 03:00:00      0.807945   0.3  \n",
       "2019-09-18 04:00:00      0.797056   0.4  \n",
       "2019-09-18 05:00:00      0.797056   0.5  \n",
       "2019-09-18 06:00:00      0.807945   0.6  "
      ]
     },
     "execution_count": 60,
     "metadata": {},
     "output_type": "execute_result"
    }
   ],
   "source": [
    "df_input2.head(4)"
   ]
  },
  {
   "cell_type": "markdown",
   "metadata": {},
   "source": [
    "### Build Training and Test data"
   ]
  },
  {
   "cell_type": "code",
   "execution_count": 61,
   "metadata": {},
   "outputs": [],
   "source": [
    "def shape_data(arr, shuffle=False):\n",
    "    data = []\n",
    "    for i in range(len(arr) - n_sequence_length - n_predictions):\n",
    "        data.append(arr[i:i + n_sequence_length + n_predictions])\n",
    "        \n",
    "    data = np.array(data)\n",
    "    # leave that to Keras model.fit\n",
    "    #if shuffle:\n",
    "    #    np.random.shuffle(data)\n",
    "    X = data[:, :-n_predictions, :]\n",
    "    y = data[:, -n_predictions:, 0]      \n",
    "    return X,y\n",
    "\n",
    "\n",
    "X_train,y_train = shape_data(df_input2[0:7000].values, shuffle=True)\n",
    "X_test, y_test = shape_data(df_input2[7000:].values, shuffle=False)"
   ]
  },
  {
   "cell_type": "code",
   "execution_count": 62,
   "metadata": {},
   "outputs": [
    {
     "data": {
      "text/plain": [
       "((6776, 200, 7), (6776, 24), (1146, 200, 7), (1146, 24))"
      ]
     },
     "execution_count": 62,
     "metadata": {},
     "output_type": "execute_result"
    }
   ],
   "source": [
    "(X_train.shape, y_train.shape, X_test.shape, y_test.shape)"
   ]
  },
  {
   "cell_type": "markdown",
   "metadata": {},
   "source": [
    "### Instantiate model"
   ]
  },
  {
   "cell_type": "code",
   "execution_count": 63,
   "metadata": {},
   "outputs": [
    {
     "data": {
      "image/png": "[encoded data removed]",
      "text/plain": [
       "<IPython.core.display.Image object>"
      ]
     },
     "execution_count": 63,
     "metadata": {},
     "output_type": "execute_result"
    }
   ],
   "source": [
    "from keras.models import Sequential, load_model\n",
    "from keras.callbacks import History, EarlyStopping\n",
    "from keras.layers.recurrent import LSTM\n",
    "from keras.layers.core import Dense, Activation, Dropout\n",
    "from keras.metrics import MeanSquaredError,MeanAbsoluteError\n",
    "from keras.utils.vis_utils import plot_model\n",
    "\n",
    "\n",
    "n_features = X_train.shape[2]\n",
    "\n",
    "\n",
    "model_metric = MeanSquaredError()\n",
    "\n",
    "model = Sequential()\n",
    "\n",
    "model.add(LSTM(40, \n",
    "               input_shape=(None, n_features),\n",
    "               return_sequences=True))\n",
    "#model.add(Dropout(0.1))\n",
    "model.add(LSTM(40, \n",
    "               dropout=0.1,\n",
    "               return_sequences=False))\n",
    "#model.add(Dropout(0.1))\n",
    "model.add(Dense(n_predictions))\n",
    "model.add(Activation('linear'))\n",
    "\n",
    "model.compile(loss='mse', optimizer='adam', metrics=[model_metric])\n",
    "\n",
    "\n",
    "plot_model(model.model, show_shapes=True, show_layer_names=True)"
   ]
  },
  {
   "cell_type": "code",
   "execution_count": 64,
   "metadata": {},
   "outputs": [
    {
     "name": "stdout",
     "output_type": "stream",
     "text": [
      "Train on 5420 samples, validate on 1356 samples\n",
      "Epoch 1/17\n",
      "5420/5420 [==============================] - 13s 2ms/step - loss: 0.7038 - mean_squared_error: 0.7038 - val_loss: 0.5482 - val_mean_squared_error: 0.5482\n",
      "Epoch 2/17\n",
      "5420/5420 [==============================] - 13s 2ms/step - loss: 0.4164 - mean_squared_error: 0.4164 - val_loss: 0.5656 - val_mean_squared_error: 0.5656\n",
      "Epoch 3/17\n",
      "5420/5420 [==============================] - 13s 2ms/step - loss: 0.3716 - mean_squared_error: 0.3716 - val_loss: 0.4428 - val_mean_squared_error: 0.4428\n",
      "Epoch 4/17\n",
      "5420/5420 [==============================] - 14s 3ms/step - loss: 0.3380 - mean_squared_error: 0.3380 - val_loss: 0.5120 - val_mean_squared_error: 0.5120\n",
      "Epoch 5/17\n",
      "5420/5420 [==============================] - 15s 3ms/step - loss: 0.3122 - mean_squared_error: 0.3122 - val_loss: 0.2942 - val_mean_squared_error: 0.2942\n",
      "Epoch 6/17\n",
      "5420/5420 [==============================] - 18s 3ms/step - loss: 0.2841 - mean_squared_error: 0.2841 - val_loss: 0.3367 - val_mean_squared_error: 0.3367\n",
      "Epoch 7/17\n",
      "5420/5420 [==============================] - 31s 6ms/step - loss: 0.2565 - mean_squared_error: 0.2565 - val_loss: 0.4749 - val_mean_squared_error: 0.4749\n",
      "Epoch 8/17\n",
      "5420/5420 [==============================] - 37s 7ms/step - loss: 0.2353 - mean_squared_error: 0.2353 - val_loss: 0.4692 - val_mean_squared_error: 0.4692\n",
      "Epoch 00008: early stopping\n"
     ]
    }
   ],
   "source": [
    "cbs = [History(), EarlyStopping(monitor='val_loss', patience=3, min_delta=0.003, verbose=1)]\n",
    "history = model.fit(X_train, y_train, batch_size=64, epochs=17, validation_split=0.2, \n",
    "                    shuffle=True, callbacks=cbs, verbose=True)\n"
   ]
  },
  {
   "cell_type": "code",
   "execution_count": 65,
   "metadata": {},
   "outputs": [
    {
     "data": {
      "image/png": "[encoded data removed]",
      "text/plain": [
       "<Figure size 432x288 with 1 Axes>"
      ]
     },
     "metadata": {
      "needs_background": "light"
     },
     "output_type": "display_data"
    }
   ],
   "source": [
    "# Plot history: MAE\n",
    "plt.plot(history.history['loss'], label='MAE (training data)')\n",
    "plt.plot(history.history['val_loss'], label='MAE (validation data)')\n",
    "plt.title('MAE for forecaster')\n",
    "plt.ylabel('MAE value')\n",
    "plt.xlabel('No. epoch')\n",
    "plt.legend(loc=\"upper left\")\n",
    "plt.show()"
   ]
  },
  {
   "cell_type": "code",
   "execution_count": 66,
   "metadata": {},
   "outputs": [
    {
     "name": "stdout",
     "output_type": "stream",
     "text": [
      "1146/1146 [==============================] - 1s 599us/step\n"
     ]
    },
    {
     "data": {
      "text/plain": [
       "[0.5114796920492595, 0.5114796757698059]"
      ]
     },
     "execution_count": 66,
     "metadata": {},
     "output_type": "execute_result"
    }
   ],
   "source": [
    "model.evaluate(X_test, y_test)"
   ]
  },
  {
   "cell_type": "code",
   "execution_count": 67,
   "metadata": {},
   "outputs": [
    {
     "data": {
      "text/plain": [
       "(6776, 200, 7)"
      ]
     },
     "execution_count": 67,
     "metadata": {},
     "output_type": "execute_result"
    }
   ],
   "source": [
    "#model.evaluate(X_train, y_train)\n",
    "X_train.shape"
   ]
  },
  {
   "cell_type": "code",
   "execution_count": 68,
   "metadata": {},
   "outputs": [
    {
     "data": {
      "text/plain": [
       "(23, 200, 7)"
      ]
     },
     "execution_count": 68,
     "metadata": {},
     "output_type": "execute_result"
    }
   ],
   "source": [
    "X_train[-24:-1].shape"
   ]
  },
  {
   "cell_type": "code",
   "execution_count": 69,
   "metadata": {},
   "outputs": [],
   "source": [
    "pred = model.predict(X_train[-2:-1])"
   ]
  },
  {
   "cell_type": "code",
   "execution_count": 70,
   "metadata": {},
   "outputs": [],
   "source": [
    "act = y_train[-2:-1]"
   ]
  },
  {
   "cell_type": "code",
   "execution_count": 71,
   "metadata": {},
   "outputs": [],
   "source": [
    "act = act.reshape(-1,1)\n",
    "pred = pred.reshape(-1,1)"
   ]
  },
  {
   "cell_type": "code",
   "execution_count": 72,
   "metadata": {},
   "outputs": [
    {
     "data": {
      "text/plain": [
       "<matplotlib.legend.Legend at 0x7f61e4fd9a30>"
      ]
     },
     "execution_count": 72,
     "metadata": {},
     "output_type": "execute_result"
    },
    {
     "data": {
      "image/png": "[encoded data removed]",
      "text/plain": [
       "<Figure size 720x360 with 1 Axes>"
      ]
     },
     "metadata": {
      "needs_background": "light"
     },
     "output_type": "display_data"
    }
   ],
   "source": [
    "#arr = np.ones(chan.y_test.size)\n",
    "fig, ax = plt.subplots(1, 1, figsize=(10, 5), squeeze=False)\n",
    "ax[0,0].plot(act, lw=0.4, color='blue', label='actual')\n",
    "ax[0,0].plot(pred, lw=0.5, color='green', label='predicted')\n",
    "#ax[1,0].plot(chan.y_hat[6700:], lw=1, color='brown', label='predicted')\n",
    "ax[0,0].legend()\n"
   ]
  },
  {
   "cell_type": "code",
   "execution_count": null,
   "metadata": {},
   "outputs": [],
   "source": []
  },
  {
   "cell_type": "code",
   "execution_count": null,
   "metadata": {},
   "outputs": [],
   "source": []
  },
  {
   "cell_type": "code",
   "execution_count": null,
   "metadata": {},
   "outputs": [],
   "source": []
  },
  {
   "cell_type": "code",
   "execution_count": null,
   "metadata": {},
   "outputs": [],
   "source": []
  },
  {
   "cell_type": "markdown",
   "metadata": {},
   "source": [
    "#### Training parameters\n",
    "\n",
    "```\n",
    "loss_metric: 'mse'    # minimize mean square error\n",
    "optimizer: 'adam'     # sort of adaptive stochastic gradient descent\n",
    "validation_split: 0.2 # 20% of the data is used for validating (val_loss)\n",
    "dropout: 0.3          # ditch 30% of the LSTMs results when minimizing the loss function to avoid overfitting\n",
    "lstm_batch_size: 64   # number of training data batches to evaluate per optimizer run to update the model’s parameters\n",
    "\n",
    "patience: 10          # try at least 10 times to decrease val_loss smaller by ...\n",
    "min_delta: 0.0003     # ... at least min_delta, else stop, so we get at least 'patience' epochs\n",
    "epochs: 35            # no more than 35 passes through the entier training dataset.\n",
    "\n",
    "l_s: 250              # lookback: num previous timesteps provided to model to predict future values\n",
    "n_predictions: 10     # number of steps ahead to predict\n",
    "```\n",
    "\n",
    "This is defined in `telemanom/config.yaml`\n",
    "<br>"
   ]
  }
 ],
 "metadata": {
  "kernelspec": {
   "display_name": "Python 3",
   "language": "python",
   "name": "python3"
  },
  "language_info": {
   "codemirror_mode": {
    "name": "ipython",
    "version": 3
   },
   "file_extension": ".py",
   "mimetype": "text/x-python",
   "name": "python",
   "nbconvert_exporter": "python",
   "pygments_lexer": "ipython3",
   "version": "3.8.6"
  }
 },
 "nbformat": 4,
 "nbformat_minor": 4
}
